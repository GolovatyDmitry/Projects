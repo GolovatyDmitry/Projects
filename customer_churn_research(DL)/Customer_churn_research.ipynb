{
  "cells": [
    {
      "cell_type": "markdown",
      "metadata": {
        "toc": true,
        "id": "4eJNN4V8xzeW"
      },
      "source": [
        "<h1>Содержание<span class=\"tocSkip\"></span></h1>\n",
        "<div class=\"toc\"><ul class=\"toc-item\"><li><span><a href=\"#Описание-работы\" data-toc-modified-id=\"Описание-работы-1\"><span class=\"toc-item-num\">1&nbsp;&nbsp;</span>Описание работы</a></span></li><li><span><a href=\"#Чтение-и-подготовка-данных\" data-toc-modified-id=\"Чтение-и-подготовка-данных-2\"><span class=\"toc-item-num\">2&nbsp;&nbsp;</span>Чтение и подготовка данных</a></span></li><li><span><a href=\"#Исследовательский-анализ-данных\" data-toc-modified-id=\"Исследовательский-анализ-данных-3\"><span class=\"toc-item-num\">3&nbsp;&nbsp;</span>Исследовательский анализ данных</a></span></li><li><span><a href=\"#Модель-прогнозирования-оттока-клиентов\" data-toc-modified-id=\"Модель-прогнозирования-оттока-клиентов-4\"><span class=\"toc-item-num\">4&nbsp;&nbsp;</span>Модель прогнозирования оттока клиентов</a></span></li><li><span><a href=\"#Кластеризация-клиентов\" data-toc-modified-id=\"Кластеризация-клиентов-5\"><span class=\"toc-item-num\">5&nbsp;&nbsp;</span>Кластеризация клиентов</a></span></li><li><span><a href=\"#Выводы-и-рекомендации\" data-toc-modified-id=\"Выводы-и-рекомендации-6\"><span class=\"toc-item-num\">6&nbsp;&nbsp;</span>Выводы и рекомендации</a></span></li></ul></div>"
      ]
    },
    {
      "cell_type": "markdown",
      "metadata": {
        "id": "rKFwo9QuxzeX"
      },
      "source": [
        "# Исследование оттока клиентов в фитнес-центре"
      ]
    },
    {
      "cell_type": "markdown",
      "metadata": {
        "id": "WOgetpfgxzeY"
      },
      "source": [
        "## Описание работы"
      ]
    },
    {
      "cell_type": "markdown",
      "metadata": {
        "id": "uu6r_dWixzeY"
      },
      "source": [
        "Задача проекта: провести анализ и подготовить план действий по удержанию клиентов для борьбы с оттоком.\n",
        "\n",
        "А именно:\n",
        "- научиться прогнозировать вероятность оттока (на уровне следующего месяца) для каждого клиента;\n",
        "- сформировать типичные портреты клиентов: выделить несколько наиболее ярких групп и охарактеризовать их основные свойства;\n",
        "- проанализировать основные признаки, наиболее сильно влияющие на отток;\n",
        "- сформулировать основные выводы и разработать рекомендации по повышению качества работы с клиентами.\n",
        "    \n",
        "В качестве исходных данных предоставлены обработанная информация из клиентских анкет в csv-файлах. \n",
        "\n",
        "Набор данных включает следующие поля:\n",
        "- 'Churn' — факт оттока в текущем месяце;\n",
        "- Текущие поля в датасете:\n",
        " - Данные клиента за предыдущий до проверки факта оттока месяц:\n",
        "   - 'gender' — пол;\n",
        "   - 'Near_Location' — проживание или работа в районе, где находится фитнес-центр;\n",
        "   - 'Partner' — сотрудник компании-партнёра клуба (сотрудничество с компаниями, чьи сотрудники могут получать скидки на абонемент — в таком случае фитнес-центр хранит информацию о работодателе клиента);\n",
        "   - Promo_friends — факт первоначальной записи в рамках акции «приведи друга» (использовал промо-код от знакомого при оплате первого абонемента);\n",
        "   - 'Phone' — наличие контактного телефона;\n",
        "   - 'Age' — возраст;\n",
        "   - 'Lifetime' — время с момента первого обращения в фитнес-центр (в месяцах).\n",
        "- Информация на основе журнала посещений, покупок и информация о текущем статусе абонемента клиента:\n",
        " - 'Contract_period' — длительность текущего действующего абонемента (месяц, 3 месяца, 6 месяцев, год);\n",
        " - 'Month_to_end_contract' — срок до окончания текущего действующего абонемента (в месяцах);\n",
        " - 'Group_visits' — факт посещения групповых занятий;\n",
        " - 'Avg_class_frequency_total' — средняя частота посещений в неделю за все время с начала действия абонемента;\n",
        " - 'Avg_class_frequency_current_month' — средняя частота посещений в неделю за предыдущий месяц;\n",
        " - 'Avg_additional_charges_total' — суммарная выручка от других услуг фитнес-центра: кафе, спорт-товары, косметический и массажный салон."
      ]
    },
    {
      "cell_type": "markdown",
      "metadata": {
        "id": "NsVjrWXBxzea"
      },
      "source": [
        "## Чтение и подготовка данных"
      ]
    },
    {
      "cell_type": "code",
      "execution_count": 1,
      "metadata": {
        "id": "vjNfUXMXxzeb"
      },
      "outputs": [],
      "source": [
        "#импорт библиотек\n",
        "import pandas as pd\n",
        "import matplotlib.pyplot as plt\n",
        "import seaborn as sns            \n",
        "import numpy as np\n",
        "from IPython.display import display, Markdown\n",
        "\n",
        "from sklearn.preprocessing import StandardScaler\n",
        "from sklearn.model_selection import train_test_split\n",
        "from sklearn.linear_model import LogisticRegression\n",
        "from sklearn.ensemble import RandomForestClassifier, GradientBoostingClassifier\n",
        "from sklearn.metrics import accuracy_score, precision_score, recall_score, f1_score, roc_auc_score, roc_curve\n",
        "from scipy.cluster.hierarchy import dendrogram, linkage \n",
        "from sklearn.cluster import KMeans\n",
        "\n",
        "import warnings\n",
        "warnings.simplefilter('ignore')"
      ]
    },
    {
      "cell_type": "code",
      "execution_count": 2,
      "metadata": {
        "colab": {
          "base_uri": "https://localhost:8080/",
          "height": 270
        },
        "id": "3JW8sTY_xzee",
        "outputId": "bea06e24-9410-4ed6-9da7-345f1a6a97fb"
      },
      "outputs": [
        {
          "output_type": "execute_result",
          "data": {
            "text/html": [
              "\n",
              "  <div id=\"df-f69f85c6-5447-4bb7-a8db-e879aa478867\">\n",
              "    <div class=\"colab-df-container\">\n",
              "      <div>\n",
              "<style scoped>\n",
              "    .dataframe tbody tr th:only-of-type {\n",
              "        vertical-align: middle;\n",
              "    }\n",
              "\n",
              "    .dataframe tbody tr th {\n",
              "        vertical-align: top;\n",
              "    }\n",
              "\n",
              "    .dataframe thead th {\n",
              "        text-align: right;\n",
              "    }\n",
              "</style>\n",
              "<table border=\"1\" class=\"dataframe\">\n",
              "  <thead>\n",
              "    <tr style=\"text-align: right;\">\n",
              "      <th></th>\n",
              "      <th>gender</th>\n",
              "      <th>Near_Location</th>\n",
              "      <th>Partner</th>\n",
              "      <th>Promo_friends</th>\n",
              "      <th>Phone</th>\n",
              "      <th>Contract_period</th>\n",
              "      <th>Group_visits</th>\n",
              "      <th>Age</th>\n",
              "      <th>Avg_additional_charges_total</th>\n",
              "      <th>Month_to_end_contract</th>\n",
              "      <th>Lifetime</th>\n",
              "      <th>Avg_class_frequency_total</th>\n",
              "      <th>Avg_class_frequency_current_month</th>\n",
              "      <th>Churn</th>\n",
              "    </tr>\n",
              "  </thead>\n",
              "  <tbody>\n",
              "    <tr>\n",
              "      <th>0</th>\n",
              "      <td>1</td>\n",
              "      <td>1</td>\n",
              "      <td>1</td>\n",
              "      <td>1</td>\n",
              "      <td>0</td>\n",
              "      <td>6</td>\n",
              "      <td>1</td>\n",
              "      <td>29</td>\n",
              "      <td>14.227470</td>\n",
              "      <td>5.0</td>\n",
              "      <td>3</td>\n",
              "      <td>0.020398</td>\n",
              "      <td>0.000000</td>\n",
              "      <td>0</td>\n",
              "    </tr>\n",
              "    <tr>\n",
              "      <th>1</th>\n",
              "      <td>0</td>\n",
              "      <td>1</td>\n",
              "      <td>0</td>\n",
              "      <td>0</td>\n",
              "      <td>1</td>\n",
              "      <td>12</td>\n",
              "      <td>1</td>\n",
              "      <td>31</td>\n",
              "      <td>113.202938</td>\n",
              "      <td>12.0</td>\n",
              "      <td>7</td>\n",
              "      <td>1.922936</td>\n",
              "      <td>1.910244</td>\n",
              "      <td>0</td>\n",
              "    </tr>\n",
              "    <tr>\n",
              "      <th>2</th>\n",
              "      <td>0</td>\n",
              "      <td>1</td>\n",
              "      <td>1</td>\n",
              "      <td>0</td>\n",
              "      <td>1</td>\n",
              "      <td>1</td>\n",
              "      <td>0</td>\n",
              "      <td>28</td>\n",
              "      <td>129.448479</td>\n",
              "      <td>1.0</td>\n",
              "      <td>2</td>\n",
              "      <td>1.859098</td>\n",
              "      <td>1.736502</td>\n",
              "      <td>0</td>\n",
              "    </tr>\n",
              "    <tr>\n",
              "      <th>3</th>\n",
              "      <td>0</td>\n",
              "      <td>1</td>\n",
              "      <td>1</td>\n",
              "      <td>1</td>\n",
              "      <td>1</td>\n",
              "      <td>12</td>\n",
              "      <td>1</td>\n",
              "      <td>33</td>\n",
              "      <td>62.669863</td>\n",
              "      <td>12.0</td>\n",
              "      <td>2</td>\n",
              "      <td>3.205633</td>\n",
              "      <td>3.357215</td>\n",
              "      <td>0</td>\n",
              "    </tr>\n",
              "    <tr>\n",
              "      <th>4</th>\n",
              "      <td>1</td>\n",
              "      <td>1</td>\n",
              "      <td>1</td>\n",
              "      <td>1</td>\n",
              "      <td>1</td>\n",
              "      <td>1</td>\n",
              "      <td>0</td>\n",
              "      <td>26</td>\n",
              "      <td>198.362265</td>\n",
              "      <td>1.0</td>\n",
              "      <td>3</td>\n",
              "      <td>1.113884</td>\n",
              "      <td>1.120078</td>\n",
              "      <td>0</td>\n",
              "    </tr>\n",
              "  </tbody>\n",
              "</table>\n",
              "</div>\n",
              "      <button class=\"colab-df-convert\" onclick=\"convertToInteractive('df-f69f85c6-5447-4bb7-a8db-e879aa478867')\"\n",
              "              title=\"Convert this dataframe to an interactive table.\"\n",
              "              style=\"display:none;\">\n",
              "        \n",
              "  <svg xmlns=\"http://www.w3.org/2000/svg\" height=\"24px\"viewBox=\"0 0 24 24\"\n",
              "       width=\"24px\">\n",
              "    <path d=\"M0 0h24v24H0V0z\" fill=\"none\"/>\n",
              "    <path d=\"M18.56 5.44l.94 2.06.94-2.06 2.06-.94-2.06-.94-.94-2.06-.94 2.06-2.06.94zm-11 1L8.5 8.5l.94-2.06 2.06-.94-2.06-.94L8.5 2.5l-.94 2.06-2.06.94zm10 10l.94 2.06.94-2.06 2.06-.94-2.06-.94-.94-2.06-.94 2.06-2.06.94z\"/><path d=\"M17.41 7.96l-1.37-1.37c-.4-.4-.92-.59-1.43-.59-.52 0-1.04.2-1.43.59L10.3 9.45l-7.72 7.72c-.78.78-.78 2.05 0 2.83L4 21.41c.39.39.9.59 1.41.59.51 0 1.02-.2 1.41-.59l7.78-7.78 2.81-2.81c.8-.78.8-2.07 0-2.86zM5.41 20L4 18.59l7.72-7.72 1.47 1.35L5.41 20z\"/>\n",
              "  </svg>\n",
              "      </button>\n",
              "      \n",
              "  <style>\n",
              "    .colab-df-container {\n",
              "      display:flex;\n",
              "      flex-wrap:wrap;\n",
              "      gap: 12px;\n",
              "    }\n",
              "\n",
              "    .colab-df-convert {\n",
              "      background-color: #E8F0FE;\n",
              "      border: none;\n",
              "      border-radius: 50%;\n",
              "      cursor: pointer;\n",
              "      display: none;\n",
              "      fill: #1967D2;\n",
              "      height: 32px;\n",
              "      padding: 0 0 0 0;\n",
              "      width: 32px;\n",
              "    }\n",
              "\n",
              "    .colab-df-convert:hover {\n",
              "      background-color: #E2EBFA;\n",
              "      box-shadow: 0px 1px 2px rgba(60, 64, 67, 0.3), 0px 1px 3px 1px rgba(60, 64, 67, 0.15);\n",
              "      fill: #174EA6;\n",
              "    }\n",
              "\n",
              "    [theme=dark] .colab-df-convert {\n",
              "      background-color: #3B4455;\n",
              "      fill: #D2E3FC;\n",
              "    }\n",
              "\n",
              "    [theme=dark] .colab-df-convert:hover {\n",
              "      background-color: #434B5C;\n",
              "      box-shadow: 0px 1px 3px 1px rgba(0, 0, 0, 0.15);\n",
              "      filter: drop-shadow(0px 1px 2px rgba(0, 0, 0, 0.3));\n",
              "      fill: #FFFFFF;\n",
              "    }\n",
              "  </style>\n",
              "\n",
              "      <script>\n",
              "        const buttonEl =\n",
              "          document.querySelector('#df-f69f85c6-5447-4bb7-a8db-e879aa478867 button.colab-df-convert');\n",
              "        buttonEl.style.display =\n",
              "          google.colab.kernel.accessAllowed ? 'block' : 'none';\n",
              "\n",
              "        async function convertToInteractive(key) {\n",
              "          const element = document.querySelector('#df-f69f85c6-5447-4bb7-a8db-e879aa478867');\n",
              "          const dataTable =\n",
              "            await google.colab.kernel.invokeFunction('convertToInteractive',\n",
              "                                                     [key], {});\n",
              "          if (!dataTable) return;\n",
              "\n",
              "          const docLinkHtml = 'Like what you see? Visit the ' +\n",
              "            '<a target=\"_blank\" href=https://colab.research.google.com/notebooks/data_table.ipynb>data table notebook</a>'\n",
              "            + ' to learn more about interactive tables.';\n",
              "          element.innerHTML = '';\n",
              "          dataTable['output_type'] = 'display_data';\n",
              "          await google.colab.output.renderOutput(dataTable, element);\n",
              "          const docLink = document.createElement('div');\n",
              "          docLink.innerHTML = docLinkHtml;\n",
              "          element.appendChild(docLink);\n",
              "        }\n",
              "      </script>\n",
              "    </div>\n",
              "  </div>\n",
              "  "
            ],
            "text/plain": [
              "   gender  Near_Location  ...  Avg_class_frequency_current_month  Churn\n",
              "0       1              1  ...                           0.000000      0\n",
              "1       0              1  ...                           1.910244      0\n",
              "2       0              1  ...                           1.736502      0\n",
              "3       0              1  ...                           3.357215      0\n",
              "4       1              1  ...                           1.120078      0\n",
              "\n",
              "[5 rows x 14 columns]"
            ]
          },
          "metadata": {},
          "execution_count": 2
        }
      ],
      "source": [
        "# Чтение данных\n",
        "df = pd.read_csv('/content/gym_churn.csv')\n",
        "df.head()"
      ]
    },
    {
      "cell_type": "code",
      "execution_count": 3,
      "metadata": {
        "colab": {
          "base_uri": "https://localhost:8080/"
        },
        "id": "vpp4CAAqxzef",
        "outputId": "faa9c3ab-9f25-4354-c25c-d59685c2b295"
      },
      "outputs": [
        {
          "output_type": "stream",
          "name": "stdout",
          "text": [
            "<class 'pandas.core.frame.DataFrame'>\n",
            "RangeIndex: 4000 entries, 0 to 3999\n",
            "Data columns (total 14 columns):\n",
            " #   Column                             Non-Null Count  Dtype  \n",
            "---  ------                             --------------  -----  \n",
            " 0   gender                             4000 non-null   int64  \n",
            " 1   Near_Location                      4000 non-null   int64  \n",
            " 2   Partner                            4000 non-null   int64  \n",
            " 3   Promo_friends                      4000 non-null   int64  \n",
            " 4   Phone                              4000 non-null   int64  \n",
            " 5   Contract_period                    4000 non-null   int64  \n",
            " 6   Group_visits                       4000 non-null   int64  \n",
            " 7   Age                                4000 non-null   int64  \n",
            " 8   Avg_additional_charges_total       4000 non-null   float64\n",
            " 9   Month_to_end_contract              4000 non-null   float64\n",
            " 10  Lifetime                           4000 non-null   int64  \n",
            " 11  Avg_class_frequency_total          4000 non-null   float64\n",
            " 12  Avg_class_frequency_current_month  4000 non-null   float64\n",
            " 13  Churn                              4000 non-null   int64  \n",
            "dtypes: float64(4), int64(10)\n",
            "memory usage: 437.6 KB\n"
          ]
        }
      ],
      "source": [
        "# Общая информация о таблице\n",
        "df.info()"
      ]
    },
    {
      "cell_type": "code",
      "execution_count": 4,
      "metadata": {
        "colab": {
          "base_uri": "https://localhost:8080/"
        },
        "id": "UHbfo1xKxzef",
        "outputId": "12817782-d9ca-463a-d049-edd314e52839"
      },
      "outputs": [
        {
          "output_type": "execute_result",
          "data": {
            "text/plain": [
              "0"
            ]
          },
          "metadata": {},
          "execution_count": 4
        }
      ],
      "source": [
        "# Проверка дубликатов\n",
        "df.duplicated().sum()"
      ]
    },
    {
      "cell_type": "code",
      "execution_count": 5,
      "metadata": {
        "colab": {
          "base_uri": "https://localhost:8080/",
          "height": 270
        },
        "id": "wVAl0z4Vxzeg",
        "outputId": "95a75b67-987b-46fc-c5da-74d0bfaf46bd"
      },
      "outputs": [
        {
          "output_type": "execute_result",
          "data": {
            "text/html": [
              "\n",
              "  <div id=\"df-0734cddb-3c48-4e8d-bf16-bb3868e30006\">\n",
              "    <div class=\"colab-df-container\">\n",
              "      <div>\n",
              "<style scoped>\n",
              "    .dataframe tbody tr th:only-of-type {\n",
              "        vertical-align: middle;\n",
              "    }\n",
              "\n",
              "    .dataframe tbody tr th {\n",
              "        vertical-align: top;\n",
              "    }\n",
              "\n",
              "    .dataframe thead th {\n",
              "        text-align: right;\n",
              "    }\n",
              "</style>\n",
              "<table border=\"1\" class=\"dataframe\">\n",
              "  <thead>\n",
              "    <tr style=\"text-align: right;\">\n",
              "      <th></th>\n",
              "      <th>gender</th>\n",
              "      <th>near_location</th>\n",
              "      <th>partner</th>\n",
              "      <th>promo_friends</th>\n",
              "      <th>phone</th>\n",
              "      <th>contract_period</th>\n",
              "      <th>group_visits</th>\n",
              "      <th>age</th>\n",
              "      <th>avg_additional_charges_total</th>\n",
              "      <th>month_to_end_contract</th>\n",
              "      <th>lifetime</th>\n",
              "      <th>avg_class_frequency_total</th>\n",
              "      <th>avg_class_frequency_current_month</th>\n",
              "      <th>churn</th>\n",
              "    </tr>\n",
              "  </thead>\n",
              "  <tbody>\n",
              "    <tr>\n",
              "      <th>0</th>\n",
              "      <td>1</td>\n",
              "      <td>1</td>\n",
              "      <td>1</td>\n",
              "      <td>1</td>\n",
              "      <td>0</td>\n",
              "      <td>6</td>\n",
              "      <td>1</td>\n",
              "      <td>29</td>\n",
              "      <td>14.227470</td>\n",
              "      <td>5.0</td>\n",
              "      <td>3</td>\n",
              "      <td>0.020398</td>\n",
              "      <td>0.000000</td>\n",
              "      <td>0</td>\n",
              "    </tr>\n",
              "    <tr>\n",
              "      <th>1</th>\n",
              "      <td>0</td>\n",
              "      <td>1</td>\n",
              "      <td>0</td>\n",
              "      <td>0</td>\n",
              "      <td>1</td>\n",
              "      <td>12</td>\n",
              "      <td>1</td>\n",
              "      <td>31</td>\n",
              "      <td>113.202938</td>\n",
              "      <td>12.0</td>\n",
              "      <td>7</td>\n",
              "      <td>1.922936</td>\n",
              "      <td>1.910244</td>\n",
              "      <td>0</td>\n",
              "    </tr>\n",
              "    <tr>\n",
              "      <th>2</th>\n",
              "      <td>0</td>\n",
              "      <td>1</td>\n",
              "      <td>1</td>\n",
              "      <td>0</td>\n",
              "      <td>1</td>\n",
              "      <td>1</td>\n",
              "      <td>0</td>\n",
              "      <td>28</td>\n",
              "      <td>129.448479</td>\n",
              "      <td>1.0</td>\n",
              "      <td>2</td>\n",
              "      <td>1.859098</td>\n",
              "      <td>1.736502</td>\n",
              "      <td>0</td>\n",
              "    </tr>\n",
              "    <tr>\n",
              "      <th>3</th>\n",
              "      <td>0</td>\n",
              "      <td>1</td>\n",
              "      <td>1</td>\n",
              "      <td>1</td>\n",
              "      <td>1</td>\n",
              "      <td>12</td>\n",
              "      <td>1</td>\n",
              "      <td>33</td>\n",
              "      <td>62.669863</td>\n",
              "      <td>12.0</td>\n",
              "      <td>2</td>\n",
              "      <td>3.205633</td>\n",
              "      <td>3.357215</td>\n",
              "      <td>0</td>\n",
              "    </tr>\n",
              "    <tr>\n",
              "      <th>4</th>\n",
              "      <td>1</td>\n",
              "      <td>1</td>\n",
              "      <td>1</td>\n",
              "      <td>1</td>\n",
              "      <td>1</td>\n",
              "      <td>1</td>\n",
              "      <td>0</td>\n",
              "      <td>26</td>\n",
              "      <td>198.362265</td>\n",
              "      <td>1.0</td>\n",
              "      <td>3</td>\n",
              "      <td>1.113884</td>\n",
              "      <td>1.120078</td>\n",
              "      <td>0</td>\n",
              "    </tr>\n",
              "  </tbody>\n",
              "</table>\n",
              "</div>\n",
              "      <button class=\"colab-df-convert\" onclick=\"convertToInteractive('df-0734cddb-3c48-4e8d-bf16-bb3868e30006')\"\n",
              "              title=\"Convert this dataframe to an interactive table.\"\n",
              "              style=\"display:none;\">\n",
              "        \n",
              "  <svg xmlns=\"http://www.w3.org/2000/svg\" height=\"24px\"viewBox=\"0 0 24 24\"\n",
              "       width=\"24px\">\n",
              "    <path d=\"M0 0h24v24H0V0z\" fill=\"none\"/>\n",
              "    <path d=\"M18.56 5.44l.94 2.06.94-2.06 2.06-.94-2.06-.94-.94-2.06-.94 2.06-2.06.94zm-11 1L8.5 8.5l.94-2.06 2.06-.94-2.06-.94L8.5 2.5l-.94 2.06-2.06.94zm10 10l.94 2.06.94-2.06 2.06-.94-2.06-.94-.94-2.06-.94 2.06-2.06.94z\"/><path d=\"M17.41 7.96l-1.37-1.37c-.4-.4-.92-.59-1.43-.59-.52 0-1.04.2-1.43.59L10.3 9.45l-7.72 7.72c-.78.78-.78 2.05 0 2.83L4 21.41c.39.39.9.59 1.41.59.51 0 1.02-.2 1.41-.59l7.78-7.78 2.81-2.81c.8-.78.8-2.07 0-2.86zM5.41 20L4 18.59l7.72-7.72 1.47 1.35L5.41 20z\"/>\n",
              "  </svg>\n",
              "      </button>\n",
              "      \n",
              "  <style>\n",
              "    .colab-df-container {\n",
              "      display:flex;\n",
              "      flex-wrap:wrap;\n",
              "      gap: 12px;\n",
              "    }\n",
              "\n",
              "    .colab-df-convert {\n",
              "      background-color: #E8F0FE;\n",
              "      border: none;\n",
              "      border-radius: 50%;\n",
              "      cursor: pointer;\n",
              "      display: none;\n",
              "      fill: #1967D2;\n",
              "      height: 32px;\n",
              "      padding: 0 0 0 0;\n",
              "      width: 32px;\n",
              "    }\n",
              "\n",
              "    .colab-df-convert:hover {\n",
              "      background-color: #E2EBFA;\n",
              "      box-shadow: 0px 1px 2px rgba(60, 64, 67, 0.3), 0px 1px 3px 1px rgba(60, 64, 67, 0.15);\n",
              "      fill: #174EA6;\n",
              "    }\n",
              "\n",
              "    [theme=dark] .colab-df-convert {\n",
              "      background-color: #3B4455;\n",
              "      fill: #D2E3FC;\n",
              "    }\n",
              "\n",
              "    [theme=dark] .colab-df-convert:hover {\n",
              "      background-color: #434B5C;\n",
              "      box-shadow: 0px 1px 3px 1px rgba(0, 0, 0, 0.15);\n",
              "      filter: drop-shadow(0px 1px 2px rgba(0, 0, 0, 0.3));\n",
              "      fill: #FFFFFF;\n",
              "    }\n",
              "  </style>\n",
              "\n",
              "      <script>\n",
              "        const buttonEl =\n",
              "          document.querySelector('#df-0734cddb-3c48-4e8d-bf16-bb3868e30006 button.colab-df-convert');\n",
              "        buttonEl.style.display =\n",
              "          google.colab.kernel.accessAllowed ? 'block' : 'none';\n",
              "\n",
              "        async function convertToInteractive(key) {\n",
              "          const element = document.querySelector('#df-0734cddb-3c48-4e8d-bf16-bb3868e30006');\n",
              "          const dataTable =\n",
              "            await google.colab.kernel.invokeFunction('convertToInteractive',\n",
              "                                                     [key], {});\n",
              "          if (!dataTable) return;\n",
              "\n",
              "          const docLinkHtml = 'Like what you see? Visit the ' +\n",
              "            '<a target=\"_blank\" href=https://colab.research.google.com/notebooks/data_table.ipynb>data table notebook</a>'\n",
              "            + ' to learn more about interactive tables.';\n",
              "          element.innerHTML = '';\n",
              "          dataTable['output_type'] = 'display_data';\n",
              "          await google.colab.output.renderOutput(dataTable, element);\n",
              "          const docLink = document.createElement('div');\n",
              "          docLink.innerHTML = docLinkHtml;\n",
              "          element.appendChild(docLink);\n",
              "        }\n",
              "      </script>\n",
              "    </div>\n",
              "  </div>\n",
              "  "
            ],
            "text/plain": [
              "   gender  near_location  ...  avg_class_frequency_current_month  churn\n",
              "0       1              1  ...                           0.000000      0\n",
              "1       0              1  ...                           1.910244      0\n",
              "2       0              1  ...                           1.736502      0\n",
              "3       0              1  ...                           3.357215      0\n",
              "4       1              1  ...                           1.120078      0\n",
              "\n",
              "[5 rows x 14 columns]"
            ]
          },
          "metadata": {},
          "execution_count": 5
        }
      ],
      "source": [
        "# Приведем названия столбцов к нижнему регистру\n",
        "df.columns = df.columns.str.lower()\n",
        "df.head()"
      ]
    },
    {
      "cell_type": "markdown",
      "metadata": {
        "id": "SvFgIs79xzeg"
      },
      "source": [
        "**Данные содержат 4000 наблюдений, 13 признаков и 1 столбец с целевыми значениями. В таблице нет пропусков, дубликатов, все столбцы с соотвествующим типом данных.**\n"
      ]
    },
    {
      "cell_type": "markdown",
      "metadata": {
        "id": "gwn9ACWHxzeh"
      },
      "source": [
        "## Исследовательский анализ данных"
      ]
    },
    {
      "cell_type": "code",
      "execution_count": 6,
      "metadata": {
        "scrolled": false,
        "colab": {
          "base_uri": "https://localhost:8080/",
          "height": 488
        },
        "id": "UGL6P2obxzeh",
        "outputId": "d2c2929b-b1f5-48fe-e0f6-3c71cdbe13c6"
      },
      "outputs": [
        {
          "output_type": "execute_result",
          "data": {
            "text/html": [
              "\n",
              "  <div id=\"df-e1340bef-fb4e-4b2d-9fd7-dd2fc1d91018\">\n",
              "    <div class=\"colab-df-container\">\n",
              "      <div>\n",
              "<style scoped>\n",
              "    .dataframe tbody tr th:only-of-type {\n",
              "        vertical-align: middle;\n",
              "    }\n",
              "\n",
              "    .dataframe tbody tr th {\n",
              "        vertical-align: top;\n",
              "    }\n",
              "\n",
              "    .dataframe thead th {\n",
              "        text-align: right;\n",
              "    }\n",
              "</style>\n",
              "<table border=\"1\" class=\"dataframe\">\n",
              "  <thead>\n",
              "    <tr style=\"text-align: right;\">\n",
              "      <th></th>\n",
              "      <th>count</th>\n",
              "      <th>mean</th>\n",
              "      <th>std</th>\n",
              "      <th>min</th>\n",
              "      <th>25%</th>\n",
              "      <th>50%</th>\n",
              "      <th>75%</th>\n",
              "      <th>max</th>\n",
              "    </tr>\n",
              "  </thead>\n",
              "  <tbody>\n",
              "    <tr>\n",
              "      <th>gender</th>\n",
              "      <td>4000.0</td>\n",
              "      <td>0.510250</td>\n",
              "      <td>0.499957</td>\n",
              "      <td>0.000000</td>\n",
              "      <td>0.000000</td>\n",
              "      <td>1.000000</td>\n",
              "      <td>1.000000</td>\n",
              "      <td>1.000000</td>\n",
              "    </tr>\n",
              "    <tr>\n",
              "      <th>near_location</th>\n",
              "      <td>4000.0</td>\n",
              "      <td>0.845250</td>\n",
              "      <td>0.361711</td>\n",
              "      <td>0.000000</td>\n",
              "      <td>1.000000</td>\n",
              "      <td>1.000000</td>\n",
              "      <td>1.000000</td>\n",
              "      <td>1.000000</td>\n",
              "    </tr>\n",
              "    <tr>\n",
              "      <th>partner</th>\n",
              "      <td>4000.0</td>\n",
              "      <td>0.486750</td>\n",
              "      <td>0.499887</td>\n",
              "      <td>0.000000</td>\n",
              "      <td>0.000000</td>\n",
              "      <td>0.000000</td>\n",
              "      <td>1.000000</td>\n",
              "      <td>1.000000</td>\n",
              "    </tr>\n",
              "    <tr>\n",
              "      <th>promo_friends</th>\n",
              "      <td>4000.0</td>\n",
              "      <td>0.308500</td>\n",
              "      <td>0.461932</td>\n",
              "      <td>0.000000</td>\n",
              "      <td>0.000000</td>\n",
              "      <td>0.000000</td>\n",
              "      <td>1.000000</td>\n",
              "      <td>1.000000</td>\n",
              "    </tr>\n",
              "    <tr>\n",
              "      <th>phone</th>\n",
              "      <td>4000.0</td>\n",
              "      <td>0.903500</td>\n",
              "      <td>0.295313</td>\n",
              "      <td>0.000000</td>\n",
              "      <td>1.000000</td>\n",
              "      <td>1.000000</td>\n",
              "      <td>1.000000</td>\n",
              "      <td>1.000000</td>\n",
              "    </tr>\n",
              "    <tr>\n",
              "      <th>contract_period</th>\n",
              "      <td>4000.0</td>\n",
              "      <td>4.681250</td>\n",
              "      <td>4.549706</td>\n",
              "      <td>1.000000</td>\n",
              "      <td>1.000000</td>\n",
              "      <td>1.000000</td>\n",
              "      <td>6.000000</td>\n",
              "      <td>12.000000</td>\n",
              "    </tr>\n",
              "    <tr>\n",
              "      <th>group_visits</th>\n",
              "      <td>4000.0</td>\n",
              "      <td>0.412250</td>\n",
              "      <td>0.492301</td>\n",
              "      <td>0.000000</td>\n",
              "      <td>0.000000</td>\n",
              "      <td>0.000000</td>\n",
              "      <td>1.000000</td>\n",
              "      <td>1.000000</td>\n",
              "    </tr>\n",
              "    <tr>\n",
              "      <th>age</th>\n",
              "      <td>4000.0</td>\n",
              "      <td>29.184250</td>\n",
              "      <td>3.258367</td>\n",
              "      <td>18.000000</td>\n",
              "      <td>27.000000</td>\n",
              "      <td>29.000000</td>\n",
              "      <td>31.000000</td>\n",
              "      <td>41.000000</td>\n",
              "    </tr>\n",
              "    <tr>\n",
              "      <th>avg_additional_charges_total</th>\n",
              "      <td>4000.0</td>\n",
              "      <td>146.943728</td>\n",
              "      <td>96.355602</td>\n",
              "      <td>0.148205</td>\n",
              "      <td>68.868830</td>\n",
              "      <td>136.220159</td>\n",
              "      <td>210.949625</td>\n",
              "      <td>552.590740</td>\n",
              "    </tr>\n",
              "    <tr>\n",
              "      <th>month_to_end_contract</th>\n",
              "      <td>4000.0</td>\n",
              "      <td>4.322750</td>\n",
              "      <td>4.191297</td>\n",
              "      <td>1.000000</td>\n",
              "      <td>1.000000</td>\n",
              "      <td>1.000000</td>\n",
              "      <td>6.000000</td>\n",
              "      <td>12.000000</td>\n",
              "    </tr>\n",
              "    <tr>\n",
              "      <th>lifetime</th>\n",
              "      <td>4000.0</td>\n",
              "      <td>3.724750</td>\n",
              "      <td>3.749267</td>\n",
              "      <td>0.000000</td>\n",
              "      <td>1.000000</td>\n",
              "      <td>3.000000</td>\n",
              "      <td>5.000000</td>\n",
              "      <td>31.000000</td>\n",
              "    </tr>\n",
              "    <tr>\n",
              "      <th>avg_class_frequency_total</th>\n",
              "      <td>4000.0</td>\n",
              "      <td>1.879020</td>\n",
              "      <td>0.972245</td>\n",
              "      <td>0.000000</td>\n",
              "      <td>1.180875</td>\n",
              "      <td>1.832768</td>\n",
              "      <td>2.536078</td>\n",
              "      <td>6.023668</td>\n",
              "    </tr>\n",
              "    <tr>\n",
              "      <th>avg_class_frequency_current_month</th>\n",
              "      <td>4000.0</td>\n",
              "      <td>1.767052</td>\n",
              "      <td>1.052906</td>\n",
              "      <td>0.000000</td>\n",
              "      <td>0.963003</td>\n",
              "      <td>1.719574</td>\n",
              "      <td>2.510336</td>\n",
              "      <td>6.146783</td>\n",
              "    </tr>\n",
              "    <tr>\n",
              "      <th>churn</th>\n",
              "      <td>4000.0</td>\n",
              "      <td>0.265250</td>\n",
              "      <td>0.441521</td>\n",
              "      <td>0.000000</td>\n",
              "      <td>0.000000</td>\n",
              "      <td>0.000000</td>\n",
              "      <td>1.000000</td>\n",
              "      <td>1.000000</td>\n",
              "    </tr>\n",
              "  </tbody>\n",
              "</table>\n",
              "</div>\n",
              "      <button class=\"colab-df-convert\" onclick=\"convertToInteractive('df-e1340bef-fb4e-4b2d-9fd7-dd2fc1d91018')\"\n",
              "              title=\"Convert this dataframe to an interactive table.\"\n",
              "              style=\"display:none;\">\n",
              "        \n",
              "  <svg xmlns=\"http://www.w3.org/2000/svg\" height=\"24px\"viewBox=\"0 0 24 24\"\n",
              "       width=\"24px\">\n",
              "    <path d=\"M0 0h24v24H0V0z\" fill=\"none\"/>\n",
              "    <path d=\"M18.56 5.44l.94 2.06.94-2.06 2.06-.94-2.06-.94-.94-2.06-.94 2.06-2.06.94zm-11 1L8.5 8.5l.94-2.06 2.06-.94-2.06-.94L8.5 2.5l-.94 2.06-2.06.94zm10 10l.94 2.06.94-2.06 2.06-.94-2.06-.94-.94-2.06-.94 2.06-2.06.94z\"/><path d=\"M17.41 7.96l-1.37-1.37c-.4-.4-.92-.59-1.43-.59-.52 0-1.04.2-1.43.59L10.3 9.45l-7.72 7.72c-.78.78-.78 2.05 0 2.83L4 21.41c.39.39.9.59 1.41.59.51 0 1.02-.2 1.41-.59l7.78-7.78 2.81-2.81c.8-.78.8-2.07 0-2.86zM5.41 20L4 18.59l7.72-7.72 1.47 1.35L5.41 20z\"/>\n",
              "  </svg>\n",
              "      </button>\n",
              "      \n",
              "  <style>\n",
              "    .colab-df-container {\n",
              "      display:flex;\n",
              "      flex-wrap:wrap;\n",
              "      gap: 12px;\n",
              "    }\n",
              "\n",
              "    .colab-df-convert {\n",
              "      background-color: #E8F0FE;\n",
              "      border: none;\n",
              "      border-radius: 50%;\n",
              "      cursor: pointer;\n",
              "      display: none;\n",
              "      fill: #1967D2;\n",
              "      height: 32px;\n",
              "      padding: 0 0 0 0;\n",
              "      width: 32px;\n",
              "    }\n",
              "\n",
              "    .colab-df-convert:hover {\n",
              "      background-color: #E2EBFA;\n",
              "      box-shadow: 0px 1px 2px rgba(60, 64, 67, 0.3), 0px 1px 3px 1px rgba(60, 64, 67, 0.15);\n",
              "      fill: #174EA6;\n",
              "    }\n",
              "\n",
              "    [theme=dark] .colab-df-convert {\n",
              "      background-color: #3B4455;\n",
              "      fill: #D2E3FC;\n",
              "    }\n",
              "\n",
              "    [theme=dark] .colab-df-convert:hover {\n",
              "      background-color: #434B5C;\n",
              "      box-shadow: 0px 1px 3px 1px rgba(0, 0, 0, 0.15);\n",
              "      filter: drop-shadow(0px 1px 2px rgba(0, 0, 0, 0.3));\n",
              "      fill: #FFFFFF;\n",
              "    }\n",
              "  </style>\n",
              "\n",
              "      <script>\n",
              "        const buttonEl =\n",
              "          document.querySelector('#df-e1340bef-fb4e-4b2d-9fd7-dd2fc1d91018 button.colab-df-convert');\n",
              "        buttonEl.style.display =\n",
              "          google.colab.kernel.accessAllowed ? 'block' : 'none';\n",
              "\n",
              "        async function convertToInteractive(key) {\n",
              "          const element = document.querySelector('#df-e1340bef-fb4e-4b2d-9fd7-dd2fc1d91018');\n",
              "          const dataTable =\n",
              "            await google.colab.kernel.invokeFunction('convertToInteractive',\n",
              "                                                     [key], {});\n",
              "          if (!dataTable) return;\n",
              "\n",
              "          const docLinkHtml = 'Like what you see? Visit the ' +\n",
              "            '<a target=\"_blank\" href=https://colab.research.google.com/notebooks/data_table.ipynb>data table notebook</a>'\n",
              "            + ' to learn more about interactive tables.';\n",
              "          element.innerHTML = '';\n",
              "          dataTable['output_type'] = 'display_data';\n",
              "          await google.colab.output.renderOutput(dataTable, element);\n",
              "          const docLink = document.createElement('div');\n",
              "          docLink.innerHTML = docLinkHtml;\n",
              "          element.appendChild(docLink);\n",
              "        }\n",
              "      </script>\n",
              "    </div>\n",
              "  </div>\n",
              "  "
            ],
            "text/plain": [
              "                                    count        mean  ...         75%         max\n",
              "gender                             4000.0    0.510250  ...    1.000000    1.000000\n",
              "near_location                      4000.0    0.845250  ...    1.000000    1.000000\n",
              "partner                            4000.0    0.486750  ...    1.000000    1.000000\n",
              "promo_friends                      4000.0    0.308500  ...    1.000000    1.000000\n",
              "phone                              4000.0    0.903500  ...    1.000000    1.000000\n",
              "contract_period                    4000.0    4.681250  ...    6.000000   12.000000\n",
              "group_visits                       4000.0    0.412250  ...    1.000000    1.000000\n",
              "age                                4000.0   29.184250  ...   31.000000   41.000000\n",
              "avg_additional_charges_total       4000.0  146.943728  ...  210.949625  552.590740\n",
              "month_to_end_contract              4000.0    4.322750  ...    6.000000   12.000000\n",
              "lifetime                           4000.0    3.724750  ...    5.000000   31.000000\n",
              "avg_class_frequency_total          4000.0    1.879020  ...    2.536078    6.023668\n",
              "avg_class_frequency_current_month  4000.0    1.767052  ...    2.510336    6.146783\n",
              "churn                              4000.0    0.265250  ...    1.000000    1.000000\n",
              "\n",
              "[14 rows x 8 columns]"
            ]
          },
          "metadata": {},
          "execution_count": 6
        }
      ],
      "source": [
        "# Общая информация о распределении значений в таблице\n",
        "df.describe().T"
      ]
    },
    {
      "cell_type": "code",
      "execution_count": 7,
      "metadata": {
        "colab": {
          "base_uri": "https://localhost:8080/"
        },
        "id": "HDo6Nus2xzei",
        "outputId": "9ef3c602-850d-478f-f8c3-b1bc8e77fea4"
      },
      "outputs": [
        {
          "output_type": "execute_result",
          "data": {
            "text/plain": [
              "churn\n",
              "0    2939\n",
              "1    1061\n",
              "Name: gender, dtype: int64"
            ]
          },
          "metadata": {},
          "execution_count": 7
        }
      ],
      "source": [
        "# Количество оставшихся и выбывших в выборке\n",
        "df.groupby('churn')['gender'].count()"
      ]
    },
    {
      "cell_type": "markdown",
      "metadata": {
        "id": "cv1jrVR5xzej"
      },
      "source": [
        "**Признаки `gender`, `near_location`,\t`partner`, `promo_friends`, `phone`, `group_visits`, а также целевые значения `churn` являются бинарными (имеют только 2 варианта значений).**\n",
        "\n",
        "**Можно отметить, что в выборке примерно поровну представлены клиенты разного пола. Однако \"остающихся\" в выборке почти в 3 раза больше, чем \"выбвших\"**"
      ]
    },
    {
      "cell_type": "code",
      "execution_count": 8,
      "metadata": {
        "scrolled": true,
        "colab": {
          "base_uri": "https://localhost:8080/",
          "height": 207
        },
        "id": "bOEw1qkNxzej",
        "outputId": "cba3eeb1-f7e9-45da-916e-4bb48976389d"
      },
      "outputs": [
        {
          "output_type": "execute_result",
          "data": {
            "text/html": [
              "\n",
              "  <div id=\"df-202ece4f-44cd-4b0e-a080-f73f0559b977\">\n",
              "    <div class=\"colab-df-container\">\n",
              "      <div>\n",
              "<style scoped>\n",
              "    .dataframe tbody tr th:only-of-type {\n",
              "        vertical-align: middle;\n",
              "    }\n",
              "\n",
              "    .dataframe tbody tr th {\n",
              "        vertical-align: top;\n",
              "    }\n",
              "\n",
              "    .dataframe thead th {\n",
              "        text-align: right;\n",
              "    }\n",
              "</style>\n",
              "<table border=\"1\" class=\"dataframe\">\n",
              "  <thead>\n",
              "    <tr style=\"text-align: right;\">\n",
              "      <th></th>\n",
              "      <th>gender</th>\n",
              "      <th>near_location</th>\n",
              "      <th>partner</th>\n",
              "      <th>promo_friends</th>\n",
              "      <th>phone</th>\n",
              "      <th>contract_period</th>\n",
              "      <th>group_visits</th>\n",
              "      <th>age</th>\n",
              "      <th>avg_additional_charges_total</th>\n",
              "      <th>month_to_end_contract</th>\n",
              "      <th>lifetime</th>\n",
              "      <th>avg_class_frequency_total</th>\n",
              "      <th>avg_class_frequency_current_month</th>\n",
              "    </tr>\n",
              "    <tr>\n",
              "      <th>churn</th>\n",
              "      <th></th>\n",
              "      <th></th>\n",
              "      <th></th>\n",
              "      <th></th>\n",
              "      <th></th>\n",
              "      <th></th>\n",
              "      <th></th>\n",
              "      <th></th>\n",
              "      <th></th>\n",
              "      <th></th>\n",
              "      <th></th>\n",
              "      <th></th>\n",
              "      <th></th>\n",
              "    </tr>\n",
              "  </thead>\n",
              "  <tbody>\n",
              "    <tr>\n",
              "      <th>0</th>\n",
              "      <td>0.510037</td>\n",
              "      <td>0.873086</td>\n",
              "      <td>0.534195</td>\n",
              "      <td>0.353522</td>\n",
              "      <td>0.903709</td>\n",
              "      <td>5.747193</td>\n",
              "      <td>0.464103</td>\n",
              "      <td>29.976523</td>\n",
              "      <td>158.445715</td>\n",
              "      <td>5.283089</td>\n",
              "      <td>4.711807</td>\n",
              "      <td>2.024876</td>\n",
              "      <td>2.027882</td>\n",
              "    </tr>\n",
              "    <tr>\n",
              "      <th>1</th>\n",
              "      <td>0.510839</td>\n",
              "      <td>0.768143</td>\n",
              "      <td>0.355325</td>\n",
              "      <td>0.183789</td>\n",
              "      <td>0.902922</td>\n",
              "      <td>1.728558</td>\n",
              "      <td>0.268615</td>\n",
              "      <td>26.989632</td>\n",
              "      <td>115.082899</td>\n",
              "      <td>1.662582</td>\n",
              "      <td>0.990575</td>\n",
              "      <td>1.474995</td>\n",
              "      <td>1.044546</td>\n",
              "    </tr>\n",
              "  </tbody>\n",
              "</table>\n",
              "</div>\n",
              "      <button class=\"colab-df-convert\" onclick=\"convertToInteractive('df-202ece4f-44cd-4b0e-a080-f73f0559b977')\"\n",
              "              title=\"Convert this dataframe to an interactive table.\"\n",
              "              style=\"display:none;\">\n",
              "        \n",
              "  <svg xmlns=\"http://www.w3.org/2000/svg\" height=\"24px\"viewBox=\"0 0 24 24\"\n",
              "       width=\"24px\">\n",
              "    <path d=\"M0 0h24v24H0V0z\" fill=\"none\"/>\n",
              "    <path d=\"M18.56 5.44l.94 2.06.94-2.06 2.06-.94-2.06-.94-.94-2.06-.94 2.06-2.06.94zm-11 1L8.5 8.5l.94-2.06 2.06-.94-2.06-.94L8.5 2.5l-.94 2.06-2.06.94zm10 10l.94 2.06.94-2.06 2.06-.94-2.06-.94-.94-2.06-.94 2.06-2.06.94z\"/><path d=\"M17.41 7.96l-1.37-1.37c-.4-.4-.92-.59-1.43-.59-.52 0-1.04.2-1.43.59L10.3 9.45l-7.72 7.72c-.78.78-.78 2.05 0 2.83L4 21.41c.39.39.9.59 1.41.59.51 0 1.02-.2 1.41-.59l7.78-7.78 2.81-2.81c.8-.78.8-2.07 0-2.86zM5.41 20L4 18.59l7.72-7.72 1.47 1.35L5.41 20z\"/>\n",
              "  </svg>\n",
              "      </button>\n",
              "      \n",
              "  <style>\n",
              "    .colab-df-container {\n",
              "      display:flex;\n",
              "      flex-wrap:wrap;\n",
              "      gap: 12px;\n",
              "    }\n",
              "\n",
              "    .colab-df-convert {\n",
              "      background-color: #E8F0FE;\n",
              "      border: none;\n",
              "      border-radius: 50%;\n",
              "      cursor: pointer;\n",
              "      display: none;\n",
              "      fill: #1967D2;\n",
              "      height: 32px;\n",
              "      padding: 0 0 0 0;\n",
              "      width: 32px;\n",
              "    }\n",
              "\n",
              "    .colab-df-convert:hover {\n",
              "      background-color: #E2EBFA;\n",
              "      box-shadow: 0px 1px 2px rgba(60, 64, 67, 0.3), 0px 1px 3px 1px rgba(60, 64, 67, 0.15);\n",
              "      fill: #174EA6;\n",
              "    }\n",
              "\n",
              "    [theme=dark] .colab-df-convert {\n",
              "      background-color: #3B4455;\n",
              "      fill: #D2E3FC;\n",
              "    }\n",
              "\n",
              "    [theme=dark] .colab-df-convert:hover {\n",
              "      background-color: #434B5C;\n",
              "      box-shadow: 0px 1px 3px 1px rgba(0, 0, 0, 0.15);\n",
              "      filter: drop-shadow(0px 1px 2px rgba(0, 0, 0, 0.3));\n",
              "      fill: #FFFFFF;\n",
              "    }\n",
              "  </style>\n",
              "\n",
              "      <script>\n",
              "        const buttonEl =\n",
              "          document.querySelector('#df-202ece4f-44cd-4b0e-a080-f73f0559b977 button.colab-df-convert');\n",
              "        buttonEl.style.display =\n",
              "          google.colab.kernel.accessAllowed ? 'block' : 'none';\n",
              "\n",
              "        async function convertToInteractive(key) {\n",
              "          const element = document.querySelector('#df-202ece4f-44cd-4b0e-a080-f73f0559b977');\n",
              "          const dataTable =\n",
              "            await google.colab.kernel.invokeFunction('convertToInteractive',\n",
              "                                                     [key], {});\n",
              "          if (!dataTable) return;\n",
              "\n",
              "          const docLinkHtml = 'Like what you see? Visit the ' +\n",
              "            '<a target=\"_blank\" href=https://colab.research.google.com/notebooks/data_table.ipynb>data table notebook</a>'\n",
              "            + ' to learn more about interactive tables.';\n",
              "          element.innerHTML = '';\n",
              "          dataTable['output_type'] = 'display_data';\n",
              "          await google.colab.output.renderOutput(dataTable, element);\n",
              "          const docLink = document.createElement('div');\n",
              "          docLink.innerHTML = docLinkHtml;\n",
              "          element.appendChild(docLink);\n",
              "        }\n",
              "      </script>\n",
              "    </div>\n",
              "  </div>\n",
              "  "
            ],
            "text/plain": [
              "         gender  ...  avg_class_frequency_current_month\n",
              "churn            ...                                   \n",
              "0      0.510037  ...                           2.027882\n",
              "1      0.510839  ...                           1.044546\n",
              "\n",
              "[2 rows x 13 columns]"
            ]
          },
          "metadata": {},
          "execution_count": 8
        }
      ],
      "source": [
        "# Средние значения признаков по группам оттока (целевого значения)\n",
        "df.groupby('churn').mean()"
      ]
    },
    {
      "cell_type": "markdown",
      "metadata": {
        "id": "1NRWmygNxzej"
      },
      "source": [
        "<b> Исходя из средних значений признаков можем выделить следующие особенности \"ушедших\" клиентов:\n",
        "- реже живут вблизи от фитнес-центра;\n",
        "- реже являются партнерами фитнес-центра;\n",
        "- реже приходят по приглашению от друзей;\n",
        "- абонементы на менее длительный срок (1,7 месяца против 5,7 месяцев);\n",
        "- меньше срок до окончания действия абонемента (1,7 месяца против 5,3 месяцев);\n",
        "- реже посещают групповые занятия;\n",
        "- меньше тратят на другие услуги фитнес-центра (115 у.е. против 158 у.е.);\n",
        "- меньше время с первого посещения (1 месяц против 4,7 месяцев);\n",
        "- немного меньше средняя частота посещений в неделю (1,47 дней против 2,02 дня);\n",
        "- в последний месяц перед оттоком частота посещения уменьшается (до 1,04 дня). <b>"
      ]
    },
    {
      "cell_type": "code",
      "execution_count": 9,
      "metadata": {
        "scrolled": true,
        "id": "DnQS2fcQxzek"
      },
      "outputs": [],
      "source": [
        "#таблицы ушедших и оставшихся клиентов\n",
        "df_churn = df.query('churn == 1')\n",
        "df_not_churn = df.query('churn == 0')"
      ]
    },
    {
      "cell_type": "code",
      "execution_count": 10,
      "metadata": {
        "colab": {
          "base_uri": "https://localhost:8080/",
          "height": 1000
        },
        "id": "qib6lLTzxzek",
        "outputId": "11ddc0b3-5003-48b9-8bf2-d0f04a05aaa3"
      },
      "outputs": [
        {
          "output_type": "display_data",
          "data": {
            "image/png": "[encoded data removed]",
            "text/plain": [
              "<Figure size 864x1800 with 14 Axes>"
            ]
          },
          "metadata": {
            "needs_background": "light"
          }
        }
      ],
      "source": [
        "# Cоздаём переменную для 'сетки' и названия признаков\n",
        "grid =  [(i, j) for i in range(7) for j in range(2)]\n",
        "data_plot_columns = df.drop(columns=['churn']).columns\n",
        "\n",
        "# Строим гистограммы с распределениями значений признаков ушедших и оставшихся клиентов\n",
        "fig, ax = plt.subplots(7, 2, figsize=(12, 25))\n",
        "for position, column in zip(grid, data_plot_columns):\n",
        "    sns.distplot(df_churn[column], label='churn', ax=ax[position])\n",
        "    sns.distplot(df_not_churn[column], label = 'not churn', ax=ax[position])\n",
        "    ax[position].legend()\n",
        "plt.suptitle('Диаграммы распределения признаков', y=0.9)    \n",
        "plt.show()"
      ]
    },
    {
      "cell_type": "markdown",
      "metadata": {
        "id": "ymhzHck2xzel"
      },
      "source": [
        "<b>На диаграммах распределения видим подтверждение вышеприведеных выводов. Также можем наблюдать практически идеальное нормальное распределение значений в признаке возраста клиентов (`age`). Остальные распределения уже не так близки к нормальному, однако явных выбросов не обнаружено. <b>"
      ]
    },
    {
      "cell_type": "code",
      "execution_count": 11,
      "metadata": {
        "colab": {
          "base_uri": "https://localhost:8080/",
          "height": 944
        },
        "id": "20NdJfmoxzel",
        "outputId": "6165493b-0573-4ee8-e5f0-a3db22ad5e59"
      },
      "outputs": [
        {
          "output_type": "display_data",
          "data": {
            "image/png": "[encoded data removed]",
            "text/plain": [
              "<Figure size 1296x936 with 2 Axes>"
            ]
          },
          "metadata": {
            "needs_background": "light"
          }
        }
      ],
      "source": [
        "#построим матрицу корреляций\n",
        "cm = df.corr()\n",
        "fig, ax = plt.subplots(figsize=(18,13))\n",
        "#нарисуем тепловую карту с подписями для матрицы корреляций\n",
        "sns.heatmap(cm, annot=True, square=True)\n",
        "plt.title('Тепловая карта матрицы корреляции', size='x-large')\n",
        "plt.show()"
      ]
    },
    {
      "cell_type": "markdown",
      "metadata": {
        "id": "58uQBetnxzel"
      },
      "source": [
        "<b>На матрице корреляции видим сильную прямую зависимость признаков длительности текущего абонемента (`contract_period`) и срока до его окончания (`month_to_end_contract`), а также между средней частотой посещений за всё время (`avg_class_frequency_total`) и в последний месяц (`avg_class_frequency_current_month`). Данные признаки можно объединить между собой, так как они характеризуют одно и то же свойство.\n",
        "\n",
        "    \n",
        "По влиянию на целевое значение нет высоких показателей. Можно отметить среднюю отрицательную корреляцию признаков `lifetime`, `avg_class_frequency_current_month` и `age`. \n",
        "    \n",
        "<br>В целом, качество данных позволяет построить модель на их основе. <br>   <b>"
      ]
    },
    {
      "cell_type": "markdown",
      "metadata": {
        "id": "wlbYbDzXxzem"
      },
      "source": [
        "## Модель прогнозирования оттока клиентов"
      ]
    },
    {
      "cell_type": "markdown",
      "metadata": {
        "id": "tK0nF4hVxzem"
      },
      "source": [
        "<b> Так как целевое значение является бинарной величиной, мы будет строить модель на основе бинарной классификации. А именно будем применять алгоритмы логистической регрессии, случайного леса и градиентного бустинга.\n",
        "\n",
        "Оценивать модели будем по метрикам: accuracy, precision, recall, F1 score, ROC-AUC. <br>В случае прогнозирования оттока нам нужно обратить большее внимание на правильность оценки остающихся, так как не заметить потенциальный отток и потерять клиента будет дороже, чем проработать \"остающегося\" клиента. Соотвественно на метрику recall стоит сделать акцент.<br>И наоборот, так как выборка слабо сбалансирована по классам целевых значений, метрика accuracy интересует нас в меньшей степени.<br><b>\n",
        "    \n",
        "Делить выборки будем методом случайного разбиения в соотношении обучающей выборки к валидационной - 80 к 20, так как наблюдения не зависят от временного ряда.    "
      ]
    },
    {
      "cell_type": "code",
      "execution_count": 12,
      "metadata": {
        "id": "n9l2JjlUxzem"
      },
      "outputs": [],
      "source": [
        "# разделим наши данные на признаки (матрица X) и целевую переменную (y)\n",
        "X = df.drop(columns=['churn'])\n",
        "y = df['churn']\n",
        "\n",
        "# разделяем модель на обучающую и валидационную выборку\n",
        "X_train, X_test, y_train, y_test = train_test_split(X, y, test_size=0.2, random_state=0, stratify=y)\n",
        "\n",
        "# создадим объект класса StandardScaler и применим его к обучающей выборке\n",
        "scaler = StandardScaler()\n",
        "X_train_st = scaler.fit_transform(X_train)  # обучаем scaler и одновременно трансформируем матрицу для обучающей выборки\n",
        "\n",
        "# применяем стандартизацию к матрице признаков для тестовой выборки\n",
        "X_test_st = scaler.transform(X_test)"
      ]
    },
    {
      "cell_type": "code",
      "execution_count": 13,
      "metadata": {
        "id": "LsUHlQsgxzeo"
      },
      "outputs": [],
      "source": [
        "# список моделей\n",
        "models = [\n",
        "    LogisticRegression(solver='liblinear', random_state = 0, C=10.0),\n",
        "    RandomForestClassifier(n_estimators = 200, random_state = 0),\n",
        "    GradientBoostingClassifier(n_estimators = 200, random_state = 0,  max_depth = 9),\n",
        "]"
      ]
    },
    {
      "cell_type": "code",
      "execution_count": 14,
      "metadata": {
        "id": "IQfuHhOoxzeo"
      },
      "outputs": [],
      "source": [
        "def make_prediction(m, X_train, y_train, X_test, y_test):\n",
        "    '''функция, которая принимает на вход модель и данные и выводит метрики'''  \n",
        "    model = m\n",
        "    model.fit(X_train, y_train)\n",
        "    y_pred = model.predict(X_test)\n",
        "    y_proba = model.predict_proba(X_test)[:, 1]\n",
        "    print(\n",
        "        'Accuracy:{:.2f} Precision:{:.2f} Recall:{:.2f} F1:{:.2f} roc_auc_score:{:.2f} '.format(\n",
        "            accuracy_score(y_test, y_pred),\n",
        "            precision_score(y_test, y_pred),\n",
        "            recall_score(y_test, y_pred),\n",
        "            f1_score(y_test, y_pred),\n",
        "            roc_auc_score(y_test, y_proba)\n",
        "        )\n",
        "    )"
      ]
    },
    {
      "cell_type": "code",
      "execution_count": 15,
      "metadata": {
        "colab": {
          "base_uri": "https://localhost:8080/"
        },
        "id": "d58it1Hvxzeo",
        "outputId": "c27d15d1-e5d0-4e72-f5c5-ceecfbbc3760"
      },
      "outputs": [
        {
          "output_type": "stream",
          "name": "stdout",
          "text": [
            "LogisticRegression(C=10.0, random_state=0, solver='liblinear')\n",
            "Accuracy:0.94 Precision:0.90 Recall:0.86 F1:0.88 roc_auc_score:0.98 \n",
            "RandomForestClassifier(n_estimators=200, random_state=0)\n",
            "Accuracy:0.93 Precision:0.88 Recall:0.83 F1:0.86 roc_auc_score:0.97 \n",
            "GradientBoostingClassifier(max_depth=9, n_estimators=200, random_state=0)\n",
            "Accuracy:0.94 Precision:0.91 Recall:0.87 F1:0.89 roc_auc_score:0.98 \n"
          ]
        }
      ],
      "source": [
        "# цикл, который выводит метрики по списку моделей\n",
        "for i in models:\n",
        "    print(i)\n",
        "    make_prediction(i, X_train_st, y_train, X_test_st, y_test)"
      ]
    },
    {
      "cell_type": "markdown",
      "metadata": {
        "id": "_DmCC197xzep"
      },
      "source": [
        "**Модель на основе градиентного бустинга по метрикам показала себя лучше остальных. <br>Важная для нас метрика recall  - 86%, при значении сводной метрики F1 score (учитывающей баланс recall и precision) - 88%, ROC-AUC score - 98%. Такие же метрики у логистической регрессии. Однако по метрике Precision градиентный бустинг чуть лучше (91% против 90%)**"
      ]
    },
    {
      "cell_type": "code",
      "execution_count": 16,
      "metadata": {
        "id": "kR-o2e0Xxzep"
      },
      "outputs": [],
      "source": [
        "# обучим финальную модель\n",
        "final_model = GradientBoostingClassifier(n_estimators = 350, random_state = 0,  max_depth = 8)\n",
        "final_model.fit(X_train_st, y_train)\n",
        "y_pred = final_model.predict(X_test_st)"
      ]
    },
    {
      "cell_type": "code",
      "execution_count": 17,
      "metadata": {
        "colab": {
          "base_uri": "https://localhost:8080/",
          "height": 542
        },
        "id": "1vm-L1Slxzep",
        "outputId": "ad78e7bb-6574-4c38-8df3-734a06ad80a3"
      },
      "outputs": [
        {
          "output_type": "display_data",
          "data": {
            "image/png": "[encoded data removed]",
            "text/plain": [
              "<Figure size 720x576 with 1 Axes>"
            ]
          },
          "metadata": {
            "needs_background": "light"
          }
        },
        {
          "output_type": "execute_result",
          "data": {
            "text/markdown": "**roc_auc_score:0.98** ",
            "text/plain": [
              "<IPython.core.display.Markdown object>"
            ]
          },
          "metadata": {},
          "execution_count": 17
        }
      ],
      "source": [
        "#Отрисуем кривую ошибок (ROC) для финальной модели\n",
        "\n",
        "plt.figure(figsize=(10, 8))\n",
        "fpr, tpr, thresholds = roc_curve(y_test, final_model.predict_proba(X_test_st)[:,1], pos_label=1)\n",
        "lw = 2\n",
        "plt.plot(fpr, tpr, lw=lw, label='ROC curve')\n",
        "plt.plot([0, 1], [0, 1])\n",
        "plt.xlim([-0.001, 1.0])\n",
        "plt.ylim([0.0, 1.05])\n",
        "plt.xlabel('False Positive Rate')\n",
        "plt.ylabel('True Positive Rate')\n",
        "plt.title('ROC curve')\n",
        "plt.grid()\n",
        "plt.show()\n",
        "\n",
        "Markdown('**roc_auc_score:{:.2f}** '.format(roc_auc_score(y_test, final_model.predict_proba(X_test_st)[:,1])))"
      ]
    },
    {
      "cell_type": "code",
      "execution_count": 18,
      "metadata": {
        "colab": {
          "base_uri": "https://localhost:8080/",
          "height": 457
        },
        "id": "bE6_lhkPxzep",
        "outputId": "dbbd1a49-2708-4aca-9788-554e25fcd178"
      },
      "outputs": [
        {
          "output_type": "display_data",
          "data": {
            "text/html": [
              "\n",
              "  <div id=\"df-4f913487-6e4c-4fee-8ddd-078ec00d5286\">\n",
              "    <div class=\"colab-df-container\">\n",
              "      <div>\n",
              "<style scoped>\n",
              "    .dataframe tbody tr th:only-of-type {\n",
              "        vertical-align: middle;\n",
              "    }\n",
              "\n",
              "    .dataframe tbody tr th {\n",
              "        vertical-align: top;\n",
              "    }\n",
              "\n",
              "    .dataframe thead th {\n",
              "        text-align: right;\n",
              "    }\n",
              "</style>\n",
              "<table border=\"1\" class=\"dataframe\">\n",
              "  <thead>\n",
              "    <tr style=\"text-align: right;\">\n",
              "      <th></th>\n",
              "      <th>0_weight</th>\n",
              "      <th>0_feature</th>\n",
              "    </tr>\n",
              "  </thead>\n",
              "  <tbody>\n",
              "    <tr>\n",
              "      <th>10</th>\n",
              "      <td>0.357924</td>\n",
              "      <td>lifetime</td>\n",
              "    </tr>\n",
              "    <tr>\n",
              "      <th>12</th>\n",
              "      <td>0.182507</td>\n",
              "      <td>avg_class_frequency_current_month</td>\n",
              "    </tr>\n",
              "    <tr>\n",
              "      <th>11</th>\n",
              "      <td>0.180977</td>\n",
              "      <td>avg_class_frequency_total</td>\n",
              "    </tr>\n",
              "    <tr>\n",
              "      <th>9</th>\n",
              "      <td>0.095477</td>\n",
              "      <td>month_to_end_contract</td>\n",
              "    </tr>\n",
              "    <tr>\n",
              "      <th>7</th>\n",
              "      <td>0.076676</td>\n",
              "      <td>age</td>\n",
              "    </tr>\n",
              "    <tr>\n",
              "      <th>8</th>\n",
              "      <td>0.058199</td>\n",
              "      <td>avg_additional_charges_total</td>\n",
              "    </tr>\n",
              "    <tr>\n",
              "      <th>5</th>\n",
              "      <td>0.023441</td>\n",
              "      <td>contract_period</td>\n",
              "    </tr>\n",
              "    <tr>\n",
              "      <th>6</th>\n",
              "      <td>0.008441</td>\n",
              "      <td>group_visits</td>\n",
              "    </tr>\n",
              "    <tr>\n",
              "      <th>0</th>\n",
              "      <td>0.004761</td>\n",
              "      <td>gender</td>\n",
              "    </tr>\n",
              "    <tr>\n",
              "      <th>4</th>\n",
              "      <td>0.004374</td>\n",
              "      <td>phone</td>\n",
              "    </tr>\n",
              "    <tr>\n",
              "      <th>1</th>\n",
              "      <td>0.002659</td>\n",
              "      <td>near_location</td>\n",
              "    </tr>\n",
              "    <tr>\n",
              "      <th>3</th>\n",
              "      <td>0.002374</td>\n",
              "      <td>promo_friends</td>\n",
              "    </tr>\n",
              "    <tr>\n",
              "      <th>2</th>\n",
              "      <td>0.002192</td>\n",
              "      <td>partner</td>\n",
              "    </tr>\n",
              "  </tbody>\n",
              "</table>\n",
              "</div>\n",
              "      <button class=\"colab-df-convert\" onclick=\"convertToInteractive('df-4f913487-6e4c-4fee-8ddd-078ec00d5286')\"\n",
              "              title=\"Convert this dataframe to an interactive table.\"\n",
              "              style=\"display:none;\">\n",
              "        \n",
              "  <svg xmlns=\"http://www.w3.org/2000/svg\" height=\"24px\"viewBox=\"0 0 24 24\"\n",
              "       width=\"24px\">\n",
              "    <path d=\"M0 0h24v24H0V0z\" fill=\"none\"/>\n",
              "    <path d=\"M18.56 5.44l.94 2.06.94-2.06 2.06-.94-2.06-.94-.94-2.06-.94 2.06-2.06.94zm-11 1L8.5 8.5l.94-2.06 2.06-.94-2.06-.94L8.5 2.5l-.94 2.06-2.06.94zm10 10l.94 2.06.94-2.06 2.06-.94-2.06-.94-.94-2.06-.94 2.06-2.06.94z\"/><path d=\"M17.41 7.96l-1.37-1.37c-.4-.4-.92-.59-1.43-.59-.52 0-1.04.2-1.43.59L10.3 9.45l-7.72 7.72c-.78.78-.78 2.05 0 2.83L4 21.41c.39.39.9.59 1.41.59.51 0 1.02-.2 1.41-.59l7.78-7.78 2.81-2.81c.8-.78.8-2.07 0-2.86zM5.41 20L4 18.59l7.72-7.72 1.47 1.35L5.41 20z\"/>\n",
              "  </svg>\n",
              "      </button>\n",
              "      \n",
              "  <style>\n",
              "    .colab-df-container {\n",
              "      display:flex;\n",
              "      flex-wrap:wrap;\n",
              "      gap: 12px;\n",
              "    }\n",
              "\n",
              "    .colab-df-convert {\n",
              "      background-color: #E8F0FE;\n",
              "      border: none;\n",
              "      border-radius: 50%;\n",
              "      cursor: pointer;\n",
              "      display: none;\n",
              "      fill: #1967D2;\n",
              "      height: 32px;\n",
              "      padding: 0 0 0 0;\n",
              "      width: 32px;\n",
              "    }\n",
              "\n",
              "    .colab-df-convert:hover {\n",
              "      background-color: #E2EBFA;\n",
              "      box-shadow: 0px 1px 2px rgba(60, 64, 67, 0.3), 0px 1px 3px 1px rgba(60, 64, 67, 0.15);\n",
              "      fill: #174EA6;\n",
              "    }\n",
              "\n",
              "    [theme=dark] .colab-df-convert {\n",
              "      background-color: #3B4455;\n",
              "      fill: #D2E3FC;\n",
              "    }\n",
              "\n",
              "    [theme=dark] .colab-df-convert:hover {\n",
              "      background-color: #434B5C;\n",
              "      box-shadow: 0px 1px 3px 1px rgba(0, 0, 0, 0.15);\n",
              "      filter: drop-shadow(0px 1px 2px rgba(0, 0, 0, 0.3));\n",
              "      fill: #FFFFFF;\n",
              "    }\n",
              "  </style>\n",
              "\n",
              "      <script>\n",
              "        const buttonEl =\n",
              "          document.querySelector('#df-4f913487-6e4c-4fee-8ddd-078ec00d5286 button.colab-df-convert');\n",
              "        buttonEl.style.display =\n",
              "          google.colab.kernel.accessAllowed ? 'block' : 'none';\n",
              "\n",
              "        async function convertToInteractive(key) {\n",
              "          const element = document.querySelector('#df-4f913487-6e4c-4fee-8ddd-078ec00d5286');\n",
              "          const dataTable =\n",
              "            await google.colab.kernel.invokeFunction('convertToInteractive',\n",
              "                                                     [key], {});\n",
              "          if (!dataTable) return;\n",
              "\n",
              "          const docLinkHtml = 'Like what you see? Visit the ' +\n",
              "            '<a target=\"_blank\" href=https://colab.research.google.com/notebooks/data_table.ipynb>data table notebook</a>'\n",
              "            + ' to learn more about interactive tables.';\n",
              "          element.innerHTML = '';\n",
              "          dataTable['output_type'] = 'display_data';\n",
              "          await google.colab.output.renderOutput(dataTable, element);\n",
              "          const docLink = document.createElement('div');\n",
              "          docLink.innerHTML = docLinkHtml;\n",
              "          element.appendChild(docLink);\n",
              "        }\n",
              "      </script>\n",
              "    </div>\n",
              "  </div>\n",
              "  "
            ],
            "text/plain": [
              "    0_weight                          0_feature\n",
              "10  0.357924                           lifetime\n",
              "12  0.182507  avg_class_frequency_current_month\n",
              "11  0.180977          avg_class_frequency_total\n",
              "9   0.095477              month_to_end_contract\n",
              "7   0.076676                                age\n",
              "8   0.058199       avg_additional_charges_total\n",
              "5   0.023441                    contract_period\n",
              "6   0.008441                       group_visits\n",
              "0   0.004761                             gender\n",
              "4   0.004374                              phone\n",
              "1   0.002659                      near_location\n",
              "3   0.002374                      promo_friends\n",
              "2   0.002192                            partner"
            ]
          },
          "metadata": {}
        }
      ],
      "source": [
        "# создадим датафрейм с именами признаков и их важностью и выведем его по убыванию важности\n",
        "feature_weights = final_model.feature_importances_ \n",
        "display(pd.DataFrame(feature_weights).sort_values(0, ascending=False).join(\n",
        "        pd.DataFrame(X.columns), lsuffix='_weight', rsuffix='_feature'))"
      ]
    },
    {
      "cell_type": "markdown",
      "metadata": {
        "id": "K-gnKxecxzeq"
      },
      "source": [
        "**Наибольшее влияние на целевое значение оказывает время с момента первого обращения в фитнес-центр (`lifetime`), также значительую роль играет частота посещения фитнес-центра (`avg_class_frequency_current_month` и `avg_class_frequency_total`)**"
      ]
    },
    {
      "cell_type": "markdown",
      "metadata": {
        "id": "eC-6ebQDxzer"
      },
      "source": [
        "## Кластеризация клиентов"
      ]
    },
    {
      "cell_type": "code",
      "execution_count": 19,
      "metadata": {
        "id": "zgUQiMnFxzer"
      },
      "outputs": [],
      "source": [
        "# Стандартизация данных \n",
        "sc = StandardScaler()\n",
        "X_sc = sc.fit_transform(X)"
      ]
    },
    {
      "cell_type": "code",
      "execution_count": 20,
      "metadata": {
        "colab": {
          "base_uri": "https://localhost:8080/",
          "height": 594
        },
        "id": "5-jNJftdxzer",
        "outputId": "7c834fc7-f457-4a75-d110-1e933f2a5efa"
      },
      "outputs": [
        {
          "output_type": "display_data",
          "data": {
            "image/png": "[encoded data removed]",
            "text/plain": [
              "<Figure size 1080x720 with 1 Axes>"
            ]
          },
          "metadata": {
            "needs_background": "light"
          }
        }
      ],
      "source": [
        "# Создаем таблицу «связок» между объектами и строим дендрограмму\n",
        "linked = linkage(X_sc, method = 'ward') \n",
        "plt.figure(figsize=(15, 10))  \n",
        "dendrogram(linked, orientation='top')\n",
        "plt.show() "
      ]
    },
    {
      "cell_type": "markdown",
      "metadata": {
        "id": "tYrMnFtXxzer"
      },
      "source": [
        "**Исходя из дендрограммы, предлагается выделить 5 кластеров, так как последний кластер очень большой.**"
      ]
    },
    {
      "cell_type": "code",
      "execution_count": 21,
      "metadata": {
        "id": "bJZNqZu2xzes"
      },
      "outputs": [],
      "source": [
        "# задаём модель k_means с числом кластеров 5\n",
        "km = KMeans(n_clusters = 5, random_state=0)\n",
        "# прогнозируем кластеры для наблюдений (алгоритм присваивает им номера от 0 до 4)\n",
        "labels = km.fit_predict(X_sc)"
      ]
    },
    {
      "cell_type": "code",
      "execution_count": 22,
      "metadata": {
        "colab": {
          "base_uri": "https://localhost:8080/",
          "height": 270
        },
        "id": "I6pGqqwlxzes",
        "outputId": "6c0f148f-5d62-438e-c01e-73cbf2fa0fa7"
      },
      "outputs": [
        {
          "output_type": "execute_result",
          "data": {
            "text/html": [
              "\n",
              "  <div id=\"df-8a72a549-3825-40ed-a16f-6b315d7f215d\">\n",
              "    <div class=\"colab-df-container\">\n",
              "      <div>\n",
              "<style scoped>\n",
              "    .dataframe tbody tr th:only-of-type {\n",
              "        vertical-align: middle;\n",
              "    }\n",
              "\n",
              "    .dataframe tbody tr th {\n",
              "        vertical-align: top;\n",
              "    }\n",
              "\n",
              "    .dataframe thead th {\n",
              "        text-align: right;\n",
              "    }\n",
              "</style>\n",
              "<table border=\"1\" class=\"dataframe\">\n",
              "  <thead>\n",
              "    <tr style=\"text-align: right;\">\n",
              "      <th></th>\n",
              "      <th>cluster_km</th>\n",
              "      <th>gender</th>\n",
              "      <th>near_location</th>\n",
              "      <th>partner</th>\n",
              "      <th>promo_friends</th>\n",
              "      <th>phone</th>\n",
              "      <th>contract_period</th>\n",
              "      <th>group_visits</th>\n",
              "      <th>age</th>\n",
              "      <th>avg_additional_charges_total</th>\n",
              "      <th>month_to_end_contract</th>\n",
              "      <th>lifetime</th>\n",
              "      <th>avg_class_frequency_total</th>\n",
              "      <th>avg_class_frequency_current_month</th>\n",
              "    </tr>\n",
              "  </thead>\n",
              "  <tbody>\n",
              "    <tr>\n",
              "      <th>0</th>\n",
              "      <td>0</td>\n",
              "      <td>0.502970</td>\n",
              "      <td>0.959406</td>\n",
              "      <td>0.783168</td>\n",
              "      <td>0.574257</td>\n",
              "      <td>1.000000</td>\n",
              "      <td>10.889109</td>\n",
              "      <td>0.542574</td>\n",
              "      <td>29.982178</td>\n",
              "      <td>160.761016</td>\n",
              "      <td>9.954455</td>\n",
              "      <td>4.736634</td>\n",
              "      <td>1.982055</td>\n",
              "      <td>1.974789</td>\n",
              "    </tr>\n",
              "    <tr>\n",
              "      <th>1</th>\n",
              "      <td>1</td>\n",
              "      <td>0.522078</td>\n",
              "      <td>0.862338</td>\n",
              "      <td>0.470130</td>\n",
              "      <td>0.306494</td>\n",
              "      <td>0.000000</td>\n",
              "      <td>4.787013</td>\n",
              "      <td>0.425974</td>\n",
              "      <td>29.301299</td>\n",
              "      <td>143.957664</td>\n",
              "      <td>4.475325</td>\n",
              "      <td>3.924675</td>\n",
              "      <td>1.847220</td>\n",
              "      <td>1.716369</td>\n",
              "    </tr>\n",
              "    <tr>\n",
              "      <th>2</th>\n",
              "      <td>2</td>\n",
              "      <td>0.495050</td>\n",
              "      <td>0.000000</td>\n",
              "      <td>0.463366</td>\n",
              "      <td>0.079208</td>\n",
              "      <td>1.000000</td>\n",
              "      <td>2.352475</td>\n",
              "      <td>0.215842</td>\n",
              "      <td>28.477228</td>\n",
              "      <td>135.457501</td>\n",
              "      <td>2.198020</td>\n",
              "      <td>2.809901</td>\n",
              "      <td>1.660461</td>\n",
              "      <td>1.477324</td>\n",
              "    </tr>\n",
              "    <tr>\n",
              "      <th>3</th>\n",
              "      <td>3</td>\n",
              "      <td>0.485737</td>\n",
              "      <td>1.000000</td>\n",
              "      <td>0.350238</td>\n",
              "      <td>0.240095</td>\n",
              "      <td>1.000000</td>\n",
              "      <td>1.948494</td>\n",
              "      <td>0.341521</td>\n",
              "      <td>28.167987</td>\n",
              "      <td>131.622204</td>\n",
              "      <td>1.856577</td>\n",
              "      <td>2.440571</td>\n",
              "      <td>1.247634</td>\n",
              "      <td>1.012983</td>\n",
              "    </tr>\n",
              "    <tr>\n",
              "      <th>4</th>\n",
              "      <td>4</td>\n",
              "      <td>0.559666</td>\n",
              "      <td>0.976134</td>\n",
              "      <td>0.356802</td>\n",
              "      <td>0.230310</td>\n",
              "      <td>0.998807</td>\n",
              "      <td>2.669451</td>\n",
              "      <td>0.473747</td>\n",
              "      <td>30.125298</td>\n",
              "      <td>161.657905</td>\n",
              "      <td>2.459427</td>\n",
              "      <td>4.898568</td>\n",
              "      <td>2.852002</td>\n",
              "      <td>2.850161</td>\n",
              "    </tr>\n",
              "  </tbody>\n",
              "</table>\n",
              "</div>\n",
              "      <button class=\"colab-df-convert\" onclick=\"convertToInteractive('df-8a72a549-3825-40ed-a16f-6b315d7f215d')\"\n",
              "              title=\"Convert this dataframe to an interactive table.\"\n",
              "              style=\"display:none;\">\n",
              "        \n",
              "  <svg xmlns=\"http://www.w3.org/2000/svg\" height=\"24px\"viewBox=\"0 0 24 24\"\n",
              "       width=\"24px\">\n",
              "    <path d=\"M0 0h24v24H0V0z\" fill=\"none\"/>\n",
              "    <path d=\"M18.56 5.44l.94 2.06.94-2.06 2.06-.94-2.06-.94-.94-2.06-.94 2.06-2.06.94zm-11 1L8.5 8.5l.94-2.06 2.06-.94-2.06-.94L8.5 2.5l-.94 2.06-2.06.94zm10 10l.94 2.06.94-2.06 2.06-.94-2.06-.94-.94-2.06-.94 2.06-2.06.94z\"/><path d=\"M17.41 7.96l-1.37-1.37c-.4-.4-.92-.59-1.43-.59-.52 0-1.04.2-1.43.59L10.3 9.45l-7.72 7.72c-.78.78-.78 2.05 0 2.83L4 21.41c.39.39.9.59 1.41.59.51 0 1.02-.2 1.41-.59l7.78-7.78 2.81-2.81c.8-.78.8-2.07 0-2.86zM5.41 20L4 18.59l7.72-7.72 1.47 1.35L5.41 20z\"/>\n",
              "  </svg>\n",
              "      </button>\n",
              "      \n",
              "  <style>\n",
              "    .colab-df-container {\n",
              "      display:flex;\n",
              "      flex-wrap:wrap;\n",
              "      gap: 12px;\n",
              "    }\n",
              "\n",
              "    .colab-df-convert {\n",
              "      background-color: #E8F0FE;\n",
              "      border: none;\n",
              "      border-radius: 50%;\n",
              "      cursor: pointer;\n",
              "      display: none;\n",
              "      fill: #1967D2;\n",
              "      height: 32px;\n",
              "      padding: 0 0 0 0;\n",
              "      width: 32px;\n",
              "    }\n",
              "\n",
              "    .colab-df-convert:hover {\n",
              "      background-color: #E2EBFA;\n",
              "      box-shadow: 0px 1px 2px rgba(60, 64, 67, 0.3), 0px 1px 3px 1px rgba(60, 64, 67, 0.15);\n",
              "      fill: #174EA6;\n",
              "    }\n",
              "\n",
              "    [theme=dark] .colab-df-convert {\n",
              "      background-color: #3B4455;\n",
              "      fill: #D2E3FC;\n",
              "    }\n",
              "\n",
              "    [theme=dark] .colab-df-convert:hover {\n",
              "      background-color: #434B5C;\n",
              "      box-shadow: 0px 1px 3px 1px rgba(0, 0, 0, 0.15);\n",
              "      filter: drop-shadow(0px 1px 2px rgba(0, 0, 0, 0.3));\n",
              "      fill: #FFFFFF;\n",
              "    }\n",
              "  </style>\n",
              "\n",
              "      <script>\n",
              "        const buttonEl =\n",
              "          document.querySelector('#df-8a72a549-3825-40ed-a16f-6b315d7f215d button.colab-df-convert');\n",
              "        buttonEl.style.display =\n",
              "          google.colab.kernel.accessAllowed ? 'block' : 'none';\n",
              "\n",
              "        async function convertToInteractive(key) {\n",
              "          const element = document.querySelector('#df-8a72a549-3825-40ed-a16f-6b315d7f215d');\n",
              "          const dataTable =\n",
              "            await google.colab.kernel.invokeFunction('convertToInteractive',\n",
              "                                                     [key], {});\n",
              "          if (!dataTable) return;\n",
              "\n",
              "          const docLinkHtml = 'Like what you see? Visit the ' +\n",
              "            '<a target=\"_blank\" href=https://colab.research.google.com/notebooks/data_table.ipynb>data table notebook</a>'\n",
              "            + ' to learn more about interactive tables.';\n",
              "          element.innerHTML = '';\n",
              "          dataTable['output_type'] = 'display_data';\n",
              "          await google.colab.output.renderOutput(dataTable, element);\n",
              "          const docLink = document.createElement('div');\n",
              "          docLink.innerHTML = docLinkHtml;\n",
              "          element.appendChild(docLink);\n",
              "        }\n",
              "      </script>\n",
              "    </div>\n",
              "  </div>\n",
              "  "
            ],
            "text/plain": [
              "   cluster_km  ...  avg_class_frequency_current_month\n",
              "0           0  ...                           1.974789\n",
              "1           1  ...                           1.716369\n",
              "2           2  ...                           1.477324\n",
              "3           3  ...                           1.012983\n",
              "4           4  ...                           2.850161\n",
              "\n",
              "[5 rows x 14 columns]"
            ]
          },
          "metadata": {},
          "execution_count": 22
        }
      ],
      "source": [
        "# сохраняем метки кластера в поле нашего датасета\n",
        "X['cluster_km'] = labels\n",
        "# выводим статистику по средним значениям наших признаков по кластеру\n",
        "X_mean = X.groupby('cluster_km').mean().reset_index()\n",
        "X_mean"
      ]
    },
    {
      "cell_type": "markdown",
      "metadata": {
        "id": "K-4ZRWrRxzes"
      },
      "source": [
        "<b>Среди определенных с помощью алгоритма K-means кластеров можно выделить отдельные кластеры для клиентов:\n",
        "- живущих вне района фитнес-центра (кластер 2);\n",
        "- у которых отсутствует номер телефона (кластер 1);\n",
        "- с длительным действующим абонементом и соответсвенно сроком до его окончания(средние 10,9 мес. и 10 мес. соответсвенно) (кластер 0). <b>"
      ]
    },
    {
      "cell_type": "code",
      "execution_count": 23,
      "metadata": {
        "colab": {
          "base_uri": "https://localhost:8080/",
          "height": 1000
        },
        "id": "8XnYYli5xzet",
        "outputId": "d5bc0ef0-9ca3-4378-802e-9c603ac7ee5d"
      },
      "outputs": [
        {
          "output_type": "display_data",
          "data": {
            "image/png": "[encoded data removed]",
            "text/plain": [
              "<Figure size 864x1800 with 14 Axes>"
            ]
          },
          "metadata": {
            "needs_background": "light"
          }
        }
      ],
      "source": [
        "# Строим гистограммы с распределениями значений признаков ушедших и оставшихся клиентов\n",
        "fig, ax = plt.subplots(7, 2, figsize=(12, 25))\n",
        "for position, column in zip(grid, data_plot_columns):\n",
        "    sns.distplot(X.query('cluster_km == 0')[column], label='0', ax=ax[position])\n",
        "    sns.distplot(X.query('cluster_km == 1')[column], label = '1', ax=ax[position])\n",
        "    sns.distplot(X.query('cluster_km == 2')[column], label = '2', ax=ax[position])\n",
        "    sns.distplot(X.query('cluster_km == 3')[column], label = '3', ax=ax[position])\n",
        "    sns.distplot(X.query('cluster_km == 4')[column], label = '4', ax=ax[position])\n",
        "    ax[position].legend()\n",
        "plt.suptitle('Диаграммы распределения признаков', y=0.9)    \n",
        "plt.show()"
      ]
    },
    {
      "cell_type": "code",
      "execution_count": 24,
      "metadata": {
        "colab": {
          "base_uri": "https://localhost:8080/",
          "height": 206
        },
        "id": "gIKZ-D1exzet",
        "outputId": "2d7a8f40-3a39-4626-973a-e6eb1fb2a1aa"
      },
      "outputs": [
        {
          "output_type": "execute_result",
          "data": {
            "text/html": [
              "\n",
              "  <div id=\"df-1c843129-796b-4c3a-acf1-116c4ce2a8fe\">\n",
              "    <div class=\"colab-df-container\">\n",
              "      <div>\n",
              "<style scoped>\n",
              "    .dataframe tbody tr th:only-of-type {\n",
              "        vertical-align: middle;\n",
              "    }\n",
              "\n",
              "    .dataframe tbody tr th {\n",
              "        vertical-align: top;\n",
              "    }\n",
              "\n",
              "    .dataframe thead th {\n",
              "        text-align: right;\n",
              "    }\n",
              "</style>\n",
              "<table border=\"1\" class=\"dataframe\">\n",
              "  <thead>\n",
              "    <tr style=\"text-align: right;\">\n",
              "      <th></th>\n",
              "      <th>cluster_km</th>\n",
              "      <th>count</th>\n",
              "    </tr>\n",
              "  </thead>\n",
              "  <tbody>\n",
              "    <tr>\n",
              "      <th>3</th>\n",
              "      <td>3</td>\n",
              "      <td>1262</td>\n",
              "    </tr>\n",
              "    <tr>\n",
              "      <th>0</th>\n",
              "      <td>0</td>\n",
              "      <td>1010</td>\n",
              "    </tr>\n",
              "    <tr>\n",
              "      <th>4</th>\n",
              "      <td>4</td>\n",
              "      <td>838</td>\n",
              "    </tr>\n",
              "    <tr>\n",
              "      <th>2</th>\n",
              "      <td>2</td>\n",
              "      <td>505</td>\n",
              "    </tr>\n",
              "    <tr>\n",
              "      <th>1</th>\n",
              "      <td>1</td>\n",
              "      <td>385</td>\n",
              "    </tr>\n",
              "  </tbody>\n",
              "</table>\n",
              "</div>\n",
              "      <button class=\"colab-df-convert\" onclick=\"convertToInteractive('df-1c843129-796b-4c3a-acf1-116c4ce2a8fe')\"\n",
              "              title=\"Convert this dataframe to an interactive table.\"\n",
              "              style=\"display:none;\">\n",
              "        \n",
              "  <svg xmlns=\"http://www.w3.org/2000/svg\" height=\"24px\"viewBox=\"0 0 24 24\"\n",
              "       width=\"24px\">\n",
              "    <path d=\"M0 0h24v24H0V0z\" fill=\"none\"/>\n",
              "    <path d=\"M18.56 5.44l.94 2.06.94-2.06 2.06-.94-2.06-.94-.94-2.06-.94 2.06-2.06.94zm-11 1L8.5 8.5l.94-2.06 2.06-.94-2.06-.94L8.5 2.5l-.94 2.06-2.06.94zm10 10l.94 2.06.94-2.06 2.06-.94-2.06-.94-.94-2.06-.94 2.06-2.06.94z\"/><path d=\"M17.41 7.96l-1.37-1.37c-.4-.4-.92-.59-1.43-.59-.52 0-1.04.2-1.43.59L10.3 9.45l-7.72 7.72c-.78.78-.78 2.05 0 2.83L4 21.41c.39.39.9.59 1.41.59.51 0 1.02-.2 1.41-.59l7.78-7.78 2.81-2.81c.8-.78.8-2.07 0-2.86zM5.41 20L4 18.59l7.72-7.72 1.47 1.35L5.41 20z\"/>\n",
              "  </svg>\n",
              "      </button>\n",
              "      \n",
              "  <style>\n",
              "    .colab-df-container {\n",
              "      display:flex;\n",
              "      flex-wrap:wrap;\n",
              "      gap: 12px;\n",
              "    }\n",
              "\n",
              "    .colab-df-convert {\n",
              "      background-color: #E8F0FE;\n",
              "      border: none;\n",
              "      border-radius: 50%;\n",
              "      cursor: pointer;\n",
              "      display: none;\n",
              "      fill: #1967D2;\n",
              "      height: 32px;\n",
              "      padding: 0 0 0 0;\n",
              "      width: 32px;\n",
              "    }\n",
              "\n",
              "    .colab-df-convert:hover {\n",
              "      background-color: #E2EBFA;\n",
              "      box-shadow: 0px 1px 2px rgba(60, 64, 67, 0.3), 0px 1px 3px 1px rgba(60, 64, 67, 0.15);\n",
              "      fill: #174EA6;\n",
              "    }\n",
              "\n",
              "    [theme=dark] .colab-df-convert {\n",
              "      background-color: #3B4455;\n",
              "      fill: #D2E3FC;\n",
              "    }\n",
              "\n",
              "    [theme=dark] .colab-df-convert:hover {\n",
              "      background-color: #434B5C;\n",
              "      box-shadow: 0px 1px 3px 1px rgba(0, 0, 0, 0.15);\n",
              "      filter: drop-shadow(0px 1px 2px rgba(0, 0, 0, 0.3));\n",
              "      fill: #FFFFFF;\n",
              "    }\n",
              "  </style>\n",
              "\n",
              "      <script>\n",
              "        const buttonEl =\n",
              "          document.querySelector('#df-1c843129-796b-4c3a-acf1-116c4ce2a8fe button.colab-df-convert');\n",
              "        buttonEl.style.display =\n",
              "          google.colab.kernel.accessAllowed ? 'block' : 'none';\n",
              "\n",
              "        async function convertToInteractive(key) {\n",
              "          const element = document.querySelector('#df-1c843129-796b-4c3a-acf1-116c4ce2a8fe');\n",
              "          const dataTable =\n",
              "            await google.colab.kernel.invokeFunction('convertToInteractive',\n",
              "                                                     [key], {});\n",
              "          if (!dataTable) return;\n",
              "\n",
              "          const docLinkHtml = 'Like what you see? Visit the ' +\n",
              "            '<a target=\"_blank\" href=https://colab.research.google.com/notebooks/data_table.ipynb>data table notebook</a>'\n",
              "            + ' to learn more about interactive tables.';\n",
              "          element.innerHTML = '';\n",
              "          dataTable['output_type'] = 'display_data';\n",
              "          await google.colab.output.renderOutput(dataTable, element);\n",
              "          const docLink = document.createElement('div');\n",
              "          docLink.innerHTML = docLinkHtml;\n",
              "          element.appendChild(docLink);\n",
              "        }\n",
              "      </script>\n",
              "    </div>\n",
              "  </div>\n",
              "  "
            ],
            "text/plain": [
              "   cluster_km  count\n",
              "3           3   1262\n",
              "0           0   1010\n",
              "4           4    838\n",
              "2           2    505\n",
              "1           1    385"
            ]
          },
          "metadata": {},
          "execution_count": 24
        }
      ],
      "source": [
        "cluster_count = X.groupby('cluster_km')['gender'].count().reset_index().sort_values('gender', ascending=False).rename(columns={'gender':'count'})\n",
        "cluster_count"
      ]
    },
    {
      "cell_type": "markdown",
      "metadata": {
        "id": "TbK7kOiDxzet"
      },
      "source": [
        "**После изучения распределения признаков по кластерам также можем заметить, что в кластере 0 собралось больше всего (78%) клиентов-партнеров и этот же кластер лидирует по количеству клиентов, пришедших по акции \"приведи друга\" (57%).**\n",
        "\n",
        "**Значения возраста и пола распределились по кластерам относительно равномерно**\n",
        "\n",
        "**Объем кластеров (количество клиентов в них) различается. Самый большой кластер 3 - 1262 клиентов, самый маленький 1 - 385 клиентов.**"
      ]
    },
    {
      "cell_type": "code",
      "execution_count": 25,
      "metadata": {
        "colab": {
          "base_uri": "https://localhost:8080/"
        },
        "id": "eXmPKmOTxzet",
        "outputId": "1e2be393-12fe-4276-88d9-621531e65444"
      },
      "outputs": [
        {
          "output_type": "execute_result",
          "data": {
            "text/plain": [
              "cluster_km\n",
              "3    0.51\n",
              "2    0.44\n",
              "1    0.27\n",
              "4    0.07\n",
              "0    0.03\n",
              "Name: churn, dtype: float64"
            ]
          },
          "metadata": {},
          "execution_count": 25
        }
      ],
      "source": [
        "# Добавляем столбец с кластерами в первоначальную таблицу\n",
        "df['cluster_km'] = labels\n",
        "# Группируем по кластерам и считаем среднее значение оттока\n",
        "churn_cluster = df.groupby('cluster_km')['churn'].mean().round(2)\n",
        "churn_cluster.sort_values(ascending=False)"
      ]
    },
    {
      "cell_type": "code",
      "execution_count": 26,
      "metadata": {
        "colab": {
          "base_uri": "https://localhost:8080/",
          "height": 488
        },
        "id": "I-klb-mfxzeu",
        "outputId": "8d0a225c-dcb8-45db-f4ef-412732d18afe"
      },
      "outputs": [
        {
          "output_type": "execute_result",
          "data": {
            "text/html": [
              "\n",
              "  <div id=\"df-da93afb5-75e4-4176-940f-585a3f003768\">\n",
              "    <div class=\"colab-df-container\">\n",
              "      <div>\n",
              "<style scoped>\n",
              "    .dataframe tbody tr th:only-of-type {\n",
              "        vertical-align: middle;\n",
              "    }\n",
              "\n",
              "    .dataframe tbody tr th {\n",
              "        vertical-align: top;\n",
              "    }\n",
              "\n",
              "    .dataframe thead th {\n",
              "        text-align: right;\n",
              "    }\n",
              "</style>\n",
              "<table border=\"1\" class=\"dataframe\">\n",
              "  <thead>\n",
              "    <tr style=\"text-align: right;\">\n",
              "      <th></th>\n",
              "      <th>cluster_km</th>\n",
              "      <th>contract_period</th>\n",
              "      <th>count</th>\n",
              "      <th>sum</th>\n",
              "      <th>part</th>\n",
              "    </tr>\n",
              "  </thead>\n",
              "  <tbody>\n",
              "    <tr>\n",
              "      <th>0</th>\n",
              "      <td>0</td>\n",
              "      <td>6</td>\n",
              "      <td>187</td>\n",
              "      <td>1010</td>\n",
              "      <td>0.19</td>\n",
              "    </tr>\n",
              "    <tr>\n",
              "      <th>1</th>\n",
              "      <td>0</td>\n",
              "      <td>12</td>\n",
              "      <td>823</td>\n",
              "      <td>1010</td>\n",
              "      <td>0.81</td>\n",
              "    </tr>\n",
              "    <tr>\n",
              "      <th>2</th>\n",
              "      <td>1</td>\n",
              "      <td>1</td>\n",
              "      <td>205</td>\n",
              "      <td>385</td>\n",
              "      <td>0.53</td>\n",
              "    </tr>\n",
              "    <tr>\n",
              "      <th>3</th>\n",
              "      <td>1</td>\n",
              "      <td>6</td>\n",
              "      <td>87</td>\n",
              "      <td>385</td>\n",
              "      <td>0.23</td>\n",
              "    </tr>\n",
              "    <tr>\n",
              "      <th>4</th>\n",
              "      <td>1</td>\n",
              "      <td>12</td>\n",
              "      <td>93</td>\n",
              "      <td>385</td>\n",
              "      <td>0.24</td>\n",
              "    </tr>\n",
              "    <tr>\n",
              "      <th>5</th>\n",
              "      <td>2</td>\n",
              "      <td>1</td>\n",
              "      <td>390</td>\n",
              "      <td>505</td>\n",
              "      <td>0.77</td>\n",
              "    </tr>\n",
              "    <tr>\n",
              "      <th>6</th>\n",
              "      <td>2</td>\n",
              "      <td>6</td>\n",
              "      <td>97</td>\n",
              "      <td>505</td>\n",
              "      <td>0.19</td>\n",
              "    </tr>\n",
              "    <tr>\n",
              "      <th>7</th>\n",
              "      <td>2</td>\n",
              "      <td>12</td>\n",
              "      <td>18</td>\n",
              "      <td>505</td>\n",
              "      <td>0.04</td>\n",
              "    </tr>\n",
              "    <tr>\n",
              "      <th>8</th>\n",
              "      <td>3</td>\n",
              "      <td>1</td>\n",
              "      <td>1031</td>\n",
              "      <td>1262</td>\n",
              "      <td>0.82</td>\n",
              "    </tr>\n",
              "    <tr>\n",
              "      <th>9</th>\n",
              "      <td>3</td>\n",
              "      <td>6</td>\n",
              "      <td>224</td>\n",
              "      <td>1262</td>\n",
              "      <td>0.18</td>\n",
              "    </tr>\n",
              "    <tr>\n",
              "      <th>10</th>\n",
              "      <td>3</td>\n",
              "      <td>12</td>\n",
              "      <td>7</td>\n",
              "      <td>1262</td>\n",
              "      <td>0.01</td>\n",
              "    </tr>\n",
              "    <tr>\n",
              "      <th>11</th>\n",
              "      <td>4</td>\n",
              "      <td>1</td>\n",
              "      <td>581</td>\n",
              "      <td>838</td>\n",
              "      <td>0.69</td>\n",
              "    </tr>\n",
              "    <tr>\n",
              "      <th>12</th>\n",
              "      <td>4</td>\n",
              "      <td>6</td>\n",
              "      <td>238</td>\n",
              "      <td>838</td>\n",
              "      <td>0.28</td>\n",
              "    </tr>\n",
              "    <tr>\n",
              "      <th>13</th>\n",
              "      <td>4</td>\n",
              "      <td>12</td>\n",
              "      <td>19</td>\n",
              "      <td>838</td>\n",
              "      <td>0.02</td>\n",
              "    </tr>\n",
              "  </tbody>\n",
              "</table>\n",
              "</div>\n",
              "      <button class=\"colab-df-convert\" onclick=\"convertToInteractive('df-da93afb5-75e4-4176-940f-585a3f003768')\"\n",
              "              title=\"Convert this dataframe to an interactive table.\"\n",
              "              style=\"display:none;\">\n",
              "        \n",
              "  <svg xmlns=\"http://www.w3.org/2000/svg\" height=\"24px\"viewBox=\"0 0 24 24\"\n",
              "       width=\"24px\">\n",
              "    <path d=\"M0 0h24v24H0V0z\" fill=\"none\"/>\n",
              "    <path d=\"M18.56 5.44l.94 2.06.94-2.06 2.06-.94-2.06-.94-.94-2.06-.94 2.06-2.06.94zm-11 1L8.5 8.5l.94-2.06 2.06-.94-2.06-.94L8.5 2.5l-.94 2.06-2.06.94zm10 10l.94 2.06.94-2.06 2.06-.94-2.06-.94-.94-2.06-.94 2.06-2.06.94z\"/><path d=\"M17.41 7.96l-1.37-1.37c-.4-.4-.92-.59-1.43-.59-.52 0-1.04.2-1.43.59L10.3 9.45l-7.72 7.72c-.78.78-.78 2.05 0 2.83L4 21.41c.39.39.9.59 1.41.59.51 0 1.02-.2 1.41-.59l7.78-7.78 2.81-2.81c.8-.78.8-2.07 0-2.86zM5.41 20L4 18.59l7.72-7.72 1.47 1.35L5.41 20z\"/>\n",
              "  </svg>\n",
              "      </button>\n",
              "      \n",
              "  <style>\n",
              "    .colab-df-container {\n",
              "      display:flex;\n",
              "      flex-wrap:wrap;\n",
              "      gap: 12px;\n",
              "    }\n",
              "\n",
              "    .colab-df-convert {\n",
              "      background-color: #E8F0FE;\n",
              "      border: none;\n",
              "      border-radius: 50%;\n",
              "      cursor: pointer;\n",
              "      display: none;\n",
              "      fill: #1967D2;\n",
              "      height: 32px;\n",
              "      padding: 0 0 0 0;\n",
              "      width: 32px;\n",
              "    }\n",
              "\n",
              "    .colab-df-convert:hover {\n",
              "      background-color: #E2EBFA;\n",
              "      box-shadow: 0px 1px 2px rgba(60, 64, 67, 0.3), 0px 1px 3px 1px rgba(60, 64, 67, 0.15);\n",
              "      fill: #174EA6;\n",
              "    }\n",
              "\n",
              "    [theme=dark] .colab-df-convert {\n",
              "      background-color: #3B4455;\n",
              "      fill: #D2E3FC;\n",
              "    }\n",
              "\n",
              "    [theme=dark] .colab-df-convert:hover {\n",
              "      background-color: #434B5C;\n",
              "      box-shadow: 0px 1px 3px 1px rgba(0, 0, 0, 0.15);\n",
              "      filter: drop-shadow(0px 1px 2px rgba(0, 0, 0, 0.3));\n",
              "      fill: #FFFFFF;\n",
              "    }\n",
              "  </style>\n",
              "\n",
              "      <script>\n",
              "        const buttonEl =\n",
              "          document.querySelector('#df-da93afb5-75e4-4176-940f-585a3f003768 button.colab-df-convert');\n",
              "        buttonEl.style.display =\n",
              "          google.colab.kernel.accessAllowed ? 'block' : 'none';\n",
              "\n",
              "        async function convertToInteractive(key) {\n",
              "          const element = document.querySelector('#df-da93afb5-75e4-4176-940f-585a3f003768');\n",
              "          const dataTable =\n",
              "            await google.colab.kernel.invokeFunction('convertToInteractive',\n",
              "                                                     [key], {});\n",
              "          if (!dataTable) return;\n",
              "\n",
              "          const docLinkHtml = 'Like what you see? Visit the ' +\n",
              "            '<a target=\"_blank\" href=https://colab.research.google.com/notebooks/data_table.ipynb>data table notebook</a>'\n",
              "            + ' to learn more about interactive tables.';\n",
              "          element.innerHTML = '';\n",
              "          dataTable['output_type'] = 'display_data';\n",
              "          await google.colab.output.renderOutput(dataTable, element);\n",
              "          const docLink = document.createElement('div');\n",
              "          docLink.innerHTML = docLinkHtml;\n",
              "          element.appendChild(docLink);\n",
              "        }\n",
              "      </script>\n",
              "    </div>\n",
              "  </div>\n",
              "  "
            ],
            "text/plain": [
              "    cluster_km  contract_period  count   sum  part\n",
              "0            0                6    187  1010  0.19\n",
              "1            0               12    823  1010  0.81\n",
              "2            1                1    205   385  0.53\n",
              "3            1                6     87   385  0.23\n",
              "4            1               12     93   385  0.24\n",
              "5            2                1    390   505  0.77\n",
              "6            2                6     97   505  0.19\n",
              "7            2               12     18   505  0.04\n",
              "8            3                1   1031  1262  0.82\n",
              "9            3                6    224  1262  0.18\n",
              "10           3               12      7  1262  0.01\n",
              "11           4                1    581   838  0.69\n",
              "12           4                6    238   838  0.28\n",
              "13           4               12     19   838  0.02"
            ]
          },
          "metadata": {},
          "execution_count": 26
        }
      ],
      "source": [
        "#Создадим таблицу с количеством клиентов с определенным сроком абонемента\n",
        "df_contract_period_group = X.groupby(['cluster_km','contract_period'])['gender'].count().reset_index().rename(columns={'gender':'count'})\n",
        "#Вычислим долю клиентов с определенным сроком абонемента в своем кластере \n",
        "df_contract_period_group = df_contract_period_group.merge(cluster_count, on='cluster_km').rename(columns={'count_x':'count', 'count_y':'sum'})\n",
        "df_contract_period_group['part'] = (df_contract_period_group['count'] / df_contract_period_group['sum']).round(2)\n",
        "df_contract_period_group"
      ]
    },
    {
      "cell_type": "code",
      "execution_count": 27,
      "metadata": {
        "scrolled": true,
        "colab": {
          "base_uri": "https://localhost:8080/",
          "height": 270
        },
        "id": "vybCs51axzev",
        "outputId": "870fc966-e28c-4610-eabc-33367db4edba"
      },
      "outputs": [
        {
          "output_type": "execute_result",
          "data": {
            "text/html": [
              "\n",
              "  <div id=\"df-918bfec3-57c9-4323-b987-56a13fb0fea0\">\n",
              "    <div class=\"colab-df-container\">\n",
              "      <div>\n",
              "<style scoped>\n",
              "    .dataframe tbody tr th:only-of-type {\n",
              "        vertical-align: middle;\n",
              "    }\n",
              "\n",
              "    .dataframe tbody tr th {\n",
              "        vertical-align: top;\n",
              "    }\n",
              "\n",
              "    .dataframe thead th {\n",
              "        text-align: right;\n",
              "    }\n",
              "</style>\n",
              "<table border=\"1\" class=\"dataframe\">\n",
              "  <thead>\n",
              "    <tr style=\"text-align: right;\">\n",
              "      <th></th>\n",
              "      <th>cluster_km</th>\n",
              "      <th>gender</th>\n",
              "      <th>near_location</th>\n",
              "      <th>partner</th>\n",
              "      <th>promo_friends</th>\n",
              "      <th>phone</th>\n",
              "      <th>contract_period</th>\n",
              "      <th>group_visits</th>\n",
              "      <th>age</th>\n",
              "      <th>avg_additional_charges_total</th>\n",
              "      <th>month_to_end_contract</th>\n",
              "      <th>lifetime</th>\n",
              "      <th>avg_class_frequency_total</th>\n",
              "      <th>avg_class_frequency_current_month</th>\n",
              "    </tr>\n",
              "  </thead>\n",
              "  <tbody>\n",
              "    <tr>\n",
              "      <th>0</th>\n",
              "      <td>0</td>\n",
              "      <td>0.502970</td>\n",
              "      <td>0.959406</td>\n",
              "      <td>0.783168</td>\n",
              "      <td>0.574257</td>\n",
              "      <td>1.000000</td>\n",
              "      <td>10.889109</td>\n",
              "      <td>0.542574</td>\n",
              "      <td>29.982178</td>\n",
              "      <td>160.761016</td>\n",
              "      <td>9.954455</td>\n",
              "      <td>4.736634</td>\n",
              "      <td>1.982055</td>\n",
              "      <td>1.974789</td>\n",
              "    </tr>\n",
              "    <tr>\n",
              "      <th>1</th>\n",
              "      <td>1</td>\n",
              "      <td>0.522078</td>\n",
              "      <td>0.862338</td>\n",
              "      <td>0.470130</td>\n",
              "      <td>0.306494</td>\n",
              "      <td>0.000000</td>\n",
              "      <td>4.787013</td>\n",
              "      <td>0.425974</td>\n",
              "      <td>29.301299</td>\n",
              "      <td>143.957664</td>\n",
              "      <td>4.475325</td>\n",
              "      <td>3.924675</td>\n",
              "      <td>1.847220</td>\n",
              "      <td>1.716369</td>\n",
              "    </tr>\n",
              "    <tr>\n",
              "      <th>2</th>\n",
              "      <td>2</td>\n",
              "      <td>0.495050</td>\n",
              "      <td>0.000000</td>\n",
              "      <td>0.463366</td>\n",
              "      <td>0.079208</td>\n",
              "      <td>1.000000</td>\n",
              "      <td>2.352475</td>\n",
              "      <td>0.215842</td>\n",
              "      <td>28.477228</td>\n",
              "      <td>135.457501</td>\n",
              "      <td>2.198020</td>\n",
              "      <td>2.809901</td>\n",
              "      <td>1.660461</td>\n",
              "      <td>1.477324</td>\n",
              "    </tr>\n",
              "    <tr>\n",
              "      <th>3</th>\n",
              "      <td>3</td>\n",
              "      <td>0.485737</td>\n",
              "      <td>1.000000</td>\n",
              "      <td>0.350238</td>\n",
              "      <td>0.240095</td>\n",
              "      <td>1.000000</td>\n",
              "      <td>1.948494</td>\n",
              "      <td>0.341521</td>\n",
              "      <td>28.167987</td>\n",
              "      <td>131.622204</td>\n",
              "      <td>1.856577</td>\n",
              "      <td>2.440571</td>\n",
              "      <td>1.247634</td>\n",
              "      <td>1.012983</td>\n",
              "    </tr>\n",
              "    <tr>\n",
              "      <th>4</th>\n",
              "      <td>4</td>\n",
              "      <td>0.559666</td>\n",
              "      <td>0.976134</td>\n",
              "      <td>0.356802</td>\n",
              "      <td>0.230310</td>\n",
              "      <td>0.998807</td>\n",
              "      <td>2.669451</td>\n",
              "      <td>0.473747</td>\n",
              "      <td>30.125298</td>\n",
              "      <td>161.657905</td>\n",
              "      <td>2.459427</td>\n",
              "      <td>4.898568</td>\n",
              "      <td>2.852002</td>\n",
              "      <td>2.850161</td>\n",
              "    </tr>\n",
              "  </tbody>\n",
              "</table>\n",
              "</div>\n",
              "      <button class=\"colab-df-convert\" onclick=\"convertToInteractive('df-918bfec3-57c9-4323-b987-56a13fb0fea0')\"\n",
              "              title=\"Convert this dataframe to an interactive table.\"\n",
              "              style=\"display:none;\">\n",
              "        \n",
              "  <svg xmlns=\"http://www.w3.org/2000/svg\" height=\"24px\"viewBox=\"0 0 24 24\"\n",
              "       width=\"24px\">\n",
              "    <path d=\"M0 0h24v24H0V0z\" fill=\"none\"/>\n",
              "    <path d=\"M18.56 5.44l.94 2.06.94-2.06 2.06-.94-2.06-.94-.94-2.06-.94 2.06-2.06.94zm-11 1L8.5 8.5l.94-2.06 2.06-.94-2.06-.94L8.5 2.5l-.94 2.06-2.06.94zm10 10l.94 2.06.94-2.06 2.06-.94-2.06-.94-.94-2.06-.94 2.06-2.06.94z\"/><path d=\"M17.41 7.96l-1.37-1.37c-.4-.4-.92-.59-1.43-.59-.52 0-1.04.2-1.43.59L10.3 9.45l-7.72 7.72c-.78.78-.78 2.05 0 2.83L4 21.41c.39.39.9.59 1.41.59.51 0 1.02-.2 1.41-.59l7.78-7.78 2.81-2.81c.8-.78.8-2.07 0-2.86zM5.41 20L4 18.59l7.72-7.72 1.47 1.35L5.41 20z\"/>\n",
              "  </svg>\n",
              "      </button>\n",
              "      \n",
              "  <style>\n",
              "    .colab-df-container {\n",
              "      display:flex;\n",
              "      flex-wrap:wrap;\n",
              "      gap: 12px;\n",
              "    }\n",
              "\n",
              "    .colab-df-convert {\n",
              "      background-color: #E8F0FE;\n",
              "      border: none;\n",
              "      border-radius: 50%;\n",
              "      cursor: pointer;\n",
              "      display: none;\n",
              "      fill: #1967D2;\n",
              "      height: 32px;\n",
              "      padding: 0 0 0 0;\n",
              "      width: 32px;\n",
              "    }\n",
              "\n",
              "    .colab-df-convert:hover {\n",
              "      background-color: #E2EBFA;\n",
              "      box-shadow: 0px 1px 2px rgba(60, 64, 67, 0.3), 0px 1px 3px 1px rgba(60, 64, 67, 0.15);\n",
              "      fill: #174EA6;\n",
              "    }\n",
              "\n",
              "    [theme=dark] .colab-df-convert {\n",
              "      background-color: #3B4455;\n",
              "      fill: #D2E3FC;\n",
              "    }\n",
              "\n",
              "    [theme=dark] .colab-df-convert:hover {\n",
              "      background-color: #434B5C;\n",
              "      box-shadow: 0px 1px 3px 1px rgba(0, 0, 0, 0.15);\n",
              "      filter: drop-shadow(0px 1px 2px rgba(0, 0, 0, 0.3));\n",
              "      fill: #FFFFFF;\n",
              "    }\n",
              "  </style>\n",
              "\n",
              "      <script>\n",
              "        const buttonEl =\n",
              "          document.querySelector('#df-918bfec3-57c9-4323-b987-56a13fb0fea0 button.colab-df-convert');\n",
              "        buttonEl.style.display =\n",
              "          google.colab.kernel.accessAllowed ? 'block' : 'none';\n",
              "\n",
              "        async function convertToInteractive(key) {\n",
              "          const element = document.querySelector('#df-918bfec3-57c9-4323-b987-56a13fb0fea0');\n",
              "          const dataTable =\n",
              "            await google.colab.kernel.invokeFunction('convertToInteractive',\n",
              "                                                     [key], {});\n",
              "          if (!dataTable) return;\n",
              "\n",
              "          const docLinkHtml = 'Like what you see? Visit the ' +\n",
              "            '<a target=\"_blank\" href=https://colab.research.google.com/notebooks/data_table.ipynb>data table notebook</a>'\n",
              "            + ' to learn more about interactive tables.';\n",
              "          element.innerHTML = '';\n",
              "          dataTable['output_type'] = 'display_data';\n",
              "          await google.colab.output.renderOutput(dataTable, element);\n",
              "          const docLink = document.createElement('div');\n",
              "          docLink.innerHTML = docLinkHtml;\n",
              "          element.appendChild(docLink);\n",
              "        }\n",
              "      </script>\n",
              "    </div>\n",
              "  </div>\n",
              "  "
            ],
            "text/plain": [
              "   cluster_km  ...  avg_class_frequency_current_month\n",
              "0           0  ...                           1.974789\n",
              "1           1  ...                           1.716369\n",
              "2           2  ...                           1.477324\n",
              "3           3  ...                           1.012983\n",
              "4           4  ...                           2.850161\n",
              "\n",
              "[5 rows x 14 columns]"
            ]
          },
          "metadata": {},
          "execution_count": 27
        }
      ],
      "source": [
        "#Средние значения признаков по кластерам\n",
        "X_mean"
      ]
    },
    {
      "cell_type": "markdown",
      "metadata": {
        "id": "lKVawj4xxzev"
      },
      "source": [
        "<b> Более всего к оттоку склонны кластеры 3 и 2: 51% и 44% оттока соответсвенно. <br>Примечательно, что в этих группах полярные значения нахождения в районе фитнес-центра: клиенты кластера 3 находятся в районе фитнес-центра, клиенты кластера 2 - вне района, поэтому можно говорить, что данный признак не оказывает существенного влияния на отток.<br>\n",
        "<br>Данные кластеры можно охарактеризовать следующим образом:\n",
        "- низкие значения длительности действующего абонемента и срока до его окончания (в основном берут абонемент на месяц);\n",
        "- наименьшая доля посещений групповых занятий (редко посещают групповые занятия);\n",
        "- низкие значения расходов на дополнительные услуги фитнес-центра (редко пользуются дополнительными услугами центра, в среднем до 140 у.е.);\n",
        "- низкие значения lifetime (относительно недавно посещают центр, до 3 месяцев);\n",
        "- низкие значения частоты посещения фитнес-центра и уменьшения этого показателя в последний месяц (посещают фитнес-центр в среднем 1-2 раза в неделю и ходят немного реже в последний месяц перед прогнозом).    <br> <b>"
      ]
    },
    {
      "cell_type": "markdown",
      "metadata": {
        "id": "Hfu8OYGIxzev"
      },
      "source": [
        "<b>Надежнее же всего клиенты из кластеров 0 и 4: 3% и 7% оттока соответственно. \n",
        "\n",
        "В данных кластерах можно отметить:\n",
        "- наибольшая доля посещения групповых занятий (около 50% группы посещают групповые занятия);\n",
        "- высокие значения расходов на дополнительные услуги фитнес-центра (в среднем около 160 у.е.);\n",
        "- высокие значения lifetime (посещают центр в среднем около 5 месяцев);\n",
        "- высокие значения частоты посещения фитнес-центра и неизменность показателей в последний месяц (ходят в фитнес-центр в среднем 2-3 раза в неделю и также ходят в последний месяц перед прогнозом).\n",
        "\n",
        "Кластер 0 характеризуется высоким значением срока абонементов (в основном клиенту берут абонементы на год). Кластер 4 не отличается такими длительными абонементами, но доля покупающих абонемент на 6 месяцев в этом кластере больше чем в подверженных оттоку кластерах.</b>"
      ]
    },
    {
      "cell_type": "markdown",
      "metadata": {
        "id": "FQ6OoYMjxzev"
      },
      "source": [
        "## Выводы и рекомендации"
      ]
    },
    {
      "cell_type": "markdown",
      "metadata": {
        "id": "voUPsuRsxzew"
      },
      "source": [
        "Основными признаками, влияющими на отток можно назвать:\n",
        "\n",
        "<b>1. Время с первого посещения (lifetime) до 3 месяцев\n",
        "<br><br> 2. Низкая частота посещения и её снижение в последний месяц\n",
        "<br><br> 3. Небольшие расходы на дополнительные услуги фитнес-центра\n",
        "<br><br></b>\n",
        "\n",
        "В связи с этим можно рекомендовать:\n",
        "\n",
        "<b>1. Большее внимание уделить клиентам, посещающим фитнес-центр менее 3-х месяцев. </b>\n",
        "<br><br>Например, продвигать более длительные абонементы, чтобы у клиентов была финансовая мотивация продолжать заниматься. В имеющейся у нас выборке данных нет ни одного абонемента на 3 месяца. Хотя возможно клиентам легче было бы решиться на такой абонемент, чем на 6 месяцев и при этом привычка посещения за 3 месяца уже была бы сформирована.\n",
        "<br><br>\n",
        "<b>2. Стимулировать более частые посещения фитнес-центра и принимать дополнительные меры при снижении частоты.</b>\n",
        "<br><br>Например, отправлять напоминания, мотивационные сообщения в месенджер или делать дополнительные стимулы для тех, кто приходит в будние дни, а не только по выходным. Возможно, предлагать скидку на будущий абонемент при снижении посещаемости.\n",
        "<br><br>\n",
        "<b>3. Стимулировать клиентов к более значительным тратам на дополнительные услуги фитнес-центра.</b>\n",
        "<br><br>Например, предлагать тонизирующие коктейли и т.п. после тренировки (стимулируя аппетитными запахами) или активнее рекламировать пользу массажа и косметических процедур для достижения целей клиентов (похудение, оздоровление, избежание травм).<br>"
      ]
    }
  ],
  "metadata": {
    "ExecuteTimeLog": [
      {
        "duration": 1271,
        "start_time": "2021-11-22T07:56:00.474Z"
      },
      {
        "duration": 36,
        "start_time": "2021-11-22T07:56:04.699Z"
      },
      {
        "duration": 9,
        "start_time": "2021-11-22T07:56:33.128Z"
      },
      {
        "duration": 47,
        "start_time": "2021-11-22T08:02:34.935Z"
      },
      {
        "duration": 9,
        "start_time": "2021-11-22T08:11:59.293Z"
      },
      {
        "duration": 14,
        "start_time": "2021-11-22T08:22:45.979Z"
      },
      {
        "duration": 16,
        "start_time": "2021-11-22T09:04:16.925Z"
      },
      {
        "duration": 3,
        "start_time": "2021-11-22T09:15:51.964Z"
      },
      {
        "duration": 19,
        "start_time": "2021-11-22T09:25:02.896Z"
      },
      {
        "duration": 15,
        "start_time": "2021-11-22T09:25:14.748Z"
      },
      {
        "duration": 210,
        "start_time": "2021-11-22T09:27:25.168Z"
      },
      {
        "duration": 209,
        "start_time": "2021-11-22T09:27:33.467Z"
      },
      {
        "duration": 217,
        "start_time": "2021-11-22T09:28:09.994Z"
      },
      {
        "duration": 349,
        "start_time": "2021-11-22T09:28:22.359Z"
      },
      {
        "duration": 716,
        "start_time": "2021-11-22T09:28:29.168Z"
      },
      {
        "duration": 221,
        "start_time": "2021-11-22T09:28:40.520Z"
      },
      {
        "duration": 234,
        "start_time": "2021-11-22T09:29:12.792Z"
      },
      {
        "duration": 4,
        "start_time": "2021-11-22T09:36:57.279Z"
      },
      {
        "duration": 6,
        "start_time": "2021-11-22T09:37:01.773Z"
      },
      {
        "duration": 4069,
        "start_time": "2021-11-22T09:41:01.478Z"
      },
      {
        "duration": 4059,
        "start_time": "2021-11-22T09:42:51.060Z"
      },
      {
        "duration": 1526,
        "start_time": "2021-11-22T09:43:40.223Z"
      },
      {
        "duration": 2152,
        "start_time": "2021-11-22T09:50:54.216Z"
      },
      {
        "duration": 1781,
        "start_time": "2021-11-22T09:51:03.925Z"
      },
      {
        "duration": 3702,
        "start_time": "2021-11-22T09:51:24.700Z"
      },
      {
        "duration": 3621,
        "start_time": "2021-11-22T09:51:46.693Z"
      },
      {
        "duration": 5233,
        "start_time": "2021-11-22T09:53:36.461Z"
      },
      {
        "duration": 5739,
        "start_time": "2021-11-22T09:54:03.893Z"
      },
      {
        "duration": 4302,
        "start_time": "2021-11-22T10:07:24.378Z"
      },
      {
        "duration": 693,
        "start_time": "2021-11-22T10:08:41.652Z"
      },
      {
        "duration": 822,
        "start_time": "2021-11-22T10:10:06.514Z"
      },
      {
        "duration": 435,
        "start_time": "2021-11-22T10:10:30.810Z"
      },
      {
        "duration": 643,
        "start_time": "2021-11-22T10:11:05.058Z"
      },
      {
        "duration": 634,
        "start_time": "2021-11-22T10:11:58.641Z"
      },
      {
        "duration": 950,
        "start_time": "2021-11-22T10:12:17.617Z"
      },
      {
        "duration": 633,
        "start_time": "2021-11-22T10:12:30.857Z"
      },
      {
        "duration": 722,
        "start_time": "2021-11-22T10:13:48.256Z"
      },
      {
        "duration": 632,
        "start_time": "2021-11-22T10:14:55.648Z"
      },
      {
        "duration": 634,
        "start_time": "2021-11-22T10:15:51.744Z"
      },
      {
        "duration": 640,
        "start_time": "2021-11-22T10:18:17.304Z"
      },
      {
        "duration": 996,
        "start_time": "2021-11-22T10:19:13.856Z"
      },
      {
        "duration": 987,
        "start_time": "2021-11-22T10:19:23.409Z"
      },
      {
        "duration": 793,
        "start_time": "2021-11-22T10:21:02.505Z"
      },
      {
        "duration": 631,
        "start_time": "2021-11-22T10:23:55.503Z"
      },
      {
        "duration": 1223,
        "start_time": "2021-11-22T10:25:26.662Z"
      },
      {
        "duration": 1087,
        "start_time": "2021-11-22T10:25:32.766Z"
      },
      {
        "duration": 597,
        "start_time": "2021-11-22T10:25:39.718Z"
      },
      {
        "duration": 748,
        "start_time": "2021-11-22T10:25:48.214Z"
      },
      {
        "duration": 1031,
        "start_time": "2021-11-22T10:26:46.815Z"
      },
      {
        "duration": 638,
        "start_time": "2021-11-22T10:26:54.253Z"
      },
      {
        "duration": 2692,
        "start_time": "2021-11-22T10:27:51.760Z"
      },
      {
        "duration": 646,
        "start_time": "2021-11-22T10:28:09.111Z"
      },
      {
        "duration": 861,
        "start_time": "2021-11-22T10:28:44.358Z"
      },
      {
        "duration": 834,
        "start_time": "2021-11-22T10:29:01.286Z"
      },
      {
        "duration": 2294,
        "start_time": "2021-11-22T10:29:13.526Z"
      },
      {
        "duration": 992,
        "start_time": "2021-11-22T10:29:55.760Z"
      },
      {
        "duration": 851,
        "start_time": "2021-11-22T10:30:07.559Z"
      },
      {
        "duration": 766,
        "start_time": "2021-11-22T10:30:28.560Z"
      },
      {
        "duration": 3470,
        "start_time": "2021-11-22T10:31:17.214Z"
      },
      {
        "duration": 4092,
        "start_time": "2021-11-22T10:31:30.760Z"
      },
      {
        "duration": 4412,
        "start_time": "2021-11-22T10:31:50.164Z"
      },
      {
        "duration": 4340,
        "start_time": "2021-11-22T10:34:59.329Z"
      },
      {
        "duration": 309,
        "start_time": "2021-11-22T13:27:04.998Z"
      },
      {
        "duration": 346,
        "start_time": "2021-11-22T13:27:26.594Z"
      },
      {
        "duration": 348,
        "start_time": "2021-11-22T13:27:41.526Z"
      },
      {
        "duration": 477,
        "start_time": "2021-11-22T13:29:01.273Z"
      },
      {
        "duration": 306,
        "start_time": "2021-11-22T13:29:13.427Z"
      },
      {
        "duration": 191,
        "start_time": "2021-11-22T13:29:38.344Z"
      },
      {
        "duration": 224,
        "start_time": "2021-11-22T13:30:13.578Z"
      },
      {
        "duration": 232,
        "start_time": "2021-11-22T13:30:36.120Z"
      },
      {
        "duration": 293,
        "start_time": "2021-11-22T13:31:41.690Z"
      },
      {
        "duration": 315,
        "start_time": "2021-11-22T13:31:55.888Z"
      },
      {
        "duration": 1315,
        "start_time": "2021-11-22T13:35:06.248Z"
      },
      {
        "duration": 1159,
        "start_time": "2021-11-22T13:35:13.392Z"
      },
      {
        "duration": 1115,
        "start_time": "2021-11-22T13:35:20.055Z"
      },
      {
        "duration": 1172,
        "start_time": "2021-11-22T13:35:41.855Z"
      },
      {
        "duration": 354,
        "start_time": "2021-11-22T13:36:09.612Z"
      },
      {
        "duration": 1697,
        "start_time": "2021-11-22T13:36:18.851Z"
      },
      {
        "duration": 1560,
        "start_time": "2021-11-22T13:36:46.351Z"
      },
      {
        "duration": 4231,
        "start_time": "2021-11-22T13:37:23.537Z"
      },
      {
        "duration": 4369,
        "start_time": "2021-11-22T13:38:35.184Z"
      },
      {
        "duration": 1961,
        "start_time": "2021-11-22T13:39:51.351Z"
      },
      {
        "duration": 1455,
        "start_time": "2021-11-22T13:40:03.519Z"
      },
      {
        "duration": 125,
        "start_time": "2021-11-22T13:43:21.310Z"
      },
      {
        "duration": 4397,
        "start_time": "2021-11-22T13:43:26.205Z"
      },
      {
        "duration": 4431,
        "start_time": "2021-11-22T13:43:37.197Z"
      },
      {
        "duration": 1574,
        "start_time": "2021-11-22T13:45:15.053Z"
      },
      {
        "duration": 381,
        "start_time": "2021-11-22T13:56:44.155Z"
      },
      {
        "duration": 4560,
        "start_time": "2021-11-22T13:56:51.317Z"
      },
      {
        "duration": 1360,
        "start_time": "2021-11-22T13:59:40.938Z"
      },
      {
        "duration": 1175,
        "start_time": "2021-11-23T07:38:00.435Z"
      },
      {
        "duration": 33,
        "start_time": "2021-11-23T07:38:01.612Z"
      },
      {
        "duration": 6,
        "start_time": "2021-11-23T07:38:01.647Z"
      },
      {
        "duration": 9,
        "start_time": "2021-11-23T07:38:01.654Z"
      },
      {
        "duration": 27,
        "start_time": "2021-11-23T07:38:01.665Z"
      },
      {
        "duration": 49,
        "start_time": "2021-11-23T07:38:01.693Z"
      },
      {
        "duration": 15,
        "start_time": "2021-11-23T07:38:01.743Z"
      },
      {
        "duration": 7,
        "start_time": "2021-11-23T07:38:01.761Z"
      },
      {
        "duration": 3985,
        "start_time": "2021-11-23T07:38:01.770Z"
      },
      {
        "duration": 1377,
        "start_time": "2021-11-23T07:38:05.757Z"
      },
      {
        "duration": 18,
        "start_time": "2021-11-23T09:01:55.292Z"
      },
      {
        "duration": 58,
        "start_time": "2021-11-23T09:02:21.318Z"
      },
      {
        "duration": 74,
        "start_time": "2021-11-23T09:02:24.549Z"
      },
      {
        "duration": 7,
        "start_time": "2021-11-23T09:02:29.773Z"
      },
      {
        "duration": 12,
        "start_time": "2021-11-23T09:16:08.906Z"
      },
      {
        "duration": 289,
        "start_time": "2021-11-23T09:16:11.431Z"
      },
      {
        "duration": 128,
        "start_time": "2021-11-23T09:19:36.338Z"
      },
      {
        "duration": 4,
        "start_time": "2021-11-23T09:20:09.519Z"
      },
      {
        "duration": 4,
        "start_time": "2021-11-23T09:20:14.618Z"
      },
      {
        "duration": 4,
        "start_time": "2021-11-23T09:20:22.720Z"
      },
      {
        "duration": 788,
        "start_time": "2021-11-23T09:20:29.382Z"
      },
      {
        "duration": 4,
        "start_time": "2021-11-23T09:21:16.985Z"
      },
      {
        "duration": 769,
        "start_time": "2021-11-23T09:21:20.486Z"
      },
      {
        "duration": 4,
        "start_time": "2021-11-23T09:22:22.783Z"
      },
      {
        "duration": 517,
        "start_time": "2021-11-23T09:22:26.359Z"
      },
      {
        "duration": 3,
        "start_time": "2021-11-23T09:23:57.415Z"
      },
      {
        "duration": 1333,
        "start_time": "2021-11-23T09:24:01.158Z"
      },
      {
        "duration": 3,
        "start_time": "2021-11-23T09:24:37.006Z"
      },
      {
        "duration": 1812,
        "start_time": "2021-11-23T09:24:39.712Z"
      },
      {
        "duration": 4,
        "start_time": "2021-11-23T09:24:55.286Z"
      },
      {
        "duration": 3,
        "start_time": "2021-11-23T09:25:03.498Z"
      },
      {
        "duration": 1533,
        "start_time": "2021-11-23T09:25:11.518Z"
      },
      {
        "duration": 3,
        "start_time": "2021-11-23T09:25:25.078Z"
      },
      {
        "duration": 1611,
        "start_time": "2021-11-23T09:25:28.033Z"
      },
      {
        "duration": 4,
        "start_time": "2021-11-23T09:41:08.642Z"
      },
      {
        "duration": 1813,
        "start_time": "2021-11-23T09:41:25.387Z"
      },
      {
        "duration": 4,
        "start_time": "2021-11-23T09:41:38.130Z"
      },
      {
        "duration": 3,
        "start_time": "2021-11-23T12:39:59.163Z"
      },
      {
        "duration": 1580,
        "start_time": "2021-11-23T12:40:02.352Z"
      },
      {
        "duration": 4,
        "start_time": "2021-11-23T12:40:18.721Z"
      },
      {
        "duration": 1359,
        "start_time": "2021-11-23T12:40:21.277Z"
      },
      {
        "duration": 4,
        "start_time": "2021-11-23T12:40:35.349Z"
      },
      {
        "duration": 1500,
        "start_time": "2021-11-23T12:40:39.807Z"
      },
      {
        "duration": 3,
        "start_time": "2021-11-23T12:40:48.446Z"
      },
      {
        "duration": 1484,
        "start_time": "2021-11-23T12:40:51.853Z"
      },
      {
        "duration": 4,
        "start_time": "2021-11-23T12:41:09.341Z"
      },
      {
        "duration": 1609,
        "start_time": "2021-11-23T12:41:11.552Z"
      },
      {
        "duration": 5,
        "start_time": "2021-11-23T12:41:30.982Z"
      },
      {
        "duration": 2140,
        "start_time": "2021-11-23T12:41:36.766Z"
      },
      {
        "duration": 4,
        "start_time": "2021-11-23T12:41:47.148Z"
      },
      {
        "duration": 3449,
        "start_time": "2021-11-23T12:41:49.404Z"
      },
      {
        "duration": 4,
        "start_time": "2021-11-23T12:42:05.126Z"
      },
      {
        "duration": 3367,
        "start_time": "2021-11-23T12:42:07.457Z"
      },
      {
        "duration": 3,
        "start_time": "2021-11-23T12:42:16.165Z"
      },
      {
        "duration": 3557,
        "start_time": "2021-11-23T12:42:20.894Z"
      },
      {
        "duration": 3,
        "start_time": "2021-11-23T12:42:28.877Z"
      },
      {
        "duration": 3364,
        "start_time": "2021-11-23T12:42:31.643Z"
      },
      {
        "duration": 3,
        "start_time": "2021-11-23T12:43:37.831Z"
      },
      {
        "duration": 3,
        "start_time": "2021-11-23T12:43:46.135Z"
      },
      {
        "duration": 577,
        "start_time": "2021-11-23T12:43:52.429Z"
      },
      {
        "duration": 4,
        "start_time": "2021-11-23T12:44:40.077Z"
      },
      {
        "duration": 589,
        "start_time": "2021-11-23T12:44:42.352Z"
      },
      {
        "duration": 3,
        "start_time": "2021-11-23T12:45:02.110Z"
      },
      {
        "duration": 637,
        "start_time": "2021-11-23T12:45:04.033Z"
      },
      {
        "duration": 3,
        "start_time": "2021-11-23T12:45:46.302Z"
      },
      {
        "duration": 3199,
        "start_time": "2021-11-23T12:45:48.663Z"
      },
      {
        "duration": 4,
        "start_time": "2021-11-23T12:46:02.863Z"
      },
      {
        "duration": 3316,
        "start_time": "2021-11-23T12:46:04.758Z"
      },
      {
        "duration": 4,
        "start_time": "2021-11-23T12:46:20.037Z"
      },
      {
        "duration": 3326,
        "start_time": "2021-11-23T12:46:22.685Z"
      },
      {
        "duration": 4,
        "start_time": "2021-11-23T12:46:40.205Z"
      },
      {
        "duration": 3320,
        "start_time": "2021-11-23T12:46:42.541Z"
      },
      {
        "duration": 4,
        "start_time": "2021-11-23T12:46:52.029Z"
      },
      {
        "duration": 3429,
        "start_time": "2021-11-23T12:46:54.301Z"
      },
      {
        "duration": 194,
        "start_time": "2021-11-23T12:53:43.901Z"
      },
      {
        "duration": 2623,
        "start_time": "2021-11-23T12:53:47.892Z"
      },
      {
        "duration": 10,
        "start_time": "2021-11-23T12:53:52.398Z"
      },
      {
        "duration": 17,
        "start_time": "2021-11-23T12:55:29.413Z"
      },
      {
        "duration": 5,
        "start_time": "2021-11-23T12:55:36.907Z"
      },
      {
        "duration": 191,
        "start_time": "2021-11-23T12:55:48.724Z"
      },
      {
        "duration": 186,
        "start_time": "2021-11-23T12:55:52.147Z"
      },
      {
        "duration": 4,
        "start_time": "2021-11-23T12:55:57.802Z"
      },
      {
        "duration": 230,
        "start_time": "2021-11-23T12:57:44.380Z"
      },
      {
        "duration": 194,
        "start_time": "2021-11-23T12:58:03.500Z"
      },
      {
        "duration": 6,
        "start_time": "2021-11-23T12:58:29.369Z"
      },
      {
        "duration": 195,
        "start_time": "2021-11-23T12:59:27.455Z"
      },
      {
        "duration": 188,
        "start_time": "2021-11-23T12:59:36.717Z"
      },
      {
        "duration": 204,
        "start_time": "2021-11-23T13:00:07.607Z"
      },
      {
        "duration": 10,
        "start_time": "2021-11-23T13:06:57.301Z"
      },
      {
        "duration": 62,
        "start_time": "2021-11-23T13:10:00.907Z"
      },
      {
        "duration": 10,
        "start_time": "2021-11-23T13:11:59.611Z"
      },
      {
        "duration": 13,
        "start_time": "2021-11-23T13:12:15.068Z"
      },
      {
        "duration": 4,
        "start_time": "2021-11-23T13:31:40.617Z"
      },
      {
        "duration": 90466,
        "start_time": "2021-11-23T13:31:45.464Z"
      },
      {
        "duration": 1182,
        "start_time": "2021-11-24T09:54:40.999Z"
      },
      {
        "duration": 60,
        "start_time": "2021-11-24T09:54:42.183Z"
      },
      {
        "duration": 7,
        "start_time": "2021-11-24T09:54:42.244Z"
      },
      {
        "duration": 8,
        "start_time": "2021-11-24T09:54:42.254Z"
      },
      {
        "duration": 12,
        "start_time": "2021-11-24T09:54:42.264Z"
      },
      {
        "duration": 52,
        "start_time": "2021-11-24T09:54:42.277Z"
      },
      {
        "duration": 7,
        "start_time": "2021-11-24T09:54:42.331Z"
      },
      {
        "duration": 17,
        "start_time": "2021-11-24T09:54:42.340Z"
      },
      {
        "duration": 7,
        "start_time": "2021-11-24T09:54:42.359Z"
      },
      {
        "duration": 4018,
        "start_time": "2021-11-24T09:54:42.368Z"
      },
      {
        "duration": 1362,
        "start_time": "2021-11-24T09:54:46.391Z"
      },
      {
        "duration": 11,
        "start_time": "2021-11-24T09:54:47.754Z"
      },
      {
        "duration": 3,
        "start_time": "2021-11-24T09:54:47.767Z"
      },
      {
        "duration": 28,
        "start_time": "2021-11-24T09:54:47.772Z"
      },
      {
        "duration": 3766,
        "start_time": "2021-11-24T09:54:47.801Z"
      },
      {
        "duration": 2799,
        "start_time": "2021-11-24T09:54:51.568Z"
      },
      {
        "duration": 12,
        "start_time": "2021-11-24T09:54:54.369Z"
      },
      {
        "duration": 91363,
        "start_time": "2021-11-24T09:54:54.391Z"
      },
      {
        "duration": 81,
        "start_time": "2021-11-24T09:56:33.434Z"
      },
      {
        "duration": 1142,
        "start_time": "2021-11-24T09:58:55.363Z"
      },
      {
        "duration": 18,
        "start_time": "2021-11-24T10:02:51.857Z"
      },
      {
        "duration": 5812,
        "start_time": "2021-11-24T13:41:23.796Z"
      },
      {
        "duration": 9,
        "start_time": "2021-11-24T13:55:37.894Z"
      },
      {
        "duration": 9,
        "start_time": "2021-11-24T13:56:36.035Z"
      },
      {
        "duration": 11,
        "start_time": "2021-11-24T13:57:51.995Z"
      },
      {
        "duration": 61,
        "start_time": "2021-11-24T13:58:56.441Z"
      },
      {
        "duration": 65,
        "start_time": "2021-11-24T13:59:07.618Z"
      },
      {
        "duration": 67,
        "start_time": "2021-11-24T13:59:17.913Z"
      },
      {
        "duration": 10,
        "start_time": "2021-11-24T13:59:32.825Z"
      },
      {
        "duration": 2294,
        "start_time": "2021-11-25T09:55:23.665Z"
      },
      {
        "duration": 44,
        "start_time": "2021-11-25T09:55:25.962Z"
      },
      {
        "duration": 11,
        "start_time": "2021-11-25T09:55:26.009Z"
      },
      {
        "duration": 36,
        "start_time": "2021-11-25T09:55:26.023Z"
      },
      {
        "duration": 20,
        "start_time": "2021-11-25T09:55:26.062Z"
      },
      {
        "duration": 97,
        "start_time": "2021-11-25T09:55:26.085Z"
      },
      {
        "duration": 12,
        "start_time": "2021-11-25T09:55:26.185Z"
      },
      {
        "duration": 27,
        "start_time": "2021-11-25T09:55:26.202Z"
      },
      {
        "duration": 36,
        "start_time": "2021-11-25T09:55:26.232Z"
      },
      {
        "duration": 6609,
        "start_time": "2021-11-25T09:55:26.270Z"
      },
      {
        "duration": 2262,
        "start_time": "2021-11-25T09:55:32.881Z"
      },
      {
        "duration": 23,
        "start_time": "2021-11-25T09:55:35.145Z"
      },
      {
        "duration": 4,
        "start_time": "2021-11-25T09:55:35.170Z"
      },
      {
        "duration": 9,
        "start_time": "2021-11-25T09:55:35.176Z"
      },
      {
        "duration": 5292,
        "start_time": "2021-11-25T09:55:35.188Z"
      },
      {
        "duration": 4282,
        "start_time": "2021-11-25T09:55:40.482Z"
      },
      {
        "duration": 17,
        "start_time": "2021-11-25T09:55:44.766Z"
      },
      {
        "duration": 141809,
        "start_time": "2021-11-25T09:55:44.785Z"
      },
      {
        "duration": 1771,
        "start_time": "2021-11-25T09:58:06.598Z"
      },
      {
        "duration": 33,
        "start_time": "2021-11-25T09:58:08.460Z"
      },
      {
        "duration": 9480,
        "start_time": "2021-11-25T09:58:08.496Z"
      },
      {
        "duration": 16,
        "start_time": "2021-11-25T09:58:17.978Z"
      },
      {
        "duration": 9,
        "start_time": "2021-11-25T09:58:28.140Z"
      },
      {
        "duration": 10,
        "start_time": "2021-11-25T09:58:52.616Z"
      },
      {
        "duration": 10,
        "start_time": "2021-11-25T09:59:03.776Z"
      },
      {
        "duration": 10,
        "start_time": "2021-11-25T10:00:52.590Z"
      },
      {
        "duration": 12,
        "start_time": "2021-11-25T10:11:38.728Z"
      },
      {
        "duration": 12,
        "start_time": "2021-11-25T10:11:46.015Z"
      },
      {
        "duration": 13,
        "start_time": "2021-11-25T10:24:32.758Z"
      },
      {
        "duration": 13,
        "start_time": "2021-11-25T10:24:47.532Z"
      },
      {
        "duration": 13,
        "start_time": "2021-11-25T10:25:00.524Z"
      },
      {
        "duration": 12,
        "start_time": "2021-11-25T10:25:27.101Z"
      },
      {
        "duration": 19,
        "start_time": "2021-11-25T10:28:46.827Z"
      },
      {
        "duration": 22,
        "start_time": "2021-11-25T11:24:22.087Z"
      },
      {
        "duration": 18,
        "start_time": "2021-11-25T11:38:15.504Z"
      },
      {
        "duration": 525,
        "start_time": "2021-11-25T11:49:24.633Z"
      },
      {
        "duration": 9,
        "start_time": "2021-11-25T11:49:32.800Z"
      },
      {
        "duration": 12,
        "start_time": "2021-11-25T11:50:56.464Z"
      },
      {
        "duration": 11,
        "start_time": "2021-11-25T11:51:03.994Z"
      },
      {
        "duration": 413,
        "start_time": "2021-11-25T11:51:33.066Z"
      },
      {
        "duration": 34,
        "start_time": "2021-11-25T11:52:00.210Z"
      },
      {
        "duration": 385,
        "start_time": "2021-11-25T11:52:07.034Z"
      },
      {
        "duration": 10,
        "start_time": "2021-11-25T11:52:10.488Z"
      },
      {
        "duration": 439,
        "start_time": "2021-11-25T11:52:23.833Z"
      },
      {
        "duration": 10,
        "start_time": "2021-11-25T11:52:32.146Z"
      },
      {
        "duration": 9,
        "start_time": "2021-11-25T11:52:48.070Z"
      },
      {
        "duration": 131,
        "start_time": "2021-11-25T11:53:12.280Z"
      },
      {
        "duration": 11,
        "start_time": "2021-11-25T11:53:18.016Z"
      },
      {
        "duration": 11,
        "start_time": "2021-11-25T11:54:00.408Z"
      },
      {
        "duration": 15,
        "start_time": "2021-11-25T11:54:49.800Z"
      },
      {
        "duration": 14,
        "start_time": "2021-11-25T11:54:58.749Z"
      },
      {
        "duration": 17,
        "start_time": "2021-11-25T11:55:12.755Z"
      },
      {
        "duration": 16,
        "start_time": "2021-11-25T11:55:23.872Z"
      },
      {
        "duration": 12,
        "start_time": "2021-11-25T12:00:42.440Z"
      },
      {
        "duration": 19,
        "start_time": "2021-11-25T12:00:49.329Z"
      },
      {
        "duration": 17,
        "start_time": "2021-11-25T12:01:25.648Z"
      },
      {
        "duration": 20,
        "start_time": "2021-11-25T12:01:46.440Z"
      },
      {
        "duration": 22,
        "start_time": "2021-11-25T12:02:17.905Z"
      },
      {
        "duration": 16,
        "start_time": "2021-11-25T12:19:27.397Z"
      },
      {
        "duration": 18,
        "start_time": "2021-11-25T12:23:24.421Z"
      },
      {
        "duration": 24,
        "start_time": "2021-11-25T12:23:38.900Z"
      },
      {
        "duration": 24,
        "start_time": "2021-11-25T12:24:19.613Z"
      },
      {
        "duration": 30,
        "start_time": "2021-11-25T12:24:52.551Z"
      },
      {
        "duration": 26,
        "start_time": "2021-11-25T12:25:06.661Z"
      },
      {
        "duration": 314,
        "start_time": "2021-11-25T12:27:05.237Z"
      },
      {
        "duration": 364,
        "start_time": "2021-11-25T12:27:23.422Z"
      },
      {
        "duration": 366,
        "start_time": "2021-11-25T12:28:43.269Z"
      },
      {
        "duration": 1613,
        "start_time": "2021-11-25T13:34:18.089Z"
      },
      {
        "duration": 47,
        "start_time": "2021-11-25T13:34:19.705Z"
      },
      {
        "duration": 11,
        "start_time": "2021-11-25T13:34:19.759Z"
      },
      {
        "duration": 17,
        "start_time": "2021-11-25T13:34:19.773Z"
      },
      {
        "duration": 25,
        "start_time": "2021-11-25T13:34:19.793Z"
      },
      {
        "duration": 99,
        "start_time": "2021-11-25T13:34:19.821Z"
      },
      {
        "duration": 10,
        "start_time": "2021-11-25T13:34:19.924Z"
      },
      {
        "duration": 43,
        "start_time": "2021-11-25T13:34:19.936Z"
      },
      {
        "duration": 15,
        "start_time": "2021-11-25T13:34:19.985Z"
      },
      {
        "duration": 7190,
        "start_time": "2021-11-25T13:34:20.004Z"
      },
      {
        "duration": 2184,
        "start_time": "2021-11-25T13:34:27.198Z"
      },
      {
        "duration": 19,
        "start_time": "2021-11-25T13:34:29.385Z"
      },
      {
        "duration": 6,
        "start_time": "2021-11-25T13:34:29.407Z"
      },
      {
        "duration": 14,
        "start_time": "2021-11-25T13:34:29.415Z"
      },
      {
        "duration": 5756,
        "start_time": "2021-11-25T13:34:29.432Z"
      },
      {
        "duration": 4451,
        "start_time": "2021-11-25T13:34:35.191Z"
      },
      {
        "duration": 24,
        "start_time": "2021-11-25T13:34:39.645Z"
      },
      {
        "duration": 147324,
        "start_time": "2021-11-25T13:34:39.672Z"
      },
      {
        "duration": 2015,
        "start_time": "2021-11-25T13:37:06.999Z"
      },
      {
        "duration": 48,
        "start_time": "2021-11-25T13:37:09.017Z"
      },
      {
        "duration": 9841,
        "start_time": "2021-11-25T13:37:09.067Z"
      },
      {
        "duration": 18,
        "start_time": "2021-11-25T13:37:18.912Z"
      },
      {
        "duration": 14,
        "start_time": "2021-11-25T13:37:18.960Z"
      },
      {
        "duration": 40,
        "start_time": "2021-11-25T13:37:18.977Z"
      },
      {
        "duration": 51,
        "start_time": "2021-11-25T13:37:19.019Z"
      },
      {
        "duration": 1743,
        "start_time": "2021-11-25T13:41:11.221Z"
      },
      {
        "duration": 30,
        "start_time": "2021-11-25T13:41:14.772Z"
      },
      {
        "duration": 1907,
        "start_time": "2021-11-25T13:41:21.457Z"
      },
      {
        "duration": 29,
        "start_time": "2021-11-25T13:41:24.493Z"
      },
      {
        "duration": 1825,
        "start_time": "2021-11-25T13:41:28.148Z"
      },
      {
        "duration": 28,
        "start_time": "2021-11-25T13:41:31.462Z"
      },
      {
        "duration": 1508,
        "start_time": "2021-11-25T13:42:16.365Z"
      },
      {
        "duration": 27,
        "start_time": "2021-11-25T13:42:19.709Z"
      },
      {
        "duration": 1407,
        "start_time": "2021-11-25T13:42:33.061Z"
      },
      {
        "duration": 32,
        "start_time": "2021-11-25T13:42:36.836Z"
      },
      {
        "duration": 1517,
        "start_time": "2021-11-25T13:42:43.554Z"
      },
      {
        "duration": 25,
        "start_time": "2021-11-25T13:42:46.708Z"
      },
      {
        "duration": 1412,
        "start_time": "2021-11-25T13:43:50.354Z"
      },
      {
        "duration": 27,
        "start_time": "2021-11-25T13:43:53.078Z"
      },
      {
        "duration": 17,
        "start_time": "2021-11-25T13:44:32.292Z"
      },
      {
        "duration": 10261,
        "start_time": "2021-11-25T13:45:28.880Z"
      },
      {
        "duration": 1901,
        "start_time": "2021-11-25T13:46:42.159Z"
      },
      {
        "duration": 27,
        "start_time": "2021-11-25T13:46:50.581Z"
      },
      {
        "duration": 16,
        "start_time": "2021-11-25T13:46:58.660Z"
      },
      {
        "duration": 10,
        "start_time": "2021-11-25T13:47:23.109Z"
      },
      {
        "duration": 517,
        "start_time": "2021-11-25T13:48:11.906Z"
      },
      {
        "duration": 395,
        "start_time": "2021-11-25T13:48:18.748Z"
      },
      {
        "duration": 12,
        "start_time": "2021-11-25T13:48:35.651Z"
      },
      {
        "duration": 36,
        "start_time": "2021-11-25T13:48:43.932Z"
      },
      {
        "duration": 21,
        "start_time": "2021-11-25T13:48:54.923Z"
      },
      {
        "duration": 6,
        "start_time": "2021-11-25T13:51:33.256Z"
      },
      {
        "duration": 60,
        "start_time": "2021-11-25T13:51:33.265Z"
      },
      {
        "duration": 32,
        "start_time": "2021-11-25T13:51:33.329Z"
      },
      {
        "duration": 17,
        "start_time": "2021-11-25T13:51:33.364Z"
      },
      {
        "duration": 19,
        "start_time": "2021-11-25T13:51:33.383Z"
      },
      {
        "duration": 119,
        "start_time": "2021-11-25T13:51:33.404Z"
      },
      {
        "duration": 8,
        "start_time": "2021-11-25T13:51:33.526Z"
      },
      {
        "duration": 47,
        "start_time": "2021-11-25T13:51:33.536Z"
      },
      {
        "duration": 10,
        "start_time": "2021-11-25T13:51:33.585Z"
      },
      {
        "duration": 6378,
        "start_time": "2021-11-25T13:51:33.597Z"
      },
      {
        "duration": 1890,
        "start_time": "2021-11-25T13:51:39.978Z"
      },
      {
        "duration": 16,
        "start_time": "2021-11-25T13:51:41.871Z"
      },
      {
        "duration": 16,
        "start_time": "2021-11-25T13:51:41.889Z"
      },
      {
        "duration": 15,
        "start_time": "2021-11-25T13:51:41.907Z"
      },
      {
        "duration": 1544,
        "start_time": "2021-11-25T13:51:59.186Z"
      },
      {
        "duration": 45,
        "start_time": "2021-11-25T13:52:00.733Z"
      },
      {
        "duration": 12,
        "start_time": "2021-11-25T13:52:00.781Z"
      },
      {
        "duration": 28,
        "start_time": "2021-11-25T13:52:00.797Z"
      },
      {
        "duration": 33,
        "start_time": "2021-11-25T13:52:00.828Z"
      },
      {
        "duration": 71,
        "start_time": "2021-11-25T13:52:00.864Z"
      },
      {
        "duration": 10,
        "start_time": "2021-11-25T13:52:00.959Z"
      },
      {
        "duration": 31,
        "start_time": "2021-11-25T13:52:00.972Z"
      },
      {
        "duration": 12,
        "start_time": "2021-11-25T13:52:01.009Z"
      },
      {
        "duration": 6379,
        "start_time": "2021-11-25T13:52:01.024Z"
      },
      {
        "duration": 2090,
        "start_time": "2021-11-25T13:52:07.405Z"
      },
      {
        "duration": 16,
        "start_time": "2021-11-25T13:52:09.497Z"
      },
      {
        "duration": 4,
        "start_time": "2021-11-25T13:52:09.516Z"
      },
      {
        "duration": 8,
        "start_time": "2021-11-25T13:52:09.523Z"
      },
      {
        "duration": 5255,
        "start_time": "2021-11-25T13:52:09.560Z"
      },
      {
        "duration": 4433,
        "start_time": "2021-11-25T13:52:14.818Z"
      },
      {
        "duration": 19,
        "start_time": "2021-11-25T13:52:19.254Z"
      },
      {
        "duration": 137506,
        "start_time": "2021-11-25T13:52:19.276Z"
      },
      {
        "duration": 1778,
        "start_time": "2021-11-25T13:54:36.785Z"
      },
      {
        "duration": 29,
        "start_time": "2021-11-25T13:54:38.565Z"
      },
      {
        "duration": 9451,
        "start_time": "2021-11-25T13:54:38.597Z"
      },
      {
        "duration": 19,
        "start_time": "2021-11-25T13:54:48.051Z"
      },
      {
        "duration": 11,
        "start_time": "2021-11-25T13:54:48.073Z"
      },
      {
        "duration": 27,
        "start_time": "2021-11-25T13:54:48.086Z"
      },
      {
        "duration": 60,
        "start_time": "2021-11-25T13:54:48.116Z"
      },
      {
        "duration": 1212,
        "start_time": "2021-11-25T21:04:55.120Z"
      },
      {
        "duration": 35,
        "start_time": "2021-11-25T21:04:56.334Z"
      },
      {
        "duration": 7,
        "start_time": "2021-11-25T21:04:56.371Z"
      },
      {
        "duration": 10,
        "start_time": "2021-11-25T21:04:56.381Z"
      },
      {
        "duration": 16,
        "start_time": "2021-11-25T21:04:56.393Z"
      },
      {
        "duration": 70,
        "start_time": "2021-11-25T21:04:56.411Z"
      },
      {
        "duration": 6,
        "start_time": "2021-11-25T21:04:56.483Z"
      },
      {
        "duration": 19,
        "start_time": "2021-11-25T21:04:56.490Z"
      },
      {
        "duration": 8,
        "start_time": "2021-11-25T21:04:56.511Z"
      },
      {
        "duration": 5399,
        "start_time": "2021-11-25T21:04:56.521Z"
      },
      {
        "duration": 1663,
        "start_time": "2021-11-25T21:05:01.922Z"
      },
      {
        "duration": 11,
        "start_time": "2021-11-25T21:05:03.587Z"
      },
      {
        "duration": 27,
        "start_time": "2021-11-25T21:05:03.600Z"
      },
      {
        "duration": 12,
        "start_time": "2021-11-25T21:05:03.629Z"
      },
      {
        "duration": 3595,
        "start_time": "2021-11-25T21:05:03.643Z"
      },
      {
        "duration": 2826,
        "start_time": "2021-11-25T21:05:07.240Z"
      },
      {
        "duration": 13,
        "start_time": "2021-11-25T21:05:10.068Z"
      },
      {
        "duration": 80802,
        "start_time": "2021-11-25T21:05:10.083Z"
      },
      {
        "duration": 1875,
        "start_time": "2021-11-25T21:06:30.888Z"
      },
      {
        "duration": 20,
        "start_time": "2021-11-25T21:06:32.765Z"
      },
      {
        "duration": 5767,
        "start_time": "2021-11-25T21:06:32.786Z"
      },
      {
        "duration": 16,
        "start_time": "2021-11-25T21:06:38.555Z"
      },
      {
        "duration": 34,
        "start_time": "2021-11-25T21:06:38.573Z"
      },
      {
        "duration": 30,
        "start_time": "2021-11-25T21:06:38.609Z"
      },
      {
        "duration": 15,
        "start_time": "2021-11-25T21:06:38.640Z"
      },
      {
        "duration": 1060,
        "start_time": "2021-11-26T07:36:40.818Z"
      },
      {
        "duration": 32,
        "start_time": "2021-11-26T07:36:41.880Z"
      },
      {
        "duration": 6,
        "start_time": "2021-11-26T07:36:41.913Z"
      },
      {
        "duration": 9,
        "start_time": "2021-11-26T07:36:41.921Z"
      },
      {
        "duration": 10,
        "start_time": "2021-11-26T07:36:41.931Z"
      },
      {
        "duration": 37,
        "start_time": "2021-11-26T07:36:51.942Z"
      },
      {
        "duration": 38,
        "start_time": "2021-11-26T07:37:53.808Z"
      },
      {
        "duration": 36,
        "start_time": "2021-11-26T07:38:05.357Z"
      },
      {
        "duration": 3,
        "start_time": "2021-11-26T08:12:19.239Z"
      },
      {
        "duration": 32,
        "start_time": "2021-11-26T08:12:19.244Z"
      },
      {
        "duration": 6,
        "start_time": "2021-11-26T08:12:19.277Z"
      },
      {
        "duration": 8,
        "start_time": "2021-11-26T08:12:19.284Z"
      },
      {
        "duration": 9,
        "start_time": "2021-11-26T08:12:19.294Z"
      },
      {
        "duration": 37,
        "start_time": "2021-11-26T08:12:19.305Z"
      },
      {
        "duration": 5,
        "start_time": "2021-11-26T08:12:19.343Z"
      },
      {
        "duration": 14,
        "start_time": "2021-11-26T08:12:19.350Z"
      },
      {
        "duration": 25,
        "start_time": "2021-11-26T08:12:19.365Z"
      },
      {
        "duration": 3261,
        "start_time": "2021-11-26T08:12:19.391Z"
      },
      {
        "duration": 1303,
        "start_time": "2021-11-26T08:12:22.654Z"
      },
      {
        "duration": 11,
        "start_time": "2021-11-26T08:12:30.561Z"
      },
      {
        "duration": 3,
        "start_time": "2021-11-26T08:12:36.571Z"
      },
      {
        "duration": 3,
        "start_time": "2021-11-26T08:12:39.074Z"
      },
      {
        "duration": 4,
        "start_time": "2021-11-26T09:01:03.820Z"
      },
      {
        "duration": 51,
        "start_time": "2021-11-26T09:01:03.826Z"
      },
      {
        "duration": 5,
        "start_time": "2021-11-26T09:01:03.879Z"
      },
      {
        "duration": 21,
        "start_time": "2021-11-26T09:01:03.886Z"
      },
      {
        "duration": 27,
        "start_time": "2021-11-26T09:01:03.909Z"
      },
      {
        "duration": 39,
        "start_time": "2021-11-26T09:01:03.937Z"
      },
      {
        "duration": 5,
        "start_time": "2021-11-26T09:01:03.978Z"
      },
      {
        "duration": 25,
        "start_time": "2021-11-26T09:01:03.985Z"
      },
      {
        "duration": 18,
        "start_time": "2021-11-26T09:01:04.011Z"
      },
      {
        "duration": 3609,
        "start_time": "2021-11-26T09:01:04.030Z"
      },
      {
        "duration": 1202,
        "start_time": "2021-11-26T09:01:07.641Z"
      },
      {
        "duration": 11,
        "start_time": "2021-11-26T09:01:08.845Z"
      },
      {
        "duration": 3,
        "start_time": "2021-11-26T09:01:08.857Z"
      },
      {
        "duration": 10,
        "start_time": "2021-11-26T09:01:08.861Z"
      },
      {
        "duration": 667,
        "start_time": "2021-11-26T09:01:39.337Z"
      },
      {
        "duration": 4,
        "start_time": "2021-11-26T09:01:55.417Z"
      },
      {
        "duration": 526,
        "start_time": "2021-11-26T09:01:58.769Z"
      },
      {
        "duration": 4,
        "start_time": "2021-11-26T09:02:12.944Z"
      },
      {
        "duration": 550,
        "start_time": "2021-11-26T09:02:21.231Z"
      },
      {
        "duration": 4,
        "start_time": "2021-11-26T09:03:19.353Z"
      },
      {
        "duration": 3699,
        "start_time": "2021-11-26T09:03:26.961Z"
      },
      {
        "duration": 4,
        "start_time": "2021-11-26T09:04:19.330Z"
      },
      {
        "duration": 3510,
        "start_time": "2021-11-26T09:04:22.289Z"
      },
      {
        "duration": 2447,
        "start_time": "2021-11-26T09:12:30.857Z"
      },
      {
        "duration": 277,
        "start_time": "2021-11-26T09:12:35.688Z"
      },
      {
        "duration": 4,
        "start_time": "2021-11-26T09:13:51.319Z"
      },
      {
        "duration": 812,
        "start_time": "2021-11-26T09:14:01.248Z"
      },
      {
        "duration": 512,
        "start_time": "2021-11-26T09:15:13.128Z"
      },
      {
        "duration": 538,
        "start_time": "2021-11-26T09:15:19.095Z"
      },
      {
        "duration": 553,
        "start_time": "2021-11-26T09:15:53.024Z"
      },
      {
        "duration": 652,
        "start_time": "2021-11-26T09:15:58.207Z"
      },
      {
        "duration": 564,
        "start_time": "2021-11-26T09:16:01.437Z"
      },
      {
        "duration": 91,
        "start_time": "2021-11-26T09:17:27.098Z"
      },
      {
        "duration": 112,
        "start_time": "2021-11-26T09:17:39.532Z"
      },
      {
        "duration": 491,
        "start_time": "2021-11-26T09:17:50.391Z"
      },
      {
        "duration": 506,
        "start_time": "2021-11-26T09:18:14.016Z"
      },
      {
        "duration": 503,
        "start_time": "2021-11-26T09:25:08.312Z"
      },
      {
        "duration": 3,
        "start_time": "2021-11-26T09:25:37.230Z"
      },
      {
        "duration": 3333,
        "start_time": "2021-11-26T09:25:47.200Z"
      },
      {
        "duration": 2502,
        "start_time": "2021-11-26T09:26:03.814Z"
      },
      {
        "duration": 517,
        "start_time": "2021-11-26T09:27:20.198Z"
      },
      {
        "duration": 521,
        "start_time": "2021-11-26T09:28:13.479Z"
      },
      {
        "duration": 508,
        "start_time": "2021-11-26T09:28:21.863Z"
      },
      {
        "duration": 303,
        "start_time": "2021-11-26T09:32:45.341Z"
      },
      {
        "duration": 123,
        "start_time": "2021-11-26T09:49:33.850Z"
      },
      {
        "duration": 546,
        "start_time": "2021-11-26T09:49:43.874Z"
      },
      {
        "duration": 4,
        "start_time": "2021-11-26T09:49:53.666Z"
      },
      {
        "duration": 382,
        "start_time": "2021-11-26T09:49:59.746Z"
      },
      {
        "duration": 379,
        "start_time": "2021-11-26T09:50:09.979Z"
      },
      {
        "duration": 4,
        "start_time": "2021-11-26T12:57:11.752Z"
      },
      {
        "duration": 3394,
        "start_time": "2021-11-26T12:57:19.181Z"
      },
      {
        "duration": 4,
        "start_time": "2021-11-26T12:57:35.552Z"
      },
      {
        "duration": 3407,
        "start_time": "2021-11-26T12:57:38.916Z"
      },
      {
        "duration": 3,
        "start_time": "2021-11-26T12:57:54.696Z"
      },
      {
        "duration": 4,
        "start_time": "2021-11-26T12:57:59.451Z"
      },
      {
        "duration": 5414,
        "start_time": "2021-11-26T12:58:02.903Z"
      },
      {
        "duration": 5,
        "start_time": "2021-11-26T12:58:11.802Z"
      },
      {
        "duration": 5417,
        "start_time": "2021-11-26T12:58:14.364Z"
      },
      {
        "duration": 5,
        "start_time": "2021-11-26T12:58:20.593Z"
      },
      {
        "duration": 3,
        "start_time": "2021-11-26T12:58:22.727Z"
      },
      {
        "duration": 3437,
        "start_time": "2021-11-26T12:58:25.200Z"
      },
      {
        "duration": 4,
        "start_time": "2021-11-26T12:58:32.903Z"
      },
      {
        "duration": 3390,
        "start_time": "2021-11-26T12:58:35.173Z"
      },
      {
        "duration": 6,
        "start_time": "2021-11-26T13:14:49.818Z"
      },
      {
        "duration": 1381,
        "start_time": "2021-11-26T13:15:03.409Z"
      },
      {
        "duration": 16,
        "start_time": "2021-11-26T13:15:13.293Z"
      },
      {
        "duration": 10,
        "start_time": "2021-11-26T13:15:40.164Z"
      },
      {
        "duration": 4,
        "start_time": "2021-11-26T13:18:06.215Z"
      },
      {
        "duration": 4448,
        "start_time": "2021-11-26T13:18:12.006Z"
      },
      {
        "duration": 4,
        "start_time": "2021-11-26T13:18:29.419Z"
      },
      {
        "duration": 5079,
        "start_time": "2021-11-26T13:18:33.956Z"
      },
      {
        "duration": 4,
        "start_time": "2021-11-26T13:18:47.324Z"
      },
      {
        "duration": 1402,
        "start_time": "2021-11-26T13:18:51.635Z"
      },
      {
        "duration": 4,
        "start_time": "2021-11-26T13:19:35.803Z"
      },
      {
        "duration": 3247,
        "start_time": "2021-11-26T13:19:55.702Z"
      },
      {
        "duration": 3,
        "start_time": "2021-11-26T13:20:42.675Z"
      },
      {
        "duration": 3222,
        "start_time": "2021-11-26T13:20:46.486Z"
      },
      {
        "duration": 3,
        "start_time": "2021-11-26T13:21:11.808Z"
      },
      {
        "duration": 2904,
        "start_time": "2021-11-26T13:21:14.547Z"
      },
      {
        "duration": 4,
        "start_time": "2021-11-26T13:21:29.460Z"
      },
      {
        "duration": 3342,
        "start_time": "2021-11-26T13:21:35.227Z"
      },
      {
        "duration": 5,
        "start_time": "2021-11-26T13:21:46.003Z"
      },
      {
        "duration": 4,
        "start_time": "2021-11-26T13:21:51.972Z"
      },
      {
        "duration": 3146,
        "start_time": "2021-11-26T13:21:55.963Z"
      },
      {
        "duration": 4,
        "start_time": "2021-11-26T13:22:08.722Z"
      },
      {
        "duration": 3239,
        "start_time": "2021-11-26T13:22:11.651Z"
      },
      {
        "duration": 3,
        "start_time": "2021-11-26T13:22:21.780Z"
      },
      {
        "duration": 2272,
        "start_time": "2021-11-26T13:22:24.257Z"
      },
      {
        "duration": 3,
        "start_time": "2021-11-26T13:22:34.515Z"
      },
      {
        "duration": 3354,
        "start_time": "2021-11-26T13:22:36.843Z"
      },
      {
        "duration": 1201,
        "start_time": "2021-11-26T13:42:13.268Z"
      },
      {
        "duration": 33,
        "start_time": "2021-11-26T13:42:14.471Z"
      },
      {
        "duration": 7,
        "start_time": "2021-11-26T13:42:14.506Z"
      },
      {
        "duration": 10,
        "start_time": "2021-11-26T13:42:14.514Z"
      },
      {
        "duration": 10,
        "start_time": "2021-11-26T13:42:14.526Z"
      },
      {
        "duration": 70,
        "start_time": "2021-11-26T13:42:14.538Z"
      },
      {
        "duration": 6,
        "start_time": "2021-11-26T13:42:14.609Z"
      },
      {
        "duration": 14,
        "start_time": "2021-11-26T13:42:14.617Z"
      },
      {
        "duration": 6,
        "start_time": "2021-11-26T13:42:14.633Z"
      },
      {
        "duration": 3284,
        "start_time": "2021-11-26T13:42:14.641Z"
      },
      {
        "duration": 1227,
        "start_time": "2021-11-26T13:42:17.927Z"
      },
      {
        "duration": 12,
        "start_time": "2021-11-26T13:42:19.156Z"
      },
      {
        "duration": 3,
        "start_time": "2021-11-26T13:42:19.170Z"
      },
      {
        "duration": 14,
        "start_time": "2021-11-26T13:42:19.174Z"
      },
      {
        "duration": 3066,
        "start_time": "2021-11-26T13:42:19.190Z"
      },
      {
        "duration": 2467,
        "start_time": "2021-11-26T13:42:22.258Z"
      },
      {
        "duration": 381,
        "start_time": "2021-11-26T13:42:24.727Z"
      },
      {
        "duration": 13,
        "start_time": "2021-11-26T13:42:25.109Z"
      },
      {
        "duration": 4,
        "start_time": "2021-11-26T13:42:25.124Z"
      },
      {
        "duration": 77497,
        "start_time": "2021-11-26T13:42:25.130Z"
      },
      {
        "duration": 1563,
        "start_time": "2021-11-26T13:43:42.628Z"
      },
      {
        "duration": 106,
        "start_time": "2021-11-26T13:43:44.194Z"
      },
      {
        "duration": 6104,
        "start_time": "2021-11-26T13:43:44.302Z"
      },
      {
        "duration": 13,
        "start_time": "2021-11-26T13:43:50.408Z"
      },
      {
        "duration": 9,
        "start_time": "2021-11-26T13:43:50.423Z"
      },
      {
        "duration": 15,
        "start_time": "2021-11-26T13:43:50.433Z"
      },
      {
        "duration": 43,
        "start_time": "2021-11-26T13:43:50.450Z"
      },
      {
        "duration": 383,
        "start_time": "2021-11-26T13:44:59.239Z"
      },
      {
        "duration": 1299,
        "start_time": "2021-11-26T13:45:17.441Z"
      },
      {
        "duration": 31,
        "start_time": "2021-11-26T13:45:18.741Z"
      },
      {
        "duration": 12,
        "start_time": "2021-11-26T13:45:18.774Z"
      },
      {
        "duration": 32,
        "start_time": "2021-11-26T13:45:18.787Z"
      },
      {
        "duration": 30,
        "start_time": "2021-11-26T13:45:18.820Z"
      },
      {
        "duration": 68,
        "start_time": "2021-11-26T13:45:18.851Z"
      },
      {
        "duration": 6,
        "start_time": "2021-11-26T13:45:18.921Z"
      },
      {
        "duration": 23,
        "start_time": "2021-11-26T13:45:18.930Z"
      },
      {
        "duration": 42,
        "start_time": "2021-11-26T13:45:18.954Z"
      },
      {
        "duration": 3386,
        "start_time": "2021-11-26T13:45:18.997Z"
      },
      {
        "duration": 1582,
        "start_time": "2021-11-26T13:45:22.384Z"
      },
      {
        "duration": 24,
        "start_time": "2021-11-26T13:45:23.968Z"
      },
      {
        "duration": 10,
        "start_time": "2021-11-26T13:45:23.994Z"
      },
      {
        "duration": 27,
        "start_time": "2021-11-26T13:45:24.006Z"
      },
      {
        "duration": 3497,
        "start_time": "2021-11-26T13:45:24.034Z"
      },
      {
        "duration": 2556,
        "start_time": "2021-11-26T13:45:27.533Z"
      },
      {
        "duration": 295,
        "start_time": "2021-11-26T13:45:32.688Z"
      },
      {
        "duration": 296,
        "start_time": "2021-11-26T13:46:12.897Z"
      },
      {
        "duration": 400,
        "start_time": "2021-11-26T13:46:20.207Z"
      },
      {
        "duration": 503,
        "start_time": "2021-11-26T13:47:23.212Z"
      },
      {
        "duration": 296,
        "start_time": "2021-11-26T13:47:42.997Z"
      },
      {
        "duration": 309,
        "start_time": "2021-11-26T13:48:02.526Z"
      },
      {
        "duration": 4,
        "start_time": "2021-11-26T13:48:15.621Z"
      },
      {
        "duration": 30,
        "start_time": "2021-11-26T13:48:15.627Z"
      },
      {
        "duration": 6,
        "start_time": "2021-11-26T13:48:15.658Z"
      },
      {
        "duration": 7,
        "start_time": "2021-11-26T13:48:15.665Z"
      },
      {
        "duration": 10,
        "start_time": "2021-11-26T13:48:15.674Z"
      },
      {
        "duration": 39,
        "start_time": "2021-11-26T13:48:15.685Z"
      },
      {
        "duration": 5,
        "start_time": "2021-11-26T13:48:15.725Z"
      },
      {
        "duration": 16,
        "start_time": "2021-11-26T13:48:15.731Z"
      },
      {
        "duration": 6,
        "start_time": "2021-11-26T13:48:15.749Z"
      },
      {
        "duration": 3464,
        "start_time": "2021-11-26T13:48:15.756Z"
      },
      {
        "duration": 1249,
        "start_time": "2021-11-26T13:48:19.221Z"
      },
      {
        "duration": 19,
        "start_time": "2021-11-26T13:48:20.472Z"
      },
      {
        "duration": 3,
        "start_time": "2021-11-26T13:48:20.492Z"
      },
      {
        "duration": 7,
        "start_time": "2021-11-26T13:48:20.497Z"
      },
      {
        "duration": 3095,
        "start_time": "2021-11-26T13:48:20.505Z"
      },
      {
        "duration": 2516,
        "start_time": "2021-11-26T13:48:23.601Z"
      },
      {
        "duration": 4,
        "start_time": "2021-11-26T13:49:11.853Z"
      },
      {
        "duration": 7,
        "start_time": "2021-11-26T13:49:11.859Z"
      },
      {
        "duration": 3223,
        "start_time": "2021-11-26T13:49:11.868Z"
      },
      {
        "duration": 3964,
        "start_time": "2021-11-26T13:49:15.094Z"
      },
      {
        "duration": 416,
        "start_time": "2021-11-26T13:49:19.060Z"
      },
      {
        "duration": 12,
        "start_time": "2021-11-26T13:49:19.478Z"
      },
      {
        "duration": 5,
        "start_time": "2021-11-26T13:49:19.492Z"
      },
      {
        "duration": 91522,
        "start_time": "2021-11-26T13:49:19.499Z"
      },
      {
        "duration": 1465,
        "start_time": "2021-11-26T13:50:51.023Z"
      },
      {
        "duration": 110,
        "start_time": "2021-11-26T13:50:52.491Z"
      },
      {
        "duration": 8291,
        "start_time": "2021-11-26T13:50:52.603Z"
      },
      {
        "duration": 13,
        "start_time": "2021-11-26T13:51:00.896Z"
      },
      {
        "duration": 9,
        "start_time": "2021-11-26T13:51:00.911Z"
      },
      {
        "duration": 36,
        "start_time": "2021-11-26T13:51:00.922Z"
      },
      {
        "duration": 34,
        "start_time": "2021-11-26T13:51:00.960Z"
      }
    ],
    "kernelspec": {
      "display_name": "Python 3",
      "language": "python",
      "name": "python3"
    },
    "language_info": {
      "codemirror_mode": {
        "name": "ipython",
        "version": 3
      },
      "file_extension": ".py",
      "mimetype": "text/x-python",
      "name": "python",
      "nbconvert_exporter": "python",
      "pygments_lexer": "ipython3",
      "version": "3.7.8"
    },
    "toc": {
      "base_numbering": 1,
      "nav_menu": {},
      "number_sections": true,
      "sideBar": true,
      "skip_h1_title": true,
      "title_cell": "Содержание",
      "title_sidebar": "Contents",
      "toc_cell": true,
      "toc_position": {
        "height": "calc(100% - 180px)",
        "left": "10px",
        "top": "150px",
        "width": "279.188px"
      },
      "toc_section_display": true,
      "toc_window_display": true
    },
    "colab": {
      "name": "Customer_churn_research.ipynb",
      "provenance": [],
      "collapsed_sections": []
    }
  },
  "nbformat": 4,
  "nbformat_minor": 0
}