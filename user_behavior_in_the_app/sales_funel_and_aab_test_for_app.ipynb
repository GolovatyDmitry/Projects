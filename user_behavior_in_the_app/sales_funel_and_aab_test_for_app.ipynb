{
  "cells": [
    {
      "cell_type": "markdown",
      "metadata": {
        "toc": true,
        "id": "URpXqb5X0XU0"
      },
      "source": [
        "<h1>Содержание<span class=\"tocSkip\"></span></h1>\n",
        "<div class=\"toc\"><ul class=\"toc-item\"><li><span><a href=\"#Чтение-и-подготовка-данных\" data-toc-modified-id=\"Чтение-и-подготовка-данных-1\"><span class=\"toc-item-num\">1&nbsp;&nbsp;</span>Чтение и подготовка данных</a></span></li><li><span><a href=\"#Изучение-и-проверка-данных\" data-toc-modified-id=\"Изучение-и-проверка-данных-2\"><span class=\"toc-item-num\">2&nbsp;&nbsp;</span>Изучение и проверка данных</a></span></li><li><span><a href=\"#Анализ-воронки-событий\" data-toc-modified-id=\"Анализ-воронки-событий-3\"><span class=\"toc-item-num\">3&nbsp;&nbsp;</span>Анализ воронки событий</a></span></li><li><span><a href=\"#Анализ-результатов-A/A/B-теста\" data-toc-modified-id=\"Анализ-результатов-A/A/B-теста-4\"><span class=\"toc-item-num\">4&nbsp;&nbsp;</span>Анализ результатов A/A/B-теста</a></span></li><li><span><a href=\"#Выводы\" data-toc-modified-id=\"Выводы-5\"><span class=\"toc-item-num\">5&nbsp;&nbsp;</span>Выводы</a></span></li></ul></div>"
      ]
    },
    {
      "cell_type": "markdown",
      "metadata": {
        "id": "uQ0-oJbG0XU6"
      },
      "source": [
        "# Анализ приложения для покупок продуктов питания"
      ]
    },
    {
      "cell_type": "markdown",
      "metadata": {
        "id": "MU0Wh0Yt0XU7"
      },
      "source": [
        "Цель исследования - разобраться, как ведут себя пользователи мобильного приложения, который продаёт продукты питания.\n",
        "\n",
        "Необходимо изучить воронку продаж. Узнать, как пользователи доходят до покупки.\n",
        "\n",
        "Также нужно исследовать результаты A/A/B-эксперимента по замене шрифта во всём приложении. Пользователей разбили на 3 группы: 2 контрольные со старыми шрифтами и одну экспериментальную — с новыми. Задача - выяснить, какой шрифт лучше."
      ]
    },
    {
      "cell_type": "markdown",
      "metadata": {
        "id": "mihOm3Y60XU8"
      },
      "source": [
        "## Чтение и подготовка данных"
      ]
    },
    {
      "cell_type": "code",
      "execution_count": 1,
      "metadata": {
        "id": "gUjZ8OZ80XU9"
      },
      "outputs": [],
      "source": [
        "#!pip install plotly\n",
        "\n",
        "import pandas as pd\n",
        "import matplotlib.pyplot as plt\n",
        "import seaborn as sns            \n",
        "from scipy import stats as st\n",
        "import numpy as np\n",
        "import datetime as dt\n",
        "import math as mth \n",
        "from plotly import graph_objects as go\n",
        "\n",
        "import warnings\n",
        "warnings.simplefilter('ignore')\n",
        "\n"
      ]
    },
    {
      "cell_type": "code",
      "execution_count": 2,
      "metadata": {
        "id": "9BZYuaRJ0XU_",
        "outputId": "b67e6201-e6f9-42d2-ca75-71ec7c269b2a",
        "colab": {
          "base_uri": "https://localhost:8080/",
          "height": 571
        }
      },
      "outputs": [
        {
          "output_type": "stream",
          "name": "stdout",
          "text": [
            "<class 'pandas.core.frame.DataFrame'>\n",
            "RangeIndex: 244126 entries, 0 to 244125\n",
            "Data columns (total 4 columns):\n",
            " #   Column          Non-Null Count   Dtype \n",
            "---  ------          --------------   ----- \n",
            " 0   EventName       244126 non-null  object\n",
            " 1   DeviceIDHash    244126 non-null  int64 \n",
            " 2   EventTimestamp  244126 non-null  int64 \n",
            " 3   ExpId           244126 non-null  int64 \n",
            "dtypes: int64(3), object(1)\n",
            "memory usage: 7.5+ MB\n"
          ]
        },
        {
          "output_type": "display_data",
          "data": {
            "text/plain": [
              "None"
            ]
          },
          "metadata": {}
        },
        {
          "output_type": "display_data",
          "data": {
            "text/html": [
              "\n",
              "  <div id=\"df-93ae6776-30e1-4aa3-8766-5b5be05d239b\">\n",
              "    <div class=\"colab-df-container\">\n",
              "      <div>\n",
              "<style scoped>\n",
              "    .dataframe tbody tr th:only-of-type {\n",
              "        vertical-align: middle;\n",
              "    }\n",
              "\n",
              "    .dataframe tbody tr th {\n",
              "        vertical-align: top;\n",
              "    }\n",
              "\n",
              "    .dataframe thead th {\n",
              "        text-align: right;\n",
              "    }\n",
              "</style>\n",
              "<table border=\"1\" class=\"dataframe\">\n",
              "  <thead>\n",
              "    <tr style=\"text-align: right;\">\n",
              "      <th></th>\n",
              "      <th>EventName</th>\n",
              "      <th>DeviceIDHash</th>\n",
              "      <th>EventTimestamp</th>\n",
              "      <th>ExpId</th>\n",
              "    </tr>\n",
              "  </thead>\n",
              "  <tbody>\n",
              "    <tr>\n",
              "      <th>0</th>\n",
              "      <td>MainScreenAppear</td>\n",
              "      <td>4575588528974610257</td>\n",
              "      <td>1564029816</td>\n",
              "      <td>246</td>\n",
              "    </tr>\n",
              "    <tr>\n",
              "      <th>1</th>\n",
              "      <td>MainScreenAppear</td>\n",
              "      <td>7416695313311560658</td>\n",
              "      <td>1564053102</td>\n",
              "      <td>246</td>\n",
              "    </tr>\n",
              "    <tr>\n",
              "      <th>2</th>\n",
              "      <td>PaymentScreenSuccessful</td>\n",
              "      <td>3518123091307005509</td>\n",
              "      <td>1564054127</td>\n",
              "      <td>248</td>\n",
              "    </tr>\n",
              "    <tr>\n",
              "      <th>3</th>\n",
              "      <td>CartScreenAppear</td>\n",
              "      <td>3518123091307005509</td>\n",
              "      <td>1564054127</td>\n",
              "      <td>248</td>\n",
              "    </tr>\n",
              "    <tr>\n",
              "      <th>4</th>\n",
              "      <td>PaymentScreenSuccessful</td>\n",
              "      <td>6217807653094995999</td>\n",
              "      <td>1564055322</td>\n",
              "      <td>248</td>\n",
              "    </tr>\n",
              "    <tr>\n",
              "      <th>5</th>\n",
              "      <td>CartScreenAppear</td>\n",
              "      <td>6217807653094995999</td>\n",
              "      <td>1564055323</td>\n",
              "      <td>248</td>\n",
              "    </tr>\n",
              "    <tr>\n",
              "      <th>6</th>\n",
              "      <td>OffersScreenAppear</td>\n",
              "      <td>8351860793733343758</td>\n",
              "      <td>1564066242</td>\n",
              "      <td>246</td>\n",
              "    </tr>\n",
              "    <tr>\n",
              "      <th>7</th>\n",
              "      <td>MainScreenAppear</td>\n",
              "      <td>5682100281902512875</td>\n",
              "      <td>1564085677</td>\n",
              "      <td>246</td>\n",
              "    </tr>\n",
              "    <tr>\n",
              "      <th>8</th>\n",
              "      <td>MainScreenAppear</td>\n",
              "      <td>1850981295691852772</td>\n",
              "      <td>1564086702</td>\n",
              "      <td>247</td>\n",
              "    </tr>\n",
              "    <tr>\n",
              "      <th>9</th>\n",
              "      <td>MainScreenAppear</td>\n",
              "      <td>5407636962369102641</td>\n",
              "      <td>1564112112</td>\n",
              "      <td>246</td>\n",
              "    </tr>\n",
              "  </tbody>\n",
              "</table>\n",
              "</div>\n",
              "      <button class=\"colab-df-convert\" onclick=\"convertToInteractive('df-93ae6776-30e1-4aa3-8766-5b5be05d239b')\"\n",
              "              title=\"Convert this dataframe to an interactive table.\"\n",
              "              style=\"display:none;\">\n",
              "        \n",
              "  <svg xmlns=\"http://www.w3.org/2000/svg\" height=\"24px\"viewBox=\"0 0 24 24\"\n",
              "       width=\"24px\">\n",
              "    <path d=\"M0 0h24v24H0V0z\" fill=\"none\"/>\n",
              "    <path d=\"M18.56 5.44l.94 2.06.94-2.06 2.06-.94-2.06-.94-.94-2.06-.94 2.06-2.06.94zm-11 1L8.5 8.5l.94-2.06 2.06-.94-2.06-.94L8.5 2.5l-.94 2.06-2.06.94zm10 10l.94 2.06.94-2.06 2.06-.94-2.06-.94-.94-2.06-.94 2.06-2.06.94z\"/><path d=\"M17.41 7.96l-1.37-1.37c-.4-.4-.92-.59-1.43-.59-.52 0-1.04.2-1.43.59L10.3 9.45l-7.72 7.72c-.78.78-.78 2.05 0 2.83L4 21.41c.39.39.9.59 1.41.59.51 0 1.02-.2 1.41-.59l7.78-7.78 2.81-2.81c.8-.78.8-2.07 0-2.86zM5.41 20L4 18.59l7.72-7.72 1.47 1.35L5.41 20z\"/>\n",
              "  </svg>\n",
              "      </button>\n",
              "      \n",
              "  <style>\n",
              "    .colab-df-container {\n",
              "      display:flex;\n",
              "      flex-wrap:wrap;\n",
              "      gap: 12px;\n",
              "    }\n",
              "\n",
              "    .colab-df-convert {\n",
              "      background-color: #E8F0FE;\n",
              "      border: none;\n",
              "      border-radius: 50%;\n",
              "      cursor: pointer;\n",
              "      display: none;\n",
              "      fill: #1967D2;\n",
              "      height: 32px;\n",
              "      padding: 0 0 0 0;\n",
              "      width: 32px;\n",
              "    }\n",
              "\n",
              "    .colab-df-convert:hover {\n",
              "      background-color: #E2EBFA;\n",
              "      box-shadow: 0px 1px 2px rgba(60, 64, 67, 0.3), 0px 1px 3px 1px rgba(60, 64, 67, 0.15);\n",
              "      fill: #174EA6;\n",
              "    }\n",
              "\n",
              "    [theme=dark] .colab-df-convert {\n",
              "      background-color: #3B4455;\n",
              "      fill: #D2E3FC;\n",
              "    }\n",
              "\n",
              "    [theme=dark] .colab-df-convert:hover {\n",
              "      background-color: #434B5C;\n",
              "      box-shadow: 0px 1px 3px 1px rgba(0, 0, 0, 0.15);\n",
              "      filter: drop-shadow(0px 1px 2px rgba(0, 0, 0, 0.3));\n",
              "      fill: #FFFFFF;\n",
              "    }\n",
              "  </style>\n",
              "\n",
              "      <script>\n",
              "        const buttonEl =\n",
              "          document.querySelector('#df-93ae6776-30e1-4aa3-8766-5b5be05d239b button.colab-df-convert');\n",
              "        buttonEl.style.display =\n",
              "          google.colab.kernel.accessAllowed ? 'block' : 'none';\n",
              "\n",
              "        async function convertToInteractive(key) {\n",
              "          const element = document.querySelector('#df-93ae6776-30e1-4aa3-8766-5b5be05d239b');\n",
              "          const dataTable =\n",
              "            await google.colab.kernel.invokeFunction('convertToInteractive',\n",
              "                                                     [key], {});\n",
              "          if (!dataTable) return;\n",
              "\n",
              "          const docLinkHtml = 'Like what you see? Visit the ' +\n",
              "            '<a target=\"_blank\" href=https://colab.research.google.com/notebooks/data_table.ipynb>data table notebook</a>'\n",
              "            + ' to learn more about interactive tables.';\n",
              "          element.innerHTML = '';\n",
              "          dataTable['output_type'] = 'display_data';\n",
              "          await google.colab.output.renderOutput(dataTable, element);\n",
              "          const docLink = document.createElement('div');\n",
              "          docLink.innerHTML = docLinkHtml;\n",
              "          element.appendChild(docLink);\n",
              "        }\n",
              "      </script>\n",
              "    </div>\n",
              "  </div>\n",
              "  "
            ],
            "text/plain": [
              "                 EventName         DeviceIDHash  EventTimestamp  ExpId\n",
              "0         MainScreenAppear  4575588528974610257      1564029816    246\n",
              "1         MainScreenAppear  7416695313311560658      1564053102    246\n",
              "2  PaymentScreenSuccessful  3518123091307005509      1564054127    248\n",
              "3         CartScreenAppear  3518123091307005509      1564054127    248\n",
              "4  PaymentScreenSuccessful  6217807653094995999      1564055322    248\n",
              "5         CartScreenAppear  6217807653094995999      1564055323    248\n",
              "6       OffersScreenAppear  8351860793733343758      1564066242    246\n",
              "7         MainScreenAppear  5682100281902512875      1564085677    246\n",
              "8         MainScreenAppear  1850981295691852772      1564086702    247\n",
              "9         MainScreenAppear  5407636962369102641      1564112112    246"
            ]
          },
          "metadata": {}
        }
      ],
      "source": [
        "df_logs = pd.read_csv('/content/logs_exp.csv', sep='\\t')\n",
        "display(df_logs.info())\n",
        "display(df_logs.head(10))"
      ]
    },
    {
      "cell_type": "markdown",
      "metadata": {
        "id": "LJRf2wYP0XVB"
      },
      "source": [
        "Заменим название столбцов на более удобные и проверим дубликаты в таблице."
      ]
    },
    {
      "cell_type": "code",
      "execution_count": 3,
      "metadata": {
        "id": "fZyFBoJq0XVC",
        "outputId": "9ff4f8d3-5353-4b2c-d018-08c45dab64b6",
        "colab": {
          "base_uri": "https://localhost:8080/"
        }
      },
      "outputs": [
        {
          "output_type": "execute_result",
          "data": {
            "text/plain": [
              "413"
            ]
          },
          "metadata": {},
          "execution_count": 3
        }
      ],
      "source": [
        "#Переименование столбцов\n",
        "df_logs = df_logs.rename(columns={'EventName': 'event_name', 'DeviceIDHash':'user_id', 'EventTimestamp':'event_timestamp', 'ExpId':'group'})\n",
        "#Проверка на дубликаты\n",
        "df_logs.duplicated().sum()"
      ]
    },
    {
      "cell_type": "markdown",
      "metadata": {
        "id": "bMxQrwGs0XVD"
      },
      "source": [
        "Вероятно дубликаты появились из-за технической ошибки и задвоения событий. Необходимо уточнить природу появления повторов, чтобы не допустить их дальнейшего появления. Однако в данном случае количество дубликатов очень мало (0,17%), поэтому мы можем их удалить."
      ]
    },
    {
      "cell_type": "code",
      "execution_count": 4,
      "metadata": {
        "id": "3VfATc1U0XVE",
        "outputId": "a94ac02d-2949-4c46-82a5-796b3ed19630",
        "colab": {
          "base_uri": "https://localhost:8080/"
        }
      },
      "outputs": [
        {
          "output_type": "execute_result",
          "data": {
            "text/plain": [
              "0"
            ]
          },
          "metadata": {},
          "execution_count": 4
        }
      ],
      "source": [
        "#Удаление полных дубликатов\n",
        "df_logs = df_logs.drop_duplicates()\n",
        "df_logs.duplicated().sum()"
      ]
    },
    {
      "cell_type": "markdown",
      "metadata": {
        "id": "DEnJeU5m0XVF"
      },
      "source": [
        "Проверим не попал ли кто-то из пользователей в несколько групп сразу."
      ]
    },
    {
      "cell_type": "code",
      "execution_count": 5,
      "metadata": {
        "id": "Mj5K6QwU0XVF",
        "outputId": "7e4a82a4-5f3c-484f-9da7-6dd8cf9308a3",
        "colab": {
          "base_uri": "https://localhost:8080/",
          "height": 363
        }
      },
      "outputs": [
        {
          "output_type": "execute_result",
          "data": {
            "text/html": [
              "\n",
              "  <div id=\"df-1ca5559a-5143-4d09-9ab1-021b79a62d35\">\n",
              "    <div class=\"colab-df-container\">\n",
              "      <div>\n",
              "<style scoped>\n",
              "    .dataframe tbody tr th:only-of-type {\n",
              "        vertical-align: middle;\n",
              "    }\n",
              "\n",
              "    .dataframe tbody tr th {\n",
              "        vertical-align: top;\n",
              "    }\n",
              "\n",
              "    .dataframe thead th {\n",
              "        text-align: right;\n",
              "    }\n",
              "</style>\n",
              "<table border=\"1\" class=\"dataframe\">\n",
              "  <thead>\n",
              "    <tr style=\"text-align: right;\">\n",
              "      <th></th>\n",
              "      <th>user_id</th>\n",
              "      <th>group</th>\n",
              "    </tr>\n",
              "  </thead>\n",
              "  <tbody>\n",
              "    <tr>\n",
              "      <th>0</th>\n",
              "      <td>6888746892508752</td>\n",
              "      <td>1</td>\n",
              "    </tr>\n",
              "    <tr>\n",
              "      <th>5030</th>\n",
              "      <td>6207768971558512760</td>\n",
              "      <td>1</td>\n",
              "    </tr>\n",
              "    <tr>\n",
              "      <th>5042</th>\n",
              "      <td>6217807653094995999</td>\n",
              "      <td>1</td>\n",
              "    </tr>\n",
              "    <tr>\n",
              "      <th>5041</th>\n",
              "      <td>6217295124800833842</td>\n",
              "      <td>1</td>\n",
              "    </tr>\n",
              "    <tr>\n",
              "      <th>5040</th>\n",
              "      <td>6216080220799726690</td>\n",
              "      <td>1</td>\n",
              "    </tr>\n",
              "    <tr>\n",
              "      <th>5039</th>\n",
              "      <td>6215559225876063378</td>\n",
              "      <td>1</td>\n",
              "    </tr>\n",
              "    <tr>\n",
              "      <th>5038</th>\n",
              "      <td>6215162890135937308</td>\n",
              "      <td>1</td>\n",
              "    </tr>\n",
              "    <tr>\n",
              "      <th>5037</th>\n",
              "      <td>6213626876710715478</td>\n",
              "      <td>1</td>\n",
              "    </tr>\n",
              "    <tr>\n",
              "      <th>5036</th>\n",
              "      <td>6213410662941116891</td>\n",
              "      <td>1</td>\n",
              "    </tr>\n",
              "    <tr>\n",
              "      <th>5035</th>\n",
              "      <td>6212635085994550838</td>\n",
              "      <td>1</td>\n",
              "    </tr>\n",
              "  </tbody>\n",
              "</table>\n",
              "</div>\n",
              "      <button class=\"colab-df-convert\" onclick=\"convertToInteractive('df-1ca5559a-5143-4d09-9ab1-021b79a62d35')\"\n",
              "              title=\"Convert this dataframe to an interactive table.\"\n",
              "              style=\"display:none;\">\n",
              "        \n",
              "  <svg xmlns=\"http://www.w3.org/2000/svg\" height=\"24px\"viewBox=\"0 0 24 24\"\n",
              "       width=\"24px\">\n",
              "    <path d=\"M0 0h24v24H0V0z\" fill=\"none\"/>\n",
              "    <path d=\"M18.56 5.44l.94 2.06.94-2.06 2.06-.94-2.06-.94-.94-2.06-.94 2.06-2.06.94zm-11 1L8.5 8.5l.94-2.06 2.06-.94-2.06-.94L8.5 2.5l-.94 2.06-2.06.94zm10 10l.94 2.06.94-2.06 2.06-.94-2.06-.94-.94-2.06-.94 2.06-2.06.94z\"/><path d=\"M17.41 7.96l-1.37-1.37c-.4-.4-.92-.59-1.43-.59-.52 0-1.04.2-1.43.59L10.3 9.45l-7.72 7.72c-.78.78-.78 2.05 0 2.83L4 21.41c.39.39.9.59 1.41.59.51 0 1.02-.2 1.41-.59l7.78-7.78 2.81-2.81c.8-.78.8-2.07 0-2.86zM5.41 20L4 18.59l7.72-7.72 1.47 1.35L5.41 20z\"/>\n",
              "  </svg>\n",
              "      </button>\n",
              "      \n",
              "  <style>\n",
              "    .colab-df-container {\n",
              "      display:flex;\n",
              "      flex-wrap:wrap;\n",
              "      gap: 12px;\n",
              "    }\n",
              "\n",
              "    .colab-df-convert {\n",
              "      background-color: #E8F0FE;\n",
              "      border: none;\n",
              "      border-radius: 50%;\n",
              "      cursor: pointer;\n",
              "      display: none;\n",
              "      fill: #1967D2;\n",
              "      height: 32px;\n",
              "      padding: 0 0 0 0;\n",
              "      width: 32px;\n",
              "    }\n",
              "\n",
              "    .colab-df-convert:hover {\n",
              "      background-color: #E2EBFA;\n",
              "      box-shadow: 0px 1px 2px rgba(60, 64, 67, 0.3), 0px 1px 3px 1px rgba(60, 64, 67, 0.15);\n",
              "      fill: #174EA6;\n",
              "    }\n",
              "\n",
              "    [theme=dark] .colab-df-convert {\n",
              "      background-color: #3B4455;\n",
              "      fill: #D2E3FC;\n",
              "    }\n",
              "\n",
              "    [theme=dark] .colab-df-convert:hover {\n",
              "      background-color: #434B5C;\n",
              "      box-shadow: 0px 1px 3px 1px rgba(0, 0, 0, 0.15);\n",
              "      filter: drop-shadow(0px 1px 2px rgba(0, 0, 0, 0.3));\n",
              "      fill: #FFFFFF;\n",
              "    }\n",
              "  </style>\n",
              "\n",
              "      <script>\n",
              "        const buttonEl =\n",
              "          document.querySelector('#df-1ca5559a-5143-4d09-9ab1-021b79a62d35 button.colab-df-convert');\n",
              "        buttonEl.style.display =\n",
              "          google.colab.kernel.accessAllowed ? 'block' : 'none';\n",
              "\n",
              "        async function convertToInteractive(key) {\n",
              "          const element = document.querySelector('#df-1ca5559a-5143-4d09-9ab1-021b79a62d35');\n",
              "          const dataTable =\n",
              "            await google.colab.kernel.invokeFunction('convertToInteractive',\n",
              "                                                     [key], {});\n",
              "          if (!dataTable) return;\n",
              "\n",
              "          const docLinkHtml = 'Like what you see? Visit the ' +\n",
              "            '<a target=\"_blank\" href=https://colab.research.google.com/notebooks/data_table.ipynb>data table notebook</a>'\n",
              "            + ' to learn more about interactive tables.';\n",
              "          element.innerHTML = '';\n",
              "          dataTable['output_type'] = 'display_data';\n",
              "          await google.colab.output.renderOutput(dataTable, element);\n",
              "          const docLink = document.createElement('div');\n",
              "          docLink.innerHTML = docLinkHtml;\n",
              "          element.appendChild(docLink);\n",
              "        }\n",
              "      </script>\n",
              "    </div>\n",
              "  </div>\n",
              "  "
            ],
            "text/plain": [
              "                  user_id  group\n",
              "0        6888746892508752      1\n",
              "5030  6207768971558512760      1\n",
              "5042  6217807653094995999      1\n",
              "5041  6217295124800833842      1\n",
              "5040  6216080220799726690      1\n",
              "5039  6215559225876063378      1\n",
              "5038  6215162890135937308      1\n",
              "5037  6213626876710715478      1\n",
              "5036  6213410662941116891      1\n",
              "5035  6212635085994550838      1"
            ]
          },
          "metadata": {},
          "execution_count": 5
        }
      ],
      "source": [
        "#Группируем по user_id и считаем кол-во уникальных групп, сортируем по убыванию\n",
        "df_logs.groupby('user_id')['group'].nunique().reset_index().sort_values('group', ascending=False).head(10)"
      ]
    },
    {
      "cell_type": "markdown",
      "metadata": {
        "id": "U9JnJ68I0XVG"
      },
      "source": [
        "Пользователей, попавших в несколько групп не обнаружено."
      ]
    },
    {
      "cell_type": "markdown",
      "metadata": {
        "id": "61NpPPY00XVG"
      },
      "source": [
        "Приведем столбец `event_timestamp` к читаемому виду, а также добавим отдельный столбец с датой события."
      ]
    },
    {
      "cell_type": "code",
      "execution_count": 6,
      "metadata": {
        "id": "5ceq7YxL0XVH",
        "outputId": "2935e833-3b63-4966-c1db-1ffcd026d076",
        "colab": {
          "base_uri": "https://localhost:8080/",
          "height": 206
        }
      },
      "outputs": [
        {
          "output_type": "execute_result",
          "data": {
            "text/html": [
              "\n",
              "  <div id=\"df-00698aba-e6f3-4305-92f7-9ffa4cbff860\">\n",
              "    <div class=\"colab-df-container\">\n",
              "      <div>\n",
              "<style scoped>\n",
              "    .dataframe tbody tr th:only-of-type {\n",
              "        vertical-align: middle;\n",
              "    }\n",
              "\n",
              "    .dataframe tbody tr th {\n",
              "        vertical-align: top;\n",
              "    }\n",
              "\n",
              "    .dataframe thead th {\n",
              "        text-align: right;\n",
              "    }\n",
              "</style>\n",
              "<table border=\"1\" class=\"dataframe\">\n",
              "  <thead>\n",
              "    <tr style=\"text-align: right;\">\n",
              "      <th></th>\n",
              "      <th>event_name</th>\n",
              "      <th>user_id</th>\n",
              "      <th>event_timestamp</th>\n",
              "      <th>group</th>\n",
              "      <th>event_date</th>\n",
              "    </tr>\n",
              "  </thead>\n",
              "  <tbody>\n",
              "    <tr>\n",
              "      <th>0</th>\n",
              "      <td>MainScreenAppear</td>\n",
              "      <td>4575588528974610257</td>\n",
              "      <td>2019-07-25 04:43:36</td>\n",
              "      <td>246</td>\n",
              "      <td>2019-07-25</td>\n",
              "    </tr>\n",
              "    <tr>\n",
              "      <th>1</th>\n",
              "      <td>MainScreenAppear</td>\n",
              "      <td>7416695313311560658</td>\n",
              "      <td>2019-07-25 11:11:42</td>\n",
              "      <td>246</td>\n",
              "      <td>2019-07-25</td>\n",
              "    </tr>\n",
              "    <tr>\n",
              "      <th>2</th>\n",
              "      <td>PaymentScreenSuccessful</td>\n",
              "      <td>3518123091307005509</td>\n",
              "      <td>2019-07-25 11:28:47</td>\n",
              "      <td>248</td>\n",
              "      <td>2019-07-25</td>\n",
              "    </tr>\n",
              "    <tr>\n",
              "      <th>3</th>\n",
              "      <td>CartScreenAppear</td>\n",
              "      <td>3518123091307005509</td>\n",
              "      <td>2019-07-25 11:28:47</td>\n",
              "      <td>248</td>\n",
              "      <td>2019-07-25</td>\n",
              "    </tr>\n",
              "    <tr>\n",
              "      <th>4</th>\n",
              "      <td>PaymentScreenSuccessful</td>\n",
              "      <td>6217807653094995999</td>\n",
              "      <td>2019-07-25 11:48:42</td>\n",
              "      <td>248</td>\n",
              "      <td>2019-07-25</td>\n",
              "    </tr>\n",
              "  </tbody>\n",
              "</table>\n",
              "</div>\n",
              "      <button class=\"colab-df-convert\" onclick=\"convertToInteractive('df-00698aba-e6f3-4305-92f7-9ffa4cbff860')\"\n",
              "              title=\"Convert this dataframe to an interactive table.\"\n",
              "              style=\"display:none;\">\n",
              "        \n",
              "  <svg xmlns=\"http://www.w3.org/2000/svg\" height=\"24px\"viewBox=\"0 0 24 24\"\n",
              "       width=\"24px\">\n",
              "    <path d=\"M0 0h24v24H0V0z\" fill=\"none\"/>\n",
              "    <path d=\"M18.56 5.44l.94 2.06.94-2.06 2.06-.94-2.06-.94-.94-2.06-.94 2.06-2.06.94zm-11 1L8.5 8.5l.94-2.06 2.06-.94-2.06-.94L8.5 2.5l-.94 2.06-2.06.94zm10 10l.94 2.06.94-2.06 2.06-.94-2.06-.94-.94-2.06-.94 2.06-2.06.94z\"/><path d=\"M17.41 7.96l-1.37-1.37c-.4-.4-.92-.59-1.43-.59-.52 0-1.04.2-1.43.59L10.3 9.45l-7.72 7.72c-.78.78-.78 2.05 0 2.83L4 21.41c.39.39.9.59 1.41.59.51 0 1.02-.2 1.41-.59l7.78-7.78 2.81-2.81c.8-.78.8-2.07 0-2.86zM5.41 20L4 18.59l7.72-7.72 1.47 1.35L5.41 20z\"/>\n",
              "  </svg>\n",
              "      </button>\n",
              "      \n",
              "  <style>\n",
              "    .colab-df-container {\n",
              "      display:flex;\n",
              "      flex-wrap:wrap;\n",
              "      gap: 12px;\n",
              "    }\n",
              "\n",
              "    .colab-df-convert {\n",
              "      background-color: #E8F0FE;\n",
              "      border: none;\n",
              "      border-radius: 50%;\n",
              "      cursor: pointer;\n",
              "      display: none;\n",
              "      fill: #1967D2;\n",
              "      height: 32px;\n",
              "      padding: 0 0 0 0;\n",
              "      width: 32px;\n",
              "    }\n",
              "\n",
              "    .colab-df-convert:hover {\n",
              "      background-color: #E2EBFA;\n",
              "      box-shadow: 0px 1px 2px rgba(60, 64, 67, 0.3), 0px 1px 3px 1px rgba(60, 64, 67, 0.15);\n",
              "      fill: #174EA6;\n",
              "    }\n",
              "\n",
              "    [theme=dark] .colab-df-convert {\n",
              "      background-color: #3B4455;\n",
              "      fill: #D2E3FC;\n",
              "    }\n",
              "\n",
              "    [theme=dark] .colab-df-convert:hover {\n",
              "      background-color: #434B5C;\n",
              "      box-shadow: 0px 1px 3px 1px rgba(0, 0, 0, 0.15);\n",
              "      filter: drop-shadow(0px 1px 2px rgba(0, 0, 0, 0.3));\n",
              "      fill: #FFFFFF;\n",
              "    }\n",
              "  </style>\n",
              "\n",
              "      <script>\n",
              "        const buttonEl =\n",
              "          document.querySelector('#df-00698aba-e6f3-4305-92f7-9ffa4cbff860 button.colab-df-convert');\n",
              "        buttonEl.style.display =\n",
              "          google.colab.kernel.accessAllowed ? 'block' : 'none';\n",
              "\n",
              "        async function convertToInteractive(key) {\n",
              "          const element = document.querySelector('#df-00698aba-e6f3-4305-92f7-9ffa4cbff860');\n",
              "          const dataTable =\n",
              "            await google.colab.kernel.invokeFunction('convertToInteractive',\n",
              "                                                     [key], {});\n",
              "          if (!dataTable) return;\n",
              "\n",
              "          const docLinkHtml = 'Like what you see? Visit the ' +\n",
              "            '<a target=\"_blank\" href=https://colab.research.google.com/notebooks/data_table.ipynb>data table notebook</a>'\n",
              "            + ' to learn more about interactive tables.';\n",
              "          element.innerHTML = '';\n",
              "          dataTable['output_type'] = 'display_data';\n",
              "          await google.colab.output.renderOutput(dataTable, element);\n",
              "          const docLink = document.createElement('div');\n",
              "          docLink.innerHTML = docLinkHtml;\n",
              "          element.appendChild(docLink);\n",
              "        }\n",
              "      </script>\n",
              "    </div>\n",
              "  </div>\n",
              "  "
            ],
            "text/plain": [
              "                event_name              user_id  ... group  event_date\n",
              "0         MainScreenAppear  4575588528974610257  ...   246  2019-07-25\n",
              "1         MainScreenAppear  7416695313311560658  ...   246  2019-07-25\n",
              "2  PaymentScreenSuccessful  3518123091307005509  ...   248  2019-07-25\n",
              "3         CartScreenAppear  3518123091307005509  ...   248  2019-07-25\n",
              "4  PaymentScreenSuccessful  6217807653094995999  ...   248  2019-07-25\n",
              "\n",
              "[5 rows x 5 columns]"
            ]
          },
          "metadata": {},
          "execution_count": 6
        }
      ],
      "source": [
        "df_logs['event_timestamp'] = df_logs['event_timestamp'].astype('datetime64[s]')\n",
        "df_logs['event_date'] = df_logs['event_timestamp'].astype('datetime64[D]')\n",
        "df_logs.head()"
      ]
    },
    {
      "cell_type": "markdown",
      "metadata": {
        "id": "_aza5iWD0XVI"
      },
      "source": [
        "**Мы переименовали столбцы, избавились от дубликатов, перевели `timestamp` в читаемый вид и добавили новый столбец с датой события.**\n",
        "\n",
        "**В результате имеем таблицу `df_logs`:**\n",
        "- event_name — название события;\n",
        "- user_id — уникальный идентификатор пользователя;\n",
        "- event_timestamp — время события;\n",
        "- group — номер эксперимента: 246 и 247 — контрольные группы, а 248 — экспериментальная;\n",
        "- event_date - дата события."
      ]
    },
    {
      "cell_type": "markdown",
      "metadata": {
        "id": "KToPPEft0XVI"
      },
      "source": [
        "## Изучение и проверка данных"
      ]
    },
    {
      "cell_type": "code",
      "execution_count": 7,
      "metadata": {
        "id": "zpZy8a2_0XVJ",
        "outputId": "c4aedc0b-d84c-480b-b5e7-4ed57af78677",
        "colab": {
          "base_uri": "https://localhost:8080/"
        }
      },
      "outputs": [
        {
          "output_type": "stream",
          "name": "stdout",
          "text": [
            "Всего в таблице 243713 событий.\n",
            "Уникальных пользователей: 7551.\n",
            "В среднем на одного пользователя приходится: 32 события.\n"
          ]
        }
      ],
      "source": [
        "print(f'Всего в таблице {len(df_logs)} событий.') \n",
        "print(f'Уникальных пользователей: {len(df_logs.user_id.unique())}.')\n",
        "print(f'В среднем на одного пользователя приходится: {round(len(df_logs) / len(df_logs.user_id.unique()))} события.')"
      ]
    },
    {
      "cell_type": "code",
      "execution_count": 8,
      "metadata": {
        "scrolled": true,
        "id": "R8IRs8d80XVJ",
        "outputId": "17999047-afc8-4c3b-9442-29d5cc836eca",
        "colab": {
          "base_uri": "https://localhost:8080/"
        }
      },
      "outputs": [
        {
          "output_type": "stream",
          "name": "stdout",
          "text": [
            "Уникальных наименований событий: 5, а именно:\n",
            "['MainScreenAppear', 'PaymentScreenSuccessful', 'CartScreenAppear', 'OffersScreenAppear', 'Tutorial']\n"
          ]
        }
      ],
      "source": [
        "print(f'Уникальных наименований событий: {len(df_logs.event_name.unique())}, а именно:')\n",
        "print(df_logs.event_name.unique().tolist())"
      ]
    },
    {
      "cell_type": "code",
      "execution_count": 9,
      "metadata": {
        "id": "fn3xipPu0XVK",
        "outputId": "38da0545-5143-4f09-e84b-37f2efac7ca2",
        "colab": {
          "base_uri": "https://localhost:8080/"
        }
      },
      "outputs": [
        {
          "output_type": "stream",
          "name": "stdout",
          "text": [
            "Мы располагаем данными за период от 2019-07-25 по 2019-08-07\n"
          ]
        }
      ],
      "source": [
        "print(f'Мы располагаем данными за период от {df_logs.event_date.dt.date.min()} по {df_logs.event_date.dt.date.max()}')"
      ]
    },
    {
      "cell_type": "code",
      "execution_count": 10,
      "metadata": {
        "id": "CCx520vD0XVK",
        "outputId": "bccb6906-254a-4fe5-a521-015291872e48",
        "colab": {
          "base_uri": "https://localhost:8080/",
          "height": 356
        }
      },
      "outputs": [
        {
          "output_type": "display_data",
          "data": {
            "image/png": "[encoded data removed]",
            "text/plain": [
              "<Figure size 1296x360 with 1 Axes>"
            ]
          },
          "metadata": {
            "needs_background": "light"
          }
        }
      ],
      "source": [
        "plt.figure(figsize= (18, 5))\n",
        "plt.hist(df_logs['event_date'], bins = 50)\n",
        "plt.title('Распределение событий по датам')\n",
        "plt.xlabel('Дата', labelpad=10)\n",
        "plt.ylabel('Количество событий', labelpad=10)\n",
        "plt.show()"
      ]
    },
    {
      "cell_type": "markdown",
      "metadata": {
        "id": "dnJc7XQH0XVL"
      },
      "source": [
        "**По факту видим, что полные данные мы имеем только за период с 2019-08-01 по 2019-08-07. Далее будем рассматривать данные только за эти 7 дней, остальные события отбросим.**"
      ]
    },
    {
      "cell_type": "code",
      "execution_count": 11,
      "metadata": {
        "id": "PljGs7EL0XVL",
        "outputId": "82bbc378-596f-4001-bfec-33882b5871c5",
        "colab": {
          "base_uri": "https://localhost:8080/"
        }
      },
      "outputs": [
        {
          "output_type": "stream",
          "name": "stdout",
          "text": [
            "В результате фильтрации данных мы потеряли 2826 (1.16%) событий и 17 (0.23%) пользователей.\n"
          ]
        }
      ],
      "source": [
        "#Создаем таблицы отфильтрованную по датам с 2019-08-01 по 2019-08-07\n",
        "df_logs_good = df_logs.query('event_date >= \"2019-08-01\" and event_date <= \"2019-08-07\"')\n",
        "\n",
        "#Считаем кол-во потерянных событий и пользователей после фильтрации\n",
        "print('В результате фильтрации данных мы потеряли {} ({:.2%}) событий и {} ({:.2%}) пользователей.'.format(\n",
        "len(df_logs) - len(df_logs_good), (len(df_logs) - len(df_logs_good))/len(df_logs),  len(df_logs.user_id.unique()) - len(df_logs_good.user_id.unique()), (len(df_logs.user_id.unique()) - len(df_logs_good.user_id.unique()))/len(df_logs.user_id.unique())))"
      ]
    },
    {
      "cell_type": "markdown",
      "metadata": {
        "id": "gpOrzGE90XVM"
      },
      "source": [
        "Проверим количество пользователей попавших в каждую группу."
      ]
    },
    {
      "cell_type": "code",
      "execution_count": 12,
      "metadata": {
        "id": "GSw--EAB0XVM",
        "outputId": "55645170-0fad-4492-de8f-738b042b64e5",
        "colab": {
          "base_uri": "https://localhost:8080/",
          "height": 174
        }
      },
      "outputs": [
        {
          "output_type": "execute_result",
          "data": {
            "text/html": [
              "\n",
              "  <div id=\"df-10cf0f9b-d6f6-4c53-8310-b1837077a893\">\n",
              "    <div class=\"colab-df-container\">\n",
              "      <div>\n",
              "<style scoped>\n",
              "    .dataframe tbody tr th:only-of-type {\n",
              "        vertical-align: middle;\n",
              "    }\n",
              "\n",
              "    .dataframe tbody tr th {\n",
              "        vertical-align: top;\n",
              "    }\n",
              "\n",
              "    .dataframe thead th {\n",
              "        text-align: right;\n",
              "    }\n",
              "</style>\n",
              "<table border=\"1\" class=\"dataframe\">\n",
              "  <thead>\n",
              "    <tr style=\"text-align: right;\">\n",
              "      <th></th>\n",
              "      <th>group</th>\n",
              "      <th>user_id</th>\n",
              "    </tr>\n",
              "  </thead>\n",
              "  <tbody>\n",
              "    <tr>\n",
              "      <th>0</th>\n",
              "      <td>246</td>\n",
              "      <td>2484</td>\n",
              "    </tr>\n",
              "    <tr>\n",
              "      <th>1</th>\n",
              "      <td>247</td>\n",
              "      <td>2513</td>\n",
              "    </tr>\n",
              "    <tr>\n",
              "      <th>2</th>\n",
              "      <td>248</td>\n",
              "      <td>2537</td>\n",
              "    </tr>\n",
              "    <tr>\n",
              "      <th>3</th>\n",
              "      <td>246+247</td>\n",
              "      <td>4997</td>\n",
              "    </tr>\n",
              "  </tbody>\n",
              "</table>\n",
              "</div>\n",
              "      <button class=\"colab-df-convert\" onclick=\"convertToInteractive('df-10cf0f9b-d6f6-4c53-8310-b1837077a893')\"\n",
              "              title=\"Convert this dataframe to an interactive table.\"\n",
              "              style=\"display:none;\">\n",
              "        \n",
              "  <svg xmlns=\"http://www.w3.org/2000/svg\" height=\"24px\"viewBox=\"0 0 24 24\"\n",
              "       width=\"24px\">\n",
              "    <path d=\"M0 0h24v24H0V0z\" fill=\"none\"/>\n",
              "    <path d=\"M18.56 5.44l.94 2.06.94-2.06 2.06-.94-2.06-.94-.94-2.06-.94 2.06-2.06.94zm-11 1L8.5 8.5l.94-2.06 2.06-.94-2.06-.94L8.5 2.5l-.94 2.06-2.06.94zm10 10l.94 2.06.94-2.06 2.06-.94-2.06-.94-.94-2.06-.94 2.06-2.06.94z\"/><path d=\"M17.41 7.96l-1.37-1.37c-.4-.4-.92-.59-1.43-.59-.52 0-1.04.2-1.43.59L10.3 9.45l-7.72 7.72c-.78.78-.78 2.05 0 2.83L4 21.41c.39.39.9.59 1.41.59.51 0 1.02-.2 1.41-.59l7.78-7.78 2.81-2.81c.8-.78.8-2.07 0-2.86zM5.41 20L4 18.59l7.72-7.72 1.47 1.35L5.41 20z\"/>\n",
              "  </svg>\n",
              "      </button>\n",
              "      \n",
              "  <style>\n",
              "    .colab-df-container {\n",
              "      display:flex;\n",
              "      flex-wrap:wrap;\n",
              "      gap: 12px;\n",
              "    }\n",
              "\n",
              "    .colab-df-convert {\n",
              "      background-color: #E8F0FE;\n",
              "      border: none;\n",
              "      border-radius: 50%;\n",
              "      cursor: pointer;\n",
              "      display: none;\n",
              "      fill: #1967D2;\n",
              "      height: 32px;\n",
              "      padding: 0 0 0 0;\n",
              "      width: 32px;\n",
              "    }\n",
              "\n",
              "    .colab-df-convert:hover {\n",
              "      background-color: #E2EBFA;\n",
              "      box-shadow: 0px 1px 2px rgba(60, 64, 67, 0.3), 0px 1px 3px 1px rgba(60, 64, 67, 0.15);\n",
              "      fill: #174EA6;\n",
              "    }\n",
              "\n",
              "    [theme=dark] .colab-df-convert {\n",
              "      background-color: #3B4455;\n",
              "      fill: #D2E3FC;\n",
              "    }\n",
              "\n",
              "    [theme=dark] .colab-df-convert:hover {\n",
              "      background-color: #434B5C;\n",
              "      box-shadow: 0px 1px 3px 1px rgba(0, 0, 0, 0.15);\n",
              "      filter: drop-shadow(0px 1px 2px rgba(0, 0, 0, 0.3));\n",
              "      fill: #FFFFFF;\n",
              "    }\n",
              "  </style>\n",
              "\n",
              "      <script>\n",
              "        const buttonEl =\n",
              "          document.querySelector('#df-10cf0f9b-d6f6-4c53-8310-b1837077a893 button.colab-df-convert');\n",
              "        buttonEl.style.display =\n",
              "          google.colab.kernel.accessAllowed ? 'block' : 'none';\n",
              "\n",
              "        async function convertToInteractive(key) {\n",
              "          const element = document.querySelector('#df-10cf0f9b-d6f6-4c53-8310-b1837077a893');\n",
              "          const dataTable =\n",
              "            await google.colab.kernel.invokeFunction('convertToInteractive',\n",
              "                                                     [key], {});\n",
              "          if (!dataTable) return;\n",
              "\n",
              "          const docLinkHtml = 'Like what you see? Visit the ' +\n",
              "            '<a target=\"_blank\" href=https://colab.research.google.com/notebooks/data_table.ipynb>data table notebook</a>'\n",
              "            + ' to learn more about interactive tables.';\n",
              "          element.innerHTML = '';\n",
              "          dataTable['output_type'] = 'display_data';\n",
              "          await google.colab.output.renderOutput(dataTable, element);\n",
              "          const docLink = document.createElement('div');\n",
              "          docLink.innerHTML = docLinkHtml;\n",
              "          element.appendChild(docLink);\n",
              "        }\n",
              "      </script>\n",
              "    </div>\n",
              "  </div>\n",
              "  "
            ],
            "text/plain": [
              "     group  user_id\n",
              "0      246     2484\n",
              "1      247     2513\n",
              "2      248     2537\n",
              "3  246+247     4997"
            ]
          },
          "metadata": {},
          "execution_count": 12
        }
      ],
      "source": [
        "df_group_count = df_logs_good.groupby('group')['user_id'].nunique().reset_index()\n",
        "\n",
        "#Добавим в таблицу результат по объединенным контрольным группам\n",
        "control_groups = pd.DataFrame(\n",
        "    [['246+247', df_logs_good[(df_logs_good['group']==246) | (df_logs_good['group']==247)]['user_id'].nunique()]],\n",
        "    columns = ['group', 'user_id'])\n",
        "df_group_count = pd.concat([df_group_count, control_groups]).reset_index(drop=True)\n",
        "\n",
        "df_group_count\n"
      ]
    },
    {
      "cell_type": "markdown",
      "metadata": {
        "id": "oLvUNfUT0XVN"
      },
      "source": [
        "Распределение пользователей в группах достаточно равномерное."
      ]
    },
    {
      "cell_type": "markdown",
      "metadata": {
        "id": "g7IdhGr00XVN"
      },
      "source": [
        "## Анализ воронки событий"
      ]
    },
    {
      "cell_type": "markdown",
      "metadata": {
        "id": "ycJnjh3Q0XVN"
      },
      "source": [
        "Посчитаем как часто встречается каждое событие."
      ]
    },
    {
      "cell_type": "code",
      "execution_count": 13,
      "metadata": {
        "id": "1mlQKJOu0XVN",
        "outputId": "54d792e4-90e0-492a-a20e-27bd9039821d",
        "colab": {
          "base_uri": "https://localhost:8080/",
          "height": 206
        }
      },
      "outputs": [
        {
          "output_type": "execute_result",
          "data": {
            "text/html": [
              "\n",
              "  <div id=\"df-a1ef8251-be25-4973-8e6f-b0b553e98980\">\n",
              "    <div class=\"colab-df-container\">\n",
              "      <div>\n",
              "<style scoped>\n",
              "    .dataframe tbody tr th:only-of-type {\n",
              "        vertical-align: middle;\n",
              "    }\n",
              "\n",
              "    .dataframe tbody tr th {\n",
              "        vertical-align: top;\n",
              "    }\n",
              "\n",
              "    .dataframe thead th {\n",
              "        text-align: right;\n",
              "    }\n",
              "</style>\n",
              "<table border=\"1\" class=\"dataframe\">\n",
              "  <thead>\n",
              "    <tr style=\"text-align: right;\">\n",
              "      <th></th>\n",
              "      <th>event_name</th>\n",
              "      <th>count</th>\n",
              "    </tr>\n",
              "  </thead>\n",
              "  <tbody>\n",
              "    <tr>\n",
              "      <th>1</th>\n",
              "      <td>MainScreenAppear</td>\n",
              "      <td>117328</td>\n",
              "    </tr>\n",
              "    <tr>\n",
              "      <th>2</th>\n",
              "      <td>OffersScreenAppear</td>\n",
              "      <td>46333</td>\n",
              "    </tr>\n",
              "    <tr>\n",
              "      <th>0</th>\n",
              "      <td>CartScreenAppear</td>\n",
              "      <td>42303</td>\n",
              "    </tr>\n",
              "    <tr>\n",
              "      <th>3</th>\n",
              "      <td>PaymentScreenSuccessful</td>\n",
              "      <td>33918</td>\n",
              "    </tr>\n",
              "    <tr>\n",
              "      <th>4</th>\n",
              "      <td>Tutorial</td>\n",
              "      <td>1005</td>\n",
              "    </tr>\n",
              "  </tbody>\n",
              "</table>\n",
              "</div>\n",
              "      <button class=\"colab-df-convert\" onclick=\"convertToInteractive('df-a1ef8251-be25-4973-8e6f-b0b553e98980')\"\n",
              "              title=\"Convert this dataframe to an interactive table.\"\n",
              "              style=\"display:none;\">\n",
              "        \n",
              "  <svg xmlns=\"http://www.w3.org/2000/svg\" height=\"24px\"viewBox=\"0 0 24 24\"\n",
              "       width=\"24px\">\n",
              "    <path d=\"M0 0h24v24H0V0z\" fill=\"none\"/>\n",
              "    <path d=\"M18.56 5.44l.94 2.06.94-2.06 2.06-.94-2.06-.94-.94-2.06-.94 2.06-2.06.94zm-11 1L8.5 8.5l.94-2.06 2.06-.94-2.06-.94L8.5 2.5l-.94 2.06-2.06.94zm10 10l.94 2.06.94-2.06 2.06-.94-2.06-.94-.94-2.06-.94 2.06-2.06.94z\"/><path d=\"M17.41 7.96l-1.37-1.37c-.4-.4-.92-.59-1.43-.59-.52 0-1.04.2-1.43.59L10.3 9.45l-7.72 7.72c-.78.78-.78 2.05 0 2.83L4 21.41c.39.39.9.59 1.41.59.51 0 1.02-.2 1.41-.59l7.78-7.78 2.81-2.81c.8-.78.8-2.07 0-2.86zM5.41 20L4 18.59l7.72-7.72 1.47 1.35L5.41 20z\"/>\n",
              "  </svg>\n",
              "      </button>\n",
              "      \n",
              "  <style>\n",
              "    .colab-df-container {\n",
              "      display:flex;\n",
              "      flex-wrap:wrap;\n",
              "      gap: 12px;\n",
              "    }\n",
              "\n",
              "    .colab-df-convert {\n",
              "      background-color: #E8F0FE;\n",
              "      border: none;\n",
              "      border-radius: 50%;\n",
              "      cursor: pointer;\n",
              "      display: none;\n",
              "      fill: #1967D2;\n",
              "      height: 32px;\n",
              "      padding: 0 0 0 0;\n",
              "      width: 32px;\n",
              "    }\n",
              "\n",
              "    .colab-df-convert:hover {\n",
              "      background-color: #E2EBFA;\n",
              "      box-shadow: 0px 1px 2px rgba(60, 64, 67, 0.3), 0px 1px 3px 1px rgba(60, 64, 67, 0.15);\n",
              "      fill: #174EA6;\n",
              "    }\n",
              "\n",
              "    [theme=dark] .colab-df-convert {\n",
              "      background-color: #3B4455;\n",
              "      fill: #D2E3FC;\n",
              "    }\n",
              "\n",
              "    [theme=dark] .colab-df-convert:hover {\n",
              "      background-color: #434B5C;\n",
              "      box-shadow: 0px 1px 3px 1px rgba(0, 0, 0, 0.15);\n",
              "      filter: drop-shadow(0px 1px 2px rgba(0, 0, 0, 0.3));\n",
              "      fill: #FFFFFF;\n",
              "    }\n",
              "  </style>\n",
              "\n",
              "      <script>\n",
              "        const buttonEl =\n",
              "          document.querySelector('#df-a1ef8251-be25-4973-8e6f-b0b553e98980 button.colab-df-convert');\n",
              "        buttonEl.style.display =\n",
              "          google.colab.kernel.accessAllowed ? 'block' : 'none';\n",
              "\n",
              "        async function convertToInteractive(key) {\n",
              "          const element = document.querySelector('#df-a1ef8251-be25-4973-8e6f-b0b553e98980');\n",
              "          const dataTable =\n",
              "            await google.colab.kernel.invokeFunction('convertToInteractive',\n",
              "                                                     [key], {});\n",
              "          if (!dataTable) return;\n",
              "\n",
              "          const docLinkHtml = 'Like what you see? Visit the ' +\n",
              "            '<a target=\"_blank\" href=https://colab.research.google.com/notebooks/data_table.ipynb>data table notebook</a>'\n",
              "            + ' to learn more about interactive tables.';\n",
              "          element.innerHTML = '';\n",
              "          dataTable['output_type'] = 'display_data';\n",
              "          await google.colab.output.renderOutput(dataTable, element);\n",
              "          const docLink = document.createElement('div');\n",
              "          docLink.innerHTML = docLinkHtml;\n",
              "          element.appendChild(docLink);\n",
              "        }\n",
              "      </script>\n",
              "    </div>\n",
              "  </div>\n",
              "  "
            ],
            "text/plain": [
              "                event_name   count\n",
              "1         MainScreenAppear  117328\n",
              "2       OffersScreenAppear   46333\n",
              "0         CartScreenAppear   42303\n",
              "3  PaymentScreenSuccessful   33918\n",
              "4                 Tutorial    1005"
            ]
          },
          "metadata": {},
          "execution_count": 13
        }
      ],
      "source": [
        "df_eventname_count = df_logs_good.groupby('event_name')['user_id'].count().reset_index().sort_values('user_id', ascending=False)\n",
        "df_eventname_count.columns = ['event_name', 'count']\n",
        "df_eventname_count"
      ]
    },
    {
      "cell_type": "markdown",
      "metadata": {
        "id": "LvvKZYgd0XVO"
      },
      "source": [
        "Посчитаем сколько пользователей (а также долю пользователей) совершали каждое из этих событий."
      ]
    },
    {
      "cell_type": "code",
      "execution_count": 14,
      "metadata": {
        "id": "5jJf4P6B0XVO",
        "outputId": "0bb75662-5fd9-4a08-e5c5-ebdb9566e4a9",
        "colab": {
          "base_uri": "https://localhost:8080/",
          "height": 206
        }
      },
      "outputs": [
        {
          "output_type": "execute_result",
          "data": {
            "text/html": [
              "\n",
              "  <div id=\"df-6114b2a6-f2dd-427a-ad34-9e75de37c385\">\n",
              "    <div class=\"colab-df-container\">\n",
              "      <div>\n",
              "<style scoped>\n",
              "    .dataframe tbody tr th:only-of-type {\n",
              "        vertical-align: middle;\n",
              "    }\n",
              "\n",
              "    .dataframe tbody tr th {\n",
              "        vertical-align: top;\n",
              "    }\n",
              "\n",
              "    .dataframe thead th {\n",
              "        text-align: right;\n",
              "    }\n",
              "</style>\n",
              "<table border=\"1\" class=\"dataframe\">\n",
              "  <thead>\n",
              "    <tr style=\"text-align: right;\">\n",
              "      <th></th>\n",
              "      <th>event_name</th>\n",
              "      <th>user_counts</th>\n",
              "      <th>part</th>\n",
              "    </tr>\n",
              "  </thead>\n",
              "  <tbody>\n",
              "    <tr>\n",
              "      <th>1</th>\n",
              "      <td>MainScreenAppear</td>\n",
              "      <td>7419</td>\n",
              "      <td>0.98</td>\n",
              "    </tr>\n",
              "    <tr>\n",
              "      <th>2</th>\n",
              "      <td>OffersScreenAppear</td>\n",
              "      <td>4593</td>\n",
              "      <td>0.61</td>\n",
              "    </tr>\n",
              "    <tr>\n",
              "      <th>0</th>\n",
              "      <td>CartScreenAppear</td>\n",
              "      <td>3734</td>\n",
              "      <td>0.50</td>\n",
              "    </tr>\n",
              "    <tr>\n",
              "      <th>3</th>\n",
              "      <td>PaymentScreenSuccessful</td>\n",
              "      <td>3539</td>\n",
              "      <td>0.47</td>\n",
              "    </tr>\n",
              "    <tr>\n",
              "      <th>4</th>\n",
              "      <td>Tutorial</td>\n",
              "      <td>840</td>\n",
              "      <td>0.11</td>\n",
              "    </tr>\n",
              "  </tbody>\n",
              "</table>\n",
              "</div>\n",
              "      <button class=\"colab-df-convert\" onclick=\"convertToInteractive('df-6114b2a6-f2dd-427a-ad34-9e75de37c385')\"\n",
              "              title=\"Convert this dataframe to an interactive table.\"\n",
              "              style=\"display:none;\">\n",
              "        \n",
              "  <svg xmlns=\"http://www.w3.org/2000/svg\" height=\"24px\"viewBox=\"0 0 24 24\"\n",
              "       width=\"24px\">\n",
              "    <path d=\"M0 0h24v24H0V0z\" fill=\"none\"/>\n",
              "    <path d=\"M18.56 5.44l.94 2.06.94-2.06 2.06-.94-2.06-.94-.94-2.06-.94 2.06-2.06.94zm-11 1L8.5 8.5l.94-2.06 2.06-.94-2.06-.94L8.5 2.5l-.94 2.06-2.06.94zm10 10l.94 2.06.94-2.06 2.06-.94-2.06-.94-.94-2.06-.94 2.06-2.06.94z\"/><path d=\"M17.41 7.96l-1.37-1.37c-.4-.4-.92-.59-1.43-.59-.52 0-1.04.2-1.43.59L10.3 9.45l-7.72 7.72c-.78.78-.78 2.05 0 2.83L4 21.41c.39.39.9.59 1.41.59.51 0 1.02-.2 1.41-.59l7.78-7.78 2.81-2.81c.8-.78.8-2.07 0-2.86zM5.41 20L4 18.59l7.72-7.72 1.47 1.35L5.41 20z\"/>\n",
              "  </svg>\n",
              "      </button>\n",
              "      \n",
              "  <style>\n",
              "    .colab-df-container {\n",
              "      display:flex;\n",
              "      flex-wrap:wrap;\n",
              "      gap: 12px;\n",
              "    }\n",
              "\n",
              "    .colab-df-convert {\n",
              "      background-color: #E8F0FE;\n",
              "      border: none;\n",
              "      border-radius: 50%;\n",
              "      cursor: pointer;\n",
              "      display: none;\n",
              "      fill: #1967D2;\n",
              "      height: 32px;\n",
              "      padding: 0 0 0 0;\n",
              "      width: 32px;\n",
              "    }\n",
              "\n",
              "    .colab-df-convert:hover {\n",
              "      background-color: #E2EBFA;\n",
              "      box-shadow: 0px 1px 2px rgba(60, 64, 67, 0.3), 0px 1px 3px 1px rgba(60, 64, 67, 0.15);\n",
              "      fill: #174EA6;\n",
              "    }\n",
              "\n",
              "    [theme=dark] .colab-df-convert {\n",
              "      background-color: #3B4455;\n",
              "      fill: #D2E3FC;\n",
              "    }\n",
              "\n",
              "    [theme=dark] .colab-df-convert:hover {\n",
              "      background-color: #434B5C;\n",
              "      box-shadow: 0px 1px 3px 1px rgba(0, 0, 0, 0.15);\n",
              "      filter: drop-shadow(0px 1px 2px rgba(0, 0, 0, 0.3));\n",
              "      fill: #FFFFFF;\n",
              "    }\n",
              "  </style>\n",
              "\n",
              "      <script>\n",
              "        const buttonEl =\n",
              "          document.querySelector('#df-6114b2a6-f2dd-427a-ad34-9e75de37c385 button.colab-df-convert');\n",
              "        buttonEl.style.display =\n",
              "          google.colab.kernel.accessAllowed ? 'block' : 'none';\n",
              "\n",
              "        async function convertToInteractive(key) {\n",
              "          const element = document.querySelector('#df-6114b2a6-f2dd-427a-ad34-9e75de37c385');\n",
              "          const dataTable =\n",
              "            await google.colab.kernel.invokeFunction('convertToInteractive',\n",
              "                                                     [key], {});\n",
              "          if (!dataTable) return;\n",
              "\n",
              "          const docLinkHtml = 'Like what you see? Visit the ' +\n",
              "            '<a target=\"_blank\" href=https://colab.research.google.com/notebooks/data_table.ipynb>data table notebook</a>'\n",
              "            + ' to learn more about interactive tables.';\n",
              "          element.innerHTML = '';\n",
              "          dataTable['output_type'] = 'display_data';\n",
              "          await google.colab.output.renderOutput(dataTable, element);\n",
              "          const docLink = document.createElement('div');\n",
              "          docLink.innerHTML = docLinkHtml;\n",
              "          element.appendChild(docLink);\n",
              "        }\n",
              "      </script>\n",
              "    </div>\n",
              "  </div>\n",
              "  "
            ],
            "text/plain": [
              "                event_name  user_counts  part\n",
              "1         MainScreenAppear         7419  0.98\n",
              "2       OffersScreenAppear         4593  0.61\n",
              "0         CartScreenAppear         3734  0.50\n",
              "3  PaymentScreenSuccessful         3539  0.47\n",
              "4                 Tutorial          840  0.11"
            ]
          },
          "metadata": {},
          "execution_count": 14
        }
      ],
      "source": [
        "#Группируем таблицу по названию событий и считаем количество уникальных пользователей\n",
        "df_eventname_userunique = df_logs_good.groupby('event_name')['user_id'].nunique().reset_index().sort_values('user_id', ascending=False)\n",
        "df_eventname_userunique.columns = ['event_name', 'user_counts']\n",
        "#Создаем столбец с долей пользователей в каждом событие от общего кол-ва уникальных пользователей в df_logs_good\n",
        "df_eventname_userunique['part'] = (df_eventname_userunique['user_counts'] / len(df_logs_good.user_id.unique())).round(2)\n",
        "df_eventname_userunique"
      ]
    },
    {
      "cell_type": "markdown",
      "metadata": {
        "id": "xbr4p6Ql0XVP"
      },
      "source": [
        "**Исходя из долей пользователей в каждом событие, можем предположить, что события происходят в следующем порядке:**\n",
        "1. MainScreenAppear - главная страница\n",
        "2. OffersScreenAppear - страница с предложением\n",
        "3. CartScreenAppear - страница с корзиной\n",
        "4. PaymentScreenSuccessful - страница успешной оплаты\n",
        "\n",
        "**Данный порядок выглядит правильным и по логике осуществления действий в приложении. <br>Событие \"Tutorial\" (инструкция), расположенное по таблице в конце воронки, не кажется логичным продолжением процесса оплаты. Вероятно это событие никак не влияет на остальные, поэтому учитывать его в воронке событий не будем.**\n",
        "\n",
        "**Также мы видим, что не все пользователи попали в приложение через главную страницу. Видимо 2% пользователей попали напрямую на страницу с предложением с различного рода рекламных ссылок.**"
      ]
    },
    {
      "cell_type": "markdown",
      "metadata": {
        "id": "Asbg2mX00XVP"
      },
      "source": [
        "Посчитаем конверсию в каждое последующее событие, то есть какая доля пользователей проходит на следующий шаг воронки (от числа пользователей на предыдущем)."
      ]
    },
    {
      "cell_type": "code",
      "execution_count": 15,
      "metadata": {
        "id": "0WuVm1eK0XVP",
        "outputId": "9eb28e2d-550f-4eb6-b48f-7dde2dce9a91",
        "colab": {
          "base_uri": "https://localhost:8080/",
          "height": 174
        }
      },
      "outputs": [
        {
          "output_type": "execute_result",
          "data": {
            "text/html": [
              "\n",
              "  <div id=\"df-448e69dc-7517-4408-a1eb-f63ba47b793e\">\n",
              "    <div class=\"colab-df-container\">\n",
              "      <div>\n",
              "<style scoped>\n",
              "    .dataframe tbody tr th:only-of-type {\n",
              "        vertical-align: middle;\n",
              "    }\n",
              "\n",
              "    .dataframe tbody tr th {\n",
              "        vertical-align: top;\n",
              "    }\n",
              "\n",
              "    .dataframe thead th {\n",
              "        text-align: right;\n",
              "    }\n",
              "</style>\n",
              "<table border=\"1\" class=\"dataframe\">\n",
              "  <thead>\n",
              "    <tr style=\"text-align: right;\">\n",
              "      <th></th>\n",
              "      <th>event_name</th>\n",
              "      <th>user_counts</th>\n",
              "      <th>part</th>\n",
              "    </tr>\n",
              "  </thead>\n",
              "  <tbody>\n",
              "    <tr>\n",
              "      <th>0</th>\n",
              "      <td>MainScreenAppear</td>\n",
              "      <td>7419</td>\n",
              "      <td>0.98</td>\n",
              "    </tr>\n",
              "    <tr>\n",
              "      <th>1</th>\n",
              "      <td>OffersScreenAppear</td>\n",
              "      <td>4593</td>\n",
              "      <td>0.61</td>\n",
              "    </tr>\n",
              "    <tr>\n",
              "      <th>2</th>\n",
              "      <td>CartScreenAppear</td>\n",
              "      <td>3734</td>\n",
              "      <td>0.50</td>\n",
              "    </tr>\n",
              "    <tr>\n",
              "      <th>3</th>\n",
              "      <td>PaymentScreenSuccessful</td>\n",
              "      <td>3539</td>\n",
              "      <td>0.47</td>\n",
              "    </tr>\n",
              "  </tbody>\n",
              "</table>\n",
              "</div>\n",
              "      <button class=\"colab-df-convert\" onclick=\"convertToInteractive('df-448e69dc-7517-4408-a1eb-f63ba47b793e')\"\n",
              "              title=\"Convert this dataframe to an interactive table.\"\n",
              "              style=\"display:none;\">\n",
              "        \n",
              "  <svg xmlns=\"http://www.w3.org/2000/svg\" height=\"24px\"viewBox=\"0 0 24 24\"\n",
              "       width=\"24px\">\n",
              "    <path d=\"M0 0h24v24H0V0z\" fill=\"none\"/>\n",
              "    <path d=\"M18.56 5.44l.94 2.06.94-2.06 2.06-.94-2.06-.94-.94-2.06-.94 2.06-2.06.94zm-11 1L8.5 8.5l.94-2.06 2.06-.94-2.06-.94L8.5 2.5l-.94 2.06-2.06.94zm10 10l.94 2.06.94-2.06 2.06-.94-2.06-.94-.94-2.06-.94 2.06-2.06.94z\"/><path d=\"M17.41 7.96l-1.37-1.37c-.4-.4-.92-.59-1.43-.59-.52 0-1.04.2-1.43.59L10.3 9.45l-7.72 7.72c-.78.78-.78 2.05 0 2.83L4 21.41c.39.39.9.59 1.41.59.51 0 1.02-.2 1.41-.59l7.78-7.78 2.81-2.81c.8-.78.8-2.07 0-2.86zM5.41 20L4 18.59l7.72-7.72 1.47 1.35L5.41 20z\"/>\n",
              "  </svg>\n",
              "      </button>\n",
              "      \n",
              "  <style>\n",
              "    .colab-df-container {\n",
              "      display:flex;\n",
              "      flex-wrap:wrap;\n",
              "      gap: 12px;\n",
              "    }\n",
              "\n",
              "    .colab-df-convert {\n",
              "      background-color: #E8F0FE;\n",
              "      border: none;\n",
              "      border-radius: 50%;\n",
              "      cursor: pointer;\n",
              "      display: none;\n",
              "      fill: #1967D2;\n",
              "      height: 32px;\n",
              "      padding: 0 0 0 0;\n",
              "      width: 32px;\n",
              "    }\n",
              "\n",
              "    .colab-df-convert:hover {\n",
              "      background-color: #E2EBFA;\n",
              "      box-shadow: 0px 1px 2px rgba(60, 64, 67, 0.3), 0px 1px 3px 1px rgba(60, 64, 67, 0.15);\n",
              "      fill: #174EA6;\n",
              "    }\n",
              "\n",
              "    [theme=dark] .colab-df-convert {\n",
              "      background-color: #3B4455;\n",
              "      fill: #D2E3FC;\n",
              "    }\n",
              "\n",
              "    [theme=dark] .colab-df-convert:hover {\n",
              "      background-color: #434B5C;\n",
              "      box-shadow: 0px 1px 3px 1px rgba(0, 0, 0, 0.15);\n",
              "      filter: drop-shadow(0px 1px 2px rgba(0, 0, 0, 0.3));\n",
              "      fill: #FFFFFF;\n",
              "    }\n",
              "  </style>\n",
              "\n",
              "      <script>\n",
              "        const buttonEl =\n",
              "          document.querySelector('#df-448e69dc-7517-4408-a1eb-f63ba47b793e button.colab-df-convert');\n",
              "        buttonEl.style.display =\n",
              "          google.colab.kernel.accessAllowed ? 'block' : 'none';\n",
              "\n",
              "        async function convertToInteractive(key) {\n",
              "          const element = document.querySelector('#df-448e69dc-7517-4408-a1eb-f63ba47b793e');\n",
              "          const dataTable =\n",
              "            await google.colab.kernel.invokeFunction('convertToInteractive',\n",
              "                                                     [key], {});\n",
              "          if (!dataTable) return;\n",
              "\n",
              "          const docLinkHtml = 'Like what you see? Visit the ' +\n",
              "            '<a target=\"_blank\" href=https://colab.research.google.com/notebooks/data_table.ipynb>data table notebook</a>'\n",
              "            + ' to learn more about interactive tables.';\n",
              "          element.innerHTML = '';\n",
              "          dataTable['output_type'] = 'display_data';\n",
              "          await google.colab.output.renderOutput(dataTable, element);\n",
              "          const docLink = document.createElement('div');\n",
              "          docLink.innerHTML = docLinkHtml;\n",
              "          element.appendChild(docLink);\n",
              "        }\n",
              "      </script>\n",
              "    </div>\n",
              "  </div>\n",
              "  "
            ],
            "text/plain": [
              "                event_name  user_counts  part\n",
              "0         MainScreenAppear         7419  0.98\n",
              "1       OffersScreenAppear         4593  0.61\n",
              "2         CartScreenAppear         3734  0.50\n",
              "3  PaymentScreenSuccessful         3539  0.47"
            ]
          },
          "metadata": {},
          "execution_count": 15
        }
      ],
      "source": [
        "#Убираем из таблицы df_eventname_userunique событие 'Tutorial' для отображения воронки\n",
        "df_eventname_convers = df_eventname_userunique.reset_index(drop=True).drop(index=[4])\n",
        "df_eventname_convers"
      ]
    },
    {
      "cell_type": "code",
      "execution_count": 16,
      "metadata": {
        "id": "GHJaGsv-0XVP",
        "outputId": "b28fad8b-f6da-40db-c5dc-0cf417026ea2",
        "colab": {
          "base_uri": "https://localhost:8080/",
          "height": 174
        }
      },
      "outputs": [
        {
          "output_type": "execute_result",
          "data": {
            "text/html": [
              "\n",
              "  <div id=\"df-1952518a-0f3f-468c-aed3-bee37379e9c0\">\n",
              "    <div class=\"colab-df-container\">\n",
              "      <div>\n",
              "<style scoped>\n",
              "    .dataframe tbody tr th:only-of-type {\n",
              "        vertical-align: middle;\n",
              "    }\n",
              "\n",
              "    .dataframe tbody tr th {\n",
              "        vertical-align: top;\n",
              "    }\n",
              "\n",
              "    .dataframe thead th {\n",
              "        text-align: right;\n",
              "    }\n",
              "</style>\n",
              "<table border=\"1\" class=\"dataframe\">\n",
              "  <thead>\n",
              "    <tr style=\"text-align: right;\">\n",
              "      <th></th>\n",
              "      <th>event_name</th>\n",
              "      <th>user_counts</th>\n",
              "      <th>part</th>\n",
              "      <th>part_from_prev</th>\n",
              "    </tr>\n",
              "  </thead>\n",
              "  <tbody>\n",
              "    <tr>\n",
              "      <th>0</th>\n",
              "      <td>MainScreenAppear</td>\n",
              "      <td>7419</td>\n",
              "      <td>0.98</td>\n",
              "      <td>1.00</td>\n",
              "    </tr>\n",
              "    <tr>\n",
              "      <th>1</th>\n",
              "      <td>OffersScreenAppear</td>\n",
              "      <td>4593</td>\n",
              "      <td>0.61</td>\n",
              "      <td>0.62</td>\n",
              "    </tr>\n",
              "    <tr>\n",
              "      <th>2</th>\n",
              "      <td>CartScreenAppear</td>\n",
              "      <td>3734</td>\n",
              "      <td>0.50</td>\n",
              "      <td>0.81</td>\n",
              "    </tr>\n",
              "    <tr>\n",
              "      <th>3</th>\n",
              "      <td>PaymentScreenSuccessful</td>\n",
              "      <td>3539</td>\n",
              "      <td>0.47</td>\n",
              "      <td>0.95</td>\n",
              "    </tr>\n",
              "  </tbody>\n",
              "</table>\n",
              "</div>\n",
              "      <button class=\"colab-df-convert\" onclick=\"convertToInteractive('df-1952518a-0f3f-468c-aed3-bee37379e9c0')\"\n",
              "              title=\"Convert this dataframe to an interactive table.\"\n",
              "              style=\"display:none;\">\n",
              "        \n",
              "  <svg xmlns=\"http://www.w3.org/2000/svg\" height=\"24px\"viewBox=\"0 0 24 24\"\n",
              "       width=\"24px\">\n",
              "    <path d=\"M0 0h24v24H0V0z\" fill=\"none\"/>\n",
              "    <path d=\"M18.56 5.44l.94 2.06.94-2.06 2.06-.94-2.06-.94-.94-2.06-.94 2.06-2.06.94zm-11 1L8.5 8.5l.94-2.06 2.06-.94-2.06-.94L8.5 2.5l-.94 2.06-2.06.94zm10 10l.94 2.06.94-2.06 2.06-.94-2.06-.94-.94-2.06-.94 2.06-2.06.94z\"/><path d=\"M17.41 7.96l-1.37-1.37c-.4-.4-.92-.59-1.43-.59-.52 0-1.04.2-1.43.59L10.3 9.45l-7.72 7.72c-.78.78-.78 2.05 0 2.83L4 21.41c.39.39.9.59 1.41.59.51 0 1.02-.2 1.41-.59l7.78-7.78 2.81-2.81c.8-.78.8-2.07 0-2.86zM5.41 20L4 18.59l7.72-7.72 1.47 1.35L5.41 20z\"/>\n",
              "  </svg>\n",
              "      </button>\n",
              "      \n",
              "  <style>\n",
              "    .colab-df-container {\n",
              "      display:flex;\n",
              "      flex-wrap:wrap;\n",
              "      gap: 12px;\n",
              "    }\n",
              "\n",
              "    .colab-df-convert {\n",
              "      background-color: #E8F0FE;\n",
              "      border: none;\n",
              "      border-radius: 50%;\n",
              "      cursor: pointer;\n",
              "      display: none;\n",
              "      fill: #1967D2;\n",
              "      height: 32px;\n",
              "      padding: 0 0 0 0;\n",
              "      width: 32px;\n",
              "    }\n",
              "\n",
              "    .colab-df-convert:hover {\n",
              "      background-color: #E2EBFA;\n",
              "      box-shadow: 0px 1px 2px rgba(60, 64, 67, 0.3), 0px 1px 3px 1px rgba(60, 64, 67, 0.15);\n",
              "      fill: #174EA6;\n",
              "    }\n",
              "\n",
              "    [theme=dark] .colab-df-convert {\n",
              "      background-color: #3B4455;\n",
              "      fill: #D2E3FC;\n",
              "    }\n",
              "\n",
              "    [theme=dark] .colab-df-convert:hover {\n",
              "      background-color: #434B5C;\n",
              "      box-shadow: 0px 1px 3px 1px rgba(0, 0, 0, 0.15);\n",
              "      filter: drop-shadow(0px 1px 2px rgba(0, 0, 0, 0.3));\n",
              "      fill: #FFFFFF;\n",
              "    }\n",
              "  </style>\n",
              "\n",
              "      <script>\n",
              "        const buttonEl =\n",
              "          document.querySelector('#df-1952518a-0f3f-468c-aed3-bee37379e9c0 button.colab-df-convert');\n",
              "        buttonEl.style.display =\n",
              "          google.colab.kernel.accessAllowed ? 'block' : 'none';\n",
              "\n",
              "        async function convertToInteractive(key) {\n",
              "          const element = document.querySelector('#df-1952518a-0f3f-468c-aed3-bee37379e9c0');\n",
              "          const dataTable =\n",
              "            await google.colab.kernel.invokeFunction('convertToInteractive',\n",
              "                                                     [key], {});\n",
              "          if (!dataTable) return;\n",
              "\n",
              "          const docLinkHtml = 'Like what you see? Visit the ' +\n",
              "            '<a target=\"_blank\" href=https://colab.research.google.com/notebooks/data_table.ipynb>data table notebook</a>'\n",
              "            + ' to learn more about interactive tables.';\n",
              "          element.innerHTML = '';\n",
              "          dataTable['output_type'] = 'display_data';\n",
              "          await google.colab.output.renderOutput(dataTable, element);\n",
              "          const docLink = document.createElement('div');\n",
              "          docLink.innerHTML = docLinkHtml;\n",
              "          element.appendChild(docLink);\n",
              "        }\n",
              "      </script>\n",
              "    </div>\n",
              "  </div>\n",
              "  "
            ],
            "text/plain": [
              "                event_name  user_counts  part  part_from_prev\n",
              "0         MainScreenAppear         7419  0.98            1.00\n",
              "1       OffersScreenAppear         4593  0.61            0.62\n",
              "2         CartScreenAppear         3734  0.50            0.81\n",
              "3  PaymentScreenSuccessful         3539  0.47            0.95"
            ]
          },
          "metadata": {},
          "execution_count": 16
        }
      ],
      "source": [
        "#Считаем конверсию в следующее событие.\n",
        "#Перебираем строки в таблице. Начиная со второй, находим отношение user_counts к предыдущей строке\n",
        "\n",
        "part_from_prev = []\n",
        "for i in df_eventname_convers.index:\n",
        "    if i == 0:\n",
        "        part = 1\n",
        "    else:\n",
        "        part = (df_eventname_convers.loc[i][1]/df_eventname_convers.loc[i-1][1]).round(2)\n",
        "    part_from_prev.append(part)   \n",
        "\n",
        "df_eventname_convers['part_from_prev'] = part_from_prev\n",
        "df_eventname_convers"
      ]
    },
    {
      "cell_type": "code",
      "execution_count": 17,
      "metadata": {
        "id": "2i7JYPuw0XVQ",
        "outputId": "876517c5-4714-4518-fdc1-bc786cd3c4bf",
        "colab": {
          "base_uri": "https://localhost:8080/",
          "height": 517
        }
      },
      "outputs": [
        {
          "output_type": "display_data",
          "data": {
            "text/html": [
              "<html>\n",
              "<head><meta charset=\"utf-8\" /></head>\n",
              "<body>\n",
              "    <div>            <script src=\"https://cdnjs.cloudflare.com/ajax/libs/mathjax/2.7.5/MathJax.js?config=TeX-AMS-MML_SVG\"></script><script type=\"text/javascript\">if (window.MathJax) {MathJax.Hub.Config({SVG: {font: \"STIX-Web\"}});}</script>                <script type=\"text/javascript\">window.PlotlyConfig = {MathJaxConfig: 'local'};</script>\n",
              "        <script src=\"https://cdn.plot.ly/plotly-2.8.3.min.js\"></script>                <div id=\"78d4b5c0-d9ff-4b2a-ad46-0a7fd938d235\" class=\"plotly-graph-div\" style=\"height:500px; width:700px;\"></div>            <script type=\"text/javascript\">                                    window.PLOTLYENV=window.PLOTLYENV || {};                                    if (document.getElementById(\"78d4b5c0-d9ff-4b2a-ad46-0a7fd938d235\")) {                    Plotly.newPlot(                        \"78d4b5c0-d9ff-4b2a-ad46-0a7fd938d235\",                        [{\"textinfo\":\"value+percent previous+percent initial\",\"textposition\":\"inside\",\"x\":[7419,4593,3734,3539],\"y\":[\"MainScreenAppear\",\"OffersScreenAppear\",\"CartScreenAppear\",\"PaymentScreenSuccessful\"],\"type\":\"funnel\"}],                        {\"template\":{\"data\":{\"bar\":[{\"error_x\":{\"color\":\"#2a3f5f\"},\"error_y\":{\"color\":\"#2a3f5f\"},\"marker\":{\"line\":{\"color\":\"#E5ECF6\",\"width\":0.5},\"pattern\":{\"fillmode\":\"overlay\",\"size\":10,\"solidity\":0.2}},\"type\":\"bar\"}],\"barpolar\":[{\"marker\":{\"line\":{\"color\":\"#E5ECF6\",\"width\":0.5},\"pattern\":{\"fillmode\":\"overlay\",\"size\":10,\"solidity\":0.2}},\"type\":\"barpolar\"}],\"carpet\":[{\"aaxis\":{\"endlinecolor\":\"#2a3f5f\",\"gridcolor\":\"white\",\"linecolor\":\"white\",\"minorgridcolor\":\"white\",\"startlinecolor\":\"#2a3f5f\"},\"baxis\":{\"endlinecolor\":\"#2a3f5f\",\"gridcolor\":\"white\",\"linecolor\":\"white\",\"minorgridcolor\":\"white\",\"startlinecolor\":\"#2a3f5f\"},\"type\":\"carpet\"}],\"choropleth\":[{\"colorbar\":{\"outlinewidth\":0,\"ticks\":\"\"},\"type\":\"choropleth\"}],\"contour\":[{\"colorbar\":{\"outlinewidth\":0,\"ticks\":\"\"},\"colorscale\":[[0.0,\"#0d0887\"],[0.1111111111111111,\"#46039f\"],[0.2222222222222222,\"#7201a8\"],[0.3333333333333333,\"#9c179e\"],[0.4444444444444444,\"#bd3786\"],[0.5555555555555556,\"#d8576b\"],[0.6666666666666666,\"#ed7953\"],[0.7777777777777778,\"#fb9f3a\"],[0.8888888888888888,\"#fdca26\"],[1.0,\"#f0f921\"]],\"type\":\"contour\"}],\"contourcarpet\":[{\"colorbar\":{\"outlinewidth\":0,\"ticks\":\"\"},\"type\":\"contourcarpet\"}],\"heatmap\":[{\"colorbar\":{\"outlinewidth\":0,\"ticks\":\"\"},\"colorscale\":[[0.0,\"#0d0887\"],[0.1111111111111111,\"#46039f\"],[0.2222222222222222,\"#7201a8\"],[0.3333333333333333,\"#9c179e\"],[0.4444444444444444,\"#bd3786\"],[0.5555555555555556,\"#d8576b\"],[0.6666666666666666,\"#ed7953\"],[0.7777777777777778,\"#fb9f3a\"],[0.8888888888888888,\"#fdca26\"],[1.0,\"#f0f921\"]],\"type\":\"heatmap\"}],\"heatmapgl\":[{\"colorbar\":{\"outlinewidth\":0,\"ticks\":\"\"},\"colorscale\":[[0.0,\"#0d0887\"],[0.1111111111111111,\"#46039f\"],[0.2222222222222222,\"#7201a8\"],[0.3333333333333333,\"#9c179e\"],[0.4444444444444444,\"#bd3786\"],[0.5555555555555556,\"#d8576b\"],[0.6666666666666666,\"#ed7953\"],[0.7777777777777778,\"#fb9f3a\"],[0.8888888888888888,\"#fdca26\"],[1.0,\"#f0f921\"]],\"type\":\"heatmapgl\"}],\"histogram\":[{\"marker\":{\"pattern\":{\"fillmode\":\"overlay\",\"size\":10,\"solidity\":0.2}},\"type\":\"histogram\"}],\"histogram2d\":[{\"colorbar\":{\"outlinewidth\":0,\"ticks\":\"\"},\"colorscale\":[[0.0,\"#0d0887\"],[0.1111111111111111,\"#46039f\"],[0.2222222222222222,\"#7201a8\"],[0.3333333333333333,\"#9c179e\"],[0.4444444444444444,\"#bd3786\"],[0.5555555555555556,\"#d8576b\"],[0.6666666666666666,\"#ed7953\"],[0.7777777777777778,\"#fb9f3a\"],[0.8888888888888888,\"#fdca26\"],[1.0,\"#f0f921\"]],\"type\":\"histogram2d\"}],\"histogram2dcontour\":[{\"colorbar\":{\"outlinewidth\":0,\"ticks\":\"\"},\"colorscale\":[[0.0,\"#0d0887\"],[0.1111111111111111,\"#46039f\"],[0.2222222222222222,\"#7201a8\"],[0.3333333333333333,\"#9c179e\"],[0.4444444444444444,\"#bd3786\"],[0.5555555555555556,\"#d8576b\"],[0.6666666666666666,\"#ed7953\"],[0.7777777777777778,\"#fb9f3a\"],[0.8888888888888888,\"#fdca26\"],[1.0,\"#f0f921\"]],\"type\":\"histogram2dcontour\"}],\"mesh3d\":[{\"colorbar\":{\"outlinewidth\":0,\"ticks\":\"\"},\"type\":\"mesh3d\"}],\"parcoords\":[{\"line\":{\"colorbar\":{\"outlinewidth\":0,\"ticks\":\"\"}},\"type\":\"parcoords\"}],\"pie\":[{\"automargin\":true,\"type\":\"pie\"}],\"scatter\":[{\"marker\":{\"colorbar\":{\"outlinewidth\":0,\"ticks\":\"\"}},\"type\":\"scatter\"}],\"scatter3d\":[{\"line\":{\"colorbar\":{\"outlinewidth\":0,\"ticks\":\"\"}},\"marker\":{\"colorbar\":{\"outlinewidth\":0,\"ticks\":\"\"}},\"type\":\"scatter3d\"}],\"scattercarpet\":[{\"marker\":{\"colorbar\":{\"outlinewidth\":0,\"ticks\":\"\"}},\"type\":\"scattercarpet\"}],\"scattergeo\":[{\"marker\":{\"colorbar\":{\"outlinewidth\":0,\"ticks\":\"\"}},\"type\":\"scattergeo\"}],\"scattergl\":[{\"marker\":{\"colorbar\":{\"outlinewidth\":0,\"ticks\":\"\"}},\"type\":\"scattergl\"}],\"scattermapbox\":[{\"marker\":{\"colorbar\":{\"outlinewidth\":0,\"ticks\":\"\"}},\"type\":\"scattermapbox\"}],\"scatterpolar\":[{\"marker\":{\"colorbar\":{\"outlinewidth\":0,\"ticks\":\"\"}},\"type\":\"scatterpolar\"}],\"scatterpolargl\":[{\"marker\":{\"colorbar\":{\"outlinewidth\":0,\"ticks\":\"\"}},\"type\":\"scatterpolargl\"}],\"scatterternary\":[{\"marker\":{\"colorbar\":{\"outlinewidth\":0,\"ticks\":\"\"}},\"type\":\"scatterternary\"}],\"surface\":[{\"colorbar\":{\"outlinewidth\":0,\"ticks\":\"\"},\"colorscale\":[[0.0,\"#0d0887\"],[0.1111111111111111,\"#46039f\"],[0.2222222222222222,\"#7201a8\"],[0.3333333333333333,\"#9c179e\"],[0.4444444444444444,\"#bd3786\"],[0.5555555555555556,\"#d8576b\"],[0.6666666666666666,\"#ed7953\"],[0.7777777777777778,\"#fb9f3a\"],[0.8888888888888888,\"#fdca26\"],[1.0,\"#f0f921\"]],\"type\":\"surface\"}],\"table\":[{\"cells\":{\"fill\":{\"color\":\"#EBF0F8\"},\"line\":{\"color\":\"white\"}},\"header\":{\"fill\":{\"color\":\"#C8D4E3\"},\"line\":{\"color\":\"white\"}},\"type\":\"table\"}]},\"layout\":{\"annotationdefaults\":{\"arrowcolor\":\"#2a3f5f\",\"arrowhead\":0,\"arrowwidth\":1},\"autotypenumbers\":\"strict\",\"coloraxis\":{\"colorbar\":{\"outlinewidth\":0,\"ticks\":\"\"}},\"colorscale\":{\"diverging\":[[0,\"#8e0152\"],[0.1,\"#c51b7d\"],[0.2,\"#de77ae\"],[0.3,\"#f1b6da\"],[0.4,\"#fde0ef\"],[0.5,\"#f7f7f7\"],[0.6,\"#e6f5d0\"],[0.7,\"#b8e186\"],[0.8,\"#7fbc41\"],[0.9,\"#4d9221\"],[1,\"#276419\"]],\"sequential\":[[0.0,\"#0d0887\"],[0.1111111111111111,\"#46039f\"],[0.2222222222222222,\"#7201a8\"],[0.3333333333333333,\"#9c179e\"],[0.4444444444444444,\"#bd3786\"],[0.5555555555555556,\"#d8576b\"],[0.6666666666666666,\"#ed7953\"],[0.7777777777777778,\"#fb9f3a\"],[0.8888888888888888,\"#fdca26\"],[1.0,\"#f0f921\"]],\"sequentialminus\":[[0.0,\"#0d0887\"],[0.1111111111111111,\"#46039f\"],[0.2222222222222222,\"#7201a8\"],[0.3333333333333333,\"#9c179e\"],[0.4444444444444444,\"#bd3786\"],[0.5555555555555556,\"#d8576b\"],[0.6666666666666666,\"#ed7953\"],[0.7777777777777778,\"#fb9f3a\"],[0.8888888888888888,\"#fdca26\"],[1.0,\"#f0f921\"]]},\"colorway\":[\"#636efa\",\"#EF553B\",\"#00cc96\",\"#ab63fa\",\"#FFA15A\",\"#19d3f3\",\"#FF6692\",\"#B6E880\",\"#FF97FF\",\"#FECB52\"],\"font\":{\"color\":\"#2a3f5f\"},\"geo\":{\"bgcolor\":\"white\",\"lakecolor\":\"white\",\"landcolor\":\"#E5ECF6\",\"showlakes\":true,\"showland\":true,\"subunitcolor\":\"white\"},\"hoverlabel\":{\"align\":\"left\"},\"hovermode\":\"closest\",\"mapbox\":{\"style\":\"light\"},\"paper_bgcolor\":\"white\",\"plot_bgcolor\":\"#E5ECF6\",\"polar\":{\"angularaxis\":{\"gridcolor\":\"white\",\"linecolor\":\"white\",\"ticks\":\"\"},\"bgcolor\":\"#E5ECF6\",\"radialaxis\":{\"gridcolor\":\"white\",\"linecolor\":\"white\",\"ticks\":\"\"}},\"scene\":{\"xaxis\":{\"backgroundcolor\":\"#E5ECF6\",\"gridcolor\":\"white\",\"gridwidth\":2,\"linecolor\":\"white\",\"showbackground\":true,\"ticks\":\"\",\"zerolinecolor\":\"white\"},\"yaxis\":{\"backgroundcolor\":\"#E5ECF6\",\"gridcolor\":\"white\",\"gridwidth\":2,\"linecolor\":\"white\",\"showbackground\":true,\"ticks\":\"\",\"zerolinecolor\":\"white\"},\"zaxis\":{\"backgroundcolor\":\"#E5ECF6\",\"gridcolor\":\"white\",\"gridwidth\":2,\"linecolor\":\"white\",\"showbackground\":true,\"ticks\":\"\",\"zerolinecolor\":\"white\"}},\"shapedefaults\":{\"line\":{\"color\":\"#2a3f5f\"}},\"ternary\":{\"aaxis\":{\"gridcolor\":\"white\",\"linecolor\":\"white\",\"ticks\":\"\"},\"baxis\":{\"gridcolor\":\"white\",\"linecolor\":\"white\",\"ticks\":\"\"},\"bgcolor\":\"#E5ECF6\",\"caxis\":{\"gridcolor\":\"white\",\"linecolor\":\"white\",\"ticks\":\"\"}},\"title\":{\"x\":0.05},\"xaxis\":{\"automargin\":true,\"gridcolor\":\"white\",\"linecolor\":\"white\",\"ticks\":\"\",\"title\":{\"standoff\":15},\"zerolinecolor\":\"white\",\"zerolinewidth\":2},\"yaxis\":{\"automargin\":true,\"gridcolor\":\"white\",\"linecolor\":\"white\",\"ticks\":\"\",\"title\":{\"standoff\":15},\"zerolinecolor\":\"white\",\"zerolinewidth\":2}}},\"height\":500,\"width\":700,\"title\":{\"text\":\"\\u0412\\u043e\\u0440\\u043e\\u043d\\u043a\\u0430 \\u0441\\u043e\\u0431\\u044b\\u0442\\u0438\\u0439 \\u043f\\u0440\\u0438\\u043b\\u043e\\u0436\\u0435\\u043d\\u0438\\u044f\"}},                        {\"responsive\": true}                    ).then(function(){\n",
              "                            \n",
              "var gd = document.getElementById('78d4b5c0-d9ff-4b2a-ad46-0a7fd938d235');\n",
              "var x = new MutationObserver(function (mutations, observer) {{\n",
              "        var display = window.getComputedStyle(gd).display;\n",
              "        if (!display || display === 'none') {{\n",
              "            console.log([gd, 'removed!']);\n",
              "            Plotly.purge(gd);\n",
              "            observer.disconnect();\n",
              "        }}\n",
              "}});\n",
              "\n",
              "// Listen for the removal of the full notebook cells\n",
              "var notebookContainer = gd.closest('#notebook-container');\n",
              "if (notebookContainer) {{\n",
              "    x.observe(notebookContainer, {childList: true});\n",
              "}}\n",
              "\n",
              "// Listen for the clearing of the current output cell\n",
              "var outputEl = gd.closest('.output');\n",
              "if (outputEl) {{\n",
              "    x.observe(outputEl, {childList: true});\n",
              "}}\n",
              "\n",
              "                        })                };                            </script>        </div>\n",
              "</body>\n",
              "</html>"
            ]
          },
          "metadata": {}
        }
      ],
      "source": [
        "#Создаем список событий\n",
        "events = df_eventname_convers['event_name']\n",
        "\n",
        "fig = go.Figure(\n",
        "    go.Funnel(\n",
        "        y=events,\n",
        "        x=df_eventname_convers['user_counts'],\n",
        "        textposition = \"inside\",\n",
        "        textinfo = \"value+percent previous+percent initial\",\n",
        "        \n",
        "    )\n",
        ")\n",
        "fig.update_layout(height=500, width=700, title='Воронка событий приложения')\n",
        "fig.show() \n"
      ]
    },
    {
      "cell_type": "markdown",
      "metadata": {
        "id": "d1eTlBqm0XVQ"
      },
      "source": [
        "**По полученным значениям конверсии из события в событие можем определить, что больше всего пользователей теряется после первого события. Всего 62% переходят на страницу с предложением. Это может говорить о том, что интерфейс главной страницы не удобен для продолжения работы с приложением.**"
      ]
    },
    {
      "cell_type": "code",
      "execution_count": 18,
      "metadata": {
        "id": "BpqQRUqo0XVR",
        "outputId": "7bda64be-6625-44eb-ef6b-fc8d879488fd",
        "colab": {
          "base_uri": "https://localhost:8080/"
        }
      },
      "outputs": [
        {
          "output_type": "stream",
          "name": "stdout",
          "text": [
            "Доля дошедших от первого события до оплаты:  0.48\n"
          ]
        }
      ],
      "source": [
        "print('Доля дошедших от первого события до оплаты: ', (\n",
        "    df_eventname_convers.loc[3][1] / df_eventname_convers.loc[0][1]).round(2))"
      ]
    },
    {
      "cell_type": "markdown",
      "metadata": {
        "id": "_B2uXIZS0XVR"
      },
      "source": [
        "**От первого события до оплаты доходит чуть меньше половины пользователей (48%).**"
      ]
    },
    {
      "cell_type": "markdown",
      "metadata": {
        "id": "Q5uOf-mg0XVR"
      },
      "source": [
        "Рассмотрим продуктовую воронку с учётом последовательности событий."
      ]
    },
    {
      "cell_type": "code",
      "execution_count": 19,
      "metadata": {
        "id": "r8_Kd4VO0XVR",
        "outputId": "d84dcfc4-2ca7-454e-f635-70b1ca125ca5",
        "colab": {
          "base_uri": "https://localhost:8080/",
          "height": 517
        }
      },
      "outputs": [
        {
          "output_type": "display_data",
          "data": {
            "text/html": [
              "<html>\n",
              "<head><meta charset=\"utf-8\" /></head>\n",
              "<body>\n",
              "    <div>            <script src=\"https://cdnjs.cloudflare.com/ajax/libs/mathjax/2.7.5/MathJax.js?config=TeX-AMS-MML_SVG\"></script><script type=\"text/javascript\">if (window.MathJax) {MathJax.Hub.Config({SVG: {font: \"STIX-Web\"}});}</script>                <script type=\"text/javascript\">window.PlotlyConfig = {MathJaxConfig: 'local'};</script>\n",
              "        <script src=\"https://cdn.plot.ly/plotly-2.8.3.min.js\"></script>                <div id=\"cc6e22ac-5a42-4581-95f3-9fa316cc12e2\" class=\"plotly-graph-div\" style=\"height:500px; width:900px;\"></div>            <script type=\"text/javascript\">                                    window.PLOTLYENV=window.PLOTLYENV || {};                                    if (document.getElementById(\"cc6e22ac-5a42-4581-95f3-9fa316cc12e2\")) {                    Plotly.newPlot(                        \"cc6e22ac-5a42-4581-95f3-9fa316cc12e2\",                        [{\"textinfo\":\"value+percent initial\",\"textposition\":\"inside\",\"x\":[7419,4201,1767,454],\"y\":[\"MainScreenAppear\",\"OffersScreenAppear\",\"CartScreenAppear\",\"PaymentScreenSuccessful\"],\"type\":\"funnel\"}],                        {\"template\":{\"data\":{\"bar\":[{\"error_x\":{\"color\":\"#2a3f5f\"},\"error_y\":{\"color\":\"#2a3f5f\"},\"marker\":{\"line\":{\"color\":\"#E5ECF6\",\"width\":0.5},\"pattern\":{\"fillmode\":\"overlay\",\"size\":10,\"solidity\":0.2}},\"type\":\"bar\"}],\"barpolar\":[{\"marker\":{\"line\":{\"color\":\"#E5ECF6\",\"width\":0.5},\"pattern\":{\"fillmode\":\"overlay\",\"size\":10,\"solidity\":0.2}},\"type\":\"barpolar\"}],\"carpet\":[{\"aaxis\":{\"endlinecolor\":\"#2a3f5f\",\"gridcolor\":\"white\",\"linecolor\":\"white\",\"minorgridcolor\":\"white\",\"startlinecolor\":\"#2a3f5f\"},\"baxis\":{\"endlinecolor\":\"#2a3f5f\",\"gridcolor\":\"white\",\"linecolor\":\"white\",\"minorgridcolor\":\"white\",\"startlinecolor\":\"#2a3f5f\"},\"type\":\"carpet\"}],\"choropleth\":[{\"colorbar\":{\"outlinewidth\":0,\"ticks\":\"\"},\"type\":\"choropleth\"}],\"contour\":[{\"colorbar\":{\"outlinewidth\":0,\"ticks\":\"\"},\"colorscale\":[[0.0,\"#0d0887\"],[0.1111111111111111,\"#46039f\"],[0.2222222222222222,\"#7201a8\"],[0.3333333333333333,\"#9c179e\"],[0.4444444444444444,\"#bd3786\"],[0.5555555555555556,\"#d8576b\"],[0.6666666666666666,\"#ed7953\"],[0.7777777777777778,\"#fb9f3a\"],[0.8888888888888888,\"#fdca26\"],[1.0,\"#f0f921\"]],\"type\":\"contour\"}],\"contourcarpet\":[{\"colorbar\":{\"outlinewidth\":0,\"ticks\":\"\"},\"type\":\"contourcarpet\"}],\"heatmap\":[{\"colorbar\":{\"outlinewidth\":0,\"ticks\":\"\"},\"colorscale\":[[0.0,\"#0d0887\"],[0.1111111111111111,\"#46039f\"],[0.2222222222222222,\"#7201a8\"],[0.3333333333333333,\"#9c179e\"],[0.4444444444444444,\"#bd3786\"],[0.5555555555555556,\"#d8576b\"],[0.6666666666666666,\"#ed7953\"],[0.7777777777777778,\"#fb9f3a\"],[0.8888888888888888,\"#fdca26\"],[1.0,\"#f0f921\"]],\"type\":\"heatmap\"}],\"heatmapgl\":[{\"colorbar\":{\"outlinewidth\":0,\"ticks\":\"\"},\"colorscale\":[[0.0,\"#0d0887\"],[0.1111111111111111,\"#46039f\"],[0.2222222222222222,\"#7201a8\"],[0.3333333333333333,\"#9c179e\"],[0.4444444444444444,\"#bd3786\"],[0.5555555555555556,\"#d8576b\"],[0.6666666666666666,\"#ed7953\"],[0.7777777777777778,\"#fb9f3a\"],[0.8888888888888888,\"#fdca26\"],[1.0,\"#f0f921\"]],\"type\":\"heatmapgl\"}],\"histogram\":[{\"marker\":{\"pattern\":{\"fillmode\":\"overlay\",\"size\":10,\"solidity\":0.2}},\"type\":\"histogram\"}],\"histogram2d\":[{\"colorbar\":{\"outlinewidth\":0,\"ticks\":\"\"},\"colorscale\":[[0.0,\"#0d0887\"],[0.1111111111111111,\"#46039f\"],[0.2222222222222222,\"#7201a8\"],[0.3333333333333333,\"#9c179e\"],[0.4444444444444444,\"#bd3786\"],[0.5555555555555556,\"#d8576b\"],[0.6666666666666666,\"#ed7953\"],[0.7777777777777778,\"#fb9f3a\"],[0.8888888888888888,\"#fdca26\"],[1.0,\"#f0f921\"]],\"type\":\"histogram2d\"}],\"histogram2dcontour\":[{\"colorbar\":{\"outlinewidth\":0,\"ticks\":\"\"},\"colorscale\":[[0.0,\"#0d0887\"],[0.1111111111111111,\"#46039f\"],[0.2222222222222222,\"#7201a8\"],[0.3333333333333333,\"#9c179e\"],[0.4444444444444444,\"#bd3786\"],[0.5555555555555556,\"#d8576b\"],[0.6666666666666666,\"#ed7953\"],[0.7777777777777778,\"#fb9f3a\"],[0.8888888888888888,\"#fdca26\"],[1.0,\"#f0f921\"]],\"type\":\"histogram2dcontour\"}],\"mesh3d\":[{\"colorbar\":{\"outlinewidth\":0,\"ticks\":\"\"},\"type\":\"mesh3d\"}],\"parcoords\":[{\"line\":{\"colorbar\":{\"outlinewidth\":0,\"ticks\":\"\"}},\"type\":\"parcoords\"}],\"pie\":[{\"automargin\":true,\"type\":\"pie\"}],\"scatter\":[{\"marker\":{\"colorbar\":{\"outlinewidth\":0,\"ticks\":\"\"}},\"type\":\"scatter\"}],\"scatter3d\":[{\"line\":{\"colorbar\":{\"outlinewidth\":0,\"ticks\":\"\"}},\"marker\":{\"colorbar\":{\"outlinewidth\":0,\"ticks\":\"\"}},\"type\":\"scatter3d\"}],\"scattercarpet\":[{\"marker\":{\"colorbar\":{\"outlinewidth\":0,\"ticks\":\"\"}},\"type\":\"scattercarpet\"}],\"scattergeo\":[{\"marker\":{\"colorbar\":{\"outlinewidth\":0,\"ticks\":\"\"}},\"type\":\"scattergeo\"}],\"scattergl\":[{\"marker\":{\"colorbar\":{\"outlinewidth\":0,\"ticks\":\"\"}},\"type\":\"scattergl\"}],\"scattermapbox\":[{\"marker\":{\"colorbar\":{\"outlinewidth\":0,\"ticks\":\"\"}},\"type\":\"scattermapbox\"}],\"scatterpolar\":[{\"marker\":{\"colorbar\":{\"outlinewidth\":0,\"ticks\":\"\"}},\"type\":\"scatterpolar\"}],\"scatterpolargl\":[{\"marker\":{\"colorbar\":{\"outlinewidth\":0,\"ticks\":\"\"}},\"type\":\"scatterpolargl\"}],\"scatterternary\":[{\"marker\":{\"colorbar\":{\"outlinewidth\":0,\"ticks\":\"\"}},\"type\":\"scatterternary\"}],\"surface\":[{\"colorbar\":{\"outlinewidth\":0,\"ticks\":\"\"},\"colorscale\":[[0.0,\"#0d0887\"],[0.1111111111111111,\"#46039f\"],[0.2222222222222222,\"#7201a8\"],[0.3333333333333333,\"#9c179e\"],[0.4444444444444444,\"#bd3786\"],[0.5555555555555556,\"#d8576b\"],[0.6666666666666666,\"#ed7953\"],[0.7777777777777778,\"#fb9f3a\"],[0.8888888888888888,\"#fdca26\"],[1.0,\"#f0f921\"]],\"type\":\"surface\"}],\"table\":[{\"cells\":{\"fill\":{\"color\":\"#EBF0F8\"},\"line\":{\"color\":\"white\"}},\"header\":{\"fill\":{\"color\":\"#C8D4E3\"},\"line\":{\"color\":\"white\"}},\"type\":\"table\"}]},\"layout\":{\"annotationdefaults\":{\"arrowcolor\":\"#2a3f5f\",\"arrowhead\":0,\"arrowwidth\":1},\"autotypenumbers\":\"strict\",\"coloraxis\":{\"colorbar\":{\"outlinewidth\":0,\"ticks\":\"\"}},\"colorscale\":{\"diverging\":[[0,\"#8e0152\"],[0.1,\"#c51b7d\"],[0.2,\"#de77ae\"],[0.3,\"#f1b6da\"],[0.4,\"#fde0ef\"],[0.5,\"#f7f7f7\"],[0.6,\"#e6f5d0\"],[0.7,\"#b8e186\"],[0.8,\"#7fbc41\"],[0.9,\"#4d9221\"],[1,\"#276419\"]],\"sequential\":[[0.0,\"#0d0887\"],[0.1111111111111111,\"#46039f\"],[0.2222222222222222,\"#7201a8\"],[0.3333333333333333,\"#9c179e\"],[0.4444444444444444,\"#bd3786\"],[0.5555555555555556,\"#d8576b\"],[0.6666666666666666,\"#ed7953\"],[0.7777777777777778,\"#fb9f3a\"],[0.8888888888888888,\"#fdca26\"],[1.0,\"#f0f921\"]],\"sequentialminus\":[[0.0,\"#0d0887\"],[0.1111111111111111,\"#46039f\"],[0.2222222222222222,\"#7201a8\"],[0.3333333333333333,\"#9c179e\"],[0.4444444444444444,\"#bd3786\"],[0.5555555555555556,\"#d8576b\"],[0.6666666666666666,\"#ed7953\"],[0.7777777777777778,\"#fb9f3a\"],[0.8888888888888888,\"#fdca26\"],[1.0,\"#f0f921\"]]},\"colorway\":[\"#636efa\",\"#EF553B\",\"#00cc96\",\"#ab63fa\",\"#FFA15A\",\"#19d3f3\",\"#FF6692\",\"#B6E880\",\"#FF97FF\",\"#FECB52\"],\"font\":{\"color\":\"#2a3f5f\"},\"geo\":{\"bgcolor\":\"white\",\"lakecolor\":\"white\",\"landcolor\":\"#E5ECF6\",\"showlakes\":true,\"showland\":true,\"subunitcolor\":\"white\"},\"hoverlabel\":{\"align\":\"left\"},\"hovermode\":\"closest\",\"mapbox\":{\"style\":\"light\"},\"paper_bgcolor\":\"white\",\"plot_bgcolor\":\"#E5ECF6\",\"polar\":{\"angularaxis\":{\"gridcolor\":\"white\",\"linecolor\":\"white\",\"ticks\":\"\"},\"bgcolor\":\"#E5ECF6\",\"radialaxis\":{\"gridcolor\":\"white\",\"linecolor\":\"white\",\"ticks\":\"\"}},\"scene\":{\"xaxis\":{\"backgroundcolor\":\"#E5ECF6\",\"gridcolor\":\"white\",\"gridwidth\":2,\"linecolor\":\"white\",\"showbackground\":true,\"ticks\":\"\",\"zerolinecolor\":\"white\"},\"yaxis\":{\"backgroundcolor\":\"#E5ECF6\",\"gridcolor\":\"white\",\"gridwidth\":2,\"linecolor\":\"white\",\"showbackground\":true,\"ticks\":\"\",\"zerolinecolor\":\"white\"},\"zaxis\":{\"backgroundcolor\":\"#E5ECF6\",\"gridcolor\":\"white\",\"gridwidth\":2,\"linecolor\":\"white\",\"showbackground\":true,\"ticks\":\"\",\"zerolinecolor\":\"white\"}},\"shapedefaults\":{\"line\":{\"color\":\"#2a3f5f\"}},\"ternary\":{\"aaxis\":{\"gridcolor\":\"white\",\"linecolor\":\"white\",\"ticks\":\"\"},\"baxis\":{\"gridcolor\":\"white\",\"linecolor\":\"white\",\"ticks\":\"\"},\"bgcolor\":\"#E5ECF6\",\"caxis\":{\"gridcolor\":\"white\",\"linecolor\":\"white\",\"ticks\":\"\"}},\"title\":{\"x\":0.05},\"xaxis\":{\"automargin\":true,\"gridcolor\":\"white\",\"linecolor\":\"white\",\"ticks\":\"\",\"title\":{\"standoff\":15},\"zerolinecolor\":\"white\",\"zerolinewidth\":2},\"yaxis\":{\"automargin\":true,\"gridcolor\":\"white\",\"linecolor\":\"white\",\"ticks\":\"\",\"title\":{\"standoff\":15},\"zerolinecolor\":\"white\",\"zerolinewidth\":2}}},\"height\":500,\"width\":900,\"title\":{\"text\":\"\\u0412\\u043e\\u0440\\u043e\\u043d\\u043a\\u0430 \\u0441 \\u0443\\u0447\\u0451\\u0442\\u043e\\u043c \\u043f\\u043e\\u0441\\u043b\\u0435\\u0434\\u043e\\u0432\\u0430\\u0442\\u0435\\u043b\\u044c\\u043d\\u043e\\u0441\\u0442\\u0438 \\u0441\\u043e\\u0431\\u044b\\u0442\\u0438\\u0439\"}},                        {\"responsive\": true}                    ).then(function(){\n",
              "                            \n",
              "var gd = document.getElementById('cc6e22ac-5a42-4581-95f3-9fa316cc12e2');\n",
              "var x = new MutationObserver(function (mutations, observer) {{\n",
              "        var display = window.getComputedStyle(gd).display;\n",
              "        if (!display || display === 'none') {{\n",
              "            console.log([gd, 'removed!']);\n",
              "            Plotly.purge(gd);\n",
              "            observer.disconnect();\n",
              "        }}\n",
              "}});\n",
              "\n",
              "// Listen for the removal of the full notebook cells\n",
              "var notebookContainer = gd.closest('#notebook-container');\n",
              "if (notebookContainer) {{\n",
              "    x.observe(notebookContainer, {childList: true});\n",
              "}}\n",
              "\n",
              "// Listen for the clearing of the current output cell\n",
              "var outputEl = gd.closest('.output');\n",
              "if (outputEl) {{\n",
              "    x.observe(outputEl, {childList: true});\n",
              "}}\n",
              "\n",
              "                        })                };                            </script>        </div>\n",
              "</body>\n",
              "</html>"
            ]
          },
          "metadata": {}
        }
      ],
      "source": [
        "#Находим время первых совершенных действий пользователей по каждому событию\n",
        "users = df_logs_good[df_logs_good['event_name'] != 'Tutorial'].pivot_table(\n",
        "        index='user_id', \n",
        "        columns='event_name', \n",
        "        values='event_timestamp',\n",
        "        aggfunc='min').reset_index()\n",
        "\n",
        "#Находим кол-во (кол-во строк) пользователей, которые начали с первого события\n",
        "#и далее время последующего события было больше предыдущего\n",
        "funnel_seq = []\n",
        "step_1 = ~users['MainScreenAppear'].isna()\n",
        "step_2 = step_1 & (users['OffersScreenAppear'] > users['MainScreenAppear'])\n",
        "step_3 = step_2 & (users['CartScreenAppear'] > users['OffersScreenAppear'])\n",
        "step_4 = step_3 & (users['PaymentScreenSuccessful'] > users['CartScreenAppear'])\n",
        "funnel_seq.append(users[step_1].shape[0])\n",
        "funnel_seq.append(users[step_2].shape[0])\n",
        "funnel_seq.append(users[step_3].shape[0])\n",
        "funnel_seq.append(users[step_4].shape[0])\n",
        "\n",
        "\n",
        "fig = go.Figure(\n",
        "    go.Funnel(\n",
        "        y=events,\n",
        "        x=funnel_seq,\n",
        "        textposition = \"inside\",\n",
        "        textinfo = \"value+percent initial\",\n",
        "   )\n",
        ")\n",
        "fig.update_layout(height=500, width=900, title='Воронка с учётом последовательности событий')\n",
        "fig.show() "
      ]
    },
    {
      "cell_type": "markdown",
      "metadata": {
        "id": "-mkJyOmr0XVX"
      },
      "source": [
        "**Сравнивая две воронки наблюдаем, что далеко не все пользователи идут по ожидаемому пути из событий.**"
      ]
    },
    {
      "cell_type": "markdown",
      "metadata": {
        "id": "ATRLkS_z0XVX"
      },
      "source": [
        "##  Анализ результатов A/A/B-теста"
      ]
    },
    {
      "cell_type": "code",
      "execution_count": 20,
      "metadata": {
        "id": "zZSLinG10XVX",
        "outputId": "b24d8c93-cb34-450b-edff-6ae03cf2198a",
        "colab": {
          "base_uri": "https://localhost:8080/",
          "height": 206
        }
      },
      "outputs": [
        {
          "output_type": "execute_result",
          "data": {
            "text/html": [
              "\n",
              "  <div id=\"df-b24abf37-e437-4437-b24d-3725305c893d\">\n",
              "    <div class=\"colab-df-container\">\n",
              "      <div>\n",
              "<style scoped>\n",
              "    .dataframe tbody tr th:only-of-type {\n",
              "        vertical-align: middle;\n",
              "    }\n",
              "\n",
              "    .dataframe tbody tr th {\n",
              "        vertical-align: top;\n",
              "    }\n",
              "\n",
              "    .dataframe thead th {\n",
              "        text-align: right;\n",
              "    }\n",
              "</style>\n",
              "<table border=\"1\" class=\"dataframe\">\n",
              "  <thead>\n",
              "    <tr style=\"text-align: right;\">\n",
              "      <th></th>\n",
              "      <th>user_id</th>\n",
              "      <th>part</th>\n",
              "    </tr>\n",
              "    <tr>\n",
              "      <th>group</th>\n",
              "      <th></th>\n",
              "      <th></th>\n",
              "    </tr>\n",
              "  </thead>\n",
              "  <tbody>\n",
              "    <tr>\n",
              "      <th>246</th>\n",
              "      <td>2484</td>\n",
              "      <td>0.33</td>\n",
              "    </tr>\n",
              "    <tr>\n",
              "      <th>247</th>\n",
              "      <td>2513</td>\n",
              "      <td>0.33</td>\n",
              "    </tr>\n",
              "    <tr>\n",
              "      <th>248</th>\n",
              "      <td>2537</td>\n",
              "      <td>0.34</td>\n",
              "    </tr>\n",
              "    <tr>\n",
              "      <th>246+247</th>\n",
              "      <td>4997</td>\n",
              "      <td>0.66</td>\n",
              "    </tr>\n",
              "  </tbody>\n",
              "</table>\n",
              "</div>\n",
              "      <button class=\"colab-df-convert\" onclick=\"convertToInteractive('df-b24abf37-e437-4437-b24d-3725305c893d')\"\n",
              "              title=\"Convert this dataframe to an interactive table.\"\n",
              "              style=\"display:none;\">\n",
              "        \n",
              "  <svg xmlns=\"http://www.w3.org/2000/svg\" height=\"24px\"viewBox=\"0 0 24 24\"\n",
              "       width=\"24px\">\n",
              "    <path d=\"M0 0h24v24H0V0z\" fill=\"none\"/>\n",
              "    <path d=\"M18.56 5.44l.94 2.06.94-2.06 2.06-.94-2.06-.94-.94-2.06-.94 2.06-2.06.94zm-11 1L8.5 8.5l.94-2.06 2.06-.94-2.06-.94L8.5 2.5l-.94 2.06-2.06.94zm10 10l.94 2.06.94-2.06 2.06-.94-2.06-.94-.94-2.06-.94 2.06-2.06.94z\"/><path d=\"M17.41 7.96l-1.37-1.37c-.4-.4-.92-.59-1.43-.59-.52 0-1.04.2-1.43.59L10.3 9.45l-7.72 7.72c-.78.78-.78 2.05 0 2.83L4 21.41c.39.39.9.59 1.41.59.51 0 1.02-.2 1.41-.59l7.78-7.78 2.81-2.81c.8-.78.8-2.07 0-2.86zM5.41 20L4 18.59l7.72-7.72 1.47 1.35L5.41 20z\"/>\n",
              "  </svg>\n",
              "      </button>\n",
              "      \n",
              "  <style>\n",
              "    .colab-df-container {\n",
              "      display:flex;\n",
              "      flex-wrap:wrap;\n",
              "      gap: 12px;\n",
              "    }\n",
              "\n",
              "    .colab-df-convert {\n",
              "      background-color: #E8F0FE;\n",
              "      border: none;\n",
              "      border-radius: 50%;\n",
              "      cursor: pointer;\n",
              "      display: none;\n",
              "      fill: #1967D2;\n",
              "      height: 32px;\n",
              "      padding: 0 0 0 0;\n",
              "      width: 32px;\n",
              "    }\n",
              "\n",
              "    .colab-df-convert:hover {\n",
              "      background-color: #E2EBFA;\n",
              "      box-shadow: 0px 1px 2px rgba(60, 64, 67, 0.3), 0px 1px 3px 1px rgba(60, 64, 67, 0.15);\n",
              "      fill: #174EA6;\n",
              "    }\n",
              "\n",
              "    [theme=dark] .colab-df-convert {\n",
              "      background-color: #3B4455;\n",
              "      fill: #D2E3FC;\n",
              "    }\n",
              "\n",
              "    [theme=dark] .colab-df-convert:hover {\n",
              "      background-color: #434B5C;\n",
              "      box-shadow: 0px 1px 3px 1px rgba(0, 0, 0, 0.15);\n",
              "      filter: drop-shadow(0px 1px 2px rgba(0, 0, 0, 0.3));\n",
              "      fill: #FFFFFF;\n",
              "    }\n",
              "  </style>\n",
              "\n",
              "      <script>\n",
              "        const buttonEl =\n",
              "          document.querySelector('#df-b24abf37-e437-4437-b24d-3725305c893d button.colab-df-convert');\n",
              "        buttonEl.style.display =\n",
              "          google.colab.kernel.accessAllowed ? 'block' : 'none';\n",
              "\n",
              "        async function convertToInteractive(key) {\n",
              "          const element = document.querySelector('#df-b24abf37-e437-4437-b24d-3725305c893d');\n",
              "          const dataTable =\n",
              "            await google.colab.kernel.invokeFunction('convertToInteractive',\n",
              "                                                     [key], {});\n",
              "          if (!dataTable) return;\n",
              "\n",
              "          const docLinkHtml = 'Like what you see? Visit the ' +\n",
              "            '<a target=\"_blank\" href=https://colab.research.google.com/notebooks/data_table.ipynb>data table notebook</a>'\n",
              "            + ' to learn more about interactive tables.';\n",
              "          element.innerHTML = '';\n",
              "          dataTable['output_type'] = 'display_data';\n",
              "          await google.colab.output.renderOutput(dataTable, element);\n",
              "          const docLink = document.createElement('div');\n",
              "          docLink.innerHTML = docLinkHtml;\n",
              "          element.appendChild(docLink);\n",
              "        }\n",
              "      </script>\n",
              "    </div>\n",
              "  </div>\n",
              "  "
            ],
            "text/plain": [
              "         user_id  part\n",
              "group                 \n",
              "246         2484  0.33\n",
              "247         2513  0.33\n",
              "248         2537  0.34\n",
              "246+247     4997  0.66"
            ]
          },
          "metadata": {},
          "execution_count": 20
        }
      ],
      "source": [
        "#Считаем долю пользователей в каждой группе от общего количества\n",
        "df_group_count['part'] = (df_group_count['user_id'] / len(df_logs_good.user_id.unique())).round(2)\n",
        "df_group_count.index = df_group_count['group']\n",
        "df_group_count = df_group_count.drop(columns='group')\n",
        "\n",
        "df_group_count"
      ]
    },
    {
      "cell_type": "markdown",
      "metadata": {
        "id": "_ab5py9r0XVY"
      },
      "source": [
        "**Как отмечали ранее распределение пользователей в группах достаточно равномерное (33-34%).**"
      ]
    },
    {
      "cell_type": "markdown",
      "metadata": {
        "id": "nIugpWsl0XVY"
      },
      "source": [
        "Посчитаем количество пользователей на каждом событие в каждой группе отдельно."
      ]
    },
    {
      "cell_type": "code",
      "execution_count": 21,
      "metadata": {
        "id": "gLaaW1Nc0XVY",
        "outputId": "d84b3d78-8823-4f67-94f8-b6fb59544b82",
        "colab": {
          "base_uri": "https://localhost:8080/",
          "height": 174
        }
      },
      "outputs": [
        {
          "output_type": "execute_result",
          "data": {
            "text/html": [
              "\n",
              "  <div id=\"df-a4853723-2081-42fd-b8ca-baac2bcc7ebc\">\n",
              "    <div class=\"colab-df-container\">\n",
              "      <div>\n",
              "<style scoped>\n",
              "    .dataframe tbody tr th:only-of-type {\n",
              "        vertical-align: middle;\n",
              "    }\n",
              "\n",
              "    .dataframe tbody tr th {\n",
              "        vertical-align: top;\n",
              "    }\n",
              "\n",
              "    .dataframe thead th {\n",
              "        text-align: right;\n",
              "    }\n",
              "</style>\n",
              "<table border=\"1\" class=\"dataframe\">\n",
              "  <thead>\n",
              "    <tr style=\"text-align: right;\">\n",
              "      <th></th>\n",
              "      <th>246</th>\n",
              "      <th>247</th>\n",
              "      <th>248</th>\n",
              "      <th>246+247</th>\n",
              "      <th>event_name</th>\n",
              "    </tr>\n",
              "  </thead>\n",
              "  <tbody>\n",
              "    <tr>\n",
              "      <th>0</th>\n",
              "      <td>2450</td>\n",
              "      <td>2476</td>\n",
              "      <td>2493</td>\n",
              "      <td>4926</td>\n",
              "      <td>MainScreenAppear</td>\n",
              "    </tr>\n",
              "    <tr>\n",
              "      <th>1</th>\n",
              "      <td>1542</td>\n",
              "      <td>1520</td>\n",
              "      <td>1531</td>\n",
              "      <td>3062</td>\n",
              "      <td>OffersScreenAppear</td>\n",
              "    </tr>\n",
              "    <tr>\n",
              "      <th>2</th>\n",
              "      <td>1266</td>\n",
              "      <td>1238</td>\n",
              "      <td>1230</td>\n",
              "      <td>2504</td>\n",
              "      <td>CartScreenAppear</td>\n",
              "    </tr>\n",
              "    <tr>\n",
              "      <th>3</th>\n",
              "      <td>1200</td>\n",
              "      <td>1158</td>\n",
              "      <td>1181</td>\n",
              "      <td>2358</td>\n",
              "      <td>PaymentScreenSuccessful</td>\n",
              "    </tr>\n",
              "  </tbody>\n",
              "</table>\n",
              "</div>\n",
              "      <button class=\"colab-df-convert\" onclick=\"convertToInteractive('df-a4853723-2081-42fd-b8ca-baac2bcc7ebc')\"\n",
              "              title=\"Convert this dataframe to an interactive table.\"\n",
              "              style=\"display:none;\">\n",
              "        \n",
              "  <svg xmlns=\"http://www.w3.org/2000/svg\" height=\"24px\"viewBox=\"0 0 24 24\"\n",
              "       width=\"24px\">\n",
              "    <path d=\"M0 0h24v24H0V0z\" fill=\"none\"/>\n",
              "    <path d=\"M18.56 5.44l.94 2.06.94-2.06 2.06-.94-2.06-.94-.94-2.06-.94 2.06-2.06.94zm-11 1L8.5 8.5l.94-2.06 2.06-.94-2.06-.94L8.5 2.5l-.94 2.06-2.06.94zm10 10l.94 2.06.94-2.06 2.06-.94-2.06-.94-.94-2.06-.94 2.06-2.06.94z\"/><path d=\"M17.41 7.96l-1.37-1.37c-.4-.4-.92-.59-1.43-.59-.52 0-1.04.2-1.43.59L10.3 9.45l-7.72 7.72c-.78.78-.78 2.05 0 2.83L4 21.41c.39.39.9.59 1.41.59.51 0 1.02-.2 1.41-.59l7.78-7.78 2.81-2.81c.8-.78.8-2.07 0-2.86zM5.41 20L4 18.59l7.72-7.72 1.47 1.35L5.41 20z\"/>\n",
              "  </svg>\n",
              "      </button>\n",
              "      \n",
              "  <style>\n",
              "    .colab-df-container {\n",
              "      display:flex;\n",
              "      flex-wrap:wrap;\n",
              "      gap: 12px;\n",
              "    }\n",
              "\n",
              "    .colab-df-convert {\n",
              "      background-color: #E8F0FE;\n",
              "      border: none;\n",
              "      border-radius: 50%;\n",
              "      cursor: pointer;\n",
              "      display: none;\n",
              "      fill: #1967D2;\n",
              "      height: 32px;\n",
              "      padding: 0 0 0 0;\n",
              "      width: 32px;\n",
              "    }\n",
              "\n",
              "    .colab-df-convert:hover {\n",
              "      background-color: #E2EBFA;\n",
              "      box-shadow: 0px 1px 2px rgba(60, 64, 67, 0.3), 0px 1px 3px 1px rgba(60, 64, 67, 0.15);\n",
              "      fill: #174EA6;\n",
              "    }\n",
              "\n",
              "    [theme=dark] .colab-df-convert {\n",
              "      background-color: #3B4455;\n",
              "      fill: #D2E3FC;\n",
              "    }\n",
              "\n",
              "    [theme=dark] .colab-df-convert:hover {\n",
              "      background-color: #434B5C;\n",
              "      box-shadow: 0px 1px 3px 1px rgba(0, 0, 0, 0.15);\n",
              "      filter: drop-shadow(0px 1px 2px rgba(0, 0, 0, 0.3));\n",
              "      fill: #FFFFFF;\n",
              "    }\n",
              "  </style>\n",
              "\n",
              "      <script>\n",
              "        const buttonEl =\n",
              "          document.querySelector('#df-a4853723-2081-42fd-b8ca-baac2bcc7ebc button.colab-df-convert');\n",
              "        buttonEl.style.display =\n",
              "          google.colab.kernel.accessAllowed ? 'block' : 'none';\n",
              "\n",
              "        async function convertToInteractive(key) {\n",
              "          const element = document.querySelector('#df-a4853723-2081-42fd-b8ca-baac2bcc7ebc');\n",
              "          const dataTable =\n",
              "            await google.colab.kernel.invokeFunction('convertToInteractive',\n",
              "                                                     [key], {});\n",
              "          if (!dataTable) return;\n",
              "\n",
              "          const docLinkHtml = 'Like what you see? Visit the ' +\n",
              "            '<a target=\"_blank\" href=https://colab.research.google.com/notebooks/data_table.ipynb>data table notebook</a>'\n",
              "            + ' to learn more about interactive tables.';\n",
              "          element.innerHTML = '';\n",
              "          dataTable['output_type'] = 'display_data';\n",
              "          await google.colab.output.renderOutput(dataTable, element);\n",
              "          const docLink = document.createElement('div');\n",
              "          docLink.innerHTML = docLinkHtml;\n",
              "          element.appendChild(docLink);\n",
              "        }\n",
              "      </script>\n",
              "    </div>\n",
              "  </div>\n",
              "  "
            ],
            "text/plain": [
              "    246   247   248  246+247               event_name\n",
              "0  2450  2476  2493     4926         MainScreenAppear\n",
              "1  1542  1520  1531     3062       OffersScreenAppear\n",
              "2  1266  1238  1230     2504         CartScreenAppear\n",
              "3  1200  1158  1181     2358  PaymentScreenSuccessful"
            ]
          },
          "metadata": {},
          "execution_count": 21
        }
      ],
      "source": [
        "#Создаем список групп\n",
        "groups = df_group_count.index\n",
        "\n",
        "#Создаем таблицу с воронкой: считаем кол-во уникальных пользователей на каждом событии в каждой группе\n",
        "funnel = {}\n",
        "for group in groups:\n",
        "    funnel[group] = []\n",
        "    for event in events:\n",
        "        funnel[group].append(df_logs_good[(df_logs_good['group'] == group) & (df_logs_good['event_name'] == event)]['user_id'].nunique())\n",
        "\n",
        "\n",
        "df_funnel = pd.DataFrame(funnel)\n",
        "df_funnel['246+247'] = df_funnel[246] + df_funnel[247]\n",
        "df_funnel['event_name'] = events\n",
        "df_funnel"
      ]
    },
    {
      "cell_type": "markdown",
      "metadata": {
        "id": "vV5YjtAn0XVY"
      },
      "source": [
        "**Наиболее популярное событие во всех группах - \"MainScreenAppear\" (главная страница).**"
      ]
    },
    {
      "cell_type": "markdown",
      "metadata": {
        "id": "9nBvMNBr0XVZ"
      },
      "source": [
        "Создадим воронку событий с конверсиями для каждой пары групп и проверим статистическую значимость результатов конверсии."
      ]
    },
    {
      "cell_type": "code",
      "execution_count": 22,
      "metadata": {
        "id": "x-ivedlB0XVZ"
      },
      "outputs": [],
      "source": [
        "#Функция для расчета p-value (для каждого события) и построения воронки для двух групп\n",
        "def p_value_test(group_1, group_2, alpha):\n",
        "    alpha = alpha\n",
        "    for i in df_funnel.index:\n",
        "        #Доля пользователей, перешедших на событие в первой группе\n",
        "        p1 = df_funnel[group_1][i] / df_group_count['user_id'][group_1]\n",
        "        #Доля пользователей, перешедших на событие во второй группе\n",
        "        p2 = df_funnel[group_2][i] / df_group_count['user_id'][group_2]\n",
        "        #Доля пользователей, перешедших на событие в сумме двух групп\n",
        "        p12 = (df_funnel[group_1][i] + df_funnel[group_2][i]) / (df_group_count['user_id'][group_1] + df_group_count['user_id'][group_2])\n",
        "        #Разница долей в группах\n",
        "        difference = p1 - p2\n",
        "        # считаем статистику в ст.отклонениях стандартного нормального распределения\n",
        "        z_value = difference / mth.sqrt(p12 * (1 - p12) * \n",
        "                                        (1/df_group_count['user_id'][group_1] + 1/df_group_count['user_id'][group_2]))\n",
        "        # задаем стандартное нормальное распределение (среднее 0, ст.отклонение 1)\n",
        "        distr = st.norm(0, 1) \n",
        "        \n",
        "        p_value = (1 - distr.cdf(abs(z_value))) * 2\n",
        "        \n",
        "        print('{} p-значение: {}'.format(df_funnel['event_name'][i], p_value))\n",
        "        if (p_value < alpha):\n",
        "            print(\"Отвергаем нулевую гипотезу: между долями есть значимая разница\")\n",
        "        else:\n",
        "            print(\"Не получилось отвергнуть нулевую гипотезу, нет оснований считать доли разными\")\n",
        "        print('')\n",
        "        \n",
        "    fig = go.Figure()\n",
        "    for i, group in enumerate([group_1, group_2]):\n",
        "        fig.add_trace(go.Funnel(\n",
        "            name = str(group),\n",
        "            y = events,\n",
        "            x = df_funnel[group],\n",
        "            textposition = \"inside\",\n",
        "            textinfo = \"value+percent previous+percent initial\",))\n",
        "    fig.update_layout(height=500, width=800, title='Воронка событий приложения')\n",
        "    fig.show()"
      ]
    },
    {
      "cell_type": "markdown",
      "metadata": {
        "id": "MetU85Sb0XVZ"
      },
      "source": [
        "Мы будем проводить 16 тестов на одних и тех же данных, поэтому будем использовать поправку Бонферрони для коррекции уровня значимости."
      ]
    },
    {
      "cell_type": "markdown",
      "metadata": {
        "id": "SpSvN8Dh0XVZ"
      },
      "source": [
        "Группы 246 и 247 (А/А-тест):"
      ]
    },
    {
      "cell_type": "code",
      "execution_count": 23,
      "metadata": {
        "id": "QMkq4sy90XVa",
        "outputId": "848a1bd5-6b47-4099-d8dc-f49d71814487",
        "colab": {
          "base_uri": "https://localhost:8080/",
          "height": 726
        }
      },
      "outputs": [
        {
          "output_type": "stream",
          "name": "stdout",
          "text": [
            "MainScreenAppear p-значение: 0.7570597232046099\n",
            "Не получилось отвергнуть нулевую гипотезу, нет оснований считать доли разными\n",
            "\n",
            "OffersScreenAppear p-значение: 0.2480954578522181\n",
            "Не получилось отвергнуть нулевую гипотезу, нет оснований считать доли разными\n",
            "\n",
            "CartScreenAppear p-значение: 0.22883372237997213\n",
            "Не получилось отвергнуть нулевую гипотезу, нет оснований считать доли разными\n",
            "\n",
            "PaymentScreenSuccessful p-значение: 0.11456679313141849\n",
            "Не получилось отвергнуть нулевую гипотезу, нет оснований считать доли разными\n",
            "\n"
          ]
        },
        {
          "output_type": "display_data",
          "data": {
            "text/html": [
              "<html>\n",
              "<head><meta charset=\"utf-8\" /></head>\n",
              "<body>\n",
              "    <div>            <script src=\"https://cdnjs.cloudflare.com/ajax/libs/mathjax/2.7.5/MathJax.js?config=TeX-AMS-MML_SVG\"></script><script type=\"text/javascript\">if (window.MathJax) {MathJax.Hub.Config({SVG: {font: \"STIX-Web\"}});}</script>                <script type=\"text/javascript\">window.PlotlyConfig = {MathJaxConfig: 'local'};</script>\n",
              "        <script src=\"https://cdn.plot.ly/plotly-2.8.3.min.js\"></script>                <div id=\"1e0d0170-c7ef-468d-b10d-3d2fe2327d66\" class=\"plotly-graph-div\" style=\"height:500px; width:800px;\"></div>            <script type=\"text/javascript\">                                    window.PLOTLYENV=window.PLOTLYENV || {};                                    if (document.getElementById(\"1e0d0170-c7ef-468d-b10d-3d2fe2327d66\")) {                    Plotly.newPlot(                        \"1e0d0170-c7ef-468d-b10d-3d2fe2327d66\",                        [{\"name\":\"246\",\"textinfo\":\"value+percent previous+percent initial\",\"textposition\":\"inside\",\"x\":[2450,1542,1266,1200],\"y\":[\"MainScreenAppear\",\"OffersScreenAppear\",\"CartScreenAppear\",\"PaymentScreenSuccessful\"],\"type\":\"funnel\"},{\"name\":\"247\",\"textinfo\":\"value+percent previous+percent initial\",\"textposition\":\"inside\",\"x\":[2476,1520,1238,1158],\"y\":[\"MainScreenAppear\",\"OffersScreenAppear\",\"CartScreenAppear\",\"PaymentScreenSuccessful\"],\"type\":\"funnel\"}],                        {\"template\":{\"data\":{\"bar\":[{\"error_x\":{\"color\":\"#2a3f5f\"},\"error_y\":{\"color\":\"#2a3f5f\"},\"marker\":{\"line\":{\"color\":\"#E5ECF6\",\"width\":0.5},\"pattern\":{\"fillmode\":\"overlay\",\"size\":10,\"solidity\":0.2}},\"type\":\"bar\"}],\"barpolar\":[{\"marker\":{\"line\":{\"color\":\"#E5ECF6\",\"width\":0.5},\"pattern\":{\"fillmode\":\"overlay\",\"size\":10,\"solidity\":0.2}},\"type\":\"barpolar\"}],\"carpet\":[{\"aaxis\":{\"endlinecolor\":\"#2a3f5f\",\"gridcolor\":\"white\",\"linecolor\":\"white\",\"minorgridcolor\":\"white\",\"startlinecolor\":\"#2a3f5f\"},\"baxis\":{\"endlinecolor\":\"#2a3f5f\",\"gridcolor\":\"white\",\"linecolor\":\"white\",\"minorgridcolor\":\"white\",\"startlinecolor\":\"#2a3f5f\"},\"type\":\"carpet\"}],\"choropleth\":[{\"colorbar\":{\"outlinewidth\":0,\"ticks\":\"\"},\"type\":\"choropleth\"}],\"contour\":[{\"colorbar\":{\"outlinewidth\":0,\"ticks\":\"\"},\"colorscale\":[[0.0,\"#0d0887\"],[0.1111111111111111,\"#46039f\"],[0.2222222222222222,\"#7201a8\"],[0.3333333333333333,\"#9c179e\"],[0.4444444444444444,\"#bd3786\"],[0.5555555555555556,\"#d8576b\"],[0.6666666666666666,\"#ed7953\"],[0.7777777777777778,\"#fb9f3a\"],[0.8888888888888888,\"#fdca26\"],[1.0,\"#f0f921\"]],\"type\":\"contour\"}],\"contourcarpet\":[{\"colorbar\":{\"outlinewidth\":0,\"ticks\":\"\"},\"type\":\"contourcarpet\"}],\"heatmap\":[{\"colorbar\":{\"outlinewidth\":0,\"ticks\":\"\"},\"colorscale\":[[0.0,\"#0d0887\"],[0.1111111111111111,\"#46039f\"],[0.2222222222222222,\"#7201a8\"],[0.3333333333333333,\"#9c179e\"],[0.4444444444444444,\"#bd3786\"],[0.5555555555555556,\"#d8576b\"],[0.6666666666666666,\"#ed7953\"],[0.7777777777777778,\"#fb9f3a\"],[0.8888888888888888,\"#fdca26\"],[1.0,\"#f0f921\"]],\"type\":\"heatmap\"}],\"heatmapgl\":[{\"colorbar\":{\"outlinewidth\":0,\"ticks\":\"\"},\"colorscale\":[[0.0,\"#0d0887\"],[0.1111111111111111,\"#46039f\"],[0.2222222222222222,\"#7201a8\"],[0.3333333333333333,\"#9c179e\"],[0.4444444444444444,\"#bd3786\"],[0.5555555555555556,\"#d8576b\"],[0.6666666666666666,\"#ed7953\"],[0.7777777777777778,\"#fb9f3a\"],[0.8888888888888888,\"#fdca26\"],[1.0,\"#f0f921\"]],\"type\":\"heatmapgl\"}],\"histogram\":[{\"marker\":{\"pattern\":{\"fillmode\":\"overlay\",\"size\":10,\"solidity\":0.2}},\"type\":\"histogram\"}],\"histogram2d\":[{\"colorbar\":{\"outlinewidth\":0,\"ticks\":\"\"},\"colorscale\":[[0.0,\"#0d0887\"],[0.1111111111111111,\"#46039f\"],[0.2222222222222222,\"#7201a8\"],[0.3333333333333333,\"#9c179e\"],[0.4444444444444444,\"#bd3786\"],[0.5555555555555556,\"#d8576b\"],[0.6666666666666666,\"#ed7953\"],[0.7777777777777778,\"#fb9f3a\"],[0.8888888888888888,\"#fdca26\"],[1.0,\"#f0f921\"]],\"type\":\"histogram2d\"}],\"histogram2dcontour\":[{\"colorbar\":{\"outlinewidth\":0,\"ticks\":\"\"},\"colorscale\":[[0.0,\"#0d0887\"],[0.1111111111111111,\"#46039f\"],[0.2222222222222222,\"#7201a8\"],[0.3333333333333333,\"#9c179e\"],[0.4444444444444444,\"#bd3786\"],[0.5555555555555556,\"#d8576b\"],[0.6666666666666666,\"#ed7953\"],[0.7777777777777778,\"#fb9f3a\"],[0.8888888888888888,\"#fdca26\"],[1.0,\"#f0f921\"]],\"type\":\"histogram2dcontour\"}],\"mesh3d\":[{\"colorbar\":{\"outlinewidth\":0,\"ticks\":\"\"},\"type\":\"mesh3d\"}],\"parcoords\":[{\"line\":{\"colorbar\":{\"outlinewidth\":0,\"ticks\":\"\"}},\"type\":\"parcoords\"}],\"pie\":[{\"automargin\":true,\"type\":\"pie\"}],\"scatter\":[{\"marker\":{\"colorbar\":{\"outlinewidth\":0,\"ticks\":\"\"}},\"type\":\"scatter\"}],\"scatter3d\":[{\"line\":{\"colorbar\":{\"outlinewidth\":0,\"ticks\":\"\"}},\"marker\":{\"colorbar\":{\"outlinewidth\":0,\"ticks\":\"\"}},\"type\":\"scatter3d\"}],\"scattercarpet\":[{\"marker\":{\"colorbar\":{\"outlinewidth\":0,\"ticks\":\"\"}},\"type\":\"scattercarpet\"}],\"scattergeo\":[{\"marker\":{\"colorbar\":{\"outlinewidth\":0,\"ticks\":\"\"}},\"type\":\"scattergeo\"}],\"scattergl\":[{\"marker\":{\"colorbar\":{\"outlinewidth\":0,\"ticks\":\"\"}},\"type\":\"scattergl\"}],\"scattermapbox\":[{\"marker\":{\"colorbar\":{\"outlinewidth\":0,\"ticks\":\"\"}},\"type\":\"scattermapbox\"}],\"scatterpolar\":[{\"marker\":{\"colorbar\":{\"outlinewidth\":0,\"ticks\":\"\"}},\"type\":\"scatterpolar\"}],\"scatterpolargl\":[{\"marker\":{\"colorbar\":{\"outlinewidth\":0,\"ticks\":\"\"}},\"type\":\"scatterpolargl\"}],\"scatterternary\":[{\"marker\":{\"colorbar\":{\"outlinewidth\":0,\"ticks\":\"\"}},\"type\":\"scatterternary\"}],\"surface\":[{\"colorbar\":{\"outlinewidth\":0,\"ticks\":\"\"},\"colorscale\":[[0.0,\"#0d0887\"],[0.1111111111111111,\"#46039f\"],[0.2222222222222222,\"#7201a8\"],[0.3333333333333333,\"#9c179e\"],[0.4444444444444444,\"#bd3786\"],[0.5555555555555556,\"#d8576b\"],[0.6666666666666666,\"#ed7953\"],[0.7777777777777778,\"#fb9f3a\"],[0.8888888888888888,\"#fdca26\"],[1.0,\"#f0f921\"]],\"type\":\"surface\"}],\"table\":[{\"cells\":{\"fill\":{\"color\":\"#EBF0F8\"},\"line\":{\"color\":\"white\"}},\"header\":{\"fill\":{\"color\":\"#C8D4E3\"},\"line\":{\"color\":\"white\"}},\"type\":\"table\"}]},\"layout\":{\"annotationdefaults\":{\"arrowcolor\":\"#2a3f5f\",\"arrowhead\":0,\"arrowwidth\":1},\"autotypenumbers\":\"strict\",\"coloraxis\":{\"colorbar\":{\"outlinewidth\":0,\"ticks\":\"\"}},\"colorscale\":{\"diverging\":[[0,\"#8e0152\"],[0.1,\"#c51b7d\"],[0.2,\"#de77ae\"],[0.3,\"#f1b6da\"],[0.4,\"#fde0ef\"],[0.5,\"#f7f7f7\"],[0.6,\"#e6f5d0\"],[0.7,\"#b8e186\"],[0.8,\"#7fbc41\"],[0.9,\"#4d9221\"],[1,\"#276419\"]],\"sequential\":[[0.0,\"#0d0887\"],[0.1111111111111111,\"#46039f\"],[0.2222222222222222,\"#7201a8\"],[0.3333333333333333,\"#9c179e\"],[0.4444444444444444,\"#bd3786\"],[0.5555555555555556,\"#d8576b\"],[0.6666666666666666,\"#ed7953\"],[0.7777777777777778,\"#fb9f3a\"],[0.8888888888888888,\"#fdca26\"],[1.0,\"#f0f921\"]],\"sequentialminus\":[[0.0,\"#0d0887\"],[0.1111111111111111,\"#46039f\"],[0.2222222222222222,\"#7201a8\"],[0.3333333333333333,\"#9c179e\"],[0.4444444444444444,\"#bd3786\"],[0.5555555555555556,\"#d8576b\"],[0.6666666666666666,\"#ed7953\"],[0.7777777777777778,\"#fb9f3a\"],[0.8888888888888888,\"#fdca26\"],[1.0,\"#f0f921\"]]},\"colorway\":[\"#636efa\",\"#EF553B\",\"#00cc96\",\"#ab63fa\",\"#FFA15A\",\"#19d3f3\",\"#FF6692\",\"#B6E880\",\"#FF97FF\",\"#FECB52\"],\"font\":{\"color\":\"#2a3f5f\"},\"geo\":{\"bgcolor\":\"white\",\"lakecolor\":\"white\",\"landcolor\":\"#E5ECF6\",\"showlakes\":true,\"showland\":true,\"subunitcolor\":\"white\"},\"hoverlabel\":{\"align\":\"left\"},\"hovermode\":\"closest\",\"mapbox\":{\"style\":\"light\"},\"paper_bgcolor\":\"white\",\"plot_bgcolor\":\"#E5ECF6\",\"polar\":{\"angularaxis\":{\"gridcolor\":\"white\",\"linecolor\":\"white\",\"ticks\":\"\"},\"bgcolor\":\"#E5ECF6\",\"radialaxis\":{\"gridcolor\":\"white\",\"linecolor\":\"white\",\"ticks\":\"\"}},\"scene\":{\"xaxis\":{\"backgroundcolor\":\"#E5ECF6\",\"gridcolor\":\"white\",\"gridwidth\":2,\"linecolor\":\"white\",\"showbackground\":true,\"ticks\":\"\",\"zerolinecolor\":\"white\"},\"yaxis\":{\"backgroundcolor\":\"#E5ECF6\",\"gridcolor\":\"white\",\"gridwidth\":2,\"linecolor\":\"white\",\"showbackground\":true,\"ticks\":\"\",\"zerolinecolor\":\"white\"},\"zaxis\":{\"backgroundcolor\":\"#E5ECF6\",\"gridcolor\":\"white\",\"gridwidth\":2,\"linecolor\":\"white\",\"showbackground\":true,\"ticks\":\"\",\"zerolinecolor\":\"white\"}},\"shapedefaults\":{\"line\":{\"color\":\"#2a3f5f\"}},\"ternary\":{\"aaxis\":{\"gridcolor\":\"white\",\"linecolor\":\"white\",\"ticks\":\"\"},\"baxis\":{\"gridcolor\":\"white\",\"linecolor\":\"white\",\"ticks\":\"\"},\"bgcolor\":\"#E5ECF6\",\"caxis\":{\"gridcolor\":\"white\",\"linecolor\":\"white\",\"ticks\":\"\"}},\"title\":{\"x\":0.05},\"xaxis\":{\"automargin\":true,\"gridcolor\":\"white\",\"linecolor\":\"white\",\"ticks\":\"\",\"title\":{\"standoff\":15},\"zerolinecolor\":\"white\",\"zerolinewidth\":2},\"yaxis\":{\"automargin\":true,\"gridcolor\":\"white\",\"linecolor\":\"white\",\"ticks\":\"\",\"title\":{\"standoff\":15},\"zerolinecolor\":\"white\",\"zerolinewidth\":2}}},\"height\":500,\"width\":800,\"title\":{\"text\":\"\\u0412\\u043e\\u0440\\u043e\\u043d\\u043a\\u0430 \\u0441\\u043e\\u0431\\u044b\\u0442\\u0438\\u0439 \\u043f\\u0440\\u0438\\u043b\\u043e\\u0436\\u0435\\u043d\\u0438\\u044f\"}},                        {\"responsive\": true}                    ).then(function(){\n",
              "                            \n",
              "var gd = document.getElementById('1e0d0170-c7ef-468d-b10d-3d2fe2327d66');\n",
              "var x = new MutationObserver(function (mutations, observer) {{\n",
              "        var display = window.getComputedStyle(gd).display;\n",
              "        if (!display || display === 'none') {{\n",
              "            console.log([gd, 'removed!']);\n",
              "            Plotly.purge(gd);\n",
              "            observer.disconnect();\n",
              "        }}\n",
              "}});\n",
              "\n",
              "// Listen for the removal of the full notebook cells\n",
              "var notebookContainer = gd.closest('#notebook-container');\n",
              "if (notebookContainer) {{\n",
              "    x.observe(notebookContainer, {childList: true});\n",
              "}}\n",
              "\n",
              "// Listen for the clearing of the current output cell\n",
              "var outputEl = gd.closest('.output');\n",
              "if (outputEl) {{\n",
              "    x.observe(outputEl, {childList: true});\n",
              "}}\n",
              "\n",
              "                        })                };                            </script>        </div>\n",
              "</body>\n",
              "</html>"
            ]
          },
          "metadata": {}
        }
      ],
      "source": [
        "p_value_test(246, 247, 0.05/16)"
      ]
    },
    {
      "cell_type": "markdown",
      "metadata": {
        "id": "5o9wvr770XVa"
      },
      "source": [
        "**Как видим из результатов, ни для оного из событий разница не оказалось значимой. Обе эти группы можно считать контрольными и доверять распределению пользователей в тестовой группе.**"
      ]
    },
    {
      "cell_type": "markdown",
      "metadata": {
        "id": "2wXaQslY0XVa"
      },
      "source": [
        "Аналогично сравним тестовую группу (248) с каждой из контрольных групп (246 и 247)."
      ]
    },
    {
      "cell_type": "markdown",
      "metadata": {
        "id": "jCyJuNUE0XVa"
      },
      "source": [
        "Группы 246 и 248:"
      ]
    },
    {
      "cell_type": "code",
      "execution_count": 24,
      "metadata": {
        "scrolled": false,
        "id": "_59f41Gn0XVb",
        "outputId": "550b5033-e64d-41b4-9b50-b627859fe163",
        "colab": {
          "base_uri": "https://localhost:8080/",
          "height": 726
        }
      },
      "outputs": [
        {
          "output_type": "stream",
          "name": "stdout",
          "text": [
            "MainScreenAppear p-значение: 0.2949721933554552\n",
            "Не получилось отвергнуть нулевую гипотезу, нет оснований считать доли разными\n",
            "\n",
            "OffersScreenAppear p-значение: 0.20836205402738917\n",
            "Не получилось отвергнуть нулевую гипотезу, нет оснований считать доли разными\n",
            "\n",
            "CartScreenAppear p-значение: 0.07842923237520116\n",
            "Не получилось отвергнуть нулевую гипотезу, нет оснований считать доли разными\n",
            "\n",
            "PaymentScreenSuccessful p-значение: 0.2122553275697796\n",
            "Не получилось отвергнуть нулевую гипотезу, нет оснований считать доли разными\n",
            "\n"
          ]
        },
        {
          "output_type": "display_data",
          "data": {
            "text/html": [
              "<html>\n",
              "<head><meta charset=\"utf-8\" /></head>\n",
              "<body>\n",
              "    <div>            <script src=\"https://cdnjs.cloudflare.com/ajax/libs/mathjax/2.7.5/MathJax.js?config=TeX-AMS-MML_SVG\"></script><script type=\"text/javascript\">if (window.MathJax) {MathJax.Hub.Config({SVG: {font: \"STIX-Web\"}});}</script>                <script type=\"text/javascript\">window.PlotlyConfig = {MathJaxConfig: 'local'};</script>\n",
              "        <script src=\"https://cdn.plot.ly/plotly-2.8.3.min.js\"></script>                <div id=\"593c67c5-52ea-4cbb-ac8e-744c6e0cdf2e\" class=\"plotly-graph-div\" style=\"height:500px; width:800px;\"></div>            <script type=\"text/javascript\">                                    window.PLOTLYENV=window.PLOTLYENV || {};                                    if (document.getElementById(\"593c67c5-52ea-4cbb-ac8e-744c6e0cdf2e\")) {                    Plotly.newPlot(                        \"593c67c5-52ea-4cbb-ac8e-744c6e0cdf2e\",                        [{\"name\":\"246\",\"textinfo\":\"value+percent previous+percent initial\",\"textposition\":\"inside\",\"x\":[2450,1542,1266,1200],\"y\":[\"MainScreenAppear\",\"OffersScreenAppear\",\"CartScreenAppear\",\"PaymentScreenSuccessful\"],\"type\":\"funnel\"},{\"name\":\"248\",\"textinfo\":\"value+percent previous+percent initial\",\"textposition\":\"inside\",\"x\":[2493,1531,1230,1181],\"y\":[\"MainScreenAppear\",\"OffersScreenAppear\",\"CartScreenAppear\",\"PaymentScreenSuccessful\"],\"type\":\"funnel\"}],                        {\"template\":{\"data\":{\"bar\":[{\"error_x\":{\"color\":\"#2a3f5f\"},\"error_y\":{\"color\":\"#2a3f5f\"},\"marker\":{\"line\":{\"color\":\"#E5ECF6\",\"width\":0.5},\"pattern\":{\"fillmode\":\"overlay\",\"size\":10,\"solidity\":0.2}},\"type\":\"bar\"}],\"barpolar\":[{\"marker\":{\"line\":{\"color\":\"#E5ECF6\",\"width\":0.5},\"pattern\":{\"fillmode\":\"overlay\",\"size\":10,\"solidity\":0.2}},\"type\":\"barpolar\"}],\"carpet\":[{\"aaxis\":{\"endlinecolor\":\"#2a3f5f\",\"gridcolor\":\"white\",\"linecolor\":\"white\",\"minorgridcolor\":\"white\",\"startlinecolor\":\"#2a3f5f\"},\"baxis\":{\"endlinecolor\":\"#2a3f5f\",\"gridcolor\":\"white\",\"linecolor\":\"white\",\"minorgridcolor\":\"white\",\"startlinecolor\":\"#2a3f5f\"},\"type\":\"carpet\"}],\"choropleth\":[{\"colorbar\":{\"outlinewidth\":0,\"ticks\":\"\"},\"type\":\"choropleth\"}],\"contour\":[{\"colorbar\":{\"outlinewidth\":0,\"ticks\":\"\"},\"colorscale\":[[0.0,\"#0d0887\"],[0.1111111111111111,\"#46039f\"],[0.2222222222222222,\"#7201a8\"],[0.3333333333333333,\"#9c179e\"],[0.4444444444444444,\"#bd3786\"],[0.5555555555555556,\"#d8576b\"],[0.6666666666666666,\"#ed7953\"],[0.7777777777777778,\"#fb9f3a\"],[0.8888888888888888,\"#fdca26\"],[1.0,\"#f0f921\"]],\"type\":\"contour\"}],\"contourcarpet\":[{\"colorbar\":{\"outlinewidth\":0,\"ticks\":\"\"},\"type\":\"contourcarpet\"}],\"heatmap\":[{\"colorbar\":{\"outlinewidth\":0,\"ticks\":\"\"},\"colorscale\":[[0.0,\"#0d0887\"],[0.1111111111111111,\"#46039f\"],[0.2222222222222222,\"#7201a8\"],[0.3333333333333333,\"#9c179e\"],[0.4444444444444444,\"#bd3786\"],[0.5555555555555556,\"#d8576b\"],[0.6666666666666666,\"#ed7953\"],[0.7777777777777778,\"#fb9f3a\"],[0.8888888888888888,\"#fdca26\"],[1.0,\"#f0f921\"]],\"type\":\"heatmap\"}],\"heatmapgl\":[{\"colorbar\":{\"outlinewidth\":0,\"ticks\":\"\"},\"colorscale\":[[0.0,\"#0d0887\"],[0.1111111111111111,\"#46039f\"],[0.2222222222222222,\"#7201a8\"],[0.3333333333333333,\"#9c179e\"],[0.4444444444444444,\"#bd3786\"],[0.5555555555555556,\"#d8576b\"],[0.6666666666666666,\"#ed7953\"],[0.7777777777777778,\"#fb9f3a\"],[0.8888888888888888,\"#fdca26\"],[1.0,\"#f0f921\"]],\"type\":\"heatmapgl\"}],\"histogram\":[{\"marker\":{\"pattern\":{\"fillmode\":\"overlay\",\"size\":10,\"solidity\":0.2}},\"type\":\"histogram\"}],\"histogram2d\":[{\"colorbar\":{\"outlinewidth\":0,\"ticks\":\"\"},\"colorscale\":[[0.0,\"#0d0887\"],[0.1111111111111111,\"#46039f\"],[0.2222222222222222,\"#7201a8\"],[0.3333333333333333,\"#9c179e\"],[0.4444444444444444,\"#bd3786\"],[0.5555555555555556,\"#d8576b\"],[0.6666666666666666,\"#ed7953\"],[0.7777777777777778,\"#fb9f3a\"],[0.8888888888888888,\"#fdca26\"],[1.0,\"#f0f921\"]],\"type\":\"histogram2d\"}],\"histogram2dcontour\":[{\"colorbar\":{\"outlinewidth\":0,\"ticks\":\"\"},\"colorscale\":[[0.0,\"#0d0887\"],[0.1111111111111111,\"#46039f\"],[0.2222222222222222,\"#7201a8\"],[0.3333333333333333,\"#9c179e\"],[0.4444444444444444,\"#bd3786\"],[0.5555555555555556,\"#d8576b\"],[0.6666666666666666,\"#ed7953\"],[0.7777777777777778,\"#fb9f3a\"],[0.8888888888888888,\"#fdca26\"],[1.0,\"#f0f921\"]],\"type\":\"histogram2dcontour\"}],\"mesh3d\":[{\"colorbar\":{\"outlinewidth\":0,\"ticks\":\"\"},\"type\":\"mesh3d\"}],\"parcoords\":[{\"line\":{\"colorbar\":{\"outlinewidth\":0,\"ticks\":\"\"}},\"type\":\"parcoords\"}],\"pie\":[{\"automargin\":true,\"type\":\"pie\"}],\"scatter\":[{\"marker\":{\"colorbar\":{\"outlinewidth\":0,\"ticks\":\"\"}},\"type\":\"scatter\"}],\"scatter3d\":[{\"line\":{\"colorbar\":{\"outlinewidth\":0,\"ticks\":\"\"}},\"marker\":{\"colorbar\":{\"outlinewidth\":0,\"ticks\":\"\"}},\"type\":\"scatter3d\"}],\"scattercarpet\":[{\"marker\":{\"colorbar\":{\"outlinewidth\":0,\"ticks\":\"\"}},\"type\":\"scattercarpet\"}],\"scattergeo\":[{\"marker\":{\"colorbar\":{\"outlinewidth\":0,\"ticks\":\"\"}},\"type\":\"scattergeo\"}],\"scattergl\":[{\"marker\":{\"colorbar\":{\"outlinewidth\":0,\"ticks\":\"\"}},\"type\":\"scattergl\"}],\"scattermapbox\":[{\"marker\":{\"colorbar\":{\"outlinewidth\":0,\"ticks\":\"\"}},\"type\":\"scattermapbox\"}],\"scatterpolar\":[{\"marker\":{\"colorbar\":{\"outlinewidth\":0,\"ticks\":\"\"}},\"type\":\"scatterpolar\"}],\"scatterpolargl\":[{\"marker\":{\"colorbar\":{\"outlinewidth\":0,\"ticks\":\"\"}},\"type\":\"scatterpolargl\"}],\"scatterternary\":[{\"marker\":{\"colorbar\":{\"outlinewidth\":0,\"ticks\":\"\"}},\"type\":\"scatterternary\"}],\"surface\":[{\"colorbar\":{\"outlinewidth\":0,\"ticks\":\"\"},\"colorscale\":[[0.0,\"#0d0887\"],[0.1111111111111111,\"#46039f\"],[0.2222222222222222,\"#7201a8\"],[0.3333333333333333,\"#9c179e\"],[0.4444444444444444,\"#bd3786\"],[0.5555555555555556,\"#d8576b\"],[0.6666666666666666,\"#ed7953\"],[0.7777777777777778,\"#fb9f3a\"],[0.8888888888888888,\"#fdca26\"],[1.0,\"#f0f921\"]],\"type\":\"surface\"}],\"table\":[{\"cells\":{\"fill\":{\"color\":\"#EBF0F8\"},\"line\":{\"color\":\"white\"}},\"header\":{\"fill\":{\"color\":\"#C8D4E3\"},\"line\":{\"color\":\"white\"}},\"type\":\"table\"}]},\"layout\":{\"annotationdefaults\":{\"arrowcolor\":\"#2a3f5f\",\"arrowhead\":0,\"arrowwidth\":1},\"autotypenumbers\":\"strict\",\"coloraxis\":{\"colorbar\":{\"outlinewidth\":0,\"ticks\":\"\"}},\"colorscale\":{\"diverging\":[[0,\"#8e0152\"],[0.1,\"#c51b7d\"],[0.2,\"#de77ae\"],[0.3,\"#f1b6da\"],[0.4,\"#fde0ef\"],[0.5,\"#f7f7f7\"],[0.6,\"#e6f5d0\"],[0.7,\"#b8e186\"],[0.8,\"#7fbc41\"],[0.9,\"#4d9221\"],[1,\"#276419\"]],\"sequential\":[[0.0,\"#0d0887\"],[0.1111111111111111,\"#46039f\"],[0.2222222222222222,\"#7201a8\"],[0.3333333333333333,\"#9c179e\"],[0.4444444444444444,\"#bd3786\"],[0.5555555555555556,\"#d8576b\"],[0.6666666666666666,\"#ed7953\"],[0.7777777777777778,\"#fb9f3a\"],[0.8888888888888888,\"#fdca26\"],[1.0,\"#f0f921\"]],\"sequentialminus\":[[0.0,\"#0d0887\"],[0.1111111111111111,\"#46039f\"],[0.2222222222222222,\"#7201a8\"],[0.3333333333333333,\"#9c179e\"],[0.4444444444444444,\"#bd3786\"],[0.5555555555555556,\"#d8576b\"],[0.6666666666666666,\"#ed7953\"],[0.7777777777777778,\"#fb9f3a\"],[0.8888888888888888,\"#fdca26\"],[1.0,\"#f0f921\"]]},\"colorway\":[\"#636efa\",\"#EF553B\",\"#00cc96\",\"#ab63fa\",\"#FFA15A\",\"#19d3f3\",\"#FF6692\",\"#B6E880\",\"#FF97FF\",\"#FECB52\"],\"font\":{\"color\":\"#2a3f5f\"},\"geo\":{\"bgcolor\":\"white\",\"lakecolor\":\"white\",\"landcolor\":\"#E5ECF6\",\"showlakes\":true,\"showland\":true,\"subunitcolor\":\"white\"},\"hoverlabel\":{\"align\":\"left\"},\"hovermode\":\"closest\",\"mapbox\":{\"style\":\"light\"},\"paper_bgcolor\":\"white\",\"plot_bgcolor\":\"#E5ECF6\",\"polar\":{\"angularaxis\":{\"gridcolor\":\"white\",\"linecolor\":\"white\",\"ticks\":\"\"},\"bgcolor\":\"#E5ECF6\",\"radialaxis\":{\"gridcolor\":\"white\",\"linecolor\":\"white\",\"ticks\":\"\"}},\"scene\":{\"xaxis\":{\"backgroundcolor\":\"#E5ECF6\",\"gridcolor\":\"white\",\"gridwidth\":2,\"linecolor\":\"white\",\"showbackground\":true,\"ticks\":\"\",\"zerolinecolor\":\"white\"},\"yaxis\":{\"backgroundcolor\":\"#E5ECF6\",\"gridcolor\":\"white\",\"gridwidth\":2,\"linecolor\":\"white\",\"showbackground\":true,\"ticks\":\"\",\"zerolinecolor\":\"white\"},\"zaxis\":{\"backgroundcolor\":\"#E5ECF6\",\"gridcolor\":\"white\",\"gridwidth\":2,\"linecolor\":\"white\",\"showbackground\":true,\"ticks\":\"\",\"zerolinecolor\":\"white\"}},\"shapedefaults\":{\"line\":{\"color\":\"#2a3f5f\"}},\"ternary\":{\"aaxis\":{\"gridcolor\":\"white\",\"linecolor\":\"white\",\"ticks\":\"\"},\"baxis\":{\"gridcolor\":\"white\",\"linecolor\":\"white\",\"ticks\":\"\"},\"bgcolor\":\"#E5ECF6\",\"caxis\":{\"gridcolor\":\"white\",\"linecolor\":\"white\",\"ticks\":\"\"}},\"title\":{\"x\":0.05},\"xaxis\":{\"automargin\":true,\"gridcolor\":\"white\",\"linecolor\":\"white\",\"ticks\":\"\",\"title\":{\"standoff\":15},\"zerolinecolor\":\"white\",\"zerolinewidth\":2},\"yaxis\":{\"automargin\":true,\"gridcolor\":\"white\",\"linecolor\":\"white\",\"ticks\":\"\",\"title\":{\"standoff\":15},\"zerolinecolor\":\"white\",\"zerolinewidth\":2}}},\"height\":500,\"width\":800,\"title\":{\"text\":\"\\u0412\\u043e\\u0440\\u043e\\u043d\\u043a\\u0430 \\u0441\\u043e\\u0431\\u044b\\u0442\\u0438\\u0439 \\u043f\\u0440\\u0438\\u043b\\u043e\\u0436\\u0435\\u043d\\u0438\\u044f\"}},                        {\"responsive\": true}                    ).then(function(){\n",
              "                            \n",
              "var gd = document.getElementById('593c67c5-52ea-4cbb-ac8e-744c6e0cdf2e');\n",
              "var x = new MutationObserver(function (mutations, observer) {{\n",
              "        var display = window.getComputedStyle(gd).display;\n",
              "        if (!display || display === 'none') {{\n",
              "            console.log([gd, 'removed!']);\n",
              "            Plotly.purge(gd);\n",
              "            observer.disconnect();\n",
              "        }}\n",
              "}});\n",
              "\n",
              "// Listen for the removal of the full notebook cells\n",
              "var notebookContainer = gd.closest('#notebook-container');\n",
              "if (notebookContainer) {{\n",
              "    x.observe(notebookContainer, {childList: true});\n",
              "}}\n",
              "\n",
              "// Listen for the clearing of the current output cell\n",
              "var outputEl = gd.closest('.output');\n",
              "if (outputEl) {{\n",
              "    x.observe(outputEl, {childList: true});\n",
              "}}\n",
              "\n",
              "                        })                };                            </script>        </div>\n",
              "</body>\n",
              "</html>"
            ]
          },
          "metadata": {}
        }
      ],
      "source": [
        "p_value_test(246, 248, 0.05/16)"
      ]
    },
    {
      "cell_type": "markdown",
      "metadata": {
        "id": "fm_hWPzU0XVb"
      },
      "source": [
        "Группы 247 и 248:"
      ]
    },
    {
      "cell_type": "code",
      "execution_count": 25,
      "metadata": {
        "id": "hHnHD-2M0XVb",
        "outputId": "aafe88c8-612e-423f-f7c4-74a67edb6c13",
        "colab": {
          "base_uri": "https://localhost:8080/",
          "height": 726
        }
      },
      "outputs": [
        {
          "output_type": "stream",
          "name": "stdout",
          "text": [
            "MainScreenAppear p-значение: 0.4587053616621515\n",
            "Не получилось отвергнуть нулевую гипотезу, нет оснований считать доли разными\n",
            "\n",
            "OffersScreenAppear p-значение: 0.9197817830592261\n",
            "Не получилось отвергнуть нулевую гипотезу, нет оснований считать доли разными\n",
            "\n",
            "CartScreenAppear p-значение: 0.5786197879539783\n",
            "Не получилось отвергнуть нулевую гипотезу, нет оснований считать доли разными\n",
            "\n",
            "PaymentScreenSuccessful p-значение: 0.7373415053803964\n",
            "Не получилось отвергнуть нулевую гипотезу, нет оснований считать доли разными\n",
            "\n"
          ]
        },
        {
          "output_type": "display_data",
          "data": {
            "text/html": [
              "<html>\n",
              "<head><meta charset=\"utf-8\" /></head>\n",
              "<body>\n",
              "    <div>            <script src=\"https://cdnjs.cloudflare.com/ajax/libs/mathjax/2.7.5/MathJax.js?config=TeX-AMS-MML_SVG\"></script><script type=\"text/javascript\">if (window.MathJax) {MathJax.Hub.Config({SVG: {font: \"STIX-Web\"}});}</script>                <script type=\"text/javascript\">window.PlotlyConfig = {MathJaxConfig: 'local'};</script>\n",
              "        <script src=\"https://cdn.plot.ly/plotly-2.8.3.min.js\"></script>                <div id=\"1405a4e1-04e5-41a8-b85a-ebfcf7b9340d\" class=\"plotly-graph-div\" style=\"height:500px; width:800px;\"></div>            <script type=\"text/javascript\">                                    window.PLOTLYENV=window.PLOTLYENV || {};                                    if (document.getElementById(\"1405a4e1-04e5-41a8-b85a-ebfcf7b9340d\")) {                    Plotly.newPlot(                        \"1405a4e1-04e5-41a8-b85a-ebfcf7b9340d\",                        [{\"name\":\"247\",\"textinfo\":\"value+percent previous+percent initial\",\"textposition\":\"inside\",\"x\":[2476,1520,1238,1158],\"y\":[\"MainScreenAppear\",\"OffersScreenAppear\",\"CartScreenAppear\",\"PaymentScreenSuccessful\"],\"type\":\"funnel\"},{\"name\":\"248\",\"textinfo\":\"value+percent previous+percent initial\",\"textposition\":\"inside\",\"x\":[2493,1531,1230,1181],\"y\":[\"MainScreenAppear\",\"OffersScreenAppear\",\"CartScreenAppear\",\"PaymentScreenSuccessful\"],\"type\":\"funnel\"}],                        {\"template\":{\"data\":{\"bar\":[{\"error_x\":{\"color\":\"#2a3f5f\"},\"error_y\":{\"color\":\"#2a3f5f\"},\"marker\":{\"line\":{\"color\":\"#E5ECF6\",\"width\":0.5},\"pattern\":{\"fillmode\":\"overlay\",\"size\":10,\"solidity\":0.2}},\"type\":\"bar\"}],\"barpolar\":[{\"marker\":{\"line\":{\"color\":\"#E5ECF6\",\"width\":0.5},\"pattern\":{\"fillmode\":\"overlay\",\"size\":10,\"solidity\":0.2}},\"type\":\"barpolar\"}],\"carpet\":[{\"aaxis\":{\"endlinecolor\":\"#2a3f5f\",\"gridcolor\":\"white\",\"linecolor\":\"white\",\"minorgridcolor\":\"white\",\"startlinecolor\":\"#2a3f5f\"},\"baxis\":{\"endlinecolor\":\"#2a3f5f\",\"gridcolor\":\"white\",\"linecolor\":\"white\",\"minorgridcolor\":\"white\",\"startlinecolor\":\"#2a3f5f\"},\"type\":\"carpet\"}],\"choropleth\":[{\"colorbar\":{\"outlinewidth\":0,\"ticks\":\"\"},\"type\":\"choropleth\"}],\"contour\":[{\"colorbar\":{\"outlinewidth\":0,\"ticks\":\"\"},\"colorscale\":[[0.0,\"#0d0887\"],[0.1111111111111111,\"#46039f\"],[0.2222222222222222,\"#7201a8\"],[0.3333333333333333,\"#9c179e\"],[0.4444444444444444,\"#bd3786\"],[0.5555555555555556,\"#d8576b\"],[0.6666666666666666,\"#ed7953\"],[0.7777777777777778,\"#fb9f3a\"],[0.8888888888888888,\"#fdca26\"],[1.0,\"#f0f921\"]],\"type\":\"contour\"}],\"contourcarpet\":[{\"colorbar\":{\"outlinewidth\":0,\"ticks\":\"\"},\"type\":\"contourcarpet\"}],\"heatmap\":[{\"colorbar\":{\"outlinewidth\":0,\"ticks\":\"\"},\"colorscale\":[[0.0,\"#0d0887\"],[0.1111111111111111,\"#46039f\"],[0.2222222222222222,\"#7201a8\"],[0.3333333333333333,\"#9c179e\"],[0.4444444444444444,\"#bd3786\"],[0.5555555555555556,\"#d8576b\"],[0.6666666666666666,\"#ed7953\"],[0.7777777777777778,\"#fb9f3a\"],[0.8888888888888888,\"#fdca26\"],[1.0,\"#f0f921\"]],\"type\":\"heatmap\"}],\"heatmapgl\":[{\"colorbar\":{\"outlinewidth\":0,\"ticks\":\"\"},\"colorscale\":[[0.0,\"#0d0887\"],[0.1111111111111111,\"#46039f\"],[0.2222222222222222,\"#7201a8\"],[0.3333333333333333,\"#9c179e\"],[0.4444444444444444,\"#bd3786\"],[0.5555555555555556,\"#d8576b\"],[0.6666666666666666,\"#ed7953\"],[0.7777777777777778,\"#fb9f3a\"],[0.8888888888888888,\"#fdca26\"],[1.0,\"#f0f921\"]],\"type\":\"heatmapgl\"}],\"histogram\":[{\"marker\":{\"pattern\":{\"fillmode\":\"overlay\",\"size\":10,\"solidity\":0.2}},\"type\":\"histogram\"}],\"histogram2d\":[{\"colorbar\":{\"outlinewidth\":0,\"ticks\":\"\"},\"colorscale\":[[0.0,\"#0d0887\"],[0.1111111111111111,\"#46039f\"],[0.2222222222222222,\"#7201a8\"],[0.3333333333333333,\"#9c179e\"],[0.4444444444444444,\"#bd3786\"],[0.5555555555555556,\"#d8576b\"],[0.6666666666666666,\"#ed7953\"],[0.7777777777777778,\"#fb9f3a\"],[0.8888888888888888,\"#fdca26\"],[1.0,\"#f0f921\"]],\"type\":\"histogram2d\"}],\"histogram2dcontour\":[{\"colorbar\":{\"outlinewidth\":0,\"ticks\":\"\"},\"colorscale\":[[0.0,\"#0d0887\"],[0.1111111111111111,\"#46039f\"],[0.2222222222222222,\"#7201a8\"],[0.3333333333333333,\"#9c179e\"],[0.4444444444444444,\"#bd3786\"],[0.5555555555555556,\"#d8576b\"],[0.6666666666666666,\"#ed7953\"],[0.7777777777777778,\"#fb9f3a\"],[0.8888888888888888,\"#fdca26\"],[1.0,\"#f0f921\"]],\"type\":\"histogram2dcontour\"}],\"mesh3d\":[{\"colorbar\":{\"outlinewidth\":0,\"ticks\":\"\"},\"type\":\"mesh3d\"}],\"parcoords\":[{\"line\":{\"colorbar\":{\"outlinewidth\":0,\"ticks\":\"\"}},\"type\":\"parcoords\"}],\"pie\":[{\"automargin\":true,\"type\":\"pie\"}],\"scatter\":[{\"marker\":{\"colorbar\":{\"outlinewidth\":0,\"ticks\":\"\"}},\"type\":\"scatter\"}],\"scatter3d\":[{\"line\":{\"colorbar\":{\"outlinewidth\":0,\"ticks\":\"\"}},\"marker\":{\"colorbar\":{\"outlinewidth\":0,\"ticks\":\"\"}},\"type\":\"scatter3d\"}],\"scattercarpet\":[{\"marker\":{\"colorbar\":{\"outlinewidth\":0,\"ticks\":\"\"}},\"type\":\"scattercarpet\"}],\"scattergeo\":[{\"marker\":{\"colorbar\":{\"outlinewidth\":0,\"ticks\":\"\"}},\"type\":\"scattergeo\"}],\"scattergl\":[{\"marker\":{\"colorbar\":{\"outlinewidth\":0,\"ticks\":\"\"}},\"type\":\"scattergl\"}],\"scattermapbox\":[{\"marker\":{\"colorbar\":{\"outlinewidth\":0,\"ticks\":\"\"}},\"type\":\"scattermapbox\"}],\"scatterpolar\":[{\"marker\":{\"colorbar\":{\"outlinewidth\":0,\"ticks\":\"\"}},\"type\":\"scatterpolar\"}],\"scatterpolargl\":[{\"marker\":{\"colorbar\":{\"outlinewidth\":0,\"ticks\":\"\"}},\"type\":\"scatterpolargl\"}],\"scatterternary\":[{\"marker\":{\"colorbar\":{\"outlinewidth\":0,\"ticks\":\"\"}},\"type\":\"scatterternary\"}],\"surface\":[{\"colorbar\":{\"outlinewidth\":0,\"ticks\":\"\"},\"colorscale\":[[0.0,\"#0d0887\"],[0.1111111111111111,\"#46039f\"],[0.2222222222222222,\"#7201a8\"],[0.3333333333333333,\"#9c179e\"],[0.4444444444444444,\"#bd3786\"],[0.5555555555555556,\"#d8576b\"],[0.6666666666666666,\"#ed7953\"],[0.7777777777777778,\"#fb9f3a\"],[0.8888888888888888,\"#fdca26\"],[1.0,\"#f0f921\"]],\"type\":\"surface\"}],\"table\":[{\"cells\":{\"fill\":{\"color\":\"#EBF0F8\"},\"line\":{\"color\":\"white\"}},\"header\":{\"fill\":{\"color\":\"#C8D4E3\"},\"line\":{\"color\":\"white\"}},\"type\":\"table\"}]},\"layout\":{\"annotationdefaults\":{\"arrowcolor\":\"#2a3f5f\",\"arrowhead\":0,\"arrowwidth\":1},\"autotypenumbers\":\"strict\",\"coloraxis\":{\"colorbar\":{\"outlinewidth\":0,\"ticks\":\"\"}},\"colorscale\":{\"diverging\":[[0,\"#8e0152\"],[0.1,\"#c51b7d\"],[0.2,\"#de77ae\"],[0.3,\"#f1b6da\"],[0.4,\"#fde0ef\"],[0.5,\"#f7f7f7\"],[0.6,\"#e6f5d0\"],[0.7,\"#b8e186\"],[0.8,\"#7fbc41\"],[0.9,\"#4d9221\"],[1,\"#276419\"]],\"sequential\":[[0.0,\"#0d0887\"],[0.1111111111111111,\"#46039f\"],[0.2222222222222222,\"#7201a8\"],[0.3333333333333333,\"#9c179e\"],[0.4444444444444444,\"#bd3786\"],[0.5555555555555556,\"#d8576b\"],[0.6666666666666666,\"#ed7953\"],[0.7777777777777778,\"#fb9f3a\"],[0.8888888888888888,\"#fdca26\"],[1.0,\"#f0f921\"]],\"sequentialminus\":[[0.0,\"#0d0887\"],[0.1111111111111111,\"#46039f\"],[0.2222222222222222,\"#7201a8\"],[0.3333333333333333,\"#9c179e\"],[0.4444444444444444,\"#bd3786\"],[0.5555555555555556,\"#d8576b\"],[0.6666666666666666,\"#ed7953\"],[0.7777777777777778,\"#fb9f3a\"],[0.8888888888888888,\"#fdca26\"],[1.0,\"#f0f921\"]]},\"colorway\":[\"#636efa\",\"#EF553B\",\"#00cc96\",\"#ab63fa\",\"#FFA15A\",\"#19d3f3\",\"#FF6692\",\"#B6E880\",\"#FF97FF\",\"#FECB52\"],\"font\":{\"color\":\"#2a3f5f\"},\"geo\":{\"bgcolor\":\"white\",\"lakecolor\":\"white\",\"landcolor\":\"#E5ECF6\",\"showlakes\":true,\"showland\":true,\"subunitcolor\":\"white\"},\"hoverlabel\":{\"align\":\"left\"},\"hovermode\":\"closest\",\"mapbox\":{\"style\":\"light\"},\"paper_bgcolor\":\"white\",\"plot_bgcolor\":\"#E5ECF6\",\"polar\":{\"angularaxis\":{\"gridcolor\":\"white\",\"linecolor\":\"white\",\"ticks\":\"\"},\"bgcolor\":\"#E5ECF6\",\"radialaxis\":{\"gridcolor\":\"white\",\"linecolor\":\"white\",\"ticks\":\"\"}},\"scene\":{\"xaxis\":{\"backgroundcolor\":\"#E5ECF6\",\"gridcolor\":\"white\",\"gridwidth\":2,\"linecolor\":\"white\",\"showbackground\":true,\"ticks\":\"\",\"zerolinecolor\":\"white\"},\"yaxis\":{\"backgroundcolor\":\"#E5ECF6\",\"gridcolor\":\"white\",\"gridwidth\":2,\"linecolor\":\"white\",\"showbackground\":true,\"ticks\":\"\",\"zerolinecolor\":\"white\"},\"zaxis\":{\"backgroundcolor\":\"#E5ECF6\",\"gridcolor\":\"white\",\"gridwidth\":2,\"linecolor\":\"white\",\"showbackground\":true,\"ticks\":\"\",\"zerolinecolor\":\"white\"}},\"shapedefaults\":{\"line\":{\"color\":\"#2a3f5f\"}},\"ternary\":{\"aaxis\":{\"gridcolor\":\"white\",\"linecolor\":\"white\",\"ticks\":\"\"},\"baxis\":{\"gridcolor\":\"white\",\"linecolor\":\"white\",\"ticks\":\"\"},\"bgcolor\":\"#E5ECF6\",\"caxis\":{\"gridcolor\":\"white\",\"linecolor\":\"white\",\"ticks\":\"\"}},\"title\":{\"x\":0.05},\"xaxis\":{\"automargin\":true,\"gridcolor\":\"white\",\"linecolor\":\"white\",\"ticks\":\"\",\"title\":{\"standoff\":15},\"zerolinecolor\":\"white\",\"zerolinewidth\":2},\"yaxis\":{\"automargin\":true,\"gridcolor\":\"white\",\"linecolor\":\"white\",\"ticks\":\"\",\"title\":{\"standoff\":15},\"zerolinecolor\":\"white\",\"zerolinewidth\":2}}},\"height\":500,\"width\":800,\"title\":{\"text\":\"\\u0412\\u043e\\u0440\\u043e\\u043d\\u043a\\u0430 \\u0441\\u043e\\u0431\\u044b\\u0442\\u0438\\u0439 \\u043f\\u0440\\u0438\\u043b\\u043e\\u0436\\u0435\\u043d\\u0438\\u044f\"}},                        {\"responsive\": true}                    ).then(function(){\n",
              "                            \n",
              "var gd = document.getElementById('1405a4e1-04e5-41a8-b85a-ebfcf7b9340d');\n",
              "var x = new MutationObserver(function (mutations, observer) {{\n",
              "        var display = window.getComputedStyle(gd).display;\n",
              "        if (!display || display === 'none') {{\n",
              "            console.log([gd, 'removed!']);\n",
              "            Plotly.purge(gd);\n",
              "            observer.disconnect();\n",
              "        }}\n",
              "}});\n",
              "\n",
              "// Listen for the removal of the full notebook cells\n",
              "var notebookContainer = gd.closest('#notebook-container');\n",
              "if (notebookContainer) {{\n",
              "    x.observe(notebookContainer, {childList: true});\n",
              "}}\n",
              "\n",
              "// Listen for the clearing of the current output cell\n",
              "var outputEl = gd.closest('.output');\n",
              "if (outputEl) {{\n",
              "    x.observe(outputEl, {childList: true});\n",
              "}}\n",
              "\n",
              "                        })                };                            </script>        </div>\n",
              "</body>\n",
              "</html>"
            ]
          },
          "metadata": {}
        }
      ],
      "source": [
        "p_value_test(247, 248, 0.05/16)"
      ]
    },
    {
      "cell_type": "markdown",
      "metadata": {
        "id": "0Lckhu3t0XVb"
      },
      "source": [
        "**При сравнение контрольных групп с тестовой ни одно из событий также не показало значимых различий.**"
      ]
    },
    {
      "cell_type": "markdown",
      "metadata": {
        "id": "ieA6eICP0XVb"
      },
      "source": [
        "Теперь сравним контрольные 246 и 247, объединенные в одну группу, с тестовой 248-ой:"
      ]
    },
    {
      "cell_type": "code",
      "execution_count": 26,
      "metadata": {
        "id": "hl3BD19o0XVc",
        "outputId": "4ddc19bf-e47c-419b-8a29-58b268bd6778",
        "colab": {
          "base_uri": "https://localhost:8080/",
          "height": 726
        }
      },
      "outputs": [
        {
          "output_type": "stream",
          "name": "stdout",
          "text": [
            "MainScreenAppear p-значение: 0.29424526837179577\n",
            "Не получилось отвергнуть нулевую гипотезу, нет оснований считать доли разными\n",
            "\n",
            "OffersScreenAppear p-значение: 0.43425549655188256\n",
            "Не получилось отвергнуть нулевую гипотезу, нет оснований считать доли разными\n",
            "\n",
            "CartScreenAppear p-значение: 0.18175875284404386\n",
            "Не получилось отвергнуть нулевую гипотезу, нет оснований считать доли разными\n",
            "\n",
            "PaymentScreenSuccessful p-значение: 0.6004294282308704\n",
            "Не получилось отвергнуть нулевую гипотезу, нет оснований считать доли разными\n",
            "\n"
          ]
        },
        {
          "output_type": "display_data",
          "data": {
            "text/html": [
              "<html>\n",
              "<head><meta charset=\"utf-8\" /></head>\n",
              "<body>\n",
              "    <div>            <script src=\"https://cdnjs.cloudflare.com/ajax/libs/mathjax/2.7.5/MathJax.js?config=TeX-AMS-MML_SVG\"></script><script type=\"text/javascript\">if (window.MathJax) {MathJax.Hub.Config({SVG: {font: \"STIX-Web\"}});}</script>                <script type=\"text/javascript\">window.PlotlyConfig = {MathJaxConfig: 'local'};</script>\n",
              "        <script src=\"https://cdn.plot.ly/plotly-2.8.3.min.js\"></script>                <div id=\"524d7e9f-578b-4b28-857f-bb07630fec45\" class=\"plotly-graph-div\" style=\"height:500px; width:800px;\"></div>            <script type=\"text/javascript\">                                    window.PLOTLYENV=window.PLOTLYENV || {};                                    if (document.getElementById(\"524d7e9f-578b-4b28-857f-bb07630fec45\")) {                    Plotly.newPlot(                        \"524d7e9f-578b-4b28-857f-bb07630fec45\",                        [{\"name\":\"246+247\",\"textinfo\":\"value+percent previous+percent initial\",\"textposition\":\"inside\",\"x\":[4926,3062,2504,2358],\"y\":[\"MainScreenAppear\",\"OffersScreenAppear\",\"CartScreenAppear\",\"PaymentScreenSuccessful\"],\"type\":\"funnel\"},{\"name\":\"248\",\"textinfo\":\"value+percent previous+percent initial\",\"textposition\":\"inside\",\"x\":[2493,1531,1230,1181],\"y\":[\"MainScreenAppear\",\"OffersScreenAppear\",\"CartScreenAppear\",\"PaymentScreenSuccessful\"],\"type\":\"funnel\"}],                        {\"template\":{\"data\":{\"bar\":[{\"error_x\":{\"color\":\"#2a3f5f\"},\"error_y\":{\"color\":\"#2a3f5f\"},\"marker\":{\"line\":{\"color\":\"#E5ECF6\",\"width\":0.5},\"pattern\":{\"fillmode\":\"overlay\",\"size\":10,\"solidity\":0.2}},\"type\":\"bar\"}],\"barpolar\":[{\"marker\":{\"line\":{\"color\":\"#E5ECF6\",\"width\":0.5},\"pattern\":{\"fillmode\":\"overlay\",\"size\":10,\"solidity\":0.2}},\"type\":\"barpolar\"}],\"carpet\":[{\"aaxis\":{\"endlinecolor\":\"#2a3f5f\",\"gridcolor\":\"white\",\"linecolor\":\"white\",\"minorgridcolor\":\"white\",\"startlinecolor\":\"#2a3f5f\"},\"baxis\":{\"endlinecolor\":\"#2a3f5f\",\"gridcolor\":\"white\",\"linecolor\":\"white\",\"minorgridcolor\":\"white\",\"startlinecolor\":\"#2a3f5f\"},\"type\":\"carpet\"}],\"choropleth\":[{\"colorbar\":{\"outlinewidth\":0,\"ticks\":\"\"},\"type\":\"choropleth\"}],\"contour\":[{\"colorbar\":{\"outlinewidth\":0,\"ticks\":\"\"},\"colorscale\":[[0.0,\"#0d0887\"],[0.1111111111111111,\"#46039f\"],[0.2222222222222222,\"#7201a8\"],[0.3333333333333333,\"#9c179e\"],[0.4444444444444444,\"#bd3786\"],[0.5555555555555556,\"#d8576b\"],[0.6666666666666666,\"#ed7953\"],[0.7777777777777778,\"#fb9f3a\"],[0.8888888888888888,\"#fdca26\"],[1.0,\"#f0f921\"]],\"type\":\"contour\"}],\"contourcarpet\":[{\"colorbar\":{\"outlinewidth\":0,\"ticks\":\"\"},\"type\":\"contourcarpet\"}],\"heatmap\":[{\"colorbar\":{\"outlinewidth\":0,\"ticks\":\"\"},\"colorscale\":[[0.0,\"#0d0887\"],[0.1111111111111111,\"#46039f\"],[0.2222222222222222,\"#7201a8\"],[0.3333333333333333,\"#9c179e\"],[0.4444444444444444,\"#bd3786\"],[0.5555555555555556,\"#d8576b\"],[0.6666666666666666,\"#ed7953\"],[0.7777777777777778,\"#fb9f3a\"],[0.8888888888888888,\"#fdca26\"],[1.0,\"#f0f921\"]],\"type\":\"heatmap\"}],\"heatmapgl\":[{\"colorbar\":{\"outlinewidth\":0,\"ticks\":\"\"},\"colorscale\":[[0.0,\"#0d0887\"],[0.1111111111111111,\"#46039f\"],[0.2222222222222222,\"#7201a8\"],[0.3333333333333333,\"#9c179e\"],[0.4444444444444444,\"#bd3786\"],[0.5555555555555556,\"#d8576b\"],[0.6666666666666666,\"#ed7953\"],[0.7777777777777778,\"#fb9f3a\"],[0.8888888888888888,\"#fdca26\"],[1.0,\"#f0f921\"]],\"type\":\"heatmapgl\"}],\"histogram\":[{\"marker\":{\"pattern\":{\"fillmode\":\"overlay\",\"size\":10,\"solidity\":0.2}},\"type\":\"histogram\"}],\"histogram2d\":[{\"colorbar\":{\"outlinewidth\":0,\"ticks\":\"\"},\"colorscale\":[[0.0,\"#0d0887\"],[0.1111111111111111,\"#46039f\"],[0.2222222222222222,\"#7201a8\"],[0.3333333333333333,\"#9c179e\"],[0.4444444444444444,\"#bd3786\"],[0.5555555555555556,\"#d8576b\"],[0.6666666666666666,\"#ed7953\"],[0.7777777777777778,\"#fb9f3a\"],[0.8888888888888888,\"#fdca26\"],[1.0,\"#f0f921\"]],\"type\":\"histogram2d\"}],\"histogram2dcontour\":[{\"colorbar\":{\"outlinewidth\":0,\"ticks\":\"\"},\"colorscale\":[[0.0,\"#0d0887\"],[0.1111111111111111,\"#46039f\"],[0.2222222222222222,\"#7201a8\"],[0.3333333333333333,\"#9c179e\"],[0.4444444444444444,\"#bd3786\"],[0.5555555555555556,\"#d8576b\"],[0.6666666666666666,\"#ed7953\"],[0.7777777777777778,\"#fb9f3a\"],[0.8888888888888888,\"#fdca26\"],[1.0,\"#f0f921\"]],\"type\":\"histogram2dcontour\"}],\"mesh3d\":[{\"colorbar\":{\"outlinewidth\":0,\"ticks\":\"\"},\"type\":\"mesh3d\"}],\"parcoords\":[{\"line\":{\"colorbar\":{\"outlinewidth\":0,\"ticks\":\"\"}},\"type\":\"parcoords\"}],\"pie\":[{\"automargin\":true,\"type\":\"pie\"}],\"scatter\":[{\"marker\":{\"colorbar\":{\"outlinewidth\":0,\"ticks\":\"\"}},\"type\":\"scatter\"}],\"scatter3d\":[{\"line\":{\"colorbar\":{\"outlinewidth\":0,\"ticks\":\"\"}},\"marker\":{\"colorbar\":{\"outlinewidth\":0,\"ticks\":\"\"}},\"type\":\"scatter3d\"}],\"scattercarpet\":[{\"marker\":{\"colorbar\":{\"outlinewidth\":0,\"ticks\":\"\"}},\"type\":\"scattercarpet\"}],\"scattergeo\":[{\"marker\":{\"colorbar\":{\"outlinewidth\":0,\"ticks\":\"\"}},\"type\":\"scattergeo\"}],\"scattergl\":[{\"marker\":{\"colorbar\":{\"outlinewidth\":0,\"ticks\":\"\"}},\"type\":\"scattergl\"}],\"scattermapbox\":[{\"marker\":{\"colorbar\":{\"outlinewidth\":0,\"ticks\":\"\"}},\"type\":\"scattermapbox\"}],\"scatterpolar\":[{\"marker\":{\"colorbar\":{\"outlinewidth\":0,\"ticks\":\"\"}},\"type\":\"scatterpolar\"}],\"scatterpolargl\":[{\"marker\":{\"colorbar\":{\"outlinewidth\":0,\"ticks\":\"\"}},\"type\":\"scatterpolargl\"}],\"scatterternary\":[{\"marker\":{\"colorbar\":{\"outlinewidth\":0,\"ticks\":\"\"}},\"type\":\"scatterternary\"}],\"surface\":[{\"colorbar\":{\"outlinewidth\":0,\"ticks\":\"\"},\"colorscale\":[[0.0,\"#0d0887\"],[0.1111111111111111,\"#46039f\"],[0.2222222222222222,\"#7201a8\"],[0.3333333333333333,\"#9c179e\"],[0.4444444444444444,\"#bd3786\"],[0.5555555555555556,\"#d8576b\"],[0.6666666666666666,\"#ed7953\"],[0.7777777777777778,\"#fb9f3a\"],[0.8888888888888888,\"#fdca26\"],[1.0,\"#f0f921\"]],\"type\":\"surface\"}],\"table\":[{\"cells\":{\"fill\":{\"color\":\"#EBF0F8\"},\"line\":{\"color\":\"white\"}},\"header\":{\"fill\":{\"color\":\"#C8D4E3\"},\"line\":{\"color\":\"white\"}},\"type\":\"table\"}]},\"layout\":{\"annotationdefaults\":{\"arrowcolor\":\"#2a3f5f\",\"arrowhead\":0,\"arrowwidth\":1},\"autotypenumbers\":\"strict\",\"coloraxis\":{\"colorbar\":{\"outlinewidth\":0,\"ticks\":\"\"}},\"colorscale\":{\"diverging\":[[0,\"#8e0152\"],[0.1,\"#c51b7d\"],[0.2,\"#de77ae\"],[0.3,\"#f1b6da\"],[0.4,\"#fde0ef\"],[0.5,\"#f7f7f7\"],[0.6,\"#e6f5d0\"],[0.7,\"#b8e186\"],[0.8,\"#7fbc41\"],[0.9,\"#4d9221\"],[1,\"#276419\"]],\"sequential\":[[0.0,\"#0d0887\"],[0.1111111111111111,\"#46039f\"],[0.2222222222222222,\"#7201a8\"],[0.3333333333333333,\"#9c179e\"],[0.4444444444444444,\"#bd3786\"],[0.5555555555555556,\"#d8576b\"],[0.6666666666666666,\"#ed7953\"],[0.7777777777777778,\"#fb9f3a\"],[0.8888888888888888,\"#fdca26\"],[1.0,\"#f0f921\"]],\"sequentialminus\":[[0.0,\"#0d0887\"],[0.1111111111111111,\"#46039f\"],[0.2222222222222222,\"#7201a8\"],[0.3333333333333333,\"#9c179e\"],[0.4444444444444444,\"#bd3786\"],[0.5555555555555556,\"#d8576b\"],[0.6666666666666666,\"#ed7953\"],[0.7777777777777778,\"#fb9f3a\"],[0.8888888888888888,\"#fdca26\"],[1.0,\"#f0f921\"]]},\"colorway\":[\"#636efa\",\"#EF553B\",\"#00cc96\",\"#ab63fa\",\"#FFA15A\",\"#19d3f3\",\"#FF6692\",\"#B6E880\",\"#FF97FF\",\"#FECB52\"],\"font\":{\"color\":\"#2a3f5f\"},\"geo\":{\"bgcolor\":\"white\",\"lakecolor\":\"white\",\"landcolor\":\"#E5ECF6\",\"showlakes\":true,\"showland\":true,\"subunitcolor\":\"white\"},\"hoverlabel\":{\"align\":\"left\"},\"hovermode\":\"closest\",\"mapbox\":{\"style\":\"light\"},\"paper_bgcolor\":\"white\",\"plot_bgcolor\":\"#E5ECF6\",\"polar\":{\"angularaxis\":{\"gridcolor\":\"white\",\"linecolor\":\"white\",\"ticks\":\"\"},\"bgcolor\":\"#E5ECF6\",\"radialaxis\":{\"gridcolor\":\"white\",\"linecolor\":\"white\",\"ticks\":\"\"}},\"scene\":{\"xaxis\":{\"backgroundcolor\":\"#E5ECF6\",\"gridcolor\":\"white\",\"gridwidth\":2,\"linecolor\":\"white\",\"showbackground\":true,\"ticks\":\"\",\"zerolinecolor\":\"white\"},\"yaxis\":{\"backgroundcolor\":\"#E5ECF6\",\"gridcolor\":\"white\",\"gridwidth\":2,\"linecolor\":\"white\",\"showbackground\":true,\"ticks\":\"\",\"zerolinecolor\":\"white\"},\"zaxis\":{\"backgroundcolor\":\"#E5ECF6\",\"gridcolor\":\"white\",\"gridwidth\":2,\"linecolor\":\"white\",\"showbackground\":true,\"ticks\":\"\",\"zerolinecolor\":\"white\"}},\"shapedefaults\":{\"line\":{\"color\":\"#2a3f5f\"}},\"ternary\":{\"aaxis\":{\"gridcolor\":\"white\",\"linecolor\":\"white\",\"ticks\":\"\"},\"baxis\":{\"gridcolor\":\"white\",\"linecolor\":\"white\",\"ticks\":\"\"},\"bgcolor\":\"#E5ECF6\",\"caxis\":{\"gridcolor\":\"white\",\"linecolor\":\"white\",\"ticks\":\"\"}},\"title\":{\"x\":0.05},\"xaxis\":{\"automargin\":true,\"gridcolor\":\"white\",\"linecolor\":\"white\",\"ticks\":\"\",\"title\":{\"standoff\":15},\"zerolinecolor\":\"white\",\"zerolinewidth\":2},\"yaxis\":{\"automargin\":true,\"gridcolor\":\"white\",\"linecolor\":\"white\",\"ticks\":\"\",\"title\":{\"standoff\":15},\"zerolinecolor\":\"white\",\"zerolinewidth\":2}}},\"height\":500,\"width\":800,\"title\":{\"text\":\"\\u0412\\u043e\\u0440\\u043e\\u043d\\u043a\\u0430 \\u0441\\u043e\\u0431\\u044b\\u0442\\u0438\\u0439 \\u043f\\u0440\\u0438\\u043b\\u043e\\u0436\\u0435\\u043d\\u0438\\u044f\"}},                        {\"responsive\": true}                    ).then(function(){\n",
              "                            \n",
              "var gd = document.getElementById('524d7e9f-578b-4b28-857f-bb07630fec45');\n",
              "var x = new MutationObserver(function (mutations, observer) {{\n",
              "        var display = window.getComputedStyle(gd).display;\n",
              "        if (!display || display === 'none') {{\n",
              "            console.log([gd, 'removed!']);\n",
              "            Plotly.purge(gd);\n",
              "            observer.disconnect();\n",
              "        }}\n",
              "}});\n",
              "\n",
              "// Listen for the removal of the full notebook cells\n",
              "var notebookContainer = gd.closest('#notebook-container');\n",
              "if (notebookContainer) {{\n",
              "    x.observe(notebookContainer, {childList: true});\n",
              "}}\n",
              "\n",
              "// Listen for the clearing of the current output cell\n",
              "var outputEl = gd.closest('.output');\n",
              "if (outputEl) {{\n",
              "    x.observe(outputEl, {childList: true});\n",
              "}}\n",
              "\n",
              "                        })                };                            </script>        </div>\n",
              "</body>\n",
              "</html>"
            ]
          },
          "metadata": {}
        }
      ],
      "source": [
        "p_value_test('246+247', 248, 0.05/16)"
      ]
    },
    {
      "cell_type": "markdown",
      "metadata": {
        "id": "s6AdxUqB0XVc"
      },
      "source": [
        "**Сравнение тестовой группы с объединенными контрольными также не показали статистически значимых различий в конверсиях.**"
      ]
    },
    {
      "cell_type": "markdown",
      "metadata": {
        "id": "13BK5dcZ0XVc"
      },
      "source": [
        "## Выводы"
      ]
    },
    {
      "cell_type": "markdown",
      "metadata": {
        "id": "NU9D0DTE0XVc"
      },
      "source": [
        "Проанализировав логи мобильного предложения, можем сделать следующие выводы:\n",
        "\n",
        "- наиболее популярное событие - MainScreenAppear (главная страница);\n",
        "\n",
        "\n",
        "- она же соответственно является первым событием в воронке:\n",
        "    1. MainScreenAppear - главная страница\n",
        "    2. OffersScreenAppear - страница с предложением\n",
        "    3. CartScreenAppear - страница с корзиной\n",
        "    4. PaymentScreenSuccessful - страница успешной оплаты  \n",
        "\n",
        "\n",
        "- до оплаты (конца воронки) доходит 48% пользователей;\n",
        "\n",
        "\n",
        "- самая низкая конверсия на этапе `MainScreenAppear → OffersScreenAppear`, это может говорить о недоработках в интерфейсе главной страницы;\n",
        "\n",
        "\n",
        "- мы провели 16 проверок статистических гипотез с уровнем значимости 0.05 (использовали поправку Бонферонни для множественных тестов), 12 из них проверяли разницу между контрольными группами и группой с изменённым шрифтом, и ни одна из них не выявила значимой разницы, что говорит об отсутствии разницы в конверсии для сравниваемых шрифтов.\n",
        "\n"
      ]
    }
  ],
  "metadata": {
    "ExecuteTimeLog": [
      {
        "duration": 1120,
        "start_time": "2021-10-18T13:07:14.330Z"
      },
      {
        "duration": 290,
        "start_time": "2021-10-18T13:08:29.272Z"
      },
      {
        "duration": 140,
        "start_time": "2021-10-18T13:08:48.808Z"
      },
      {
        "duration": 3,
        "start_time": "2021-10-18T13:27:18.201Z"
      },
      {
        "duration": 51,
        "start_time": "2021-10-18T13:29:33.628Z"
      },
      {
        "duration": 393,
        "start_time": "2021-10-18T13:31:52.061Z"
      },
      {
        "duration": 58,
        "start_time": "2021-10-18T13:32:30.230Z"
      },
      {
        "duration": 232,
        "start_time": "2021-10-18T13:34:08.712Z"
      },
      {
        "duration": 124,
        "start_time": "2021-10-18T13:36:26.830Z"
      },
      {
        "duration": 44,
        "start_time": "2021-10-18T13:39:00.674Z"
      },
      {
        "duration": 37,
        "start_time": "2021-10-18T13:39:23.836Z"
      },
      {
        "duration": 32,
        "start_time": "2021-10-18T13:39:34.715Z"
      },
      {
        "duration": 352,
        "start_time": "2021-10-18T13:43:07.475Z"
      },
      {
        "duration": 5,
        "start_time": "2021-10-18T13:43:15.170Z"
      },
      {
        "duration": 34,
        "start_time": "2021-10-18T13:44:46.938Z"
      },
      {
        "duration": 18,
        "start_time": "2021-10-18T13:47:14.680Z"
      },
      {
        "duration": 38,
        "start_time": "2021-10-18T13:47:39.091Z"
      },
      {
        "duration": 39,
        "start_time": "2021-10-18T13:47:45.955Z"
      },
      {
        "duration": 1567,
        "start_time": "2021-10-19T11:45:54.333Z"
      },
      {
        "duration": 194,
        "start_time": "2021-10-19T11:45:55.902Z"
      },
      {
        "duration": 94,
        "start_time": "2021-10-19T11:45:56.099Z"
      },
      {
        "duration": 179,
        "start_time": "2021-10-19T11:45:56.196Z"
      },
      {
        "duration": 59,
        "start_time": "2021-10-19T11:45:56.379Z"
      },
      {
        "duration": 72,
        "start_time": "2021-10-19T11:45:56.441Z"
      },
      {
        "duration": 441,
        "start_time": "2021-10-19T11:53:42.788Z"
      },
      {
        "duration": 32,
        "start_time": "2021-10-19T11:54:08.380Z"
      },
      {
        "duration": 43,
        "start_time": "2021-10-19T11:54:17.610Z"
      },
      {
        "duration": 347,
        "start_time": "2021-10-19T11:55:31.996Z"
      },
      {
        "duration": 71,
        "start_time": "2021-10-19T11:55:42.094Z"
      },
      {
        "duration": 64,
        "start_time": "2021-10-19T12:09:50.683Z"
      },
      {
        "duration": 62,
        "start_time": "2021-10-19T12:10:30.859Z"
      },
      {
        "duration": 5,
        "start_time": "2021-10-19T12:31:31.289Z"
      },
      {
        "duration": 105,
        "start_time": "2021-10-19T12:33:45.239Z"
      },
      {
        "duration": 108,
        "start_time": "2021-10-19T12:33:59.302Z"
      },
      {
        "duration": 129,
        "start_time": "2021-10-19T12:34:52.136Z"
      },
      {
        "duration": 22,
        "start_time": "2021-10-19T12:35:07.943Z"
      },
      {
        "duration": 26,
        "start_time": "2021-10-19T12:35:17.512Z"
      },
      {
        "duration": 106,
        "start_time": "2021-10-19T12:36:04.206Z"
      },
      {
        "duration": 611,
        "start_time": "2021-10-19T12:36:31.918Z"
      },
      {
        "duration": 94,
        "start_time": "2021-10-19T12:36:36.327Z"
      },
      {
        "duration": 21,
        "start_time": "2021-10-19T12:37:32.750Z"
      },
      {
        "duration": 22,
        "start_time": "2021-10-19T12:38:19.342Z"
      },
      {
        "duration": 37,
        "start_time": "2021-10-19T12:40:03.110Z"
      },
      {
        "duration": 34,
        "start_time": "2021-10-19T12:40:16.622Z"
      },
      {
        "duration": 35,
        "start_time": "2021-10-19T12:40:35.957Z"
      },
      {
        "duration": 34,
        "start_time": "2021-10-19T12:40:45.629Z"
      },
      {
        "duration": 36,
        "start_time": "2021-10-19T12:40:52.453Z"
      },
      {
        "duration": 10,
        "start_time": "2021-10-19T12:42:35.545Z"
      },
      {
        "duration": 9,
        "start_time": "2021-10-19T12:42:54.678Z"
      },
      {
        "duration": 11,
        "start_time": "2021-10-19T12:43:00.861Z"
      },
      {
        "duration": 10,
        "start_time": "2021-10-19T12:43:10.910Z"
      },
      {
        "duration": 317,
        "start_time": "2021-10-19T12:44:12.498Z"
      },
      {
        "duration": 30,
        "start_time": "2021-10-19T12:44:21.286Z"
      },
      {
        "duration": 6,
        "start_time": "2021-10-19T12:47:56.252Z"
      },
      {
        "duration": 5,
        "start_time": "2021-10-19T12:51:35.403Z"
      },
      {
        "duration": 34,
        "start_time": "2021-10-19T12:51:40.163Z"
      },
      {
        "duration": 134,
        "start_time": "2021-10-19T12:51:54.983Z"
      },
      {
        "duration": 6,
        "start_time": "2021-10-19T12:52:08.955Z"
      },
      {
        "duration": 254,
        "start_time": "2021-10-19T12:52:19.721Z"
      },
      {
        "duration": 296,
        "start_time": "2021-10-19T12:54:52.571Z"
      },
      {
        "duration": 363,
        "start_time": "2021-10-19T12:54:56.497Z"
      },
      {
        "duration": 382,
        "start_time": "2021-10-19T12:55:03.780Z"
      },
      {
        "duration": 53577,
        "start_time": "2021-10-19T12:55:14.762Z"
      },
      {
        "duration": 53536,
        "start_time": "2021-10-19T12:58:45.267Z"
      },
      {
        "duration": 568,
        "start_time": "2021-10-19T13:01:09.618Z"
      },
      {
        "duration": 554,
        "start_time": "2021-10-19T13:02:15.083Z"
      },
      {
        "duration": 316,
        "start_time": "2021-10-19T13:03:04.227Z"
      },
      {
        "duration": 454,
        "start_time": "2021-10-19T13:04:16.161Z"
      },
      {
        "duration": 427,
        "start_time": "2021-10-19T13:04:19.834Z"
      },
      {
        "duration": 409,
        "start_time": "2021-10-19T13:04:28.753Z"
      },
      {
        "duration": 817,
        "start_time": "2021-10-19T13:05:03.330Z"
      },
      {
        "duration": 506,
        "start_time": "2021-10-19T13:06:28.332Z"
      },
      {
        "duration": 874,
        "start_time": "2021-10-19T13:06:40.281Z"
      },
      {
        "duration": 946,
        "start_time": "2021-10-19T13:07:09.530Z"
      },
      {
        "duration": 527,
        "start_time": "2021-10-19T13:07:47.048Z"
      },
      {
        "duration": 519,
        "start_time": "2021-10-19T13:07:57.705Z"
      },
      {
        "duration": 535,
        "start_time": "2021-10-19T13:08:25.537Z"
      },
      {
        "duration": 99,
        "start_time": "2021-10-19T13:15:47.232Z"
      },
      {
        "duration": 102,
        "start_time": "2021-10-19T13:16:33.423Z"
      },
      {
        "duration": 141,
        "start_time": "2021-10-19T13:16:48.032Z"
      },
      {
        "duration": 33,
        "start_time": "2021-10-19T13:17:23.055Z"
      },
      {
        "duration": 33,
        "start_time": "2021-10-19T13:17:31.493Z"
      },
      {
        "duration": 30,
        "start_time": "2021-10-19T13:17:56.215Z"
      },
      {
        "duration": 28,
        "start_time": "2021-10-19T13:18:02.657Z"
      },
      {
        "duration": 25,
        "start_time": "2021-10-19T13:21:27.893Z"
      },
      {
        "duration": 27,
        "start_time": "2021-10-19T13:22:19.893Z"
      },
      {
        "duration": 30,
        "start_time": "2021-10-19T13:23:21.695Z"
      },
      {
        "duration": 39,
        "start_time": "2021-10-19T13:24:09.013Z"
      },
      {
        "duration": 42,
        "start_time": "2021-10-19T13:24:53.036Z"
      },
      {
        "duration": 25,
        "start_time": "2021-10-19T13:26:17.824Z"
      },
      {
        "duration": 31,
        "start_time": "2021-10-19T13:55:44.670Z"
      },
      {
        "duration": 1193,
        "start_time": "2021-10-19T13:56:11.747Z"
      },
      {
        "duration": 35,
        "start_time": "2021-10-19T13:56:24.299Z"
      },
      {
        "duration": 26,
        "start_time": "2021-10-19T13:57:20.165Z"
      },
      {
        "duration": 32,
        "start_time": "2021-10-19T13:57:25.398Z"
      },
      {
        "duration": 66,
        "start_time": "2021-10-19T13:59:43.529Z"
      },
      {
        "duration": 72,
        "start_time": "2021-10-19T13:59:52.850Z"
      },
      {
        "duration": 66,
        "start_time": "2021-10-19T14:00:02.042Z"
      },
      {
        "duration": 1493,
        "start_time": "2021-10-20T09:35:37.637Z"
      },
      {
        "duration": 308,
        "start_time": "2021-10-20T09:35:39.133Z"
      },
      {
        "duration": 88,
        "start_time": "2021-10-20T09:35:39.445Z"
      },
      {
        "duration": 184,
        "start_time": "2021-10-20T09:35:39.535Z"
      },
      {
        "duration": 64,
        "start_time": "2021-10-20T09:35:39.721Z"
      },
      {
        "duration": 57,
        "start_time": "2021-10-20T09:35:39.788Z"
      },
      {
        "duration": 26,
        "start_time": "2021-10-20T09:35:39.847Z"
      },
      {
        "duration": 36,
        "start_time": "2021-10-20T09:35:39.877Z"
      },
      {
        "duration": 307,
        "start_time": "2021-10-20T09:35:39.915Z"
      },
      {
        "duration": 619,
        "start_time": "2021-10-20T09:35:40.224Z"
      },
      {
        "duration": 54,
        "start_time": "2021-10-20T09:35:40.845Z"
      },
      {
        "duration": 43,
        "start_time": "2021-10-20T09:35:40.902Z"
      },
      {
        "duration": 36,
        "start_time": "2021-10-20T09:35:40.959Z"
      },
      {
        "duration": 92,
        "start_time": "2021-10-20T09:35:40.998Z"
      },
      {
        "duration": 63,
        "start_time": "2021-10-20T11:24:01.386Z"
      },
      {
        "duration": 63,
        "start_time": "2021-10-20T11:25:28.005Z"
      },
      {
        "duration": 70,
        "start_time": "2021-10-20T11:25:40.122Z"
      },
      {
        "duration": 72,
        "start_time": "2021-10-20T11:25:59.066Z"
      },
      {
        "duration": 70,
        "start_time": "2021-10-20T11:28:34.169Z"
      },
      {
        "duration": 775,
        "start_time": "2021-10-20T12:08:36.356Z"
      },
      {
        "duration": 385,
        "start_time": "2021-10-20T12:09:39.525Z"
      },
      {
        "duration": 396,
        "start_time": "2021-10-20T12:10:08.251Z"
      },
      {
        "duration": 381,
        "start_time": "2021-10-20T12:10:16.467Z"
      },
      {
        "duration": 7,
        "start_time": "2021-10-20T12:24:23.081Z"
      },
      {
        "duration": 7,
        "start_time": "2021-10-20T12:24:30.617Z"
      },
      {
        "duration": 369,
        "start_time": "2021-10-20T12:24:39.273Z"
      },
      {
        "duration": 6,
        "start_time": "2021-10-20T12:24:44.296Z"
      },
      {
        "duration": 6,
        "start_time": "2021-10-20T12:24:50.913Z"
      },
      {
        "duration": 395,
        "start_time": "2021-10-20T12:26:43.785Z"
      },
      {
        "duration": 433,
        "start_time": "2021-10-20T12:27:25.002Z"
      },
      {
        "duration": 373,
        "start_time": "2021-10-20T12:27:32.764Z"
      },
      {
        "duration": 410,
        "start_time": "2021-10-20T12:27:45.195Z"
      },
      {
        "duration": 391,
        "start_time": "2021-10-20T12:28:18.579Z"
      },
      {
        "duration": 5,
        "start_time": "2021-10-20T12:28:58.896Z"
      },
      {
        "duration": 442,
        "start_time": "2021-10-20T12:29:03.208Z"
      },
      {
        "duration": 482,
        "start_time": "2021-10-20T12:29:35.456Z"
      },
      {
        "duration": 382,
        "start_time": "2021-10-20T12:29:44.049Z"
      },
      {
        "duration": 5,
        "start_time": "2021-10-20T12:29:54.808Z"
      },
      {
        "duration": 445,
        "start_time": "2021-10-20T12:30:14.139Z"
      },
      {
        "duration": 381,
        "start_time": "2021-10-20T12:31:43.985Z"
      },
      {
        "duration": 9582,
        "start_time": "2021-10-20T12:31:53.304Z"
      },
      {
        "duration": 11632,
        "start_time": "2021-10-20T12:32:18.224Z"
      },
      {
        "duration": 10400,
        "start_time": "2021-10-20T12:32:32.021Z"
      },
      {
        "duration": 8,
        "start_time": "2021-10-20T12:33:08.474Z"
      },
      {
        "duration": 6,
        "start_time": "2021-10-20T12:33:39.920Z"
      },
      {
        "duration": 6,
        "start_time": "2021-10-20T12:33:45.132Z"
      },
      {
        "duration": 11410,
        "start_time": "2021-10-20T12:34:43.783Z"
      },
      {
        "duration": 10020,
        "start_time": "2021-10-20T12:35:38.191Z"
      },
      {
        "duration": 10749,
        "start_time": "2021-10-20T12:36:52.096Z"
      },
      {
        "duration": 5,
        "start_time": "2021-10-20T12:37:37.743Z"
      },
      {
        "duration": 6,
        "start_time": "2021-10-20T12:37:49.023Z"
      },
      {
        "duration": 6,
        "start_time": "2021-10-20T12:37:57.732Z"
      },
      {
        "duration": 381,
        "start_time": "2021-10-20T12:38:12.910Z"
      },
      {
        "duration": 6,
        "start_time": "2021-10-20T12:38:42.734Z"
      },
      {
        "duration": 10098,
        "start_time": "2021-10-20T12:38:57.727Z"
      },
      {
        "duration": 10104,
        "start_time": "2021-10-20T12:39:30.585Z"
      },
      {
        "duration": 11652,
        "start_time": "2021-10-20T12:40:18.794Z"
      },
      {
        "duration": 7,
        "start_time": "2021-10-20T12:40:33.001Z"
      },
      {
        "duration": 11222,
        "start_time": "2021-10-20T12:40:54.983Z"
      },
      {
        "duration": 377,
        "start_time": "2021-10-20T12:43:21.550Z"
      },
      {
        "duration": 11,
        "start_time": "2021-10-20T12:44:17.423Z"
      },
      {
        "duration": 411,
        "start_time": "2021-10-20T12:44:32.019Z"
      },
      {
        "duration": 12,
        "start_time": "2021-10-20T12:44:38.174Z"
      },
      {
        "duration": 424,
        "start_time": "2021-10-20T12:44:55.873Z"
      },
      {
        "duration": 12,
        "start_time": "2021-10-20T12:45:00.774Z"
      },
      {
        "duration": 11,
        "start_time": "2021-10-20T12:48:11.446Z"
      },
      {
        "duration": 13,
        "start_time": "2021-10-20T12:48:24.031Z"
      },
      {
        "duration": 15,
        "start_time": "2021-10-20T12:48:54.182Z"
      },
      {
        "duration": 13,
        "start_time": "2021-10-20T12:49:52.053Z"
      },
      {
        "duration": 16,
        "start_time": "2021-10-20T12:50:07.580Z"
      },
      {
        "duration": 4,
        "start_time": "2021-10-20T12:50:53.867Z"
      },
      {
        "duration": 4,
        "start_time": "2021-10-20T12:51:26.892Z"
      },
      {
        "duration": 6,
        "start_time": "2021-10-20T12:51:46.004Z"
      },
      {
        "duration": 5,
        "start_time": "2021-10-20T12:51:57.444Z"
      },
      {
        "duration": 9,
        "start_time": "2021-10-20T12:52:21.901Z"
      },
      {
        "duration": 7,
        "start_time": "2021-10-20T12:53:11.993Z"
      },
      {
        "duration": 9,
        "start_time": "2021-10-20T12:53:23.728Z"
      },
      {
        "duration": 10,
        "start_time": "2021-10-20T12:53:56.828Z"
      },
      {
        "duration": 10,
        "start_time": "2021-10-20T12:54:19.958Z"
      },
      {
        "duration": 11,
        "start_time": "2021-10-20T13:05:21.027Z"
      },
      {
        "duration": 13,
        "start_time": "2021-10-20T13:06:09.140Z"
      },
      {
        "duration": 15,
        "start_time": "2021-10-20T13:06:43.940Z"
      },
      {
        "duration": 6,
        "start_time": "2021-10-20T13:08:26.650Z"
      },
      {
        "duration": 123,
        "start_time": "2021-10-20T13:10:24.090Z"
      },
      {
        "duration": 479,
        "start_time": "2021-10-20T13:10:35.367Z"
      },
      {
        "duration": 8,
        "start_time": "2021-10-20T13:11:45.778Z"
      },
      {
        "duration": 401,
        "start_time": "2021-10-20T13:11:57.593Z"
      },
      {
        "duration": 9,
        "start_time": "2021-10-20T13:12:20.658Z"
      },
      {
        "duration": 23,
        "start_time": "2021-10-20T13:12:49.865Z"
      },
      {
        "duration": 19,
        "start_time": "2021-10-20T13:13:52.717Z"
      },
      {
        "duration": 435,
        "start_time": "2021-10-20T13:14:28.463Z"
      },
      {
        "duration": 1628,
        "start_time": "2021-10-20T13:14:38.539Z"
      },
      {
        "duration": 322,
        "start_time": "2021-10-20T13:14:40.172Z"
      },
      {
        "duration": 110,
        "start_time": "2021-10-20T13:14:40.501Z"
      },
      {
        "duration": 170,
        "start_time": "2021-10-20T13:14:40.614Z"
      },
      {
        "duration": 49,
        "start_time": "2021-10-20T13:14:40.786Z"
      },
      {
        "duration": 76,
        "start_time": "2021-10-20T13:14:40.837Z"
      },
      {
        "duration": 9,
        "start_time": "2021-10-20T13:14:40.917Z"
      },
      {
        "duration": 60,
        "start_time": "2021-10-20T13:14:40.929Z"
      },
      {
        "duration": 281,
        "start_time": "2021-10-20T13:14:40.991Z"
      },
      {
        "duration": 572,
        "start_time": "2021-10-20T13:14:41.275Z"
      },
      {
        "duration": 50,
        "start_time": "2021-10-20T13:14:41.849Z"
      },
      {
        "duration": 59,
        "start_time": "2021-10-20T13:14:41.902Z"
      },
      {
        "duration": 32,
        "start_time": "2021-10-20T13:14:41.963Z"
      },
      {
        "duration": 94,
        "start_time": "2021-10-20T13:14:41.997Z"
      },
      {
        "duration": 14,
        "start_time": "2021-10-20T13:14:42.093Z"
      },
      {
        "duration": 10,
        "start_time": "2021-10-20T13:14:42.109Z"
      },
      {
        "duration": 534,
        "start_time": "2021-10-20T13:14:42.121Z"
      },
      {
        "duration": 23,
        "start_time": "2021-10-20T13:14:49.185Z"
      },
      {
        "duration": 1135,
        "start_time": "2021-10-20T14:58:56.630Z"
      },
      {
        "duration": 133,
        "start_time": "2021-10-20T14:58:57.767Z"
      },
      {
        "duration": 60,
        "start_time": "2021-10-20T14:58:57.902Z"
      },
      {
        "duration": 111,
        "start_time": "2021-10-20T14:58:57.964Z"
      },
      {
        "duration": 35,
        "start_time": "2021-10-20T14:58:58.077Z"
      },
      {
        "duration": 52,
        "start_time": "2021-10-20T14:58:58.114Z"
      },
      {
        "duration": 7,
        "start_time": "2021-10-20T14:58:58.167Z"
      },
      {
        "duration": 24,
        "start_time": "2021-10-20T14:58:58.176Z"
      },
      {
        "duration": 184,
        "start_time": "2021-10-20T14:58:58.201Z"
      },
      {
        "duration": 321,
        "start_time": "2021-10-20T14:58:58.387Z"
      },
      {
        "duration": 28,
        "start_time": "2021-10-20T14:58:58.710Z"
      },
      {
        "duration": 31,
        "start_time": "2021-10-20T14:58:58.744Z"
      },
      {
        "duration": 21,
        "start_time": "2021-10-20T14:58:58.777Z"
      },
      {
        "duration": 71,
        "start_time": "2021-10-20T14:58:58.800Z"
      },
      {
        "duration": 9,
        "start_time": "2021-10-20T14:58:58.873Z"
      },
      {
        "duration": 12,
        "start_time": "2021-10-20T14:58:58.884Z"
      },
      {
        "duration": 5,
        "start_time": "2021-10-20T15:11:52.583Z"
      },
      {
        "duration": 42,
        "start_time": "2021-10-20T15:16:41.923Z"
      },
      {
        "duration": 48,
        "start_time": "2021-10-20T15:20:15.324Z"
      },
      {
        "duration": 46,
        "start_time": "2021-10-20T15:20:23.027Z"
      },
      {
        "duration": 41,
        "start_time": "2021-10-20T15:20:49.891Z"
      },
      {
        "duration": 356,
        "start_time": "2021-10-20T15:40:43.504Z"
      },
      {
        "duration": 451,
        "start_time": "2021-10-20T15:40:51.771Z"
      },
      {
        "duration": 512,
        "start_time": "2021-10-20T15:40:56.737Z"
      },
      {
        "duration": 199,
        "start_time": "2021-10-20T15:47:52.879Z"
      },
      {
        "duration": 113,
        "start_time": "2021-10-20T15:51:56.087Z"
      },
      {
        "duration": 113,
        "start_time": "2021-10-20T15:52:09.252Z"
      },
      {
        "duration": 362,
        "start_time": "2021-10-20T15:53:29.371Z"
      },
      {
        "duration": 121,
        "start_time": "2021-10-20T15:53:40.564Z"
      },
      {
        "duration": 97,
        "start_time": "2021-10-20T15:54:28.566Z"
      },
      {
        "duration": 270,
        "start_time": "2021-10-20T15:55:46.410Z"
      },
      {
        "duration": 126,
        "start_time": "2021-10-20T15:56:28.030Z"
      },
      {
        "duration": 119,
        "start_time": "2021-10-20T15:56:38.370Z"
      },
      {
        "duration": 1947,
        "start_time": "2021-10-21T06:23:35.159Z"
      },
      {
        "duration": 205,
        "start_time": "2021-10-21T06:23:37.109Z"
      },
      {
        "duration": 99,
        "start_time": "2021-10-21T06:23:37.317Z"
      },
      {
        "duration": 168,
        "start_time": "2021-10-21T06:23:37.420Z"
      },
      {
        "duration": 57,
        "start_time": "2021-10-21T06:23:37.592Z"
      },
      {
        "duration": 82,
        "start_time": "2021-10-21T06:23:37.653Z"
      },
      {
        "duration": 13,
        "start_time": "2021-10-21T06:23:37.738Z"
      },
      {
        "duration": 64,
        "start_time": "2021-10-21T06:23:37.756Z"
      },
      {
        "duration": 272,
        "start_time": "2021-10-21T06:23:37.822Z"
      },
      {
        "duration": 568,
        "start_time": "2021-10-21T06:23:38.100Z"
      },
      {
        "duration": 44,
        "start_time": "2021-10-21T06:23:38.670Z"
      },
      {
        "duration": 44,
        "start_time": "2021-10-21T06:23:38.717Z"
      },
      {
        "duration": 53,
        "start_time": "2021-10-21T06:23:38.763Z"
      },
      {
        "duration": 89,
        "start_time": "2021-10-21T06:23:38.818Z"
      },
      {
        "duration": 15,
        "start_time": "2021-10-21T06:23:38.909Z"
      },
      {
        "duration": 20,
        "start_time": "2021-10-21T06:23:38.926Z"
      },
      {
        "duration": 768,
        "start_time": "2021-10-21T06:23:38.948Z"
      },
      {
        "duration": 7,
        "start_time": "2021-10-21T06:23:39.718Z"
      },
      {
        "duration": 18,
        "start_time": "2021-10-21T06:23:39.728Z"
      },
      {
        "duration": 4,
        "start_time": "2021-10-21T06:23:39.748Z"
      },
      {
        "duration": 695,
        "start_time": "2021-10-21T06:25:53.413Z"
      },
      {
        "duration": 300,
        "start_time": "2021-10-21T06:26:08.455Z"
      },
      {
        "duration": 351,
        "start_time": "2021-10-21T06:26:28.476Z"
      },
      {
        "duration": 419,
        "start_time": "2021-10-21T06:30:34.899Z"
      },
      {
        "duration": 184,
        "start_time": "2021-10-21T06:30:47.561Z"
      },
      {
        "duration": 200,
        "start_time": "2021-10-21T06:30:58.689Z"
      },
      {
        "duration": 430,
        "start_time": "2021-10-21T06:31:44.225Z"
      },
      {
        "duration": 187,
        "start_time": "2021-10-21T06:31:55.112Z"
      },
      {
        "duration": 438,
        "start_time": "2021-10-21T06:33:21.840Z"
      },
      {
        "duration": 355,
        "start_time": "2021-10-21T06:33:24.624Z"
      },
      {
        "duration": 385,
        "start_time": "2021-10-21T06:35:45.744Z"
      },
      {
        "duration": 428,
        "start_time": "2021-10-21T06:35:53.424Z"
      },
      {
        "duration": 180,
        "start_time": "2021-10-21T06:36:03.792Z"
      },
      {
        "duration": 188,
        "start_time": "2021-10-21T07:16:54.901Z"
      },
      {
        "duration": 7,
        "start_time": "2021-10-21T07:45:08.415Z"
      },
      {
        "duration": 6,
        "start_time": "2021-10-21T07:45:16.959Z"
      },
      {
        "duration": 8,
        "start_time": "2021-10-21T09:10:10.096Z"
      },
      {
        "duration": 8,
        "start_time": "2021-10-21T09:11:07.322Z"
      },
      {
        "duration": 13,
        "start_time": "2021-10-21T09:11:40.961Z"
      },
      {
        "duration": 8,
        "start_time": "2021-10-21T09:13:51.700Z"
      },
      {
        "duration": 8,
        "start_time": "2021-10-21T09:13:58.687Z"
      },
      {
        "duration": 116,
        "start_time": "2021-10-21T09:14:27.068Z"
      },
      {
        "duration": 5,
        "start_time": "2021-10-21T09:14:38.017Z"
      },
      {
        "duration": 6,
        "start_time": "2021-10-21T09:14:50.144Z"
      },
      {
        "duration": 249,
        "start_time": "2021-10-21T09:24:15.807Z"
      },
      {
        "duration": 245,
        "start_time": "2021-10-21T09:25:58.480Z"
      },
      {
        "duration": 393,
        "start_time": "2021-10-21T09:27:51.823Z"
      },
      {
        "duration": 399,
        "start_time": "2021-10-21T09:28:10.056Z"
      },
      {
        "duration": 404,
        "start_time": "2021-10-21T09:28:19.184Z"
      },
      {
        "duration": 241,
        "start_time": "2021-10-21T09:28:56.048Z"
      },
      {
        "duration": 255,
        "start_time": "2021-10-21T09:29:07.685Z"
      },
      {
        "duration": 240,
        "start_time": "2021-10-21T09:29:16.965Z"
      },
      {
        "duration": 247,
        "start_time": "2021-10-21T09:31:24.323Z"
      },
      {
        "duration": 241,
        "start_time": "2021-10-21T09:33:16.040Z"
      },
      {
        "duration": 606,
        "start_time": "2021-10-21T09:33:52.312Z"
      },
      {
        "duration": 256,
        "start_time": "2021-10-21T09:34:55.857Z"
      },
      {
        "duration": 247,
        "start_time": "2021-10-21T09:35:33.937Z"
      },
      {
        "duration": 241,
        "start_time": "2021-10-21T09:36:58.877Z"
      },
      {
        "duration": 243,
        "start_time": "2021-10-21T09:46:59.465Z"
      },
      {
        "duration": 243,
        "start_time": "2021-10-21T09:51:06.419Z"
      },
      {
        "duration": 240,
        "start_time": "2021-10-21T09:51:25.347Z"
      },
      {
        "duration": 245,
        "start_time": "2021-10-21T09:51:28.963Z"
      },
      {
        "duration": 8964,
        "start_time": "2021-10-21T09:55:23.937Z"
      },
      {
        "duration": 10859,
        "start_time": "2021-10-21T09:55:35.505Z"
      },
      {
        "duration": 6,
        "start_time": "2021-10-21T09:56:06.449Z"
      },
      {
        "duration": 6,
        "start_time": "2021-10-21T09:56:20.129Z"
      },
      {
        "duration": 6,
        "start_time": "2021-10-21T09:59:17.801Z"
      },
      {
        "duration": 15,
        "start_time": "2021-10-21T10:00:10.865Z"
      },
      {
        "duration": 421,
        "start_time": "2021-10-21T10:00:46.517Z"
      },
      {
        "duration": 15,
        "start_time": "2021-10-21T10:01:07.386Z"
      },
      {
        "duration": 17,
        "start_time": "2021-10-21T10:01:28.625Z"
      },
      {
        "duration": 6,
        "start_time": "2021-10-21T10:01:42.394Z"
      },
      {
        "duration": 5,
        "start_time": "2021-10-21T10:40:35.290Z"
      },
      {
        "duration": 375,
        "start_time": "2021-10-21T10:44:43.598Z"
      },
      {
        "duration": 133,
        "start_time": "2021-10-21T11:25:06.884Z"
      },
      {
        "duration": 356,
        "start_time": "2021-10-21T11:25:21.405Z"
      },
      {
        "duration": 5,
        "start_time": "2021-10-21T11:25:29.606Z"
      },
      {
        "duration": 6,
        "start_time": "2021-10-21T11:25:33.268Z"
      },
      {
        "duration": 6,
        "start_time": "2021-10-21T11:25:51.440Z"
      },
      {
        "duration": 5,
        "start_time": "2021-10-21T11:25:58.747Z"
      },
      {
        "duration": 7,
        "start_time": "2021-10-21T11:26:17.003Z"
      },
      {
        "duration": 360,
        "start_time": "2021-10-21T11:26:38.130Z"
      },
      {
        "duration": 6,
        "start_time": "2021-10-21T11:27:05.507Z"
      },
      {
        "duration": 6,
        "start_time": "2021-10-21T11:27:09.874Z"
      },
      {
        "duration": 6,
        "start_time": "2021-10-21T11:27:24.539Z"
      },
      {
        "duration": 4,
        "start_time": "2021-10-21T11:27:31.291Z"
      },
      {
        "duration": 6,
        "start_time": "2021-10-21T11:27:36.899Z"
      },
      {
        "duration": 4,
        "start_time": "2021-10-21T11:34:16.589Z"
      },
      {
        "duration": 10083,
        "start_time": "2021-10-21T11:44:17.134Z"
      },
      {
        "duration": 14,
        "start_time": "2021-10-21T11:45:32.538Z"
      },
      {
        "duration": 8961,
        "start_time": "2021-10-21T11:46:57.326Z"
      },
      {
        "duration": 2342,
        "start_time": "2021-10-21T11:48:22.067Z"
      },
      {
        "duration": 223,
        "start_time": "2021-10-21T11:48:24.411Z"
      },
      {
        "duration": 81,
        "start_time": "2021-10-21T11:48:24.637Z"
      },
      {
        "duration": 162,
        "start_time": "2021-10-21T11:48:24.721Z"
      },
      {
        "duration": 56,
        "start_time": "2021-10-21T11:48:24.885Z"
      },
      {
        "duration": 68,
        "start_time": "2021-10-21T11:48:24.944Z"
      },
      {
        "duration": 9,
        "start_time": "2021-10-21T11:48:25.015Z"
      },
      {
        "duration": 38,
        "start_time": "2021-10-21T11:48:25.027Z"
      },
      {
        "duration": 274,
        "start_time": "2021-10-21T11:48:25.069Z"
      },
      {
        "duration": 682,
        "start_time": "2021-10-21T11:48:25.346Z"
      },
      {
        "duration": 36,
        "start_time": "2021-10-21T11:48:26.031Z"
      },
      {
        "duration": 67,
        "start_time": "2021-10-21T11:48:26.069Z"
      },
      {
        "duration": 33,
        "start_time": "2021-10-21T11:48:26.138Z"
      },
      {
        "duration": 90,
        "start_time": "2021-10-21T11:48:26.173Z"
      },
      {
        "duration": 12,
        "start_time": "2021-10-21T11:48:26.265Z"
      },
      {
        "duration": 40,
        "start_time": "2021-10-21T11:48:26.280Z"
      },
      {
        "duration": 855,
        "start_time": "2021-10-21T11:48:26.323Z"
      },
      {
        "duration": 24,
        "start_time": "2021-10-21T11:48:27.180Z"
      },
      {
        "duration": 24,
        "start_time": "2021-10-21T11:48:27.207Z"
      },
      {
        "duration": 4,
        "start_time": "2021-10-21T11:48:27.233Z"
      },
      {
        "duration": 9309,
        "start_time": "2021-10-21T11:48:27.239Z"
      },
      {
        "duration": 5373,
        "start_time": "2021-10-21T11:48:31.178Z"
      },
      {
        "duration": 5368,
        "start_time": "2021-10-21T11:48:31.184Z"
      },
      {
        "duration": 11267,
        "start_time": "2021-10-21T11:49:06.614Z"
      },
      {
        "duration": 9191,
        "start_time": "2021-10-21T11:51:56.186Z"
      },
      {
        "duration": 253,
        "start_time": "2021-10-21T11:53:30.729Z"
      },
      {
        "duration": 252,
        "start_time": "2021-10-21T11:53:47.034Z"
      },
      {
        "duration": 267,
        "start_time": "2021-10-21T11:54:00.434Z"
      },
      {
        "duration": 372,
        "start_time": "2021-10-21T12:00:38.679Z"
      },
      {
        "duration": 12,
        "start_time": "2021-10-21T12:01:00.656Z"
      },
      {
        "duration": 736,
        "start_time": "2021-10-21T12:01:03.345Z"
      },
      {
        "duration": 6,
        "start_time": "2021-10-21T12:02:28.758Z"
      },
      {
        "duration": 10,
        "start_time": "2021-10-21T12:03:51.574Z"
      },
      {
        "duration": 365,
        "start_time": "2021-10-21T12:03:54.326Z"
      },
      {
        "duration": 5,
        "start_time": "2021-10-21T12:05:07.049Z"
      },
      {
        "duration": 11,
        "start_time": "2021-10-21T12:05:23.019Z"
      },
      {
        "duration": 716,
        "start_time": "2021-10-21T12:05:25.409Z"
      },
      {
        "duration": 10,
        "start_time": "2021-10-21T12:05:40.303Z"
      },
      {
        "duration": 206,
        "start_time": "2021-10-21T12:05:42.894Z"
      },
      {
        "duration": 199,
        "start_time": "2021-10-21T12:06:59.360Z"
      },
      {
        "duration": 200,
        "start_time": "2021-10-21T12:07:04.095Z"
      },
      {
        "duration": 235,
        "start_time": "2021-10-21T12:09:54.249Z"
      },
      {
        "duration": 252,
        "start_time": "2021-10-21T12:10:06.902Z"
      },
      {
        "duration": 255,
        "start_time": "2021-10-21T12:10:30.471Z"
      },
      {
        "duration": 245,
        "start_time": "2021-10-21T12:10:44.270Z"
      },
      {
        "duration": 244,
        "start_time": "2021-10-21T12:11:38.821Z"
      },
      {
        "duration": 372,
        "start_time": "2021-10-21T12:11:48.777Z"
      },
      {
        "duration": 200,
        "start_time": "2021-10-21T13:29:01.328Z"
      },
      {
        "duration": 192,
        "start_time": "2021-10-21T13:29:53.026Z"
      },
      {
        "duration": 6387,
        "start_time": "2021-10-21T13:39:38.456Z"
      },
      {
        "duration": 364,
        "start_time": "2021-10-21T13:40:33.727Z"
      },
      {
        "duration": 416,
        "start_time": "2021-10-21T13:40:38.246Z"
      },
      {
        "duration": 6,
        "start_time": "2021-10-21T13:40:51.493Z"
      },
      {
        "duration": 5,
        "start_time": "2021-10-21T13:43:02.215Z"
      },
      {
        "duration": 4997,
        "start_time": "2021-10-21T13:43:08.885Z"
      },
      {
        "duration": 8876,
        "start_time": "2021-10-21T13:49:12.355Z"
      },
      {
        "duration": 5399,
        "start_time": "2021-10-21T13:49:15.836Z"
      },
      {
        "duration": 9649,
        "start_time": "2021-10-21T13:49:32.269Z"
      },
      {
        "duration": 1981,
        "start_time": "2021-10-21T13:50:09.966Z"
      },
      {
        "duration": 205,
        "start_time": "2021-10-21T13:50:11.950Z"
      },
      {
        "duration": 98,
        "start_time": "2021-10-21T13:50:12.161Z"
      },
      {
        "duration": 174,
        "start_time": "2021-10-21T13:50:12.262Z"
      },
      {
        "duration": 63,
        "start_time": "2021-10-21T13:50:12.439Z"
      },
      {
        "duration": 63,
        "start_time": "2021-10-21T13:50:12.504Z"
      },
      {
        "duration": 31,
        "start_time": "2021-10-21T13:50:12.572Z"
      },
      {
        "duration": 41,
        "start_time": "2021-10-21T13:50:12.606Z"
      },
      {
        "duration": 300,
        "start_time": "2021-10-21T13:50:12.650Z"
      },
      {
        "duration": 573,
        "start_time": "2021-10-21T13:50:12.952Z"
      },
      {
        "duration": 38,
        "start_time": "2021-10-21T13:50:13.528Z"
      },
      {
        "duration": 73,
        "start_time": "2021-10-21T13:50:13.568Z"
      },
      {
        "duration": 33,
        "start_time": "2021-10-21T13:50:13.643Z"
      },
      {
        "duration": 82,
        "start_time": "2021-10-21T13:50:13.679Z"
      },
      {
        "duration": 12,
        "start_time": "2021-10-21T13:50:13.763Z"
      },
      {
        "duration": 37,
        "start_time": "2021-10-21T13:50:13.777Z"
      },
      {
        "duration": 773,
        "start_time": "2021-10-21T13:50:13.816Z"
      },
      {
        "duration": 13,
        "start_time": "2021-10-21T13:50:14.593Z"
      },
      {
        "duration": 37,
        "start_time": "2021-10-21T13:50:14.608Z"
      },
      {
        "duration": 64,
        "start_time": "2021-10-21T13:50:14.647Z"
      },
      {
        "duration": 4,
        "start_time": "2021-10-21T13:50:14.714Z"
      },
      {
        "duration": 384,
        "start_time": "2021-10-21T13:50:14.720Z"
      },
      {
        "duration": 14,
        "start_time": "2021-10-21T13:50:15.106Z"
      },
      {
        "duration": 445,
        "start_time": "2021-10-21T13:50:15.123Z"
      },
      {
        "duration": 226,
        "start_time": "2021-10-21T13:50:15.574Z"
      },
      {
        "duration": 223,
        "start_time": "2021-10-21T13:50:15.803Z"
      },
      {
        "duration": 6,
        "start_time": "2021-10-21T13:50:16.028Z"
      },
      {
        "duration": 5515,
        "start_time": "2021-10-21T13:50:16.036Z"
      },
      {
        "duration": 396,
        "start_time": "2021-10-21T13:51:16.290Z"
      },
      {
        "duration": 38,
        "start_time": "2021-10-21T13:53:57.446Z"
      },
      {
        "duration": 27,
        "start_time": "2021-10-21T13:54:07.267Z"
      },
      {
        "duration": 32,
        "start_time": "2021-10-21T13:54:23.826Z"
      },
      {
        "duration": 388,
        "start_time": "2021-10-21T13:54:31.524Z"
      },
      {
        "duration": 1577,
        "start_time": "2021-10-21T13:55:04.798Z"
      },
      {
        "duration": 30,
        "start_time": "2021-10-21T13:55:09.811Z"
      },
      {
        "duration": 62,
        "start_time": "2021-10-21T13:55:52.002Z"
      },
      {
        "duration": 2030,
        "start_time": "2021-10-21T13:56:17.504Z"
      },
      {
        "duration": 201,
        "start_time": "2021-10-21T13:56:19.536Z"
      },
      {
        "duration": 93,
        "start_time": "2021-10-21T13:56:19.740Z"
      },
      {
        "duration": 164,
        "start_time": "2021-10-21T13:56:19.836Z"
      },
      {
        "duration": 51,
        "start_time": "2021-10-21T13:56:20.002Z"
      },
      {
        "duration": 81,
        "start_time": "2021-10-21T13:56:20.055Z"
      },
      {
        "duration": 12,
        "start_time": "2021-10-21T13:56:20.139Z"
      },
      {
        "duration": 59,
        "start_time": "2021-10-21T13:56:20.157Z"
      },
      {
        "duration": 273,
        "start_time": "2021-10-21T13:56:20.220Z"
      },
      {
        "duration": 568,
        "start_time": "2021-10-21T13:56:20.500Z"
      },
      {
        "duration": 45,
        "start_time": "2021-10-21T13:56:21.071Z"
      },
      {
        "duration": 63,
        "start_time": "2021-10-21T13:56:21.118Z"
      },
      {
        "duration": 32,
        "start_time": "2021-10-21T13:56:21.200Z"
      },
      {
        "duration": 88,
        "start_time": "2021-10-21T13:56:21.235Z"
      },
      {
        "duration": 11,
        "start_time": "2021-10-21T13:56:21.326Z"
      },
      {
        "duration": 21,
        "start_time": "2021-10-21T13:56:21.340Z"
      },
      {
        "duration": 1136,
        "start_time": "2021-10-21T13:56:21.364Z"
      },
      {
        "duration": 8,
        "start_time": "2021-10-21T13:56:22.503Z"
      },
      {
        "duration": 23,
        "start_time": "2021-10-21T13:56:22.514Z"
      },
      {
        "duration": 83,
        "start_time": "2021-10-21T13:56:22.540Z"
      },
      {
        "duration": 3,
        "start_time": "2021-10-21T13:56:22.626Z"
      },
      {
        "duration": 527,
        "start_time": "2021-10-21T13:56:22.632Z"
      },
      {
        "duration": 16,
        "start_time": "2021-10-21T13:56:23.165Z"
      },
      {
        "duration": 481,
        "start_time": "2021-10-21T13:56:23.199Z"
      },
      {
        "duration": 229,
        "start_time": "2021-10-21T13:56:23.683Z"
      },
      {
        "duration": 220,
        "start_time": "2021-10-21T13:56:23.914Z"
      },
      {
        "duration": 6,
        "start_time": "2021-10-21T13:56:24.136Z"
      },
      {
        "duration": 7693,
        "start_time": "2021-10-21T13:56:24.144Z"
      },
      {
        "duration": 57,
        "start_time": "2021-10-21T13:57:05.915Z"
      },
      {
        "duration": 57,
        "start_time": "2021-10-21T13:57:21.013Z"
      },
      {
        "duration": 56,
        "start_time": "2021-10-21T13:57:38.298Z"
      },
      {
        "duration": 720,
        "start_time": "2021-10-21T13:58:21.954Z"
      },
      {
        "duration": 771,
        "start_time": "2021-10-21T13:59:55.172Z"
      },
      {
        "duration": 312,
        "start_time": "2021-10-22T08:06:21.468Z"
      },
      {
        "duration": 1994,
        "start_time": "2021-10-22T08:06:29.334Z"
      },
      {
        "duration": 191,
        "start_time": "2021-10-22T08:06:31.332Z"
      },
      {
        "duration": 74,
        "start_time": "2021-10-22T08:06:31.526Z"
      },
      {
        "duration": 168,
        "start_time": "2021-10-22T08:06:31.603Z"
      },
      {
        "duration": 60,
        "start_time": "2021-10-22T08:06:31.774Z"
      },
      {
        "duration": 61,
        "start_time": "2021-10-22T08:06:31.836Z"
      },
      {
        "duration": 27,
        "start_time": "2021-10-22T08:06:31.899Z"
      },
      {
        "duration": 35,
        "start_time": "2021-10-22T08:06:31.929Z"
      },
      {
        "duration": 279,
        "start_time": "2021-10-22T08:06:31.967Z"
      },
      {
        "duration": 558,
        "start_time": "2021-10-22T08:06:32.248Z"
      },
      {
        "duration": 38,
        "start_time": "2021-10-22T08:06:32.808Z"
      },
      {
        "duration": 516,
        "start_time": "2021-10-22T08:06:32.848Z"
      },
      {
        "duration": 50,
        "start_time": "2021-10-22T08:06:50.613Z"
      },
      {
        "duration": 364,
        "start_time": "2021-10-22T08:07:10.795Z"
      },
      {
        "duration": 354,
        "start_time": "2021-10-22T08:12:36.549Z"
      },
      {
        "duration": 53,
        "start_time": "2021-10-22T08:12:42.804Z"
      },
      {
        "duration": 343,
        "start_time": "2021-10-22T08:19:15.671Z"
      },
      {
        "duration": 69,
        "start_time": "2021-10-22T08:19:54.780Z"
      },
      {
        "duration": 336,
        "start_time": "2021-10-22T08:23:09.396Z"
      },
      {
        "duration": 353,
        "start_time": "2021-10-22T08:25:19.443Z"
      },
      {
        "duration": 18,
        "start_time": "2021-10-22T08:28:26.890Z"
      },
      {
        "duration": 18,
        "start_time": "2021-10-22T08:29:10.690Z"
      },
      {
        "duration": 326,
        "start_time": "2021-10-22T08:29:22.900Z"
      },
      {
        "duration": 322,
        "start_time": "2021-10-22T08:30:35.460Z"
      },
      {
        "duration": 313,
        "start_time": "2021-10-22T08:30:45.358Z"
      },
      {
        "duration": 52,
        "start_time": "2021-10-22T08:35:16.853Z"
      },
      {
        "duration": 54,
        "start_time": "2021-10-22T08:36:09.241Z"
      },
      {
        "duration": 323,
        "start_time": "2021-10-22T08:36:36.715Z"
      },
      {
        "duration": 55,
        "start_time": "2021-10-22T08:37:19.231Z"
      },
      {
        "duration": 56,
        "start_time": "2021-10-22T08:37:48.268Z"
      },
      {
        "duration": 57,
        "start_time": "2021-10-22T08:39:12.706Z"
      },
      {
        "duration": 52,
        "start_time": "2021-10-22T08:39:24.480Z"
      },
      {
        "duration": 55,
        "start_time": "2021-10-22T08:39:52.208Z"
      },
      {
        "duration": 58,
        "start_time": "2021-10-22T08:40:50.558Z"
      },
      {
        "duration": 57,
        "start_time": "2021-10-22T08:41:05.898Z"
      },
      {
        "duration": 57,
        "start_time": "2021-10-22T08:41:11.232Z"
      },
      {
        "duration": 55,
        "start_time": "2021-10-22T08:41:20.824Z"
      },
      {
        "duration": 4,
        "start_time": "2021-10-22T08:42:33.358Z"
      },
      {
        "duration": 201,
        "start_time": "2021-10-22T08:42:33.365Z"
      },
      {
        "duration": 97,
        "start_time": "2021-10-22T08:42:33.569Z"
      },
      {
        "duration": 163,
        "start_time": "2021-10-22T08:42:33.669Z"
      },
      {
        "duration": 49,
        "start_time": "2021-10-22T08:42:33.834Z"
      },
      {
        "duration": 79,
        "start_time": "2021-10-22T08:42:33.886Z"
      },
      {
        "duration": 10,
        "start_time": "2021-10-22T08:42:33.968Z"
      },
      {
        "duration": 58,
        "start_time": "2021-10-22T08:42:33.981Z"
      },
      {
        "duration": 268,
        "start_time": "2021-10-22T08:42:34.041Z"
      },
      {
        "duration": 553,
        "start_time": "2021-10-22T08:42:34.312Z"
      },
      {
        "duration": 35,
        "start_time": "2021-10-22T08:42:34.867Z"
      },
      {
        "duration": 61,
        "start_time": "2021-10-22T08:42:34.923Z"
      },
      {
        "duration": 50,
        "start_time": "2021-10-22T08:42:34.986Z"
      },
      {
        "duration": 88,
        "start_time": "2021-10-22T08:42:35.039Z"
      },
      {
        "duration": 12,
        "start_time": "2021-10-22T08:42:35.129Z"
      },
      {
        "duration": 17,
        "start_time": "2021-10-22T08:42:35.144Z"
      },
      {
        "duration": 885,
        "start_time": "2021-10-22T08:42:35.163Z"
      },
      {
        "duration": 6,
        "start_time": "2021-10-22T08:42:36.050Z"
      },
      {
        "duration": 64,
        "start_time": "2021-10-22T08:42:36.060Z"
      },
      {
        "duration": 6,
        "start_time": "2021-10-22T08:42:53.735Z"
      },
      {
        "duration": 198,
        "start_time": "2021-10-22T08:42:53.743Z"
      },
      {
        "duration": 93,
        "start_time": "2021-10-22T08:42:53.944Z"
      },
      {
        "duration": 144,
        "start_time": "2021-10-22T08:42:54.040Z"
      },
      {
        "duration": 60,
        "start_time": "2021-10-22T08:42:54.187Z"
      },
      {
        "duration": 77,
        "start_time": "2021-10-22T08:42:54.250Z"
      },
      {
        "duration": 11,
        "start_time": "2021-10-22T08:42:54.330Z"
      },
      {
        "duration": 35,
        "start_time": "2021-10-22T08:42:54.343Z"
      },
      {
        "duration": 310,
        "start_time": "2021-10-22T08:42:54.382Z"
      },
      {
        "duration": 550,
        "start_time": "2021-10-22T08:42:54.695Z"
      },
      {
        "duration": 31,
        "start_time": "2021-10-22T08:42:55.247Z"
      },
      {
        "duration": 82,
        "start_time": "2021-10-22T08:42:55.280Z"
      },
      {
        "duration": 33,
        "start_time": "2021-10-22T08:42:55.364Z"
      },
      {
        "duration": 89,
        "start_time": "2021-10-22T08:42:55.400Z"
      },
      {
        "duration": 30,
        "start_time": "2021-10-22T08:42:55.492Z"
      },
      {
        "duration": 17,
        "start_time": "2021-10-22T08:42:55.525Z"
      },
      {
        "duration": 209,
        "start_time": "2021-10-22T08:42:55.545Z"
      },
      {
        "duration": 7,
        "start_time": "2021-10-22T08:42:55.757Z"
      },
      {
        "duration": 21,
        "start_time": "2021-10-22T08:42:55.766Z"
      },
      {
        "duration": 4,
        "start_time": "2021-10-22T08:42:55.790Z"
      },
      {
        "duration": 345,
        "start_time": "2021-10-22T08:42:55.823Z"
      },
      {
        "duration": 11,
        "start_time": "2021-10-22T08:42:56.171Z"
      },
      {
        "duration": 225,
        "start_time": "2021-10-22T08:42:56.184Z"
      },
      {
        "duration": 216,
        "start_time": "2021-10-22T08:42:56.411Z"
      },
      {
        "duration": 358,
        "start_time": "2021-10-22T08:42:56.630Z"
      },
      {
        "duration": 7,
        "start_time": "2021-10-22T08:42:56.991Z"
      },
      {
        "duration": 293,
        "start_time": "2021-10-22T08:42:57.021Z"
      },
      {
        "duration": 193,
        "start_time": "2021-10-22T08:46:10.272Z"
      },
      {
        "duration": 190,
        "start_time": "2021-10-22T08:46:21.071Z"
      },
      {
        "duration": 360,
        "start_time": "2021-10-22T08:46:30.907Z"
      },
      {
        "duration": 184,
        "start_time": "2021-10-22T08:46:51.885Z"
      },
      {
        "duration": 99,
        "start_time": "2021-10-22T09:50:32.108Z"
      },
      {
        "duration": 185,
        "start_time": "2021-10-22T09:53:48.748Z"
      },
      {
        "duration": 173,
        "start_time": "2021-10-22T09:53:58.958Z"
      },
      {
        "duration": 340,
        "start_time": "2021-10-22T09:54:03.356Z"
      },
      {
        "duration": 298,
        "start_time": "2021-10-22T10:07:41.681Z"
      },
      {
        "duration": 303,
        "start_time": "2021-10-22T10:07:50.019Z"
      },
      {
        "duration": 299,
        "start_time": "2021-10-22T10:08:00.036Z"
      },
      {
        "duration": 615,
        "start_time": "2021-10-22T10:08:12.052Z"
      },
      {
        "duration": 293,
        "start_time": "2021-10-22T10:09:39.216Z"
      },
      {
        "duration": 284,
        "start_time": "2021-10-22T10:10:30.631Z"
      },
      {
        "duration": 292,
        "start_time": "2021-10-22T10:10:41.990Z"
      },
      {
        "duration": 440,
        "start_time": "2021-10-22T10:12:58.601Z"
      },
      {
        "duration": 270,
        "start_time": "2021-10-22T10:24:33.363Z"
      },
      {
        "duration": 2081,
        "start_time": "2021-10-22T10:35:06.507Z"
      },
      {
        "duration": 196,
        "start_time": "2021-10-22T10:35:08.591Z"
      },
      {
        "duration": 88,
        "start_time": "2021-10-22T10:35:08.790Z"
      },
      {
        "duration": 160,
        "start_time": "2021-10-22T10:35:08.881Z"
      },
      {
        "duration": 48,
        "start_time": "2021-10-22T10:35:09.043Z"
      },
      {
        "duration": 78,
        "start_time": "2021-10-22T10:35:09.094Z"
      },
      {
        "duration": 10,
        "start_time": "2021-10-22T10:35:09.176Z"
      },
      {
        "duration": 59,
        "start_time": "2021-10-22T10:35:09.190Z"
      },
      {
        "duration": 264,
        "start_time": "2021-10-22T10:35:09.252Z"
      },
      {
        "duration": 532,
        "start_time": "2021-10-22T10:35:09.519Z"
      },
      {
        "duration": 37,
        "start_time": "2021-10-22T10:35:10.053Z"
      },
      {
        "duration": 75,
        "start_time": "2021-10-22T10:35:10.093Z"
      },
      {
        "duration": 31,
        "start_time": "2021-10-22T10:35:10.170Z"
      },
      {
        "duration": 86,
        "start_time": "2021-10-22T10:35:10.203Z"
      },
      {
        "duration": 32,
        "start_time": "2021-10-22T10:35:10.292Z"
      },
      {
        "duration": 17,
        "start_time": "2021-10-22T10:35:10.327Z"
      },
      {
        "duration": 744,
        "start_time": "2021-10-22T10:35:10.347Z"
      },
      {
        "duration": 29,
        "start_time": "2021-10-22T10:35:11.094Z"
      },
      {
        "duration": 529,
        "start_time": "2021-10-22T10:35:11.125Z"
      },
      {
        "duration": 16,
        "start_time": "2021-10-22T10:35:11.656Z"
      },
      {
        "duration": 317,
        "start_time": "2021-10-22T10:35:11.675Z"
      },
      {
        "duration": 10,
        "start_time": "2021-10-22T10:35:11.995Z"
      },
      {
        "duration": 1257,
        "start_time": "2021-10-22T10:35:12.022Z"
      },
      {
        "duration": 7842,
        "start_time": "2021-10-22T10:35:05.440Z"
      },
      {
        "duration": 7836,
        "start_time": "2021-10-22T10:35:05.447Z"
      },
      {
        "duration": 7835,
        "start_time": "2021-10-22T10:35:05.450Z"
      },
      {
        "duration": 5,
        "start_time": "2021-10-22T10:38:02.278Z"
      },
      {
        "duration": 4,
        "start_time": "2021-10-22T10:38:05.673Z"
      },
      {
        "duration": 197,
        "start_time": "2021-10-22T10:38:05.750Z"
      },
      {
        "duration": 84,
        "start_time": "2021-10-22T10:38:05.950Z"
      },
      {
        "duration": 146,
        "start_time": "2021-10-22T10:38:06.036Z"
      },
      {
        "duration": 56,
        "start_time": "2021-10-22T10:38:06.185Z"
      },
      {
        "duration": 60,
        "start_time": "2021-10-22T10:38:06.243Z"
      },
      {
        "duration": 24,
        "start_time": "2021-10-22T10:38:06.305Z"
      },
      {
        "duration": 42,
        "start_time": "2021-10-22T10:38:06.331Z"
      },
      {
        "duration": 263,
        "start_time": "2021-10-22T10:38:06.376Z"
      },
      {
        "duration": 537,
        "start_time": "2021-10-22T10:38:06.643Z"
      },
      {
        "duration": 46,
        "start_time": "2021-10-22T10:38:07.183Z"
      },
      {
        "duration": 58,
        "start_time": "2021-10-22T10:38:07.232Z"
      },
      {
        "duration": 43,
        "start_time": "2021-10-22T10:38:07.293Z"
      },
      {
        "duration": 88,
        "start_time": "2021-10-22T10:38:07.339Z"
      },
      {
        "duration": 12,
        "start_time": "2021-10-22T10:38:07.429Z"
      },
      {
        "duration": 25,
        "start_time": "2021-10-22T10:38:07.443Z"
      },
      {
        "duration": 193,
        "start_time": "2021-10-22T10:38:07.470Z"
      },
      {
        "duration": 7,
        "start_time": "2021-10-22T10:38:07.666Z"
      },
      {
        "duration": 409,
        "start_time": "2021-10-22T10:38:07.675Z"
      },
      {
        "duration": 15,
        "start_time": "2021-10-22T10:38:08.086Z"
      },
      {
        "duration": 319,
        "start_time": "2021-10-22T10:38:08.103Z"
      },
      {
        "duration": 10,
        "start_time": "2021-10-22T10:38:08.425Z"
      },
      {
        "duration": 358,
        "start_time": "2021-10-22T10:38:08.437Z"
      },
      {
        "duration": 210,
        "start_time": "2021-10-22T10:38:08.797Z"
      },
      {
        "duration": 202,
        "start_time": "2021-10-22T10:38:09.009Z"
      },
      {
        "duration": 205,
        "start_time": "2021-10-22T10:38:09.221Z"
      },
      {
        "duration": 69489,
        "start_time": "2021-10-22T12:40:31.049Z"
      },
      {
        "duration": 211,
        "start_time": "2021-10-22T12:41:40.542Z"
      },
      {
        "duration": 91,
        "start_time": "2021-10-22T12:41:40.756Z"
      },
      {
        "duration": 171,
        "start_time": "2021-10-22T12:41:40.850Z"
      },
      {
        "duration": 50,
        "start_time": "2021-10-22T12:41:41.024Z"
      },
      {
        "duration": 75,
        "start_time": "2021-10-22T12:41:41.077Z"
      },
      {
        "duration": 10,
        "start_time": "2021-10-22T12:41:41.154Z"
      },
      {
        "duration": 57,
        "start_time": "2021-10-22T12:41:41.168Z"
      },
      {
        "duration": 275,
        "start_time": "2021-10-22T12:41:41.228Z"
      },
      {
        "duration": 567,
        "start_time": "2021-10-22T12:41:41.506Z"
      },
      {
        "duration": 49,
        "start_time": "2021-10-22T12:41:42.075Z"
      },
      {
        "duration": 76,
        "start_time": "2021-10-22T12:41:42.126Z"
      },
      {
        "duration": 32,
        "start_time": "2021-10-22T12:41:42.204Z"
      },
      {
        "duration": 95,
        "start_time": "2021-10-22T12:41:42.238Z"
      },
      {
        "duration": 13,
        "start_time": "2021-10-22T12:41:42.335Z"
      },
      {
        "duration": 22,
        "start_time": "2021-10-22T12:41:42.351Z"
      },
      {
        "duration": 774,
        "start_time": "2021-10-22T12:41:42.376Z"
      },
      {
        "duration": 6,
        "start_time": "2021-10-22T12:41:43.152Z"
      },
      {
        "duration": 568,
        "start_time": "2021-10-22T12:41:43.161Z"
      },
      {
        "duration": 16,
        "start_time": "2021-10-22T12:41:43.732Z"
      },
      {
        "duration": 435,
        "start_time": "2021-10-22T12:41:43.750Z"
      },
      {
        "duration": 17,
        "start_time": "2021-10-22T12:41:44.188Z"
      },
      {
        "duration": 209,
        "start_time": "2021-10-22T12:41:44.209Z"
      },
      {
        "duration": 215,
        "start_time": "2021-10-22T12:41:44.421Z"
      },
      {
        "duration": 223,
        "start_time": "2021-10-22T12:41:44.638Z"
      },
      {
        "duration": 385,
        "start_time": "2021-10-22T12:41:44.863Z"
      },
      {
        "duration": 2134,
        "start_time": "2021-12-16T12:14:53.054Z"
      },
      {
        "duration": 1819,
        "start_time": "2021-12-16T12:14:55.190Z"
      },
      {
        "duration": 92,
        "start_time": "2021-12-16T12:14:57.012Z"
      },
      {
        "duration": 158,
        "start_time": "2021-12-16T12:14:57.107Z"
      },
      {
        "duration": 49,
        "start_time": "2021-12-16T12:14:57.268Z"
      },
      {
        "duration": 82,
        "start_time": "2021-12-16T12:14:57.319Z"
      },
      {
        "duration": 10,
        "start_time": "2021-12-16T12:14:57.403Z"
      },
      {
        "duration": 59,
        "start_time": "2021-12-16T12:14:57.417Z"
      },
      {
        "duration": 263,
        "start_time": "2021-12-16T12:14:57.478Z"
      },
      {
        "duration": 555,
        "start_time": "2021-12-16T12:14:57.744Z"
      },
      {
        "duration": 37,
        "start_time": "2021-12-16T12:14:58.302Z"
      },
      {
        "duration": 74,
        "start_time": "2021-12-16T12:14:58.342Z"
      },
      {
        "duration": 47,
        "start_time": "2021-12-16T12:14:58.419Z"
      },
      {
        "duration": 69,
        "start_time": "2021-12-16T12:14:58.469Z"
      },
      {
        "duration": 29,
        "start_time": "2021-12-16T12:14:58.540Z"
      },
      {
        "duration": 16,
        "start_time": "2021-12-16T12:14:58.571Z"
      },
      {
        "duration": 750,
        "start_time": "2021-12-16T12:14:58.589Z"
      },
      {
        "duration": 20,
        "start_time": "2021-12-16T12:14:59.341Z"
      },
      {
        "duration": 520,
        "start_time": "2021-12-16T12:14:59.363Z"
      }
    ],
    "kernelspec": {
      "display_name": "Python 3",
      "language": "python",
      "name": "python3"
    },
    "language_info": {
      "codemirror_mode": {
        "name": "ipython",
        "version": 3
      },
      "file_extension": ".py",
      "mimetype": "text/x-python",
      "name": "python",
      "nbconvert_exporter": "python",
      "pygments_lexer": "ipython3",
      "version": "3.8.8"
    },
    "toc": {
      "base_numbering": 1,
      "nav_menu": {},
      "number_sections": true,
      "sideBar": true,
      "skip_h1_title": true,
      "title_cell": "Содержание",
      "title_sidebar": "Contents",
      "toc_cell": true,
      "toc_position": {},
      "toc_section_display": true,
      "toc_window_display": true
    },
    "colab": {
      "name": "sales_funel_and_aab_test_for_app.ipynb",
      "provenance": [],
      "collapsed_sections": []
    }
  },
  "nbformat": 4,
  "nbformat_minor": 0
}