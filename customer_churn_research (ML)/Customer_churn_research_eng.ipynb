{
  "cells": [
    {
      "cell_type": "markdown",
      "metadata": {
        "id": "view-in-github",
        "colab_type": "text"
      },
      "source": [
        "<a href=\"https://colab.research.google.com/github/GolovatyDmitry/Projects/blob/main/customer_churn_research%20(ML)/Customer_churn_research_eng.ipynb\" target=\"_parent\"><img src=\"https://colab.research.google.com/assets/colab-badge.svg\" alt=\"Open In Colab\"/></a>"
      ]
    },
    {
      "cell_type": "markdown",
      "metadata": {
        "toc": true,
        "id": "4eJNN4V8xzeW"
      },
      "source": [
        "<h1>Table of contents<span class=\"tocSkip\"></span></h1>\n",
        "\n",
        "1. Project Description\n",
        "2. Data Reading and Preparation\n",
        "3. Exploratory Data Analysis\n",
        "4. Customer Churn Prediction Model\n",
        "5. Customer Segmentation\n",
        "6. Conclusions and Recommendations"
      ]
    },
    {
      "cell_type": "markdown",
      "metadata": {
        "id": "rKFwo9QuxzeX"
      },
      "source": [
        "# Customer сhurn analysis in a fitness center"
      ]
    },
    {
      "cell_type": "markdown",
      "metadata": {
        "id": "WOgetpfgxzeY"
      },
      "source": [
        "## Project description"
      ]
    },
    {
      "cell_type": "markdown",
      "metadata": {
        "id": "uu6r_dWixzeY"
      },
      "source": [
        "Project objective: Conduct an analysis and develop an action plan to improve customer retention and reduce churn.\n",
        "\n",
        "The initial data provided is processed information from customer profiles in CSV files."
      ]
    },
    {
      "cell_type": "markdown",
      "metadata": {
        "id": "NsVjrWXBxzea"
      },
      "source": [
        "## Data reading and preparation"
      ]
    },
    {
      "cell_type": "code",
      "execution_count": null,
      "metadata": {
        "id": "vjNfUXMXxzeb",
        "colab": {
          "base_uri": "https://localhost:8080/"
        },
        "outputId": "0241959c-215c-4dc2-c31f-570cb9e13729"
      },
      "outputs": [
        {
          "output_type": "stream",
          "name": "stdout",
          "text": [
            "Mounted at /content/drive\n"
          ]
        }
      ],
      "source": [
        "#Importing libraries\n",
        "import pandas as pd\n",
        "import matplotlib.pyplot as plt\n",
        "import seaborn as sns\n",
        "import numpy as np\n",
        "from IPython.display import display, Markdown\n",
        "\n",
        "from sklearn.preprocessing import StandardScaler\n",
        "from sklearn.model_selection import train_test_split\n",
        "from sklearn.linear_model import LogisticRegression\n",
        "from sklearn.ensemble import RandomForestClassifier, GradientBoostingClassifier\n",
        "from sklearn.metrics import accuracy_score, precision_score, recall_score, f1_score, roc_auc_score, roc_curve\n",
        "from scipy.cluster.hierarchy import dendrogram, linkage\n",
        "from sklearn.cluster import KMeans\n",
        "\n",
        "from google.colab import drive\n",
        "drive.mount('/content/drive')\n",
        "\n",
        "import warnings\n",
        "warnings.simplefilter('ignore')"
      ]
    },
    {
      "cell_type": "code",
      "execution_count": null,
      "metadata": {
        "colab": {
          "base_uri": "https://localhost:8080/",
          "height": 206
        },
        "id": "3JW8sTY_xzee",
        "outputId": "bca34750-aa39-4241-dd2b-70dbbdabb5dc"
      },
      "outputs": [
        {
          "output_type": "execute_result",
          "data": {
            "text/plain": [
              "   gender  Near_Location  Partner  Promo_friends  Phone  Contract_period  \\\n",
              "0       1              1        1              1      0                6   \n",
              "1       0              1        0              0      1               12   \n",
              "2       0              1        1              0      1                1   \n",
              "3       0              1        1              1      1               12   \n",
              "4       1              1        1              1      1                1   \n",
              "\n",
              "   Group_visits  Age  Avg_additional_charges_total  Month_to_end_contract  \\\n",
              "0             1   29                     14.227470                    5.0   \n",
              "1             1   31                    113.202938                   12.0   \n",
              "2             0   28                    129.448479                    1.0   \n",
              "3             1   33                     62.669863                   12.0   \n",
              "4             0   26                    198.362265                    1.0   \n",
              "\n",
              "   Lifetime  Avg_class_frequency_total  Avg_class_frequency_current_month  \\\n",
              "0         3                   0.020398                           0.000000   \n",
              "1         7                   1.922936                           1.910244   \n",
              "2         2                   1.859098                           1.736502   \n",
              "3         2                   3.205633                           3.357215   \n",
              "4         3                   1.113884                           1.120078   \n",
              "\n",
              "   Churn  \n",
              "0      0  \n",
              "1      0  \n",
              "2      0  \n",
              "3      0  \n",
              "4      0  "
            ],
            "text/html": [
              "\n",
              "  <div id=\"df-c8133bdc-b287-478e-bf2c-5c644d4933af\">\n",
              "    <div class=\"colab-df-container\">\n",
              "      <div>\n",
              "<style scoped>\n",
              "    .dataframe tbody tr th:only-of-type {\n",
              "        vertical-align: middle;\n",
              "    }\n",
              "\n",
              "    .dataframe tbody tr th {\n",
              "        vertical-align: top;\n",
              "    }\n",
              "\n",
              "    .dataframe thead th {\n",
              "        text-align: right;\n",
              "    }\n",
              "</style>\n",
              "<table border=\"1\" class=\"dataframe\">\n",
              "  <thead>\n",
              "    <tr style=\"text-align: right;\">\n",
              "      <th></th>\n",
              "      <th>gender</th>\n",
              "      <th>Near_Location</th>\n",
              "      <th>Partner</th>\n",
              "      <th>Promo_friends</th>\n",
              "      <th>Phone</th>\n",
              "      <th>Contract_period</th>\n",
              "      <th>Group_visits</th>\n",
              "      <th>Age</th>\n",
              "      <th>Avg_additional_charges_total</th>\n",
              "      <th>Month_to_end_contract</th>\n",
              "      <th>Lifetime</th>\n",
              "      <th>Avg_class_frequency_total</th>\n",
              "      <th>Avg_class_frequency_current_month</th>\n",
              "      <th>Churn</th>\n",
              "    </tr>\n",
              "  </thead>\n",
              "  <tbody>\n",
              "    <tr>\n",
              "      <th>0</th>\n",
              "      <td>1</td>\n",
              "      <td>1</td>\n",
              "      <td>1</td>\n",
              "      <td>1</td>\n",
              "      <td>0</td>\n",
              "      <td>6</td>\n",
              "      <td>1</td>\n",
              "      <td>29</td>\n",
              "      <td>14.227470</td>\n",
              "      <td>5.0</td>\n",
              "      <td>3</td>\n",
              "      <td>0.020398</td>\n",
              "      <td>0.000000</td>\n",
              "      <td>0</td>\n",
              "    </tr>\n",
              "    <tr>\n",
              "      <th>1</th>\n",
              "      <td>0</td>\n",
              "      <td>1</td>\n",
              "      <td>0</td>\n",
              "      <td>0</td>\n",
              "      <td>1</td>\n",
              "      <td>12</td>\n",
              "      <td>1</td>\n",
              "      <td>31</td>\n",
              "      <td>113.202938</td>\n",
              "      <td>12.0</td>\n",
              "      <td>7</td>\n",
              "      <td>1.922936</td>\n",
              "      <td>1.910244</td>\n",
              "      <td>0</td>\n",
              "    </tr>\n",
              "    <tr>\n",
              "      <th>2</th>\n",
              "      <td>0</td>\n",
              "      <td>1</td>\n",
              "      <td>1</td>\n",
              "      <td>0</td>\n",
              "      <td>1</td>\n",
              "      <td>1</td>\n",
              "      <td>0</td>\n",
              "      <td>28</td>\n",
              "      <td>129.448479</td>\n",
              "      <td>1.0</td>\n",
              "      <td>2</td>\n",
              "      <td>1.859098</td>\n",
              "      <td>1.736502</td>\n",
              "      <td>0</td>\n",
              "    </tr>\n",
              "    <tr>\n",
              "      <th>3</th>\n",
              "      <td>0</td>\n",
              "      <td>1</td>\n",
              "      <td>1</td>\n",
              "      <td>1</td>\n",
              "      <td>1</td>\n",
              "      <td>12</td>\n",
              "      <td>1</td>\n",
              "      <td>33</td>\n",
              "      <td>62.669863</td>\n",
              "      <td>12.0</td>\n",
              "      <td>2</td>\n",
              "      <td>3.205633</td>\n",
              "      <td>3.357215</td>\n",
              "      <td>0</td>\n",
              "    </tr>\n",
              "    <tr>\n",
              "      <th>4</th>\n",
              "      <td>1</td>\n",
              "      <td>1</td>\n",
              "      <td>1</td>\n",
              "      <td>1</td>\n",
              "      <td>1</td>\n",
              "      <td>1</td>\n",
              "      <td>0</td>\n",
              "      <td>26</td>\n",
              "      <td>198.362265</td>\n",
              "      <td>1.0</td>\n",
              "      <td>3</td>\n",
              "      <td>1.113884</td>\n",
              "      <td>1.120078</td>\n",
              "      <td>0</td>\n",
              "    </tr>\n",
              "  </tbody>\n",
              "</table>\n",
              "</div>\n",
              "      <button class=\"colab-df-convert\" onclick=\"convertToInteractive('df-c8133bdc-b287-478e-bf2c-5c644d4933af')\"\n",
              "              title=\"Convert this dataframe to an interactive table.\"\n",
              "              style=\"display:none;\">\n",
              "        \n",
              "  <svg xmlns=\"http://www.w3.org/2000/svg\" height=\"24px\"viewBox=\"0 0 24 24\"\n",
              "       width=\"24px\">\n",
              "    <path d=\"M0 0h24v24H0V0z\" fill=\"none\"/>\n",
              "    <path d=\"M18.56 5.44l.94 2.06.94-2.06 2.06-.94-2.06-.94-.94-2.06-.94 2.06-2.06.94zm-11 1L8.5 8.5l.94-2.06 2.06-.94-2.06-.94L8.5 2.5l-.94 2.06-2.06.94zm10 10l.94 2.06.94-2.06 2.06-.94-2.06-.94-.94-2.06-.94 2.06-2.06.94z\"/><path d=\"M17.41 7.96l-1.37-1.37c-.4-.4-.92-.59-1.43-.59-.52 0-1.04.2-1.43.59L10.3 9.45l-7.72 7.72c-.78.78-.78 2.05 0 2.83L4 21.41c.39.39.9.59 1.41.59.51 0 1.02-.2 1.41-.59l7.78-7.78 2.81-2.81c.8-.78.8-2.07 0-2.86zM5.41 20L4 18.59l7.72-7.72 1.47 1.35L5.41 20z\"/>\n",
              "  </svg>\n",
              "      </button>\n",
              "      \n",
              "  <style>\n",
              "    .colab-df-container {\n",
              "      display:flex;\n",
              "      flex-wrap:wrap;\n",
              "      gap: 12px;\n",
              "    }\n",
              "\n",
              "    .colab-df-convert {\n",
              "      background-color: #E8F0FE;\n",
              "      border: none;\n",
              "      border-radius: 50%;\n",
              "      cursor: pointer;\n",
              "      display: none;\n",
              "      fill: #1967D2;\n",
              "      height: 32px;\n",
              "      padding: 0 0 0 0;\n",
              "      width: 32px;\n",
              "    }\n",
              "\n",
              "    .colab-df-convert:hover {\n",
              "      background-color: #E2EBFA;\n",
              "      box-shadow: 0px 1px 2px rgba(60, 64, 67, 0.3), 0px 1px 3px 1px rgba(60, 64, 67, 0.15);\n",
              "      fill: #174EA6;\n",
              "    }\n",
              "\n",
              "    [theme=dark] .colab-df-convert {\n",
              "      background-color: #3B4455;\n",
              "      fill: #D2E3FC;\n",
              "    }\n",
              "\n",
              "    [theme=dark] .colab-df-convert:hover {\n",
              "      background-color: #434B5C;\n",
              "      box-shadow: 0px 1px 3px 1px rgba(0, 0, 0, 0.15);\n",
              "      filter: drop-shadow(0px 1px 2px rgba(0, 0, 0, 0.3));\n",
              "      fill: #FFFFFF;\n",
              "    }\n",
              "  </style>\n",
              "\n",
              "      <script>\n",
              "        const buttonEl =\n",
              "          document.querySelector('#df-c8133bdc-b287-478e-bf2c-5c644d4933af button.colab-df-convert');\n",
              "        buttonEl.style.display =\n",
              "          google.colab.kernel.accessAllowed ? 'block' : 'none';\n",
              "\n",
              "        async function convertToInteractive(key) {\n",
              "          const element = document.querySelector('#df-c8133bdc-b287-478e-bf2c-5c644d4933af');\n",
              "          const dataTable =\n",
              "            await google.colab.kernel.invokeFunction('convertToInteractive',\n",
              "                                                     [key], {});\n",
              "          if (!dataTable) return;\n",
              "\n",
              "          const docLinkHtml = 'Like what you see? Visit the ' +\n",
              "            '<a target=\"_blank\" href=https://colab.research.google.com/notebooks/data_table.ipynb>data table notebook</a>'\n",
              "            + ' to learn more about interactive tables.';\n",
              "          element.innerHTML = '';\n",
              "          dataTable['output_type'] = 'display_data';\n",
              "          await google.colab.output.renderOutput(dataTable, element);\n",
              "          const docLink = document.createElement('div');\n",
              "          docLink.innerHTML = docLinkHtml;\n",
              "          element.appendChild(docLink);\n",
              "        }\n",
              "      </script>\n",
              "    </div>\n",
              "  </div>\n",
              "  "
            ]
          },
          "metadata": {},
          "execution_count": 2
        }
      ],
      "source": [
        "# Reading the data\n",
        "df = pd.read_csv('/content/drive/MyDrive/Colab Notebooks/data/gym_churn.csv')\n",
        "df.head()"
      ]
    },
    {
      "cell_type": "code",
      "execution_count": null,
      "metadata": {
        "colab": {
          "base_uri": "https://localhost:8080/"
        },
        "id": "vpp4CAAqxzef",
        "outputId": "4060f438-5372-44a5-f52e-7b77937aaefb"
      },
      "outputs": [
        {
          "output_type": "stream",
          "name": "stdout",
          "text": [
            "<class 'pandas.core.frame.DataFrame'>\n",
            "RangeIndex: 4000 entries, 0 to 3999\n",
            "Data columns (total 14 columns):\n",
            " #   Column                             Non-Null Count  Dtype  \n",
            "---  ------                             --------------  -----  \n",
            " 0   gender                             4000 non-null   int64  \n",
            " 1   Near_Location                      4000 non-null   int64  \n",
            " 2   Partner                            4000 non-null   int64  \n",
            " 3   Promo_friends                      4000 non-null   int64  \n",
            " 4   Phone                              4000 non-null   int64  \n",
            " 5   Contract_period                    4000 non-null   int64  \n",
            " 6   Group_visits                       4000 non-null   int64  \n",
            " 7   Age                                4000 non-null   int64  \n",
            " 8   Avg_additional_charges_total       4000 non-null   float64\n",
            " 9   Month_to_end_contract              4000 non-null   float64\n",
            " 10  Lifetime                           4000 non-null   int64  \n",
            " 11  Avg_class_frequency_total          4000 non-null   float64\n",
            " 12  Avg_class_frequency_current_month  4000 non-null   float64\n",
            " 13  Churn                              4000 non-null   int64  \n",
            "dtypes: float64(4), int64(10)\n",
            "memory usage: 437.6 KB\n"
          ]
        }
      ],
      "source": [
        "# General information about the table\n",
        "df.info()"
      ]
    },
    {
      "cell_type": "code",
      "execution_count": null,
      "metadata": {
        "colab": {
          "base_uri": "https://localhost:8080/"
        },
        "id": "UHbfo1xKxzef",
        "outputId": "8e7edba6-7ee4-4d1e-edf6-34474a5cb15d"
      },
      "outputs": [
        {
          "output_type": "execute_result",
          "data": {
            "text/plain": [
              "0"
            ]
          },
          "metadata": {},
          "execution_count": 4
        }
      ],
      "source": [
        "# Checking for duplicates\n",
        "df.duplicated().sum()"
      ]
    },
    {
      "cell_type": "code",
      "execution_count": null,
      "metadata": {
        "colab": {
          "base_uri": "https://localhost:8080/",
          "height": 206
        },
        "id": "wVAl0z4Vxzeg",
        "outputId": "50012b5f-f5a2-4368-da62-bb7589ce8ee6"
      },
      "outputs": [
        {
          "output_type": "execute_result",
          "data": {
            "text/plain": [
              "   gender  near_location  partner  promo_friends  phone  contract_period  \\\n",
              "0       1              1        1              1      0                6   \n",
              "1       0              1        0              0      1               12   \n",
              "2       0              1        1              0      1                1   \n",
              "3       0              1        1              1      1               12   \n",
              "4       1              1        1              1      1                1   \n",
              "\n",
              "   group_visits  age  avg_additional_charges_total  month_to_end_contract  \\\n",
              "0             1   29                     14.227470                    5.0   \n",
              "1             1   31                    113.202938                   12.0   \n",
              "2             0   28                    129.448479                    1.0   \n",
              "3             1   33                     62.669863                   12.0   \n",
              "4             0   26                    198.362265                    1.0   \n",
              "\n",
              "   lifetime  avg_class_frequency_total  avg_class_frequency_current_month  \\\n",
              "0         3                   0.020398                           0.000000   \n",
              "1         7                   1.922936                           1.910244   \n",
              "2         2                   1.859098                           1.736502   \n",
              "3         2                   3.205633                           3.357215   \n",
              "4         3                   1.113884                           1.120078   \n",
              "\n",
              "   churn  \n",
              "0      0  \n",
              "1      0  \n",
              "2      0  \n",
              "3      0  \n",
              "4      0  "
            ],
            "text/html": [
              "\n",
              "  <div id=\"df-ed29653f-f1d6-4c75-8a10-218ff3346699\">\n",
              "    <div class=\"colab-df-container\">\n",
              "      <div>\n",
              "<style scoped>\n",
              "    .dataframe tbody tr th:only-of-type {\n",
              "        vertical-align: middle;\n",
              "    }\n",
              "\n",
              "    .dataframe tbody tr th {\n",
              "        vertical-align: top;\n",
              "    }\n",
              "\n",
              "    .dataframe thead th {\n",
              "        text-align: right;\n",
              "    }\n",
              "</style>\n",
              "<table border=\"1\" class=\"dataframe\">\n",
              "  <thead>\n",
              "    <tr style=\"text-align: right;\">\n",
              "      <th></th>\n",
              "      <th>gender</th>\n",
              "      <th>near_location</th>\n",
              "      <th>partner</th>\n",
              "      <th>promo_friends</th>\n",
              "      <th>phone</th>\n",
              "      <th>contract_period</th>\n",
              "      <th>group_visits</th>\n",
              "      <th>age</th>\n",
              "      <th>avg_additional_charges_total</th>\n",
              "      <th>month_to_end_contract</th>\n",
              "      <th>lifetime</th>\n",
              "      <th>avg_class_frequency_total</th>\n",
              "      <th>avg_class_frequency_current_month</th>\n",
              "      <th>churn</th>\n",
              "    </tr>\n",
              "  </thead>\n",
              "  <tbody>\n",
              "    <tr>\n",
              "      <th>0</th>\n",
              "      <td>1</td>\n",
              "      <td>1</td>\n",
              "      <td>1</td>\n",
              "      <td>1</td>\n",
              "      <td>0</td>\n",
              "      <td>6</td>\n",
              "      <td>1</td>\n",
              "      <td>29</td>\n",
              "      <td>14.227470</td>\n",
              "      <td>5.0</td>\n",
              "      <td>3</td>\n",
              "      <td>0.020398</td>\n",
              "      <td>0.000000</td>\n",
              "      <td>0</td>\n",
              "    </tr>\n",
              "    <tr>\n",
              "      <th>1</th>\n",
              "      <td>0</td>\n",
              "      <td>1</td>\n",
              "      <td>0</td>\n",
              "      <td>0</td>\n",
              "      <td>1</td>\n",
              "      <td>12</td>\n",
              "      <td>1</td>\n",
              "      <td>31</td>\n",
              "      <td>113.202938</td>\n",
              "      <td>12.0</td>\n",
              "      <td>7</td>\n",
              "      <td>1.922936</td>\n",
              "      <td>1.910244</td>\n",
              "      <td>0</td>\n",
              "    </tr>\n",
              "    <tr>\n",
              "      <th>2</th>\n",
              "      <td>0</td>\n",
              "      <td>1</td>\n",
              "      <td>1</td>\n",
              "      <td>0</td>\n",
              "      <td>1</td>\n",
              "      <td>1</td>\n",
              "      <td>0</td>\n",
              "      <td>28</td>\n",
              "      <td>129.448479</td>\n",
              "      <td>1.0</td>\n",
              "      <td>2</td>\n",
              "      <td>1.859098</td>\n",
              "      <td>1.736502</td>\n",
              "      <td>0</td>\n",
              "    </tr>\n",
              "    <tr>\n",
              "      <th>3</th>\n",
              "      <td>0</td>\n",
              "      <td>1</td>\n",
              "      <td>1</td>\n",
              "      <td>1</td>\n",
              "      <td>1</td>\n",
              "      <td>12</td>\n",
              "      <td>1</td>\n",
              "      <td>33</td>\n",
              "      <td>62.669863</td>\n",
              "      <td>12.0</td>\n",
              "      <td>2</td>\n",
              "      <td>3.205633</td>\n",
              "      <td>3.357215</td>\n",
              "      <td>0</td>\n",
              "    </tr>\n",
              "    <tr>\n",
              "      <th>4</th>\n",
              "      <td>1</td>\n",
              "      <td>1</td>\n",
              "      <td>1</td>\n",
              "      <td>1</td>\n",
              "      <td>1</td>\n",
              "      <td>1</td>\n",
              "      <td>0</td>\n",
              "      <td>26</td>\n",
              "      <td>198.362265</td>\n",
              "      <td>1.0</td>\n",
              "      <td>3</td>\n",
              "      <td>1.113884</td>\n",
              "      <td>1.120078</td>\n",
              "      <td>0</td>\n",
              "    </tr>\n",
              "  </tbody>\n",
              "</table>\n",
              "</div>\n",
              "      <button class=\"colab-df-convert\" onclick=\"convertToInteractive('df-ed29653f-f1d6-4c75-8a10-218ff3346699')\"\n",
              "              title=\"Convert this dataframe to an interactive table.\"\n",
              "              style=\"display:none;\">\n",
              "        \n",
              "  <svg xmlns=\"http://www.w3.org/2000/svg\" height=\"24px\"viewBox=\"0 0 24 24\"\n",
              "       width=\"24px\">\n",
              "    <path d=\"M0 0h24v24H0V0z\" fill=\"none\"/>\n",
              "    <path d=\"M18.56 5.44l.94 2.06.94-2.06 2.06-.94-2.06-.94-.94-2.06-.94 2.06-2.06.94zm-11 1L8.5 8.5l.94-2.06 2.06-.94-2.06-.94L8.5 2.5l-.94 2.06-2.06.94zm10 10l.94 2.06.94-2.06 2.06-.94-2.06-.94-.94-2.06-.94 2.06-2.06.94z\"/><path d=\"M17.41 7.96l-1.37-1.37c-.4-.4-.92-.59-1.43-.59-.52 0-1.04.2-1.43.59L10.3 9.45l-7.72 7.72c-.78.78-.78 2.05 0 2.83L4 21.41c.39.39.9.59 1.41.59.51 0 1.02-.2 1.41-.59l7.78-7.78 2.81-2.81c.8-.78.8-2.07 0-2.86zM5.41 20L4 18.59l7.72-7.72 1.47 1.35L5.41 20z\"/>\n",
              "  </svg>\n",
              "      </button>\n",
              "      \n",
              "  <style>\n",
              "    .colab-df-container {\n",
              "      display:flex;\n",
              "      flex-wrap:wrap;\n",
              "      gap: 12px;\n",
              "    }\n",
              "\n",
              "    .colab-df-convert {\n",
              "      background-color: #E8F0FE;\n",
              "      border: none;\n",
              "      border-radius: 50%;\n",
              "      cursor: pointer;\n",
              "      display: none;\n",
              "      fill: #1967D2;\n",
              "      height: 32px;\n",
              "      padding: 0 0 0 0;\n",
              "      width: 32px;\n",
              "    }\n",
              "\n",
              "    .colab-df-convert:hover {\n",
              "      background-color: #E2EBFA;\n",
              "      box-shadow: 0px 1px 2px rgba(60, 64, 67, 0.3), 0px 1px 3px 1px rgba(60, 64, 67, 0.15);\n",
              "      fill: #174EA6;\n",
              "    }\n",
              "\n",
              "    [theme=dark] .colab-df-convert {\n",
              "      background-color: #3B4455;\n",
              "      fill: #D2E3FC;\n",
              "    }\n",
              "\n",
              "    [theme=dark] .colab-df-convert:hover {\n",
              "      background-color: #434B5C;\n",
              "      box-shadow: 0px 1px 3px 1px rgba(0, 0, 0, 0.15);\n",
              "      filter: drop-shadow(0px 1px 2px rgba(0, 0, 0, 0.3));\n",
              "      fill: #FFFFFF;\n",
              "    }\n",
              "  </style>\n",
              "\n",
              "      <script>\n",
              "        const buttonEl =\n",
              "          document.querySelector('#df-ed29653f-f1d6-4c75-8a10-218ff3346699 button.colab-df-convert');\n",
              "        buttonEl.style.display =\n",
              "          google.colab.kernel.accessAllowed ? 'block' : 'none';\n",
              "\n",
              "        async function convertToInteractive(key) {\n",
              "          const element = document.querySelector('#df-ed29653f-f1d6-4c75-8a10-218ff3346699');\n",
              "          const dataTable =\n",
              "            await google.colab.kernel.invokeFunction('convertToInteractive',\n",
              "                                                     [key], {});\n",
              "          if (!dataTable) return;\n",
              "\n",
              "          const docLinkHtml = 'Like what you see? Visit the ' +\n",
              "            '<a target=\"_blank\" href=https://colab.research.google.com/notebooks/data_table.ipynb>data table notebook</a>'\n",
              "            + ' to learn more about interactive tables.';\n",
              "          element.innerHTML = '';\n",
              "          dataTable['output_type'] = 'display_data';\n",
              "          await google.colab.output.renderOutput(dataTable, element);\n",
              "          const docLink = document.createElement('div');\n",
              "          docLink.innerHTML = docLinkHtml;\n",
              "          element.appendChild(docLink);\n",
              "        }\n",
              "      </script>\n",
              "    </div>\n",
              "  </div>\n",
              "  "
            ]
          },
          "metadata": {},
          "execution_count": 5
        }
      ],
      "source": [
        "# Converting column names to lowercase\n",
        "df.columns = df.columns.str.lower()\n",
        "df.head()"
      ]
    },
    {
      "cell_type": "markdown",
      "metadata": {
        "id": "SvFgIs79xzeg"
      },
      "source": [
        "**The data contains 4000 observations, 13 features, and 1 column with target values. The table has no missing values, duplicates, and all columns have the appropriate data types.**\n"
      ]
    },
    {
      "cell_type": "markdown",
      "metadata": {
        "id": "gwn9ACWHxzeh"
      },
      "source": [
        "## Exploratory data analysis"
      ]
    },
    {
      "cell_type": "code",
      "execution_count": null,
      "metadata": {
        "scrolled": false,
        "colab": {
          "base_uri": "https://localhost:8080/",
          "height": 488
        },
        "id": "UGL6P2obxzeh",
        "outputId": "895fc605-7ada-467d-9d86-1c8a29004f42"
      },
      "outputs": [
        {
          "output_type": "execute_result",
          "data": {
            "text/plain": [
              "                                    count        mean        std        min  \\\n",
              "gender                             4000.0    0.510250   0.499957   0.000000   \n",
              "near_location                      4000.0    0.845250   0.361711   0.000000   \n",
              "partner                            4000.0    0.486750   0.499887   0.000000   \n",
              "promo_friends                      4000.0    0.308500   0.461932   0.000000   \n",
              "phone                              4000.0    0.903500   0.295313   0.000000   \n",
              "contract_period                    4000.0    4.681250   4.549706   1.000000   \n",
              "group_visits                       4000.0    0.412250   0.492301   0.000000   \n",
              "age                                4000.0   29.184250   3.258367  18.000000   \n",
              "avg_additional_charges_total       4000.0  146.943728  96.355602   0.148205   \n",
              "month_to_end_contract              4000.0    4.322750   4.191297   1.000000   \n",
              "lifetime                           4000.0    3.724750   3.749267   0.000000   \n",
              "avg_class_frequency_total          4000.0    1.879020   0.972245   0.000000   \n",
              "avg_class_frequency_current_month  4000.0    1.767052   1.052906   0.000000   \n",
              "churn                              4000.0    0.265250   0.441521   0.000000   \n",
              "\n",
              "                                         25%         50%         75%  \\\n",
              "gender                              0.000000    1.000000    1.000000   \n",
              "near_location                       1.000000    1.000000    1.000000   \n",
              "partner                             0.000000    0.000000    1.000000   \n",
              "promo_friends                       0.000000    0.000000    1.000000   \n",
              "phone                               1.000000    1.000000    1.000000   \n",
              "contract_period                     1.000000    1.000000    6.000000   \n",
              "group_visits                        0.000000    0.000000    1.000000   \n",
              "age                                27.000000   29.000000   31.000000   \n",
              "avg_additional_charges_total       68.868830  136.220159  210.949625   \n",
              "month_to_end_contract               1.000000    1.000000    6.000000   \n",
              "lifetime                            1.000000    3.000000    5.000000   \n",
              "avg_class_frequency_total           1.180875    1.832768    2.536078   \n",
              "avg_class_frequency_current_month   0.963003    1.719574    2.510336   \n",
              "churn                               0.000000    0.000000    1.000000   \n",
              "\n",
              "                                          max  \n",
              "gender                               1.000000  \n",
              "near_location                        1.000000  \n",
              "partner                              1.000000  \n",
              "promo_friends                        1.000000  \n",
              "phone                                1.000000  \n",
              "contract_period                     12.000000  \n",
              "group_visits                         1.000000  \n",
              "age                                 41.000000  \n",
              "avg_additional_charges_total       552.590740  \n",
              "month_to_end_contract               12.000000  \n",
              "lifetime                            31.000000  \n",
              "avg_class_frequency_total            6.023668  \n",
              "avg_class_frequency_current_month    6.146783  \n",
              "churn                                1.000000  "
            ],
            "text/html": [
              "\n",
              "  <div id=\"df-d2690182-4d42-41c0-82a5-f0cbb9cdf18d\">\n",
              "    <div class=\"colab-df-container\">\n",
              "      <div>\n",
              "<style scoped>\n",
              "    .dataframe tbody tr th:only-of-type {\n",
              "        vertical-align: middle;\n",
              "    }\n",
              "\n",
              "    .dataframe tbody tr th {\n",
              "        vertical-align: top;\n",
              "    }\n",
              "\n",
              "    .dataframe thead th {\n",
              "        text-align: right;\n",
              "    }\n",
              "</style>\n",
              "<table border=\"1\" class=\"dataframe\">\n",
              "  <thead>\n",
              "    <tr style=\"text-align: right;\">\n",
              "      <th></th>\n",
              "      <th>count</th>\n",
              "      <th>mean</th>\n",
              "      <th>std</th>\n",
              "      <th>min</th>\n",
              "      <th>25%</th>\n",
              "      <th>50%</th>\n",
              "      <th>75%</th>\n",
              "      <th>max</th>\n",
              "    </tr>\n",
              "  </thead>\n",
              "  <tbody>\n",
              "    <tr>\n",
              "      <th>gender</th>\n",
              "      <td>4000.0</td>\n",
              "      <td>0.510250</td>\n",
              "      <td>0.499957</td>\n",
              "      <td>0.000000</td>\n",
              "      <td>0.000000</td>\n",
              "      <td>1.000000</td>\n",
              "      <td>1.000000</td>\n",
              "      <td>1.000000</td>\n",
              "    </tr>\n",
              "    <tr>\n",
              "      <th>near_location</th>\n",
              "      <td>4000.0</td>\n",
              "      <td>0.845250</td>\n",
              "      <td>0.361711</td>\n",
              "      <td>0.000000</td>\n",
              "      <td>1.000000</td>\n",
              "      <td>1.000000</td>\n",
              "      <td>1.000000</td>\n",
              "      <td>1.000000</td>\n",
              "    </tr>\n",
              "    <tr>\n",
              "      <th>partner</th>\n",
              "      <td>4000.0</td>\n",
              "      <td>0.486750</td>\n",
              "      <td>0.499887</td>\n",
              "      <td>0.000000</td>\n",
              "      <td>0.000000</td>\n",
              "      <td>0.000000</td>\n",
              "      <td>1.000000</td>\n",
              "      <td>1.000000</td>\n",
              "    </tr>\n",
              "    <tr>\n",
              "      <th>promo_friends</th>\n",
              "      <td>4000.0</td>\n",
              "      <td>0.308500</td>\n",
              "      <td>0.461932</td>\n",
              "      <td>0.000000</td>\n",
              "      <td>0.000000</td>\n",
              "      <td>0.000000</td>\n",
              "      <td>1.000000</td>\n",
              "      <td>1.000000</td>\n",
              "    </tr>\n",
              "    <tr>\n",
              "      <th>phone</th>\n",
              "      <td>4000.0</td>\n",
              "      <td>0.903500</td>\n",
              "      <td>0.295313</td>\n",
              "      <td>0.000000</td>\n",
              "      <td>1.000000</td>\n",
              "      <td>1.000000</td>\n",
              "      <td>1.000000</td>\n",
              "      <td>1.000000</td>\n",
              "    </tr>\n",
              "    <tr>\n",
              "      <th>contract_period</th>\n",
              "      <td>4000.0</td>\n",
              "      <td>4.681250</td>\n",
              "      <td>4.549706</td>\n",
              "      <td>1.000000</td>\n",
              "      <td>1.000000</td>\n",
              "      <td>1.000000</td>\n",
              "      <td>6.000000</td>\n",
              "      <td>12.000000</td>\n",
              "    </tr>\n",
              "    <tr>\n",
              "      <th>group_visits</th>\n",
              "      <td>4000.0</td>\n",
              "      <td>0.412250</td>\n",
              "      <td>0.492301</td>\n",
              "      <td>0.000000</td>\n",
              "      <td>0.000000</td>\n",
              "      <td>0.000000</td>\n",
              "      <td>1.000000</td>\n",
              "      <td>1.000000</td>\n",
              "    </tr>\n",
              "    <tr>\n",
              "      <th>age</th>\n",
              "      <td>4000.0</td>\n",
              "      <td>29.184250</td>\n",
              "      <td>3.258367</td>\n",
              "      <td>18.000000</td>\n",
              "      <td>27.000000</td>\n",
              "      <td>29.000000</td>\n",
              "      <td>31.000000</td>\n",
              "      <td>41.000000</td>\n",
              "    </tr>\n",
              "    <tr>\n",
              "      <th>avg_additional_charges_total</th>\n",
              "      <td>4000.0</td>\n",
              "      <td>146.943728</td>\n",
              "      <td>96.355602</td>\n",
              "      <td>0.148205</td>\n",
              "      <td>68.868830</td>\n",
              "      <td>136.220159</td>\n",
              "      <td>210.949625</td>\n",
              "      <td>552.590740</td>\n",
              "    </tr>\n",
              "    <tr>\n",
              "      <th>month_to_end_contract</th>\n",
              "      <td>4000.0</td>\n",
              "      <td>4.322750</td>\n",
              "      <td>4.191297</td>\n",
              "      <td>1.000000</td>\n",
              "      <td>1.000000</td>\n",
              "      <td>1.000000</td>\n",
              "      <td>6.000000</td>\n",
              "      <td>12.000000</td>\n",
              "    </tr>\n",
              "    <tr>\n",
              "      <th>lifetime</th>\n",
              "      <td>4000.0</td>\n",
              "      <td>3.724750</td>\n",
              "      <td>3.749267</td>\n",
              "      <td>0.000000</td>\n",
              "      <td>1.000000</td>\n",
              "      <td>3.000000</td>\n",
              "      <td>5.000000</td>\n",
              "      <td>31.000000</td>\n",
              "    </tr>\n",
              "    <tr>\n",
              "      <th>avg_class_frequency_total</th>\n",
              "      <td>4000.0</td>\n",
              "      <td>1.879020</td>\n",
              "      <td>0.972245</td>\n",
              "      <td>0.000000</td>\n",
              "      <td>1.180875</td>\n",
              "      <td>1.832768</td>\n",
              "      <td>2.536078</td>\n",
              "      <td>6.023668</td>\n",
              "    </tr>\n",
              "    <tr>\n",
              "      <th>avg_class_frequency_current_month</th>\n",
              "      <td>4000.0</td>\n",
              "      <td>1.767052</td>\n",
              "      <td>1.052906</td>\n",
              "      <td>0.000000</td>\n",
              "      <td>0.963003</td>\n",
              "      <td>1.719574</td>\n",
              "      <td>2.510336</td>\n",
              "      <td>6.146783</td>\n",
              "    </tr>\n",
              "    <tr>\n",
              "      <th>churn</th>\n",
              "      <td>4000.0</td>\n",
              "      <td>0.265250</td>\n",
              "      <td>0.441521</td>\n",
              "      <td>0.000000</td>\n",
              "      <td>0.000000</td>\n",
              "      <td>0.000000</td>\n",
              "      <td>1.000000</td>\n",
              "      <td>1.000000</td>\n",
              "    </tr>\n",
              "  </tbody>\n",
              "</table>\n",
              "</div>\n",
              "      <button class=\"colab-df-convert\" onclick=\"convertToInteractive('df-d2690182-4d42-41c0-82a5-f0cbb9cdf18d')\"\n",
              "              title=\"Convert this dataframe to an interactive table.\"\n",
              "              style=\"display:none;\">\n",
              "        \n",
              "  <svg xmlns=\"http://www.w3.org/2000/svg\" height=\"24px\"viewBox=\"0 0 24 24\"\n",
              "       width=\"24px\">\n",
              "    <path d=\"M0 0h24v24H0V0z\" fill=\"none\"/>\n",
              "    <path d=\"M18.56 5.44l.94 2.06.94-2.06 2.06-.94-2.06-.94-.94-2.06-.94 2.06-2.06.94zm-11 1L8.5 8.5l.94-2.06 2.06-.94-2.06-.94L8.5 2.5l-.94 2.06-2.06.94zm10 10l.94 2.06.94-2.06 2.06-.94-2.06-.94-.94-2.06-.94 2.06-2.06.94z\"/><path d=\"M17.41 7.96l-1.37-1.37c-.4-.4-.92-.59-1.43-.59-.52 0-1.04.2-1.43.59L10.3 9.45l-7.72 7.72c-.78.78-.78 2.05 0 2.83L4 21.41c.39.39.9.59 1.41.59.51 0 1.02-.2 1.41-.59l7.78-7.78 2.81-2.81c.8-.78.8-2.07 0-2.86zM5.41 20L4 18.59l7.72-7.72 1.47 1.35L5.41 20z\"/>\n",
              "  </svg>\n",
              "      </button>\n",
              "      \n",
              "  <style>\n",
              "    .colab-df-container {\n",
              "      display:flex;\n",
              "      flex-wrap:wrap;\n",
              "      gap: 12px;\n",
              "    }\n",
              "\n",
              "    .colab-df-convert {\n",
              "      background-color: #E8F0FE;\n",
              "      border: none;\n",
              "      border-radius: 50%;\n",
              "      cursor: pointer;\n",
              "      display: none;\n",
              "      fill: #1967D2;\n",
              "      height: 32px;\n",
              "      padding: 0 0 0 0;\n",
              "      width: 32px;\n",
              "    }\n",
              "\n",
              "    .colab-df-convert:hover {\n",
              "      background-color: #E2EBFA;\n",
              "      box-shadow: 0px 1px 2px rgba(60, 64, 67, 0.3), 0px 1px 3px 1px rgba(60, 64, 67, 0.15);\n",
              "      fill: #174EA6;\n",
              "    }\n",
              "\n",
              "    [theme=dark] .colab-df-convert {\n",
              "      background-color: #3B4455;\n",
              "      fill: #D2E3FC;\n",
              "    }\n",
              "\n",
              "    [theme=dark] .colab-df-convert:hover {\n",
              "      background-color: #434B5C;\n",
              "      box-shadow: 0px 1px 3px 1px rgba(0, 0, 0, 0.15);\n",
              "      filter: drop-shadow(0px 1px 2px rgba(0, 0, 0, 0.3));\n",
              "      fill: #FFFFFF;\n",
              "    }\n",
              "  </style>\n",
              "\n",
              "      <script>\n",
              "        const buttonEl =\n",
              "          document.querySelector('#df-d2690182-4d42-41c0-82a5-f0cbb9cdf18d button.colab-df-convert');\n",
              "        buttonEl.style.display =\n",
              "          google.colab.kernel.accessAllowed ? 'block' : 'none';\n",
              "\n",
              "        async function convertToInteractive(key) {\n",
              "          const element = document.querySelector('#df-d2690182-4d42-41c0-82a5-f0cbb9cdf18d');\n",
              "          const dataTable =\n",
              "            await google.colab.kernel.invokeFunction('convertToInteractive',\n",
              "                                                     [key], {});\n",
              "          if (!dataTable) return;\n",
              "\n",
              "          const docLinkHtml = 'Like what you see? Visit the ' +\n",
              "            '<a target=\"_blank\" href=https://colab.research.google.com/notebooks/data_table.ipynb>data table notebook</a>'\n",
              "            + ' to learn more about interactive tables.';\n",
              "          element.innerHTML = '';\n",
              "          dataTable['output_type'] = 'display_data';\n",
              "          await google.colab.output.renderOutput(dataTable, element);\n",
              "          const docLink = document.createElement('div');\n",
              "          docLink.innerHTML = docLinkHtml;\n",
              "          element.appendChild(docLink);\n",
              "        }\n",
              "      </script>\n",
              "    </div>\n",
              "  </div>\n",
              "  "
            ]
          },
          "metadata": {},
          "execution_count": 6
        }
      ],
      "source": [
        "# General information about the distribution of values in the table\n",
        "df.describe().T"
      ]
    },
    {
      "cell_type": "code",
      "execution_count": null,
      "metadata": {
        "colab": {
          "base_uri": "https://localhost:8080/"
        },
        "id": "HDo6Nus2xzei",
        "outputId": "aa8d70a0-9dd6-4b45-fb2d-73b18b358fea"
      },
      "outputs": [
        {
          "output_type": "execute_result",
          "data": {
            "text/plain": [
              "churn\n",
              "0    2939\n",
              "1    1061\n",
              "Name: gender, dtype: int64"
            ]
          },
          "metadata": {},
          "execution_count": 7
        }
      ],
      "source": [
        "# Number of retained and churned customers in the sample\n",
        "df.groupby('churn')['gender'].count()"
      ]
    },
    {
      "cell_type": "markdown",
      "metadata": {
        "id": "cv1jrVR5xzej"
      },
      "source": [
        "**The features `gender`, `near_location`, `partner`, `promo_friends`, `phone`, `group_visits`, as well as the target variable `churn`, are binary (having only 2 possible values).**\n",
        "\n",
        "**It can be noted that the sample contains roughly an equal number of customers of different genders. However, there are almost three times more \"retained\" customers than \"churned\" customers in the sample.**"
      ]
    },
    {
      "cell_type": "code",
      "execution_count": null,
      "metadata": {
        "scrolled": true,
        "colab": {
          "base_uri": "https://localhost:8080/",
          "height": 144
        },
        "id": "bOEw1qkNxzej",
        "outputId": "44953f19-7e04-47d9-b1cf-76f6b4df9a07"
      },
      "outputs": [
        {
          "output_type": "execute_result",
          "data": {
            "text/plain": [
              "         gender  near_location   partner  promo_friends     phone  \\\n",
              "churn                                                               \n",
              "0      0.510037       0.873086  0.534195       0.353522  0.903709   \n",
              "1      0.510839       0.768143  0.355325       0.183789  0.902922   \n",
              "\n",
              "       contract_period  group_visits        age  avg_additional_charges_total  \\\n",
              "churn                                                                           \n",
              "0             5.747193      0.464103  29.976523                    158.445715   \n",
              "1             1.728558      0.268615  26.989632                    115.082899   \n",
              "\n",
              "       month_to_end_contract  lifetime  avg_class_frequency_total  \\\n",
              "churn                                                               \n",
              "0                   5.283089  4.711807                   2.024876   \n",
              "1                   1.662582  0.990575                   1.474995   \n",
              "\n",
              "       avg_class_frequency_current_month  \n",
              "churn                                     \n",
              "0                               2.027882  \n",
              "1                               1.044546  "
            ],
            "text/html": [
              "\n",
              "  <div id=\"df-1c8e7309-3266-4bc9-b683-a4e9b2f16886\">\n",
              "    <div class=\"colab-df-container\">\n",
              "      <div>\n",
              "<style scoped>\n",
              "    .dataframe tbody tr th:only-of-type {\n",
              "        vertical-align: middle;\n",
              "    }\n",
              "\n",
              "    .dataframe tbody tr th {\n",
              "        vertical-align: top;\n",
              "    }\n",
              "\n",
              "    .dataframe thead th {\n",
              "        text-align: right;\n",
              "    }\n",
              "</style>\n",
              "<table border=\"1\" class=\"dataframe\">\n",
              "  <thead>\n",
              "    <tr style=\"text-align: right;\">\n",
              "      <th></th>\n",
              "      <th>gender</th>\n",
              "      <th>near_location</th>\n",
              "      <th>partner</th>\n",
              "      <th>promo_friends</th>\n",
              "      <th>phone</th>\n",
              "      <th>contract_period</th>\n",
              "      <th>group_visits</th>\n",
              "      <th>age</th>\n",
              "      <th>avg_additional_charges_total</th>\n",
              "      <th>month_to_end_contract</th>\n",
              "      <th>lifetime</th>\n",
              "      <th>avg_class_frequency_total</th>\n",
              "      <th>avg_class_frequency_current_month</th>\n",
              "    </tr>\n",
              "    <tr>\n",
              "      <th>churn</th>\n",
              "      <th></th>\n",
              "      <th></th>\n",
              "      <th></th>\n",
              "      <th></th>\n",
              "      <th></th>\n",
              "      <th></th>\n",
              "      <th></th>\n",
              "      <th></th>\n",
              "      <th></th>\n",
              "      <th></th>\n",
              "      <th></th>\n",
              "      <th></th>\n",
              "      <th></th>\n",
              "    </tr>\n",
              "  </thead>\n",
              "  <tbody>\n",
              "    <tr>\n",
              "      <th>0</th>\n",
              "      <td>0.510037</td>\n",
              "      <td>0.873086</td>\n",
              "      <td>0.534195</td>\n",
              "      <td>0.353522</td>\n",
              "      <td>0.903709</td>\n",
              "      <td>5.747193</td>\n",
              "      <td>0.464103</td>\n",
              "      <td>29.976523</td>\n",
              "      <td>158.445715</td>\n",
              "      <td>5.283089</td>\n",
              "      <td>4.711807</td>\n",
              "      <td>2.024876</td>\n",
              "      <td>2.027882</td>\n",
              "    </tr>\n",
              "    <tr>\n",
              "      <th>1</th>\n",
              "      <td>0.510839</td>\n",
              "      <td>0.768143</td>\n",
              "      <td>0.355325</td>\n",
              "      <td>0.183789</td>\n",
              "      <td>0.902922</td>\n",
              "      <td>1.728558</td>\n",
              "      <td>0.268615</td>\n",
              "      <td>26.989632</td>\n",
              "      <td>115.082899</td>\n",
              "      <td>1.662582</td>\n",
              "      <td>0.990575</td>\n",
              "      <td>1.474995</td>\n",
              "      <td>1.044546</td>\n",
              "    </tr>\n",
              "  </tbody>\n",
              "</table>\n",
              "</div>\n",
              "      <button class=\"colab-df-convert\" onclick=\"convertToInteractive('df-1c8e7309-3266-4bc9-b683-a4e9b2f16886')\"\n",
              "              title=\"Convert this dataframe to an interactive table.\"\n",
              "              style=\"display:none;\">\n",
              "        \n",
              "  <svg xmlns=\"http://www.w3.org/2000/svg\" height=\"24px\"viewBox=\"0 0 24 24\"\n",
              "       width=\"24px\">\n",
              "    <path d=\"M0 0h24v24H0V0z\" fill=\"none\"/>\n",
              "    <path d=\"M18.56 5.44l.94 2.06.94-2.06 2.06-.94-2.06-.94-.94-2.06-.94 2.06-2.06.94zm-11 1L8.5 8.5l.94-2.06 2.06-.94-2.06-.94L8.5 2.5l-.94 2.06-2.06.94zm10 10l.94 2.06.94-2.06 2.06-.94-2.06-.94-.94-2.06-.94 2.06-2.06.94z\"/><path d=\"M17.41 7.96l-1.37-1.37c-.4-.4-.92-.59-1.43-.59-.52 0-1.04.2-1.43.59L10.3 9.45l-7.72 7.72c-.78.78-.78 2.05 0 2.83L4 21.41c.39.39.9.59 1.41.59.51 0 1.02-.2 1.41-.59l7.78-7.78 2.81-2.81c.8-.78.8-2.07 0-2.86zM5.41 20L4 18.59l7.72-7.72 1.47 1.35L5.41 20z\"/>\n",
              "  </svg>\n",
              "      </button>\n",
              "      \n",
              "  <style>\n",
              "    .colab-df-container {\n",
              "      display:flex;\n",
              "      flex-wrap:wrap;\n",
              "      gap: 12px;\n",
              "    }\n",
              "\n",
              "    .colab-df-convert {\n",
              "      background-color: #E8F0FE;\n",
              "      border: none;\n",
              "      border-radius: 50%;\n",
              "      cursor: pointer;\n",
              "      display: none;\n",
              "      fill: #1967D2;\n",
              "      height: 32px;\n",
              "      padding: 0 0 0 0;\n",
              "      width: 32px;\n",
              "    }\n",
              "\n",
              "    .colab-df-convert:hover {\n",
              "      background-color: #E2EBFA;\n",
              "      box-shadow: 0px 1px 2px rgba(60, 64, 67, 0.3), 0px 1px 3px 1px rgba(60, 64, 67, 0.15);\n",
              "      fill: #174EA6;\n",
              "    }\n",
              "\n",
              "    [theme=dark] .colab-df-convert {\n",
              "      background-color: #3B4455;\n",
              "      fill: #D2E3FC;\n",
              "    }\n",
              "\n",
              "    [theme=dark] .colab-df-convert:hover {\n",
              "      background-color: #434B5C;\n",
              "      box-shadow: 0px 1px 3px 1px rgba(0, 0, 0, 0.15);\n",
              "      filter: drop-shadow(0px 1px 2px rgba(0, 0, 0, 0.3));\n",
              "      fill: #FFFFFF;\n",
              "    }\n",
              "  </style>\n",
              "\n",
              "      <script>\n",
              "        const buttonEl =\n",
              "          document.querySelector('#df-1c8e7309-3266-4bc9-b683-a4e9b2f16886 button.colab-df-convert');\n",
              "        buttonEl.style.display =\n",
              "          google.colab.kernel.accessAllowed ? 'block' : 'none';\n",
              "\n",
              "        async function convertToInteractive(key) {\n",
              "          const element = document.querySelector('#df-1c8e7309-3266-4bc9-b683-a4e9b2f16886');\n",
              "          const dataTable =\n",
              "            await google.colab.kernel.invokeFunction('convertToInteractive',\n",
              "                                                     [key], {});\n",
              "          if (!dataTable) return;\n",
              "\n",
              "          const docLinkHtml = 'Like what you see? Visit the ' +\n",
              "            '<a target=\"_blank\" href=https://colab.research.google.com/notebooks/data_table.ipynb>data table notebook</a>'\n",
              "            + ' to learn more about interactive tables.';\n",
              "          element.innerHTML = '';\n",
              "          dataTable['output_type'] = 'display_data';\n",
              "          await google.colab.output.renderOutput(dataTable, element);\n",
              "          const docLink = document.createElement('div');\n",
              "          docLink.innerHTML = docLinkHtml;\n",
              "          element.appendChild(docLink);\n",
              "        }\n",
              "      </script>\n",
              "    </div>\n",
              "  </div>\n",
              "  "
            ]
          },
          "metadata": {},
          "execution_count": 8
        }
      ],
      "source": [
        "# Average feature values for churn groups (target variable)\n",
        "df.groupby('churn').mean()"
      ]
    },
    {
      "cell_type": "markdown",
      "metadata": {
        "id": "1NRWmygNxzej"
      },
      "source": [
        "<b> Based on the average feature values, we can highlight the following characteristics of \"churned\" customers:\n",
        "\n",
        "- They live further away from the fitness center.\n",
        "- They are less likely to be partners of the fitness center.\n",
        "- They are less likely to come through a friend's referral.\n",
        "- They have shorter membership durations (1.7 months compared to 5.7 months).\n",
        "- They have less time remaining until the end of their membership (1.7 months compared to 5.3 months).\n",
        "- They attend group classes less frequently.\n",
        "- They spend less on additional fitness center services (115 USD compared to 158 USD).\n",
        "- They have a shorter time since their first visit (1 month compared to 4.7 months).\n",
        "- They have a slightly lower average frequency of visits per week (1.47 days compared to 2.02 days).\n",
        "- In the last month before churn, their visit frequency decreases (down to 1.04 days). <b>"
      ]
    },
    {
      "cell_type": "code",
      "execution_count": null,
      "metadata": {
        "scrolled": true,
        "id": "DnQS2fcQxzek"
      },
      "outputs": [],
      "source": [
        "#Tables of churned and retained customers\n",
        "df_churn = df.query('churn == 1')\n",
        "df_not_churn = df.query('churn == 0')"
      ]
    },
    {
      "cell_type": "code",
      "execution_count": null,
      "metadata": {
        "colab": {
          "base_uri": "https://localhost:8080/",
          "height": 1000
        },
        "id": "qib6lLTzxzek",
        "outputId": "cd9f7a41-9eef-48aa-83e9-83f4f7eab105"
      },
      "outputs": [
        {
          "output_type": "display_data",
          "data": {
            "text/plain": [
              "<Figure size 1000x2000 with 14 Axes>"
            ],
            "image/png": "[encoded data removed]"
          },
          "metadata": {}
        }
      ],
      "source": [
        "# Creating a variable for the grid and feature names\n",
        "grid =  [(i, j) for i in range(7) for j in range(2)]\n",
        "data_plot_columns = df.drop(columns=['churn']).columns\n",
        "\n",
        "# Creating histograms for the distribution of feature values for churned and retained customers\n",
        "fig, ax = plt.subplots(7, 2, figsize=(10, 20))\n",
        "for position, column in zip(grid, data_plot_columns):\n",
        "    sns.distplot(df_churn[column], label='churn', ax=ax[position])\n",
        "    sns.distplot(df_not_churn[column], label = 'not churn', ax=ax[position])\n",
        "    ax[position].legend()\n",
        "plt.suptitle('Distribution Diagrams for Features', y=0.9)\n",
        "plt.show()"
      ]
    },
    {
      "cell_type": "markdown",
      "metadata": {
        "id": "ymhzHck2xzel"
      },
      "source": [
        "<b>The distribution diagrams confirm the previously mentioned findings. We can also observe almost perfectly normal distribution of `age` values. The distributions of other features are not as close to normal, but no significant outliers are detected. <b>"
      ]
    },
    {
      "cell_type": "code",
      "execution_count": null,
      "metadata": {
        "colab": {
          "base_uri": "https://localhost:8080/",
          "height": 1000
        },
        "id": "20NdJfmoxzel",
        "outputId": "730dc2d6-c574-4c6d-84f9-67d8bd395eb7"
      },
      "outputs": [
        {
          "output_type": "display_data",
          "data": {
            "text/plain": [
              "<Figure size 1200x900 with 2 Axes>"
            ],
            "image/png": "[encoded data removed]"
          },
          "metadata": {}
        }
      ],
      "source": [
        "#Constructing a correlation matrix\n",
        "cm = df.corr()\n",
        "fig, ax = plt.subplots(figsize=(12,9))\n",
        "#Creating a heatmap with labels for the correlation matrix\n",
        "sns.heatmap(cm, annot=True, square=True, annot_kws={\"fontsize\": 8})\n",
        "plt.title('Correlation Matrix Heatmap', size='x-large')\n",
        "plt.show()"
      ]
    },
    {
      "cell_type": "markdown",
      "metadata": {
        "id": "58uQBetnxzel"
      },
      "source": [
        "<b>From the correlation matrix, we can observe a strong positive correlation between the features `contract_period` and `month_to_end_contract`, as well as between `avg_class_frequency_total` and `avg_class_frequency_current_month`. These features can be combined since they represent the same property.\n",
        "\n",
        "There are no high correlations with the target variable. However, there is a moderate negative correlation between the features lifetime, `avg_class_frequency_current_month`, and `age`.\n",
        "\n",
        "\n",
        "    \n",
        "<br>Overall, the data quality allows us to build a model based on them. <br>   <b>"
      ]
    },
    {
      "cell_type": "markdown",
      "metadata": {
        "id": "wlbYbDzXxzem"
      },
      "source": [
        "## Customer churn prediction model"
      ]
    },
    {
      "cell_type": "markdown",
      "metadata": {
        "id": "tK0nF4hVxzem"
      },
      "source": [
        "<b> Since the target variable is a binary value, we will build a binary classification model. Specifically, we will apply logistic regression, random forest, and gradient boosting algorithms.\n",
        "\n",
        "We will evaluate the models using metrics such as accuracy, precision, recall, F1 score, and ROC-AUC. <br>In the case of churn prediction, it is crucial to focus on correctly identifying the customers who stay, as missing potential churn and losing a customer would be more costly than working on retaining a customer. Therefore, emphasis should be placed on the recall metric. <br>Conversely, since the dataset is unbalanced in terms of target class distribution, accuracy is less important to us.<br><b>\n",
        "    \n",
        "We will split the dataset using random sampling, with a ratio of 80:20 for training and validation sets, as the observations are not dependent on a time series."
      ]
    },
    {
      "cell_type": "code",
      "execution_count": null,
      "metadata": {
        "id": "n9l2JjlUxzem"
      },
      "outputs": [],
      "source": [
        "# Splitting the data into features (matrix X) and target variable (y)\n",
        "X = df.drop(columns=['churn'])\n",
        "y = df['churn']\n",
        "\n",
        "# Splitting the model into training and validation sets\n",
        "X_train, X_test, y_train, y_test = train_test_split(X, y, test_size=0.2, random_state=0, stratify=y)\n",
        "\n",
        "# Creating an instance of the StandardScaler class and applying it to the training set\n",
        "scaler = StandardScaler()\n",
        "X_train_st = scaler.fit_transform(X_train)  # Training the scaler and transforming the feature matrix for the training set\n",
        "\n",
        "# Applying standardization to the feature matrix for the test set\n",
        "X_test_st = scaler.transform(X_test)"
      ]
    },
    {
      "cell_type": "code",
      "execution_count": null,
      "metadata": {
        "id": "LsUHlQsgxzeo"
      },
      "outputs": [],
      "source": [
        "# List of models\n",
        "models = [\n",
        "    LogisticRegression(solver='liblinear', random_state = 0, C=10.0),\n",
        "    RandomForestClassifier(n_estimators = 200, random_state = 0),\n",
        "    GradientBoostingClassifier(n_estimators = 200, random_state = 0,  max_depth = 9),\n",
        "]"
      ]
    },
    {
      "cell_type": "code",
      "execution_count": null,
      "metadata": {
        "id": "IQfuHhOoxzeo"
      },
      "outputs": [],
      "source": [
        "def make_prediction(m, X_train, y_train, X_test, y_test):\n",
        "    '''A function that takes a model and data as input and outputs metrics'''\n",
        "    model = m\n",
        "    model.fit(X_train, y_train)\n",
        "    y_pred = model.predict(X_test)\n",
        "    y_proba = model.predict_proba(X_test)[:, 1]\n",
        "    print(\n",
        "        'Accuracy:{:.2f} Precision:{:.2f} Recall:{:.2f} F1:{:.2f} roc_auc_score:{:.2f} '.format(\n",
        "            accuracy_score(y_test, y_pred),\n",
        "            precision_score(y_test, y_pred),\n",
        "            recall_score(y_test, y_pred),\n",
        "            f1_score(y_test, y_pred),\n",
        "            roc_auc_score(y_test, y_proba)\n",
        "        )\n",
        "    )"
      ]
    },
    {
      "cell_type": "code",
      "execution_count": null,
      "metadata": {
        "colab": {
          "base_uri": "https://localhost:8080/"
        },
        "id": "d58it1Hvxzeo",
        "outputId": "833389c3-f56f-4f39-b092-c4d17b921151"
      },
      "outputs": [
        {
          "output_type": "stream",
          "name": "stdout",
          "text": [
            "LogisticRegression(C=10.0, random_state=0, solver='liblinear')\n",
            "Accuracy:0.94 Precision:0.90 Recall:0.86 F1:0.88 roc_auc_score:0.98 \n",
            "RandomForestClassifier(n_estimators=200, random_state=0)\n",
            "Accuracy:0.93 Precision:0.88 Recall:0.83 F1:0.86 roc_auc_score:0.97 \n",
            "GradientBoostingClassifier(max_depth=9, n_estimators=200, random_state=0)\n",
            "Accuracy:0.94 Precision:0.91 Recall:0.87 F1:0.89 roc_auc_score:0.98 \n"
          ]
        }
      ],
      "source": [
        "# Loop that outputs metrics for each model\n",
        "for i in models:\n",
        "    print(i)\n",
        "    make_prediction(i, X_train_st, y_train, X_test_st, y_test)"
      ]
    },
    {
      "cell_type": "markdown",
      "metadata": {
        "id": "_DmCC197xzep"
      },
      "source": [
        "**The gradient boosting model performed better than the others based on the metrics. The recall metric is important to us, with a value of 86%. The F1 score (which balances recall and precision) is 88%, and the ROC-AUC score is 98%. The logistic regression model also has similar metrics. However, the gradient boosting model slightly outperforms it in terms of precision (91% compared to 90%).**"
      ]
    },
    {
      "cell_type": "code",
      "execution_count": null,
      "metadata": {
        "id": "kR-o2e0Xxzep"
      },
      "outputs": [],
      "source": [
        "# Training the final model\n",
        "final_model = GradientBoostingClassifier(n_estimators = 350, random_state = 0,  max_depth = 8)\n",
        "final_model.fit(X_train_st, y_train)\n",
        "y_pred = final_model.predict(X_test_st)"
      ]
    },
    {
      "cell_type": "code",
      "execution_count": null,
      "metadata": {
        "colab": {
          "base_uri": "https://localhost:8080/",
          "height": 593
        },
        "id": "1vm-L1Slxzep",
        "outputId": "2e48fb71-05d9-42eb-8896-c9dbf6ff47d2"
      },
      "outputs": [
        {
          "output_type": "display_data",
          "data": {
            "text/plain": [
              "<Figure size 800x600 with 1 Axes>"
            ],
            "image/png": "[encoded data removed]"
          },
          "metadata": {}
        },
        {
          "output_type": "execute_result",
          "data": {
            "text/plain": [
              "<IPython.core.display.Markdown object>"
            ],
            "text/markdown": "**roc_auc_score:0.98** "
          },
          "metadata": {},
          "execution_count": 21
        }
      ],
      "source": [
        "# Plotting the Receiver Operating Characteristic (ROC) curve for the final model\n",
        "\n",
        "plt.figure(figsize=(8, 6))\n",
        "fpr, tpr, thresholds = roc_curve(y_test, final_model.predict_proba(X_test_st)[:,1], pos_label=1)\n",
        "lw = 2\n",
        "plt.plot(fpr, tpr, lw=lw, label='ROC curve')\n",
        "plt.plot([0, 1], [0, 1])\n",
        "plt.xlim([-0.001, 1.0])\n",
        "plt.ylim([0.0, 1.05])\n",
        "plt.xlabel('False Positive Rate')\n",
        "plt.ylabel('True Positive Rate')\n",
        "plt.title('ROC curve')\n",
        "plt.grid()\n",
        "plt.show()\n",
        "\n",
        "Markdown('**roc_auc_score:{:.2f}** '.format(roc_auc_score(y_test, final_model.predict_proba(X_test_st)[:,1])))"
      ]
    },
    {
      "cell_type": "code",
      "execution_count": null,
      "metadata": {
        "colab": {
          "base_uri": "https://localhost:8080/",
          "height": 457
        },
        "id": "bE6_lhkPxzep",
        "outputId": "046c731c-33c0-4651-d8de-0cb53bdec858"
      },
      "outputs": [
        {
          "output_type": "display_data",
          "data": {
            "text/plain": [
              "    0_weight                          0_feature\n",
              "10  0.357929                           lifetime\n",
              "12  0.182508  avg_class_frequency_current_month\n",
              "11  0.180944          avg_class_frequency_total\n",
              "9   0.095437              month_to_end_contract\n",
              "7   0.076703                                age\n",
              "8   0.058195       avg_additional_charges_total\n",
              "5   0.023480                    contract_period\n",
              "6   0.008436                       group_visits\n",
              "0   0.004766                             gender\n",
              "4   0.004374                              phone\n",
              "1   0.002660                      near_location\n",
              "3   0.002375                      promo_friends\n",
              "2   0.002193                            partner"
            ],
            "text/html": [
              "\n",
              "  <div id=\"df-fabe8b95-c4d1-4ba3-8bb8-599c87cbd660\">\n",
              "    <div class=\"colab-df-container\">\n",
              "      <div>\n",
              "<style scoped>\n",
              "    .dataframe tbody tr th:only-of-type {\n",
              "        vertical-align: middle;\n",
              "    }\n",
              "\n",
              "    .dataframe tbody tr th {\n",
              "        vertical-align: top;\n",
              "    }\n",
              "\n",
              "    .dataframe thead th {\n",
              "        text-align: right;\n",
              "    }\n",
              "</style>\n",
              "<table border=\"1\" class=\"dataframe\">\n",
              "  <thead>\n",
              "    <tr style=\"text-align: right;\">\n",
              "      <th></th>\n",
              "      <th>0_weight</th>\n",
              "      <th>0_feature</th>\n",
              "    </tr>\n",
              "  </thead>\n",
              "  <tbody>\n",
              "    <tr>\n",
              "      <th>10</th>\n",
              "      <td>0.357929</td>\n",
              "      <td>lifetime</td>\n",
              "    </tr>\n",
              "    <tr>\n",
              "      <th>12</th>\n",
              "      <td>0.182508</td>\n",
              "      <td>avg_class_frequency_current_month</td>\n",
              "    </tr>\n",
              "    <tr>\n",
              "      <th>11</th>\n",
              "      <td>0.180944</td>\n",
              "      <td>avg_class_frequency_total</td>\n",
              "    </tr>\n",
              "    <tr>\n",
              "      <th>9</th>\n",
              "      <td>0.095437</td>\n",
              "      <td>month_to_end_contract</td>\n",
              "    </tr>\n",
              "    <tr>\n",
              "      <th>7</th>\n",
              "      <td>0.076703</td>\n",
              "      <td>age</td>\n",
              "    </tr>\n",
              "    <tr>\n",
              "      <th>8</th>\n",
              "      <td>0.058195</td>\n",
              "      <td>avg_additional_charges_total</td>\n",
              "    </tr>\n",
              "    <tr>\n",
              "      <th>5</th>\n",
              "      <td>0.023480</td>\n",
              "      <td>contract_period</td>\n",
              "    </tr>\n",
              "    <tr>\n",
              "      <th>6</th>\n",
              "      <td>0.008436</td>\n",
              "      <td>group_visits</td>\n",
              "    </tr>\n",
              "    <tr>\n",
              "      <th>0</th>\n",
              "      <td>0.004766</td>\n",
              "      <td>gender</td>\n",
              "    </tr>\n",
              "    <tr>\n",
              "      <th>4</th>\n",
              "      <td>0.004374</td>\n",
              "      <td>phone</td>\n",
              "    </tr>\n",
              "    <tr>\n",
              "      <th>1</th>\n",
              "      <td>0.002660</td>\n",
              "      <td>near_location</td>\n",
              "    </tr>\n",
              "    <tr>\n",
              "      <th>3</th>\n",
              "      <td>0.002375</td>\n",
              "      <td>promo_friends</td>\n",
              "    </tr>\n",
              "    <tr>\n",
              "      <th>2</th>\n",
              "      <td>0.002193</td>\n",
              "      <td>partner</td>\n",
              "    </tr>\n",
              "  </tbody>\n",
              "</table>\n",
              "</div>\n",
              "      <button class=\"colab-df-convert\" onclick=\"convertToInteractive('df-fabe8b95-c4d1-4ba3-8bb8-599c87cbd660')\"\n",
              "              title=\"Convert this dataframe to an interactive table.\"\n",
              "              style=\"display:none;\">\n",
              "        \n",
              "  <svg xmlns=\"http://www.w3.org/2000/svg\" height=\"24px\"viewBox=\"0 0 24 24\"\n",
              "       width=\"24px\">\n",
              "    <path d=\"M0 0h24v24H0V0z\" fill=\"none\"/>\n",
              "    <path d=\"M18.56 5.44l.94 2.06.94-2.06 2.06-.94-2.06-.94-.94-2.06-.94 2.06-2.06.94zm-11 1L8.5 8.5l.94-2.06 2.06-.94-2.06-.94L8.5 2.5l-.94 2.06-2.06.94zm10 10l.94 2.06.94-2.06 2.06-.94-2.06-.94-.94-2.06-.94 2.06-2.06.94z\"/><path d=\"M17.41 7.96l-1.37-1.37c-.4-.4-.92-.59-1.43-.59-.52 0-1.04.2-1.43.59L10.3 9.45l-7.72 7.72c-.78.78-.78 2.05 0 2.83L4 21.41c.39.39.9.59 1.41.59.51 0 1.02-.2 1.41-.59l7.78-7.78 2.81-2.81c.8-.78.8-2.07 0-2.86zM5.41 20L4 18.59l7.72-7.72 1.47 1.35L5.41 20z\"/>\n",
              "  </svg>\n",
              "      </button>\n",
              "      \n",
              "  <style>\n",
              "    .colab-df-container {\n",
              "      display:flex;\n",
              "      flex-wrap:wrap;\n",
              "      gap: 12px;\n",
              "    }\n",
              "\n",
              "    .colab-df-convert {\n",
              "      background-color: #E8F0FE;\n",
              "      border: none;\n",
              "      border-radius: 50%;\n",
              "      cursor: pointer;\n",
              "      display: none;\n",
              "      fill: #1967D2;\n",
              "      height: 32px;\n",
              "      padding: 0 0 0 0;\n",
              "      width: 32px;\n",
              "    }\n",
              "\n",
              "    .colab-df-convert:hover {\n",
              "      background-color: #E2EBFA;\n",
              "      box-shadow: 0px 1px 2px rgba(60, 64, 67, 0.3), 0px 1px 3px 1px rgba(60, 64, 67, 0.15);\n",
              "      fill: #174EA6;\n",
              "    }\n",
              "\n",
              "    [theme=dark] .colab-df-convert {\n",
              "      background-color: #3B4455;\n",
              "      fill: #D2E3FC;\n",
              "    }\n",
              "\n",
              "    [theme=dark] .colab-df-convert:hover {\n",
              "      background-color: #434B5C;\n",
              "      box-shadow: 0px 1px 3px 1px rgba(0, 0, 0, 0.15);\n",
              "      filter: drop-shadow(0px 1px 2px rgba(0, 0, 0, 0.3));\n",
              "      fill: #FFFFFF;\n",
              "    }\n",
              "  </style>\n",
              "\n",
              "      <script>\n",
              "        const buttonEl =\n",
              "          document.querySelector('#df-fabe8b95-c4d1-4ba3-8bb8-599c87cbd660 button.colab-df-convert');\n",
              "        buttonEl.style.display =\n",
              "          google.colab.kernel.accessAllowed ? 'block' : 'none';\n",
              "\n",
              "        async function convertToInteractive(key) {\n",
              "          const element = document.querySelector('#df-fabe8b95-c4d1-4ba3-8bb8-599c87cbd660');\n",
              "          const dataTable =\n",
              "            await google.colab.kernel.invokeFunction('convertToInteractive',\n",
              "                                                     [key], {});\n",
              "          if (!dataTable) return;\n",
              "\n",
              "          const docLinkHtml = 'Like what you see? Visit the ' +\n",
              "            '<a target=\"_blank\" href=https://colab.research.google.com/notebooks/data_table.ipynb>data table notebook</a>'\n",
              "            + ' to learn more about interactive tables.';\n",
              "          element.innerHTML = '';\n",
              "          dataTable['output_type'] = 'display_data';\n",
              "          await google.colab.output.renderOutput(dataTable, element);\n",
              "          const docLink = document.createElement('div');\n",
              "          docLink.innerHTML = docLinkHtml;\n",
              "          element.appendChild(docLink);\n",
              "        }\n",
              "      </script>\n",
              "    </div>\n",
              "  </div>\n",
              "  "
            ]
          },
          "metadata": {}
        }
      ],
      "source": [
        "# Creating a dataframe with feature names and their importance, and displaying it in descending order of importance\n",
        "feature_weights = final_model.feature_importances_\n",
        "display(pd.DataFrame(feature_weights).sort_values(0, ascending=False).join(\n",
        "        pd.DataFrame(X.columns), lsuffix='_weight', rsuffix='_feature'))"
      ]
    },
    {
      "cell_type": "markdown",
      "metadata": {
        "id": "K-gnKxecxzeq"
      },
      "source": [
        "**The most influential factors on the target variable are the time since the first contact with the fitness center `lifetime`, as well as the average visit frequency in the current month `avg_class_frequency_current_month` and overall `avg_class_frequency_total`.**"
      ]
    },
    {
      "cell_type": "markdown",
      "metadata": {
        "id": "eC-6ebQDxzer"
      },
      "source": [
        "## Customer clustering"
      ]
    },
    {
      "cell_type": "code",
      "execution_count": null,
      "metadata": {
        "id": "zgUQiMnFxzer"
      },
      "outputs": [],
      "source": [
        "# Standardizing the data\n",
        "sc = StandardScaler()\n",
        "X_sc = sc.fit_transform(X)"
      ]
    },
    {
      "cell_type": "code",
      "execution_count": null,
      "metadata": {
        "colab": {
          "base_uri": "https://localhost:8080/",
          "height": 680
        },
        "id": "5-jNJftdxzer",
        "outputId": "9025c746-739d-4182-d470-ebde1c7c38ce"
      },
      "outputs": [
        {
          "output_type": "display_data",
          "data": {
            "text/plain": [
              "<Figure size 1200x800 with 1 Axes>"
            ],
            "image/png": "[encoded data removed]"
          },
          "metadata": {}
        }
      ],
      "source": [
        "# Creating a linkage matrix and plotting the dendrogram to identify the number of clusters\n",
        "linked = linkage(X_sc, method = 'ward')\n",
        "plt.figure(figsize=(12, 8))\n",
        "dendrogram(linked, orientation='top')\n",
        "plt.show()"
      ]
    },
    {
      "cell_type": "markdown",
      "metadata": {
        "id": "tYrMnFtXxzer"
      },
      "source": [
        "**Based on the dendrogram, we suggest identifying 5 clusters, as the last cluster is significantly larger.**"
      ]
    },
    {
      "cell_type": "code",
      "execution_count": null,
      "metadata": {
        "id": "bJZNqZu2xzes"
      },
      "outputs": [],
      "source": [
        "# Defining the k-means model with 5 clusters\n",
        "km = KMeans(n_clusters = 5, random_state=0)\n",
        "# Predicting the clusters for the observations (assigning them numbers from 0 to 4)\n",
        "labels = km.fit_predict(X_sc)"
      ]
    },
    {
      "cell_type": "code",
      "execution_count": null,
      "metadata": {
        "colab": {
          "base_uri": "https://localhost:8080/",
          "height": 206
        },
        "id": "I6pGqqwlxzes",
        "outputId": "2db2a3c9-3f76-45f6-d87f-6a44c30fa7e5"
      },
      "outputs": [
        {
          "output_type": "execute_result",
          "data": {
            "text/plain": [
              "   cluster_km    gender  near_location   partner  promo_friends     phone  \\\n",
              "0           0  0.502970       0.959406  0.783168       0.574257  1.000000   \n",
              "1           1  0.522078       0.862338  0.470130       0.306494  0.000000   \n",
              "2           2  0.495050       0.000000  0.463366       0.079208  1.000000   \n",
              "3           3  0.485737       1.000000  0.350238       0.240095  1.000000   \n",
              "4           4  0.559666       0.976134  0.356802       0.230310  0.998807   \n",
              "\n",
              "   contract_period  group_visits        age  avg_additional_charges_total  \\\n",
              "0        10.889109      0.542574  29.982178                    160.761016   \n",
              "1         4.787013      0.425974  29.301299                    143.957664   \n",
              "2         2.352475      0.215842  28.477228                    135.457501   \n",
              "3         1.948494      0.341521  28.167987                    131.622204   \n",
              "4         2.669451      0.473747  30.125298                    161.657905   \n",
              "\n",
              "   month_to_end_contract  lifetime  avg_class_frequency_total  \\\n",
              "0               9.954455  4.736634                   1.982055   \n",
              "1               4.475325  3.924675                   1.847220   \n",
              "2               2.198020  2.809901                   1.660461   \n",
              "3               1.856577  2.440571                   1.247634   \n",
              "4               2.459427  4.898568                   2.852002   \n",
              "\n",
              "   avg_class_frequency_current_month  \n",
              "0                           1.974789  \n",
              "1                           1.716369  \n",
              "2                           1.477324  \n",
              "3                           1.012983  \n",
              "4                           2.850161  "
            ],
            "text/html": [
              "\n",
              "  <div id=\"df-104212e6-abba-445f-a7c3-9ae6a0eec708\">\n",
              "    <div class=\"colab-df-container\">\n",
              "      <div>\n",
              "<style scoped>\n",
              "    .dataframe tbody tr th:only-of-type {\n",
              "        vertical-align: middle;\n",
              "    }\n",
              "\n",
              "    .dataframe tbody tr th {\n",
              "        vertical-align: top;\n",
              "    }\n",
              "\n",
              "    .dataframe thead th {\n",
              "        text-align: right;\n",
              "    }\n",
              "</style>\n",
              "<table border=\"1\" class=\"dataframe\">\n",
              "  <thead>\n",
              "    <tr style=\"text-align: right;\">\n",
              "      <th></th>\n",
              "      <th>cluster_km</th>\n",
              "      <th>gender</th>\n",
              "      <th>near_location</th>\n",
              "      <th>partner</th>\n",
              "      <th>promo_friends</th>\n",
              "      <th>phone</th>\n",
              "      <th>contract_period</th>\n",
              "      <th>group_visits</th>\n",
              "      <th>age</th>\n",
              "      <th>avg_additional_charges_total</th>\n",
              "      <th>month_to_end_contract</th>\n",
              "      <th>lifetime</th>\n",
              "      <th>avg_class_frequency_total</th>\n",
              "      <th>avg_class_frequency_current_month</th>\n",
              "    </tr>\n",
              "  </thead>\n",
              "  <tbody>\n",
              "    <tr>\n",
              "      <th>0</th>\n",
              "      <td>0</td>\n",
              "      <td>0.502970</td>\n",
              "      <td>0.959406</td>\n",
              "      <td>0.783168</td>\n",
              "      <td>0.574257</td>\n",
              "      <td>1.000000</td>\n",
              "      <td>10.889109</td>\n",
              "      <td>0.542574</td>\n",
              "      <td>29.982178</td>\n",
              "      <td>160.761016</td>\n",
              "      <td>9.954455</td>\n",
              "      <td>4.736634</td>\n",
              "      <td>1.982055</td>\n",
              "      <td>1.974789</td>\n",
              "    </tr>\n",
              "    <tr>\n",
              "      <th>1</th>\n",
              "      <td>1</td>\n",
              "      <td>0.522078</td>\n",
              "      <td>0.862338</td>\n",
              "      <td>0.470130</td>\n",
              "      <td>0.306494</td>\n",
              "      <td>0.000000</td>\n",
              "      <td>4.787013</td>\n",
              "      <td>0.425974</td>\n",
              "      <td>29.301299</td>\n",
              "      <td>143.957664</td>\n",
              "      <td>4.475325</td>\n",
              "      <td>3.924675</td>\n",
              "      <td>1.847220</td>\n",
              "      <td>1.716369</td>\n",
              "    </tr>\n",
              "    <tr>\n",
              "      <th>2</th>\n",
              "      <td>2</td>\n",
              "      <td>0.495050</td>\n",
              "      <td>0.000000</td>\n",
              "      <td>0.463366</td>\n",
              "      <td>0.079208</td>\n",
              "      <td>1.000000</td>\n",
              "      <td>2.352475</td>\n",
              "      <td>0.215842</td>\n",
              "      <td>28.477228</td>\n",
              "      <td>135.457501</td>\n",
              "      <td>2.198020</td>\n",
              "      <td>2.809901</td>\n",
              "      <td>1.660461</td>\n",
              "      <td>1.477324</td>\n",
              "    </tr>\n",
              "    <tr>\n",
              "      <th>3</th>\n",
              "      <td>3</td>\n",
              "      <td>0.485737</td>\n",
              "      <td>1.000000</td>\n",
              "      <td>0.350238</td>\n",
              "      <td>0.240095</td>\n",
              "      <td>1.000000</td>\n",
              "      <td>1.948494</td>\n",
              "      <td>0.341521</td>\n",
              "      <td>28.167987</td>\n",
              "      <td>131.622204</td>\n",
              "      <td>1.856577</td>\n",
              "      <td>2.440571</td>\n",
              "      <td>1.247634</td>\n",
              "      <td>1.012983</td>\n",
              "    </tr>\n",
              "    <tr>\n",
              "      <th>4</th>\n",
              "      <td>4</td>\n",
              "      <td>0.559666</td>\n",
              "      <td>0.976134</td>\n",
              "      <td>0.356802</td>\n",
              "      <td>0.230310</td>\n",
              "      <td>0.998807</td>\n",
              "      <td>2.669451</td>\n",
              "      <td>0.473747</td>\n",
              "      <td>30.125298</td>\n",
              "      <td>161.657905</td>\n",
              "      <td>2.459427</td>\n",
              "      <td>4.898568</td>\n",
              "      <td>2.852002</td>\n",
              "      <td>2.850161</td>\n",
              "    </tr>\n",
              "  </tbody>\n",
              "</table>\n",
              "</div>\n",
              "      <button class=\"colab-df-convert\" onclick=\"convertToInteractive('df-104212e6-abba-445f-a7c3-9ae6a0eec708')\"\n",
              "              title=\"Convert this dataframe to an interactive table.\"\n",
              "              style=\"display:none;\">\n",
              "        \n",
              "  <svg xmlns=\"http://www.w3.org/2000/svg\" height=\"24px\"viewBox=\"0 0 24 24\"\n",
              "       width=\"24px\">\n",
              "    <path d=\"M0 0h24v24H0V0z\" fill=\"none\"/>\n",
              "    <path d=\"M18.56 5.44l.94 2.06.94-2.06 2.06-.94-2.06-.94-.94-2.06-.94 2.06-2.06.94zm-11 1L8.5 8.5l.94-2.06 2.06-.94-2.06-.94L8.5 2.5l-.94 2.06-2.06.94zm10 10l.94 2.06.94-2.06 2.06-.94-2.06-.94-.94-2.06-.94 2.06-2.06.94z\"/><path d=\"M17.41 7.96l-1.37-1.37c-.4-.4-.92-.59-1.43-.59-.52 0-1.04.2-1.43.59L10.3 9.45l-7.72 7.72c-.78.78-.78 2.05 0 2.83L4 21.41c.39.39.9.59 1.41.59.51 0 1.02-.2 1.41-.59l7.78-7.78 2.81-2.81c.8-.78.8-2.07 0-2.86zM5.41 20L4 18.59l7.72-7.72 1.47 1.35L5.41 20z\"/>\n",
              "  </svg>\n",
              "      </button>\n",
              "      \n",
              "  <style>\n",
              "    .colab-df-container {\n",
              "      display:flex;\n",
              "      flex-wrap:wrap;\n",
              "      gap: 12px;\n",
              "    }\n",
              "\n",
              "    .colab-df-convert {\n",
              "      background-color: #E8F0FE;\n",
              "      border: none;\n",
              "      border-radius: 50%;\n",
              "      cursor: pointer;\n",
              "      display: none;\n",
              "      fill: #1967D2;\n",
              "      height: 32px;\n",
              "      padding: 0 0 0 0;\n",
              "      width: 32px;\n",
              "    }\n",
              "\n",
              "    .colab-df-convert:hover {\n",
              "      background-color: #E2EBFA;\n",
              "      box-shadow: 0px 1px 2px rgba(60, 64, 67, 0.3), 0px 1px 3px 1px rgba(60, 64, 67, 0.15);\n",
              "      fill: #174EA6;\n",
              "    }\n",
              "\n",
              "    [theme=dark] .colab-df-convert {\n",
              "      background-color: #3B4455;\n",
              "      fill: #D2E3FC;\n",
              "    }\n",
              "\n",
              "    [theme=dark] .colab-df-convert:hover {\n",
              "      background-color: #434B5C;\n",
              "      box-shadow: 0px 1px 3px 1px rgba(0, 0, 0, 0.15);\n",
              "      filter: drop-shadow(0px 1px 2px rgba(0, 0, 0, 0.3));\n",
              "      fill: #FFFFFF;\n",
              "    }\n",
              "  </style>\n",
              "\n",
              "      <script>\n",
              "        const buttonEl =\n",
              "          document.querySelector('#df-104212e6-abba-445f-a7c3-9ae6a0eec708 button.colab-df-convert');\n",
              "        buttonEl.style.display =\n",
              "          google.colab.kernel.accessAllowed ? 'block' : 'none';\n",
              "\n",
              "        async function convertToInteractive(key) {\n",
              "          const element = document.querySelector('#df-104212e6-abba-445f-a7c3-9ae6a0eec708');\n",
              "          const dataTable =\n",
              "            await google.colab.kernel.invokeFunction('convertToInteractive',\n",
              "                                                     [key], {});\n",
              "          if (!dataTable) return;\n",
              "\n",
              "          const docLinkHtml = 'Like what you see? Visit the ' +\n",
              "            '<a target=\"_blank\" href=https://colab.research.google.com/notebooks/data_table.ipynb>data table notebook</a>'\n",
              "            + ' to learn more about interactive tables.';\n",
              "          element.innerHTML = '';\n",
              "          dataTable['output_type'] = 'display_data';\n",
              "          await google.colab.output.renderOutput(dataTable, element);\n",
              "          const docLink = document.createElement('div');\n",
              "          docLink.innerHTML = docLinkHtml;\n",
              "          element.appendChild(docLink);\n",
              "        }\n",
              "      </script>\n",
              "    </div>\n",
              "  </div>\n",
              "  "
            ]
          },
          "metadata": {},
          "execution_count": 27
        }
      ],
      "source": [
        "# Saving the cluster labels in our dataset\n",
        "X['cluster_km'] = labels\n",
        "# Displaying the statistics for the average feature values per cluster\n",
        "X_mean = X.groupby('cluster_km').mean().reset_index()\n",
        "X_mean"
      ]
    },
    {
      "cell_type": "markdown",
      "metadata": {
        "id": "K-4ZRWrRxzes"
      },
      "source": [
        "<b>Among the clusters identified by the K-means algorithm, we can highlight specific clusters for customers:\n",
        "\n",
        "- Cluster 2: Customers who live outside the fitness center's area\n",
        "- Cluster 1: Customers without a phone number\n",
        "- Cluster 0: Customers with long-term active memberships and corresponding time until expiration (average of 10.9 months and 10 months, respectively) <b>"
      ]
    },
    {
      "cell_type": "code",
      "execution_count": null,
      "metadata": {
        "colab": {
          "base_uri": "https://localhost:8080/",
          "height": 1000
        },
        "id": "8XnYYli5xzet",
        "outputId": "2b902efe-8d27-4a5c-f0f5-fc99fe7c5280"
      },
      "outputs": [
        {
          "output_type": "display_data",
          "data": {
            "text/plain": [
              "<Figure size 800x1800 with 14 Axes>"
            ],
            "image/png": "[encoded data removed]"
          },
          "metadata": {}
        }
      ],
      "source": [
        "# Plotting histograms of feature distributions for churned and retained customers\n",
        "fig, ax = plt.subplots(7, 2, figsize=(8, 18))\n",
        "for position, column in zip(grid, data_plot_columns):\n",
        "    sns.distplot(X.query('cluster_km == 0')[column], label='0', ax=ax[position])\n",
        "    sns.distplot(X.query('cluster_km == 1')[column], label = '1', ax=ax[position])\n",
        "    sns.distplot(X.query('cluster_km == 2')[column], label = '2', ax=ax[position])\n",
        "    sns.distplot(X.query('cluster_km == 3')[column], label = '3', ax=ax[position])\n",
        "    sns.distplot(X.query('cluster_km == 4')[column], label = '4', ax=ax[position])\n",
        "    ax[position].legend(fontsize=8)\n",
        "plt.suptitle('Feature Distribution Charts', y=0.9)\n",
        "plt.show()"
      ]
    },
    {
      "cell_type": "code",
      "execution_count": null,
      "metadata": {
        "colab": {
          "base_uri": "https://localhost:8080/",
          "height": 206
        },
        "id": "gIKZ-D1exzet",
        "outputId": "ca125bd2-149a-4b2f-a720-26f01887dedb"
      },
      "outputs": [
        {
          "output_type": "execute_result",
          "data": {
            "text/plain": [
              "   cluster_km  count\n",
              "3           3   1262\n",
              "0           0   1010\n",
              "4           4    838\n",
              "2           2    505\n",
              "1           1    385"
            ],
            "text/html": [
              "\n",
              "  <div id=\"df-31e10d84-3335-4777-9534-5cb878fe0d03\">\n",
              "    <div class=\"colab-df-container\">\n",
              "      <div>\n",
              "<style scoped>\n",
              "    .dataframe tbody tr th:only-of-type {\n",
              "        vertical-align: middle;\n",
              "    }\n",
              "\n",
              "    .dataframe tbody tr th {\n",
              "        vertical-align: top;\n",
              "    }\n",
              "\n",
              "    .dataframe thead th {\n",
              "        text-align: right;\n",
              "    }\n",
              "</style>\n",
              "<table border=\"1\" class=\"dataframe\">\n",
              "  <thead>\n",
              "    <tr style=\"text-align: right;\">\n",
              "      <th></th>\n",
              "      <th>cluster_km</th>\n",
              "      <th>count</th>\n",
              "    </tr>\n",
              "  </thead>\n",
              "  <tbody>\n",
              "    <tr>\n",
              "      <th>3</th>\n",
              "      <td>3</td>\n",
              "      <td>1262</td>\n",
              "    </tr>\n",
              "    <tr>\n",
              "      <th>0</th>\n",
              "      <td>0</td>\n",
              "      <td>1010</td>\n",
              "    </tr>\n",
              "    <tr>\n",
              "      <th>4</th>\n",
              "      <td>4</td>\n",
              "      <td>838</td>\n",
              "    </tr>\n",
              "    <tr>\n",
              "      <th>2</th>\n",
              "      <td>2</td>\n",
              "      <td>505</td>\n",
              "    </tr>\n",
              "    <tr>\n",
              "      <th>1</th>\n",
              "      <td>1</td>\n",
              "      <td>385</td>\n",
              "    </tr>\n",
              "  </tbody>\n",
              "</table>\n",
              "</div>\n",
              "      <button class=\"colab-df-convert\" onclick=\"convertToInteractive('df-31e10d84-3335-4777-9534-5cb878fe0d03')\"\n",
              "              title=\"Convert this dataframe to an interactive table.\"\n",
              "              style=\"display:none;\">\n",
              "        \n",
              "  <svg xmlns=\"http://www.w3.org/2000/svg\" height=\"24px\"viewBox=\"0 0 24 24\"\n",
              "       width=\"24px\">\n",
              "    <path d=\"M0 0h24v24H0V0z\" fill=\"none\"/>\n",
              "    <path d=\"M18.56 5.44l.94 2.06.94-2.06 2.06-.94-2.06-.94-.94-2.06-.94 2.06-2.06.94zm-11 1L8.5 8.5l.94-2.06 2.06-.94-2.06-.94L8.5 2.5l-.94 2.06-2.06.94zm10 10l.94 2.06.94-2.06 2.06-.94-2.06-.94-.94-2.06-.94 2.06-2.06.94z\"/><path d=\"M17.41 7.96l-1.37-1.37c-.4-.4-.92-.59-1.43-.59-.52 0-1.04.2-1.43.59L10.3 9.45l-7.72 7.72c-.78.78-.78 2.05 0 2.83L4 21.41c.39.39.9.59 1.41.59.51 0 1.02-.2 1.41-.59l7.78-7.78 2.81-2.81c.8-.78.8-2.07 0-2.86zM5.41 20L4 18.59l7.72-7.72 1.47 1.35L5.41 20z\"/>\n",
              "  </svg>\n",
              "      </button>\n",
              "      \n",
              "  <style>\n",
              "    .colab-df-container {\n",
              "      display:flex;\n",
              "      flex-wrap:wrap;\n",
              "      gap: 12px;\n",
              "    }\n",
              "\n",
              "    .colab-df-convert {\n",
              "      background-color: #E8F0FE;\n",
              "      border: none;\n",
              "      border-radius: 50%;\n",
              "      cursor: pointer;\n",
              "      display: none;\n",
              "      fill: #1967D2;\n",
              "      height: 32px;\n",
              "      padding: 0 0 0 0;\n",
              "      width: 32px;\n",
              "    }\n",
              "\n",
              "    .colab-df-convert:hover {\n",
              "      background-color: #E2EBFA;\n",
              "      box-shadow: 0px 1px 2px rgba(60, 64, 67, 0.3), 0px 1px 3px 1px rgba(60, 64, 67, 0.15);\n",
              "      fill: #174EA6;\n",
              "    }\n",
              "\n",
              "    [theme=dark] .colab-df-convert {\n",
              "      background-color: #3B4455;\n",
              "      fill: #D2E3FC;\n",
              "    }\n",
              "\n",
              "    [theme=dark] .colab-df-convert:hover {\n",
              "      background-color: #434B5C;\n",
              "      box-shadow: 0px 1px 3px 1px rgba(0, 0, 0, 0.15);\n",
              "      filter: drop-shadow(0px 1px 2px rgba(0, 0, 0, 0.3));\n",
              "      fill: #FFFFFF;\n",
              "    }\n",
              "  </style>\n",
              "\n",
              "      <script>\n",
              "        const buttonEl =\n",
              "          document.querySelector('#df-31e10d84-3335-4777-9534-5cb878fe0d03 button.colab-df-convert');\n",
              "        buttonEl.style.display =\n",
              "          google.colab.kernel.accessAllowed ? 'block' : 'none';\n",
              "\n",
              "        async function convertToInteractive(key) {\n",
              "          const element = document.querySelector('#df-31e10d84-3335-4777-9534-5cb878fe0d03');\n",
              "          const dataTable =\n",
              "            await google.colab.kernel.invokeFunction('convertToInteractive',\n",
              "                                                     [key], {});\n",
              "          if (!dataTable) return;\n",
              "\n",
              "          const docLinkHtml = 'Like what you see? Visit the ' +\n",
              "            '<a target=\"_blank\" href=https://colab.research.google.com/notebooks/data_table.ipynb>data table notebook</a>'\n",
              "            + ' to learn more about interactive tables.';\n",
              "          element.innerHTML = '';\n",
              "          dataTable['output_type'] = 'display_data';\n",
              "          await google.colab.output.renderOutput(dataTable, element);\n",
              "          const docLink = document.createElement('div');\n",
              "          docLink.innerHTML = docLinkHtml;\n",
              "          element.appendChild(docLink);\n",
              "        }\n",
              "      </script>\n",
              "    </div>\n",
              "  </div>\n",
              "  "
            ]
          },
          "metadata": {},
          "execution_count": 30
        }
      ],
      "source": [
        "cluster_count = X.groupby('cluster_km')['gender'].count().reset_index().sort_values('gender', ascending=False).rename(columns={'gender':'count'})\n",
        "cluster_count"
      ]
    },
    {
      "cell_type": "markdown",
      "metadata": {
        "id": "TbK7kOiDxzet"
      },
      "source": [
        "**After studying the feature distributions across clusters, we also observe that Cluster 0 has the highest percentage (78%) of partner customers, and it also has the highest number of customers who joined through the \"bring a friend\" promotion (57%).**\n",
        "\n",
        "**Age and gender are evenly distributed across clusters.**\n",
        "\n",
        "**The cluster sizes (number of customers in each cluster) vary. Cluster 3 is the largest with 1262 customers, while Cluster 1 is the smallest with 385 customers.**"
      ]
    },
    {
      "cell_type": "code",
      "execution_count": null,
      "metadata": {
        "colab": {
          "base_uri": "https://localhost:8080/"
        },
        "id": "eXmPKmOTxzet",
        "outputId": "4a7214aa-2327-4f22-eeba-be83ba4c4443"
      },
      "outputs": [
        {
          "output_type": "execute_result",
          "data": {
            "text/plain": [
              "cluster_km\n",
              "3    0.51\n",
              "2    0.44\n",
              "1    0.27\n",
              "4    0.07\n",
              "0    0.03\n",
              "Name: churn, dtype: float64"
            ]
          },
          "metadata": {},
          "execution_count": 31
        }
      ],
      "source": [
        "# Adding a column with clusters to the original table\n",
        "df['cluster_km'] = labels\n",
        "# Grouping by clusters and calculating the average churn rate\n",
        "churn_cluster = df.groupby('cluster_km')['churn'].mean().round(2)\n",
        "churn_cluster.sort_values(ascending=False)"
      ]
    },
    {
      "cell_type": "code",
      "execution_count": null,
      "metadata": {
        "colab": {
          "base_uri": "https://localhost:8080/",
          "height": 488
        },
        "id": "I-klb-mfxzeu",
        "outputId": "ea9b2f81-1e77-4513-fd45-fad2b1c64910"
      },
      "outputs": [
        {
          "output_type": "execute_result",
          "data": {
            "text/plain": [
              "    cluster_km  contract_period  count   sum  part\n",
              "0            0                6    187  1010  0.19\n",
              "1            0               12    823  1010  0.81\n",
              "2            1                1    205   385  0.53\n",
              "3            1                6     87   385  0.23\n",
              "4            1               12     93   385  0.24\n",
              "5            2                1    390   505  0.77\n",
              "6            2                6     97   505  0.19\n",
              "7            2               12     18   505  0.04\n",
              "8            3                1   1031  1262  0.82\n",
              "9            3                6    224  1262  0.18\n",
              "10           3               12      7  1262  0.01\n",
              "11           4                1    581   838  0.69\n",
              "12           4                6    238   838  0.28\n",
              "13           4               12     19   838  0.02"
            ],
            "text/html": [
              "\n",
              "  <div id=\"df-4d2ea71a-cfa4-4fd6-87d8-8df2a4303ad1\">\n",
              "    <div class=\"colab-df-container\">\n",
              "      <div>\n",
              "<style scoped>\n",
              "    .dataframe tbody tr th:only-of-type {\n",
              "        vertical-align: middle;\n",
              "    }\n",
              "\n",
              "    .dataframe tbody tr th {\n",
              "        vertical-align: top;\n",
              "    }\n",
              "\n",
              "    .dataframe thead th {\n",
              "        text-align: right;\n",
              "    }\n",
              "</style>\n",
              "<table border=\"1\" class=\"dataframe\">\n",
              "  <thead>\n",
              "    <tr style=\"text-align: right;\">\n",
              "      <th></th>\n",
              "      <th>cluster_km</th>\n",
              "      <th>contract_period</th>\n",
              "      <th>count</th>\n",
              "      <th>sum</th>\n",
              "      <th>part</th>\n",
              "    </tr>\n",
              "  </thead>\n",
              "  <tbody>\n",
              "    <tr>\n",
              "      <th>0</th>\n",
              "      <td>0</td>\n",
              "      <td>6</td>\n",
              "      <td>187</td>\n",
              "      <td>1010</td>\n",
              "      <td>0.19</td>\n",
              "    </tr>\n",
              "    <tr>\n",
              "      <th>1</th>\n",
              "      <td>0</td>\n",
              "      <td>12</td>\n",
              "      <td>823</td>\n",
              "      <td>1010</td>\n",
              "      <td>0.81</td>\n",
              "    </tr>\n",
              "    <tr>\n",
              "      <th>2</th>\n",
              "      <td>1</td>\n",
              "      <td>1</td>\n",
              "      <td>205</td>\n",
              "      <td>385</td>\n",
              "      <td>0.53</td>\n",
              "    </tr>\n",
              "    <tr>\n",
              "      <th>3</th>\n",
              "      <td>1</td>\n",
              "      <td>6</td>\n",
              "      <td>87</td>\n",
              "      <td>385</td>\n",
              "      <td>0.23</td>\n",
              "    </tr>\n",
              "    <tr>\n",
              "      <th>4</th>\n",
              "      <td>1</td>\n",
              "      <td>12</td>\n",
              "      <td>93</td>\n",
              "      <td>385</td>\n",
              "      <td>0.24</td>\n",
              "    </tr>\n",
              "    <tr>\n",
              "      <th>5</th>\n",
              "      <td>2</td>\n",
              "      <td>1</td>\n",
              "      <td>390</td>\n",
              "      <td>505</td>\n",
              "      <td>0.77</td>\n",
              "    </tr>\n",
              "    <tr>\n",
              "      <th>6</th>\n",
              "      <td>2</td>\n",
              "      <td>6</td>\n",
              "      <td>97</td>\n",
              "      <td>505</td>\n",
              "      <td>0.19</td>\n",
              "    </tr>\n",
              "    <tr>\n",
              "      <th>7</th>\n",
              "      <td>2</td>\n",
              "      <td>12</td>\n",
              "      <td>18</td>\n",
              "      <td>505</td>\n",
              "      <td>0.04</td>\n",
              "    </tr>\n",
              "    <tr>\n",
              "      <th>8</th>\n",
              "      <td>3</td>\n",
              "      <td>1</td>\n",
              "      <td>1031</td>\n",
              "      <td>1262</td>\n",
              "      <td>0.82</td>\n",
              "    </tr>\n",
              "    <tr>\n",
              "      <th>9</th>\n",
              "      <td>3</td>\n",
              "      <td>6</td>\n",
              "      <td>224</td>\n",
              "      <td>1262</td>\n",
              "      <td>0.18</td>\n",
              "    </tr>\n",
              "    <tr>\n",
              "      <th>10</th>\n",
              "      <td>3</td>\n",
              "      <td>12</td>\n",
              "      <td>7</td>\n",
              "      <td>1262</td>\n",
              "      <td>0.01</td>\n",
              "    </tr>\n",
              "    <tr>\n",
              "      <th>11</th>\n",
              "      <td>4</td>\n",
              "      <td>1</td>\n",
              "      <td>581</td>\n",
              "      <td>838</td>\n",
              "      <td>0.69</td>\n",
              "    </tr>\n",
              "    <tr>\n",
              "      <th>12</th>\n",
              "      <td>4</td>\n",
              "      <td>6</td>\n",
              "      <td>238</td>\n",
              "      <td>838</td>\n",
              "      <td>0.28</td>\n",
              "    </tr>\n",
              "    <tr>\n",
              "      <th>13</th>\n",
              "      <td>4</td>\n",
              "      <td>12</td>\n",
              "      <td>19</td>\n",
              "      <td>838</td>\n",
              "      <td>0.02</td>\n",
              "    </tr>\n",
              "  </tbody>\n",
              "</table>\n",
              "</div>\n",
              "      <button class=\"colab-df-convert\" onclick=\"convertToInteractive('df-4d2ea71a-cfa4-4fd6-87d8-8df2a4303ad1')\"\n",
              "              title=\"Convert this dataframe to an interactive table.\"\n",
              "              style=\"display:none;\">\n",
              "        \n",
              "  <svg xmlns=\"http://www.w3.org/2000/svg\" height=\"24px\"viewBox=\"0 0 24 24\"\n",
              "       width=\"24px\">\n",
              "    <path d=\"M0 0h24v24H0V0z\" fill=\"none\"/>\n",
              "    <path d=\"M18.56 5.44l.94 2.06.94-2.06 2.06-.94-2.06-.94-.94-2.06-.94 2.06-2.06.94zm-11 1L8.5 8.5l.94-2.06 2.06-.94-2.06-.94L8.5 2.5l-.94 2.06-2.06.94zm10 10l.94 2.06.94-2.06 2.06-.94-2.06-.94-.94-2.06-.94 2.06-2.06.94z\"/><path d=\"M17.41 7.96l-1.37-1.37c-.4-.4-.92-.59-1.43-.59-.52 0-1.04.2-1.43.59L10.3 9.45l-7.72 7.72c-.78.78-.78 2.05 0 2.83L4 21.41c.39.39.9.59 1.41.59.51 0 1.02-.2 1.41-.59l7.78-7.78 2.81-2.81c.8-.78.8-2.07 0-2.86zM5.41 20L4 18.59l7.72-7.72 1.47 1.35L5.41 20z\"/>\n",
              "  </svg>\n",
              "      </button>\n",
              "      \n",
              "  <style>\n",
              "    .colab-df-container {\n",
              "      display:flex;\n",
              "      flex-wrap:wrap;\n",
              "      gap: 12px;\n",
              "    }\n",
              "\n",
              "    .colab-df-convert {\n",
              "      background-color: #E8F0FE;\n",
              "      border: none;\n",
              "      border-radius: 50%;\n",
              "      cursor: pointer;\n",
              "      display: none;\n",
              "      fill: #1967D2;\n",
              "      height: 32px;\n",
              "      padding: 0 0 0 0;\n",
              "      width: 32px;\n",
              "    }\n",
              "\n",
              "    .colab-df-convert:hover {\n",
              "      background-color: #E2EBFA;\n",
              "      box-shadow: 0px 1px 2px rgba(60, 64, 67, 0.3), 0px 1px 3px 1px rgba(60, 64, 67, 0.15);\n",
              "      fill: #174EA6;\n",
              "    }\n",
              "\n",
              "    [theme=dark] .colab-df-convert {\n",
              "      background-color: #3B4455;\n",
              "      fill: #D2E3FC;\n",
              "    }\n",
              "\n",
              "    [theme=dark] .colab-df-convert:hover {\n",
              "      background-color: #434B5C;\n",
              "      box-shadow: 0px 1px 3px 1px rgba(0, 0, 0, 0.15);\n",
              "      filter: drop-shadow(0px 1px 2px rgba(0, 0, 0, 0.3));\n",
              "      fill: #FFFFFF;\n",
              "    }\n",
              "  </style>\n",
              "\n",
              "      <script>\n",
              "        const buttonEl =\n",
              "          document.querySelector('#df-4d2ea71a-cfa4-4fd6-87d8-8df2a4303ad1 button.colab-df-convert');\n",
              "        buttonEl.style.display =\n",
              "          google.colab.kernel.accessAllowed ? 'block' : 'none';\n",
              "\n",
              "        async function convertToInteractive(key) {\n",
              "          const element = document.querySelector('#df-4d2ea71a-cfa4-4fd6-87d8-8df2a4303ad1');\n",
              "          const dataTable =\n",
              "            await google.colab.kernel.invokeFunction('convertToInteractive',\n",
              "                                                     [key], {});\n",
              "          if (!dataTable) return;\n",
              "\n",
              "          const docLinkHtml = 'Like what you see? Visit the ' +\n",
              "            '<a target=\"_blank\" href=https://colab.research.google.com/notebooks/data_table.ipynb>data table notebook</a>'\n",
              "            + ' to learn more about interactive tables.';\n",
              "          element.innerHTML = '';\n",
              "          dataTable['output_type'] = 'display_data';\n",
              "          await google.colab.output.renderOutput(dataTable, element);\n",
              "          const docLink = document.createElement('div');\n",
              "          docLink.innerHTML = docLinkHtml;\n",
              "          element.appendChild(docLink);\n",
              "        }\n",
              "      </script>\n",
              "    </div>\n",
              "  </div>\n",
              "  "
            ]
          },
          "metadata": {},
          "execution_count": 32
        }
      ],
      "source": [
        "# Creating a table with the count of customers with a specific contract period\n",
        "df_contract_period_group = X.groupby(['cluster_km','contract_period'])['gender'].count().reset_index().rename(columns={'gender':'count'})\n",
        "# Calculating the proportion of customers with a specific contract period in their cluster\n",
        "df_contract_period_group = df_contract_period_group.merge(cluster_count, on='cluster_km').rename(columns={'count_x':'count', 'count_y':'sum'})\n",
        "df_contract_period_group['part'] = (df_contract_period_group['count'] / df_contract_period_group['sum']).round(2)\n",
        "df_contract_period_group"
      ]
    },
    {
      "cell_type": "code",
      "execution_count": null,
      "metadata": {
        "scrolled": true,
        "colab": {
          "base_uri": "https://localhost:8080/",
          "height": 206
        },
        "id": "vybCs51axzev",
        "outputId": "d8f345f8-79ef-4385-a93e-096d3a76060d"
      },
      "outputs": [
        {
          "output_type": "execute_result",
          "data": {
            "text/plain": [
              "   cluster_km    gender  near_location   partner  promo_friends     phone  \\\n",
              "0           0  0.502970       0.959406  0.783168       0.574257  1.000000   \n",
              "1           1  0.522078       0.862338  0.470130       0.306494  0.000000   \n",
              "2           2  0.495050       0.000000  0.463366       0.079208  1.000000   \n",
              "3           3  0.485737       1.000000  0.350238       0.240095  1.000000   \n",
              "4           4  0.559666       0.976134  0.356802       0.230310  0.998807   \n",
              "\n",
              "   contract_period  group_visits        age  avg_additional_charges_total  \\\n",
              "0        10.889109      0.542574  29.982178                    160.761016   \n",
              "1         4.787013      0.425974  29.301299                    143.957664   \n",
              "2         2.352475      0.215842  28.477228                    135.457501   \n",
              "3         1.948494      0.341521  28.167987                    131.622204   \n",
              "4         2.669451      0.473747  30.125298                    161.657905   \n",
              "\n",
              "   month_to_end_contract  lifetime  avg_class_frequency_total  \\\n",
              "0               9.954455  4.736634                   1.982055   \n",
              "1               4.475325  3.924675                   1.847220   \n",
              "2               2.198020  2.809901                   1.660461   \n",
              "3               1.856577  2.440571                   1.247634   \n",
              "4               2.459427  4.898568                   2.852002   \n",
              "\n",
              "   avg_class_frequency_current_month  \n",
              "0                           1.974789  \n",
              "1                           1.716369  \n",
              "2                           1.477324  \n",
              "3                           1.012983  \n",
              "4                           2.850161  "
            ],
            "text/html": [
              "\n",
              "  <div id=\"df-4e5cf197-f6a8-4573-b2cf-3c8c3eac10f6\">\n",
              "    <div class=\"colab-df-container\">\n",
              "      <div>\n",
              "<style scoped>\n",
              "    .dataframe tbody tr th:only-of-type {\n",
              "        vertical-align: middle;\n",
              "    }\n",
              "\n",
              "    .dataframe tbody tr th {\n",
              "        vertical-align: top;\n",
              "    }\n",
              "\n",
              "    .dataframe thead th {\n",
              "        text-align: right;\n",
              "    }\n",
              "</style>\n",
              "<table border=\"1\" class=\"dataframe\">\n",
              "  <thead>\n",
              "    <tr style=\"text-align: right;\">\n",
              "      <th></th>\n",
              "      <th>cluster_km</th>\n",
              "      <th>gender</th>\n",
              "      <th>near_location</th>\n",
              "      <th>partner</th>\n",
              "      <th>promo_friends</th>\n",
              "      <th>phone</th>\n",
              "      <th>contract_period</th>\n",
              "      <th>group_visits</th>\n",
              "      <th>age</th>\n",
              "      <th>avg_additional_charges_total</th>\n",
              "      <th>month_to_end_contract</th>\n",
              "      <th>lifetime</th>\n",
              "      <th>avg_class_frequency_total</th>\n",
              "      <th>avg_class_frequency_current_month</th>\n",
              "    </tr>\n",
              "  </thead>\n",
              "  <tbody>\n",
              "    <tr>\n",
              "      <th>0</th>\n",
              "      <td>0</td>\n",
              "      <td>0.502970</td>\n",
              "      <td>0.959406</td>\n",
              "      <td>0.783168</td>\n",
              "      <td>0.574257</td>\n",
              "      <td>1.000000</td>\n",
              "      <td>10.889109</td>\n",
              "      <td>0.542574</td>\n",
              "      <td>29.982178</td>\n",
              "      <td>160.761016</td>\n",
              "      <td>9.954455</td>\n",
              "      <td>4.736634</td>\n",
              "      <td>1.982055</td>\n",
              "      <td>1.974789</td>\n",
              "    </tr>\n",
              "    <tr>\n",
              "      <th>1</th>\n",
              "      <td>1</td>\n",
              "      <td>0.522078</td>\n",
              "      <td>0.862338</td>\n",
              "      <td>0.470130</td>\n",
              "      <td>0.306494</td>\n",
              "      <td>0.000000</td>\n",
              "      <td>4.787013</td>\n",
              "      <td>0.425974</td>\n",
              "      <td>29.301299</td>\n",
              "      <td>143.957664</td>\n",
              "      <td>4.475325</td>\n",
              "      <td>3.924675</td>\n",
              "      <td>1.847220</td>\n",
              "      <td>1.716369</td>\n",
              "    </tr>\n",
              "    <tr>\n",
              "      <th>2</th>\n",
              "      <td>2</td>\n",
              "      <td>0.495050</td>\n",
              "      <td>0.000000</td>\n",
              "      <td>0.463366</td>\n",
              "      <td>0.079208</td>\n",
              "      <td>1.000000</td>\n",
              "      <td>2.352475</td>\n",
              "      <td>0.215842</td>\n",
              "      <td>28.477228</td>\n",
              "      <td>135.457501</td>\n",
              "      <td>2.198020</td>\n",
              "      <td>2.809901</td>\n",
              "      <td>1.660461</td>\n",
              "      <td>1.477324</td>\n",
              "    </tr>\n",
              "    <tr>\n",
              "      <th>3</th>\n",
              "      <td>3</td>\n",
              "      <td>0.485737</td>\n",
              "      <td>1.000000</td>\n",
              "      <td>0.350238</td>\n",
              "      <td>0.240095</td>\n",
              "      <td>1.000000</td>\n",
              "      <td>1.948494</td>\n",
              "      <td>0.341521</td>\n",
              "      <td>28.167987</td>\n",
              "      <td>131.622204</td>\n",
              "      <td>1.856577</td>\n",
              "      <td>2.440571</td>\n",
              "      <td>1.247634</td>\n",
              "      <td>1.012983</td>\n",
              "    </tr>\n",
              "    <tr>\n",
              "      <th>4</th>\n",
              "      <td>4</td>\n",
              "      <td>0.559666</td>\n",
              "      <td>0.976134</td>\n",
              "      <td>0.356802</td>\n",
              "      <td>0.230310</td>\n",
              "      <td>0.998807</td>\n",
              "      <td>2.669451</td>\n",
              "      <td>0.473747</td>\n",
              "      <td>30.125298</td>\n",
              "      <td>161.657905</td>\n",
              "      <td>2.459427</td>\n",
              "      <td>4.898568</td>\n",
              "      <td>2.852002</td>\n",
              "      <td>2.850161</td>\n",
              "    </tr>\n",
              "  </tbody>\n",
              "</table>\n",
              "</div>\n",
              "      <button class=\"colab-df-convert\" onclick=\"convertToInteractive('df-4e5cf197-f6a8-4573-b2cf-3c8c3eac10f6')\"\n",
              "              title=\"Convert this dataframe to an interactive table.\"\n",
              "              style=\"display:none;\">\n",
              "        \n",
              "  <svg xmlns=\"http://www.w3.org/2000/svg\" height=\"24px\"viewBox=\"0 0 24 24\"\n",
              "       width=\"24px\">\n",
              "    <path d=\"M0 0h24v24H0V0z\" fill=\"none\"/>\n",
              "    <path d=\"M18.56 5.44l.94 2.06.94-2.06 2.06-.94-2.06-.94-.94-2.06-.94 2.06-2.06.94zm-11 1L8.5 8.5l.94-2.06 2.06-.94-2.06-.94L8.5 2.5l-.94 2.06-2.06.94zm10 10l.94 2.06.94-2.06 2.06-.94-2.06-.94-.94-2.06-.94 2.06-2.06.94z\"/><path d=\"M17.41 7.96l-1.37-1.37c-.4-.4-.92-.59-1.43-.59-.52 0-1.04.2-1.43.59L10.3 9.45l-7.72 7.72c-.78.78-.78 2.05 0 2.83L4 21.41c.39.39.9.59 1.41.59.51 0 1.02-.2 1.41-.59l7.78-7.78 2.81-2.81c.8-.78.8-2.07 0-2.86zM5.41 20L4 18.59l7.72-7.72 1.47 1.35L5.41 20z\"/>\n",
              "  </svg>\n",
              "      </button>\n",
              "      \n",
              "  <style>\n",
              "    .colab-df-container {\n",
              "      display:flex;\n",
              "      flex-wrap:wrap;\n",
              "      gap: 12px;\n",
              "    }\n",
              "\n",
              "    .colab-df-convert {\n",
              "      background-color: #E8F0FE;\n",
              "      border: none;\n",
              "      border-radius: 50%;\n",
              "      cursor: pointer;\n",
              "      display: none;\n",
              "      fill: #1967D2;\n",
              "      height: 32px;\n",
              "      padding: 0 0 0 0;\n",
              "      width: 32px;\n",
              "    }\n",
              "\n",
              "    .colab-df-convert:hover {\n",
              "      background-color: #E2EBFA;\n",
              "      box-shadow: 0px 1px 2px rgba(60, 64, 67, 0.3), 0px 1px 3px 1px rgba(60, 64, 67, 0.15);\n",
              "      fill: #174EA6;\n",
              "    }\n",
              "\n",
              "    [theme=dark] .colab-df-convert {\n",
              "      background-color: #3B4455;\n",
              "      fill: #D2E3FC;\n",
              "    }\n",
              "\n",
              "    [theme=dark] .colab-df-convert:hover {\n",
              "      background-color: #434B5C;\n",
              "      box-shadow: 0px 1px 3px 1px rgba(0, 0, 0, 0.15);\n",
              "      filter: drop-shadow(0px 1px 2px rgba(0, 0, 0, 0.3));\n",
              "      fill: #FFFFFF;\n",
              "    }\n",
              "  </style>\n",
              "\n",
              "      <script>\n",
              "        const buttonEl =\n",
              "          document.querySelector('#df-4e5cf197-f6a8-4573-b2cf-3c8c3eac10f6 button.colab-df-convert');\n",
              "        buttonEl.style.display =\n",
              "          google.colab.kernel.accessAllowed ? 'block' : 'none';\n",
              "\n",
              "        async function convertToInteractive(key) {\n",
              "          const element = document.querySelector('#df-4e5cf197-f6a8-4573-b2cf-3c8c3eac10f6');\n",
              "          const dataTable =\n",
              "            await google.colab.kernel.invokeFunction('convertToInteractive',\n",
              "                                                     [key], {});\n",
              "          if (!dataTable) return;\n",
              "\n",
              "          const docLinkHtml = 'Like what you see? Visit the ' +\n",
              "            '<a target=\"_blank\" href=https://colab.research.google.com/notebooks/data_table.ipynb>data table notebook</a>'\n",
              "            + ' to learn more about interactive tables.';\n",
              "          element.innerHTML = '';\n",
              "          dataTable['output_type'] = 'display_data';\n",
              "          await google.colab.output.renderOutput(dataTable, element);\n",
              "          const docLink = document.createElement('div');\n",
              "          docLink.innerHTML = docLinkHtml;\n",
              "          element.appendChild(docLink);\n",
              "        }\n",
              "      </script>\n",
              "    </div>\n",
              "  </div>\n",
              "  "
            ]
          },
          "metadata": {},
          "execution_count": 33
        }
      ],
      "source": [
        "# Average feature values per cluster\n",
        "X_mean"
      ]
    },
    {
      "cell_type": "markdown",
      "metadata": {
        "id": "lKVawj4xxzev"
      },
      "source": [
        "<b> Clusters 3 and 2 are the most prone to churn, with churn rates of 51% and 44% respectively.  <br>Interestingly, these groups exhibit polar values in terms of proximity to the fitness center: customers in cluster 3 are located near the fitness center, while customers in cluster 2 are outside the area. Therefore, it can be concluded that this factor does not have a significant impact on churn.\n",
        "\n",
        "<br>These clusters can be characterized as follows:\n",
        "\n",
        "- Low values for the duration of the active membership and the remaining time until expiration (mostly opt for a monthly membership).\n",
        "- Lowest proportion of group class attendance (rarely participate in group classes).\n",
        "- Low expenditure on additional fitness center services (rarely utilize additional services, averaging up to 140 USD).\n",
        "- Low values of lifetime (relatively recent members, within 3 months).\n",
        "- Low values of visit frequency to the fitness center, with a decrease in the last month (average of 1-2 visits per week and a slight decline in the last month).    <br> <b>"
      ]
    },
    {
      "cell_type": "markdown",
      "metadata": {
        "id": "Hfu8OYGIxzev"
      },
      "source": [
        "<b>On the other hand, customers from clusters 0 and 4 are the most reliable, with churn rates of 3% and 7% respectively.\n",
        "\n",
        "Key characteristics of these clusters include:\n",
        "\n",
        "- Highest proportion of group class attendance (around 50% of the group members participate in group classes).\n",
        "- High expenditure on additional fitness center services (averaging around 160 USD).\n",
        "- High values of lifetime (members attend the center for an average of 5 months).\n",
        "- High visit frequency to the fitness center, with consistent values in the last month (average of 2-3 visits per week and no decline in the last month).\n",
        "\n",
        "Cluster 0 is characterized by a high proportion of long-term memberships (mostly opting for annual memberships). Cluster 4, although not having such long memberships, has a higher proportion of customers opting for 6-month memberships compared to the churn-prone clusters.</b>"
      ]
    },
    {
      "cell_type": "markdown",
      "metadata": {
        "id": "FQ6OoYMjxzev"
      },
      "source": [
        "## Conclusions and Recommendations:"
      ]
    },
    {
      "cell_type": "markdown",
      "metadata": {
        "id": "voUPsuRsxzew"
      },
      "source": [
        "The main factors influencing churn can be identified as follows:\n",
        "\n",
        "<b>1. Time since the first visit (lifetime) up to 3 months.\n",
        "<br><br> 2. Low visit frequency and a decrease in frequency in the last month.\n",
        "<br><br> 3. Low expenditure on additional fitness center services.\n",
        "<br><br></b>\n",
        "\n",
        "Based on this, the following recommendations can be made:\n",
        "\n",
        "<b>1. Pay more attention to customers who have been attending the fitness center for less than 3 months. </b>\n",
        "<br><br>For example, promote longer memberships to provide customers with financial motivation to continue their fitness journey. In our dataset, there are no 3-month memberships available. However, offering a 3-month membership option might make it easier for customers to decide compared to a 6-month membership, while still allowing them to form a habit of regular visits within 3 months.\n",
        "<br><br>\n",
        "<b>2. Encourage more frequent visits to the fitness center and take additional measures when visit frequency decreases.</b>\n",
        "<br><br>For example, send reminders and motivational messages via messaging platforms or provide additional incentives for those who visit on weekdays, not just weekends. It may also be beneficial to offer a discount on future memberships when visit frequency decreases.\n",
        "<br><br>\n",
        "<b>3. Encourage customers to spend more on additional fitness center services.</b>\n",
        "<br><br>For instance, offer energizing post-workout cocktails or actively promote the benefits of massage and cosmetic procedures in helping customers achieve their fitness goals (weight loss, overall health, injury prevention).<br>"
      ]
    }
  ],
  "metadata": {
    "ExecuteTimeLog": [
      {
        "duration": 1271,
        "start_time": "2021-11-22T07:56:00.474Z"
      },
      {
        "duration": 36,
        "start_time": "2021-11-22T07:56:04.699Z"
      },
      {
        "duration": 9,
        "start_time": "2021-11-22T07:56:33.128Z"
      },
      {
        "duration": 47,
        "start_time": "2021-11-22T08:02:34.935Z"
      },
      {
        "duration": 9,
        "start_time": "2021-11-22T08:11:59.293Z"
      },
      {
        "duration": 14,
        "start_time": "2021-11-22T08:22:45.979Z"
      },
      {
        "duration": 16,
        "start_time": "2021-11-22T09:04:16.925Z"
      },
      {
        "duration": 3,
        "start_time": "2021-11-22T09:15:51.964Z"
      },
      {
        "duration": 19,
        "start_time": "2021-11-22T09:25:02.896Z"
      },
      {
        "duration": 15,
        "start_time": "2021-11-22T09:25:14.748Z"
      },
      {
        "duration": 210,
        "start_time": "2021-11-22T09:27:25.168Z"
      },
      {
        "duration": 209,
        "start_time": "2021-11-22T09:27:33.467Z"
      },
      {
        "duration": 217,
        "start_time": "2021-11-22T09:28:09.994Z"
      },
      {
        "duration": 349,
        "start_time": "2021-11-22T09:28:22.359Z"
      },
      {
        "duration": 716,
        "start_time": "2021-11-22T09:28:29.168Z"
      },
      {
        "duration": 221,
        "start_time": "2021-11-22T09:28:40.520Z"
      },
      {
        "duration": 234,
        "start_time": "2021-11-22T09:29:12.792Z"
      },
      {
        "duration": 4,
        "start_time": "2021-11-22T09:36:57.279Z"
      },
      {
        "duration": 6,
        "start_time": "2021-11-22T09:37:01.773Z"
      },
      {
        "duration": 4069,
        "start_time": "2021-11-22T09:41:01.478Z"
      },
      {
        "duration": 4059,
        "start_time": "2021-11-22T09:42:51.060Z"
      },
      {
        "duration": 1526,
        "start_time": "2021-11-22T09:43:40.223Z"
      },
      {
        "duration": 2152,
        "start_time": "2021-11-22T09:50:54.216Z"
      },
      {
        "duration": 1781,
        "start_time": "2021-11-22T09:51:03.925Z"
      },
      {
        "duration": 3702,
        "start_time": "2021-11-22T09:51:24.700Z"
      },
      {
        "duration": 3621,
        "start_time": "2021-11-22T09:51:46.693Z"
      },
      {
        "duration": 5233,
        "start_time": "2021-11-22T09:53:36.461Z"
      },
      {
        "duration": 5739,
        "start_time": "2021-11-22T09:54:03.893Z"
      },
      {
        "duration": 4302,
        "start_time": "2021-11-22T10:07:24.378Z"
      },
      {
        "duration": 693,
        "start_time": "2021-11-22T10:08:41.652Z"
      },
      {
        "duration": 822,
        "start_time": "2021-11-22T10:10:06.514Z"
      },
      {
        "duration": 435,
        "start_time": "2021-11-22T10:10:30.810Z"
      },
      {
        "duration": 643,
        "start_time": "2021-11-22T10:11:05.058Z"
      },
      {
        "duration": 634,
        "start_time": "2021-11-22T10:11:58.641Z"
      },
      {
        "duration": 950,
        "start_time": "2021-11-22T10:12:17.617Z"
      },
      {
        "duration": 633,
        "start_time": "2021-11-22T10:12:30.857Z"
      },
      {
        "duration": 722,
        "start_time": "2021-11-22T10:13:48.256Z"
      },
      {
        "duration": 632,
        "start_time": "2021-11-22T10:14:55.648Z"
      },
      {
        "duration": 634,
        "start_time": "2021-11-22T10:15:51.744Z"
      },
      {
        "duration": 640,
        "start_time": "2021-11-22T10:18:17.304Z"
      },
      {
        "duration": 996,
        "start_time": "2021-11-22T10:19:13.856Z"
      },
      {
        "duration": 987,
        "start_time": "2021-11-22T10:19:23.409Z"
      },
      {
        "duration": 793,
        "start_time": "2021-11-22T10:21:02.505Z"
      },
      {
        "duration": 631,
        "start_time": "2021-11-22T10:23:55.503Z"
      },
      {
        "duration": 1223,
        "start_time": "2021-11-22T10:25:26.662Z"
      },
      {
        "duration": 1087,
        "start_time": "2021-11-22T10:25:32.766Z"
      },
      {
        "duration": 597,
        "start_time": "2021-11-22T10:25:39.718Z"
      },
      {
        "duration": 748,
        "start_time": "2021-11-22T10:25:48.214Z"
      },
      {
        "duration": 1031,
        "start_time": "2021-11-22T10:26:46.815Z"
      },
      {
        "duration": 638,
        "start_time": "2021-11-22T10:26:54.253Z"
      },
      {
        "duration": 2692,
        "start_time": "2021-11-22T10:27:51.760Z"
      },
      {
        "duration": 646,
        "start_time": "2021-11-22T10:28:09.111Z"
      },
      {
        "duration": 861,
        "start_time": "2021-11-22T10:28:44.358Z"
      },
      {
        "duration": 834,
        "start_time": "2021-11-22T10:29:01.286Z"
      },
      {
        "duration": 2294,
        "start_time": "2021-11-22T10:29:13.526Z"
      },
      {
        "duration": 992,
        "start_time": "2021-11-22T10:29:55.760Z"
      },
      {
        "duration": 851,
        "start_time": "2021-11-22T10:30:07.559Z"
      },
      {
        "duration": 766,
        "start_time": "2021-11-22T10:30:28.560Z"
      },
      {
        "duration": 3470,
        "start_time": "2021-11-22T10:31:17.214Z"
      },
      {
        "duration": 4092,
        "start_time": "2021-11-22T10:31:30.760Z"
      },
      {
        "duration": 4412,
        "start_time": "2021-11-22T10:31:50.164Z"
      },
      {
        "duration": 4340,
        "start_time": "2021-11-22T10:34:59.329Z"
      },
      {
        "duration": 309,
        "start_time": "2021-11-22T13:27:04.998Z"
      },
      {
        "duration": 346,
        "start_time": "2021-11-22T13:27:26.594Z"
      },
      {
        "duration": 348,
        "start_time": "2021-11-22T13:27:41.526Z"
      },
      {
        "duration": 477,
        "start_time": "2021-11-22T13:29:01.273Z"
      },
      {
        "duration": 306,
        "start_time": "2021-11-22T13:29:13.427Z"
      },
      {
        "duration": 191,
        "start_time": "2021-11-22T13:29:38.344Z"
      },
      {
        "duration": 224,
        "start_time": "2021-11-22T13:30:13.578Z"
      },
      {
        "duration": 232,
        "start_time": "2021-11-22T13:30:36.120Z"
      },
      {
        "duration": 293,
        "start_time": "2021-11-22T13:31:41.690Z"
      },
      {
        "duration": 315,
        "start_time": "2021-11-22T13:31:55.888Z"
      },
      {
        "duration": 1315,
        "start_time": "2021-11-22T13:35:06.248Z"
      },
      {
        "duration": 1159,
        "start_time": "2021-11-22T13:35:13.392Z"
      },
      {
        "duration": 1115,
        "start_time": "2021-11-22T13:35:20.055Z"
      },
      {
        "duration": 1172,
        "start_time": "2021-11-22T13:35:41.855Z"
      },
      {
        "duration": 354,
        "start_time": "2021-11-22T13:36:09.612Z"
      },
      {
        "duration": 1697,
        "start_time": "2021-11-22T13:36:18.851Z"
      },
      {
        "duration": 1560,
        "start_time": "2021-11-22T13:36:46.351Z"
      },
      {
        "duration": 4231,
        "start_time": "2021-11-22T13:37:23.537Z"
      },
      {
        "duration": 4369,
        "start_time": "2021-11-22T13:38:35.184Z"
      },
      {
        "duration": 1961,
        "start_time": "2021-11-22T13:39:51.351Z"
      },
      {
        "duration": 1455,
        "start_time": "2021-11-22T13:40:03.519Z"
      },
      {
        "duration": 125,
        "start_time": "2021-11-22T13:43:21.310Z"
      },
      {
        "duration": 4397,
        "start_time": "2021-11-22T13:43:26.205Z"
      },
      {
        "duration": 4431,
        "start_time": "2021-11-22T13:43:37.197Z"
      },
      {
        "duration": 1574,
        "start_time": "2021-11-22T13:45:15.053Z"
      },
      {
        "duration": 381,
        "start_time": "2021-11-22T13:56:44.155Z"
      },
      {
        "duration": 4560,
        "start_time": "2021-11-22T13:56:51.317Z"
      },
      {
        "duration": 1360,
        "start_time": "2021-11-22T13:59:40.938Z"
      },
      {
        "duration": 1175,
        "start_time": "2021-11-23T07:38:00.435Z"
      },
      {
        "duration": 33,
        "start_time": "2021-11-23T07:38:01.612Z"
      },
      {
        "duration": 6,
        "start_time": "2021-11-23T07:38:01.647Z"
      },
      {
        "duration": 9,
        "start_time": "2021-11-23T07:38:01.654Z"
      },
      {
        "duration": 27,
        "start_time": "2021-11-23T07:38:01.665Z"
      },
      {
        "duration": 49,
        "start_time": "2021-11-23T07:38:01.693Z"
      },
      {
        "duration": 15,
        "start_time": "2021-11-23T07:38:01.743Z"
      },
      {
        "duration": 7,
        "start_time": "2021-11-23T07:38:01.761Z"
      },
      {
        "duration": 3985,
        "start_time": "2021-11-23T07:38:01.770Z"
      },
      {
        "duration": 1377,
        "start_time": "2021-11-23T07:38:05.757Z"
      },
      {
        "duration": 18,
        "start_time": "2021-11-23T09:01:55.292Z"
      },
      {
        "duration": 58,
        "start_time": "2021-11-23T09:02:21.318Z"
      },
      {
        "duration": 74,
        "start_time": "2021-11-23T09:02:24.549Z"
      },
      {
        "duration": 7,
        "start_time": "2021-11-23T09:02:29.773Z"
      },
      {
        "duration": 12,
        "start_time": "2021-11-23T09:16:08.906Z"
      },
      {
        "duration": 289,
        "start_time": "2021-11-23T09:16:11.431Z"
      },
      {
        "duration": 128,
        "start_time": "2021-11-23T09:19:36.338Z"
      },
      {
        "duration": 4,
        "start_time": "2021-11-23T09:20:09.519Z"
      },
      {
        "duration": 4,
        "start_time": "2021-11-23T09:20:14.618Z"
      },
      {
        "duration": 4,
        "start_time": "2021-11-23T09:20:22.720Z"
      },
      {
        "duration": 788,
        "start_time": "2021-11-23T09:20:29.382Z"
      },
      {
        "duration": 4,
        "start_time": "2021-11-23T09:21:16.985Z"
      },
      {
        "duration": 769,
        "start_time": "2021-11-23T09:21:20.486Z"
      },
      {
        "duration": 4,
        "start_time": "2021-11-23T09:22:22.783Z"
      },
      {
        "duration": 517,
        "start_time": "2021-11-23T09:22:26.359Z"
      },
      {
        "duration": 3,
        "start_time": "2021-11-23T09:23:57.415Z"
      },
      {
        "duration": 1333,
        "start_time": "2021-11-23T09:24:01.158Z"
      },
      {
        "duration": 3,
        "start_time": "2021-11-23T09:24:37.006Z"
      },
      {
        "duration": 1812,
        "start_time": "2021-11-23T09:24:39.712Z"
      },
      {
        "duration": 4,
        "start_time": "2021-11-23T09:24:55.286Z"
      },
      {
        "duration": 3,
        "start_time": "2021-11-23T09:25:03.498Z"
      },
      {
        "duration": 1533,
        "start_time": "2021-11-23T09:25:11.518Z"
      },
      {
        "duration": 3,
        "start_time": "2021-11-23T09:25:25.078Z"
      },
      {
        "duration": 1611,
        "start_time": "2021-11-23T09:25:28.033Z"
      },
      {
        "duration": 4,
        "start_time": "2021-11-23T09:41:08.642Z"
      },
      {
        "duration": 1813,
        "start_time": "2021-11-23T09:41:25.387Z"
      },
      {
        "duration": 4,
        "start_time": "2021-11-23T09:41:38.130Z"
      },
      {
        "duration": 3,
        "start_time": "2021-11-23T12:39:59.163Z"
      },
      {
        "duration": 1580,
        "start_time": "2021-11-23T12:40:02.352Z"
      },
      {
        "duration": 4,
        "start_time": "2021-11-23T12:40:18.721Z"
      },
      {
        "duration": 1359,
        "start_time": "2021-11-23T12:40:21.277Z"
      },
      {
        "duration": 4,
        "start_time": "2021-11-23T12:40:35.349Z"
      },
      {
        "duration": 1500,
        "start_time": "2021-11-23T12:40:39.807Z"
      },
      {
        "duration": 3,
        "start_time": "2021-11-23T12:40:48.446Z"
      },
      {
        "duration": 1484,
        "start_time": "2021-11-23T12:40:51.853Z"
      },
      {
        "duration": 4,
        "start_time": "2021-11-23T12:41:09.341Z"
      },
      {
        "duration": 1609,
        "start_time": "2021-11-23T12:41:11.552Z"
      },
      {
        "duration": 5,
        "start_time": "2021-11-23T12:41:30.982Z"
      },
      {
        "duration": 2140,
        "start_time": "2021-11-23T12:41:36.766Z"
      },
      {
        "duration": 4,
        "start_time": "2021-11-23T12:41:47.148Z"
      },
      {
        "duration": 3449,
        "start_time": "2021-11-23T12:41:49.404Z"
      },
      {
        "duration": 4,
        "start_time": "2021-11-23T12:42:05.126Z"
      },
      {
        "duration": 3367,
        "start_time": "2021-11-23T12:42:07.457Z"
      },
      {
        "duration": 3,
        "start_time": "2021-11-23T12:42:16.165Z"
      },
      {
        "duration": 3557,
        "start_time": "2021-11-23T12:42:20.894Z"
      },
      {
        "duration": 3,
        "start_time": "2021-11-23T12:42:28.877Z"
      },
      {
        "duration": 3364,
        "start_time": "2021-11-23T12:42:31.643Z"
      },
      {
        "duration": 3,
        "start_time": "2021-11-23T12:43:37.831Z"
      },
      {
        "duration": 3,
        "start_time": "2021-11-23T12:43:46.135Z"
      },
      {
        "duration": 577,
        "start_time": "2021-11-23T12:43:52.429Z"
      },
      {
        "duration": 4,
        "start_time": "2021-11-23T12:44:40.077Z"
      },
      {
        "duration": 589,
        "start_time": "2021-11-23T12:44:42.352Z"
      },
      {
        "duration": 3,
        "start_time": "2021-11-23T12:45:02.110Z"
      },
      {
        "duration": 637,
        "start_time": "2021-11-23T12:45:04.033Z"
      },
      {
        "duration": 3,
        "start_time": "2021-11-23T12:45:46.302Z"
      },
      {
        "duration": 3199,
        "start_time": "2021-11-23T12:45:48.663Z"
      },
      {
        "duration": 4,
        "start_time": "2021-11-23T12:46:02.863Z"
      },
      {
        "duration": 3316,
        "start_time": "2021-11-23T12:46:04.758Z"
      },
      {
        "duration": 4,
        "start_time": "2021-11-23T12:46:20.037Z"
      },
      {
        "duration": 3326,
        "start_time": "2021-11-23T12:46:22.685Z"
      },
      {
        "duration": 4,
        "start_time": "2021-11-23T12:46:40.205Z"
      },
      {
        "duration": 3320,
        "start_time": "2021-11-23T12:46:42.541Z"
      },
      {
        "duration": 4,
        "start_time": "2021-11-23T12:46:52.029Z"
      },
      {
        "duration": 3429,
        "start_time": "2021-11-23T12:46:54.301Z"
      },
      {
        "duration": 194,
        "start_time": "2021-11-23T12:53:43.901Z"
      },
      {
        "duration": 2623,
        "start_time": "2021-11-23T12:53:47.892Z"
      },
      {
        "duration": 10,
        "start_time": "2021-11-23T12:53:52.398Z"
      },
      {
        "duration": 17,
        "start_time": "2021-11-23T12:55:29.413Z"
      },
      {
        "duration": 5,
        "start_time": "2021-11-23T12:55:36.907Z"
      },
      {
        "duration": 191,
        "start_time": "2021-11-23T12:55:48.724Z"
      },
      {
        "duration": 186,
        "start_time": "2021-11-23T12:55:52.147Z"
      },
      {
        "duration": 4,
        "start_time": "2021-11-23T12:55:57.802Z"
      },
      {
        "duration": 230,
        "start_time": "2021-11-23T12:57:44.380Z"
      },
      {
        "duration": 194,
        "start_time": "2021-11-23T12:58:03.500Z"
      },
      {
        "duration": 6,
        "start_time": "2021-11-23T12:58:29.369Z"
      },
      {
        "duration": 195,
        "start_time": "2021-11-23T12:59:27.455Z"
      },
      {
        "duration": 188,
        "start_time": "2021-11-23T12:59:36.717Z"
      },
      {
        "duration": 204,
        "start_time": "2021-11-23T13:00:07.607Z"
      },
      {
        "duration": 10,
        "start_time": "2021-11-23T13:06:57.301Z"
      },
      {
        "duration": 62,
        "start_time": "2021-11-23T13:10:00.907Z"
      },
      {
        "duration": 10,
        "start_time": "2021-11-23T13:11:59.611Z"
      },
      {
        "duration": 13,
        "start_time": "2021-11-23T13:12:15.068Z"
      },
      {
        "duration": 4,
        "start_time": "2021-11-23T13:31:40.617Z"
      },
      {
        "duration": 90466,
        "start_time": "2021-11-23T13:31:45.464Z"
      },
      {
        "duration": 1182,
        "start_time": "2021-11-24T09:54:40.999Z"
      },
      {
        "duration": 60,
        "start_time": "2021-11-24T09:54:42.183Z"
      },
      {
        "duration": 7,
        "start_time": "2021-11-24T09:54:42.244Z"
      },
      {
        "duration": 8,
        "start_time": "2021-11-24T09:54:42.254Z"
      },
      {
        "duration": 12,
        "start_time": "2021-11-24T09:54:42.264Z"
      },
      {
        "duration": 52,
        "start_time": "2021-11-24T09:54:42.277Z"
      },
      {
        "duration": 7,
        "start_time": "2021-11-24T09:54:42.331Z"
      },
      {
        "duration": 17,
        "start_time": "2021-11-24T09:54:42.340Z"
      },
      {
        "duration": 7,
        "start_time": "2021-11-24T09:54:42.359Z"
      },
      {
        "duration": 4018,
        "start_time": "2021-11-24T09:54:42.368Z"
      },
      {
        "duration": 1362,
        "start_time": "2021-11-24T09:54:46.391Z"
      },
      {
        "duration": 11,
        "start_time": "2021-11-24T09:54:47.754Z"
      },
      {
        "duration": 3,
        "start_time": "2021-11-24T09:54:47.767Z"
      },
      {
        "duration": 28,
        "start_time": "2021-11-24T09:54:47.772Z"
      },
      {
        "duration": 3766,
        "start_time": "2021-11-24T09:54:47.801Z"
      },
      {
        "duration": 2799,
        "start_time": "2021-11-24T09:54:51.568Z"
      },
      {
        "duration": 12,
        "start_time": "2021-11-24T09:54:54.369Z"
      },
      {
        "duration": 91363,
        "start_time": "2021-11-24T09:54:54.391Z"
      },
      {
        "duration": 81,
        "start_time": "2021-11-24T09:56:33.434Z"
      },
      {
        "duration": 1142,
        "start_time": "2021-11-24T09:58:55.363Z"
      },
      {
        "duration": 18,
        "start_time": "2021-11-24T10:02:51.857Z"
      },
      {
        "duration": 5812,
        "start_time": "2021-11-24T13:41:23.796Z"
      },
      {
        "duration": 9,
        "start_time": "2021-11-24T13:55:37.894Z"
      },
      {
        "duration": 9,
        "start_time": "2021-11-24T13:56:36.035Z"
      },
      {
        "duration": 11,
        "start_time": "2021-11-24T13:57:51.995Z"
      },
      {
        "duration": 61,
        "start_time": "2021-11-24T13:58:56.441Z"
      },
      {
        "duration": 65,
        "start_time": "2021-11-24T13:59:07.618Z"
      },
      {
        "duration": 67,
        "start_time": "2021-11-24T13:59:17.913Z"
      },
      {
        "duration": 10,
        "start_time": "2021-11-24T13:59:32.825Z"
      },
      {
        "duration": 2294,
        "start_time": "2021-11-25T09:55:23.665Z"
      },
      {
        "duration": 44,
        "start_time": "2021-11-25T09:55:25.962Z"
      },
      {
        "duration": 11,
        "start_time": "2021-11-25T09:55:26.009Z"
      },
      {
        "duration": 36,
        "start_time": "2021-11-25T09:55:26.023Z"
      },
      {
        "duration": 20,
        "start_time": "2021-11-25T09:55:26.062Z"
      },
      {
        "duration": 97,
        "start_time": "2021-11-25T09:55:26.085Z"
      },
      {
        "duration": 12,
        "start_time": "2021-11-25T09:55:26.185Z"
      },
      {
        "duration": 27,
        "start_time": "2021-11-25T09:55:26.202Z"
      },
      {
        "duration": 36,
        "start_time": "2021-11-25T09:55:26.232Z"
      },
      {
        "duration": 6609,
        "start_time": "2021-11-25T09:55:26.270Z"
      },
      {
        "duration": 2262,
        "start_time": "2021-11-25T09:55:32.881Z"
      },
      {
        "duration": 23,
        "start_time": "2021-11-25T09:55:35.145Z"
      },
      {
        "duration": 4,
        "start_time": "2021-11-25T09:55:35.170Z"
      },
      {
        "duration": 9,
        "start_time": "2021-11-25T09:55:35.176Z"
      },
      {
        "duration": 5292,
        "start_time": "2021-11-25T09:55:35.188Z"
      },
      {
        "duration": 4282,
        "start_time": "2021-11-25T09:55:40.482Z"
      },
      {
        "duration": 17,
        "start_time": "2021-11-25T09:55:44.766Z"
      },
      {
        "duration": 141809,
        "start_time": "2021-11-25T09:55:44.785Z"
      },
      {
        "duration": 1771,
        "start_time": "2021-11-25T09:58:06.598Z"
      },
      {
        "duration": 33,
        "start_time": "2021-11-25T09:58:08.460Z"
      },
      {
        "duration": 9480,
        "start_time": "2021-11-25T09:58:08.496Z"
      },
      {
        "duration": 16,
        "start_time": "2021-11-25T09:58:17.978Z"
      },
      {
        "duration": 9,
        "start_time": "2021-11-25T09:58:28.140Z"
      },
      {
        "duration": 10,
        "start_time": "2021-11-25T09:58:52.616Z"
      },
      {
        "duration": 10,
        "start_time": "2021-11-25T09:59:03.776Z"
      },
      {
        "duration": 10,
        "start_time": "2021-11-25T10:00:52.590Z"
      },
      {
        "duration": 12,
        "start_time": "2021-11-25T10:11:38.728Z"
      },
      {
        "duration": 12,
        "start_time": "2021-11-25T10:11:46.015Z"
      },
      {
        "duration": 13,
        "start_time": "2021-11-25T10:24:32.758Z"
      },
      {
        "duration": 13,
        "start_time": "2021-11-25T10:24:47.532Z"
      },
      {
        "duration": 13,
        "start_time": "2021-11-25T10:25:00.524Z"
      },
      {
        "duration": 12,
        "start_time": "2021-11-25T10:25:27.101Z"
      },
      {
        "duration": 19,
        "start_time": "2021-11-25T10:28:46.827Z"
      },
      {
        "duration": 22,
        "start_time": "2021-11-25T11:24:22.087Z"
      },
      {
        "duration": 18,
        "start_time": "2021-11-25T11:38:15.504Z"
      },
      {
        "duration": 525,
        "start_time": "2021-11-25T11:49:24.633Z"
      },
      {
        "duration": 9,
        "start_time": "2021-11-25T11:49:32.800Z"
      },
      {
        "duration": 12,
        "start_time": "2021-11-25T11:50:56.464Z"
      },
      {
        "duration": 11,
        "start_time": "2021-11-25T11:51:03.994Z"
      },
      {
        "duration": 413,
        "start_time": "2021-11-25T11:51:33.066Z"
      },
      {
        "duration": 34,
        "start_time": "2021-11-25T11:52:00.210Z"
      },
      {
        "duration": 385,
        "start_time": "2021-11-25T11:52:07.034Z"
      },
      {
        "duration": 10,
        "start_time": "2021-11-25T11:52:10.488Z"
      },
      {
        "duration": 439,
        "start_time": "2021-11-25T11:52:23.833Z"
      },
      {
        "duration": 10,
        "start_time": "2021-11-25T11:52:32.146Z"
      },
      {
        "duration": 9,
        "start_time": "2021-11-25T11:52:48.070Z"
      },
      {
        "duration": 131,
        "start_time": "2021-11-25T11:53:12.280Z"
      },
      {
        "duration": 11,
        "start_time": "2021-11-25T11:53:18.016Z"
      },
      {
        "duration": 11,
        "start_time": "2021-11-25T11:54:00.408Z"
      },
      {
        "duration": 15,
        "start_time": "2021-11-25T11:54:49.800Z"
      },
      {
        "duration": 14,
        "start_time": "2021-11-25T11:54:58.749Z"
      },
      {
        "duration": 17,
        "start_time": "2021-11-25T11:55:12.755Z"
      },
      {
        "duration": 16,
        "start_time": "2021-11-25T11:55:23.872Z"
      },
      {
        "duration": 12,
        "start_time": "2021-11-25T12:00:42.440Z"
      },
      {
        "duration": 19,
        "start_time": "2021-11-25T12:00:49.329Z"
      },
      {
        "duration": 17,
        "start_time": "2021-11-25T12:01:25.648Z"
      },
      {
        "duration": 20,
        "start_time": "2021-11-25T12:01:46.440Z"
      },
      {
        "duration": 22,
        "start_time": "2021-11-25T12:02:17.905Z"
      },
      {
        "duration": 16,
        "start_time": "2021-11-25T12:19:27.397Z"
      },
      {
        "duration": 18,
        "start_time": "2021-11-25T12:23:24.421Z"
      },
      {
        "duration": 24,
        "start_time": "2021-11-25T12:23:38.900Z"
      },
      {
        "duration": 24,
        "start_time": "2021-11-25T12:24:19.613Z"
      },
      {
        "duration": 30,
        "start_time": "2021-11-25T12:24:52.551Z"
      },
      {
        "duration": 26,
        "start_time": "2021-11-25T12:25:06.661Z"
      },
      {
        "duration": 314,
        "start_time": "2021-11-25T12:27:05.237Z"
      },
      {
        "duration": 364,
        "start_time": "2021-11-25T12:27:23.422Z"
      },
      {
        "duration": 366,
        "start_time": "2021-11-25T12:28:43.269Z"
      },
      {
        "duration": 1613,
        "start_time": "2021-11-25T13:34:18.089Z"
      },
      {
        "duration": 47,
        "start_time": "2021-11-25T13:34:19.705Z"
      },
      {
        "duration": 11,
        "start_time": "2021-11-25T13:34:19.759Z"
      },
      {
        "duration": 17,
        "start_time": "2021-11-25T13:34:19.773Z"
      },
      {
        "duration": 25,
        "start_time": "2021-11-25T13:34:19.793Z"
      },
      {
        "duration": 99,
        "start_time": "2021-11-25T13:34:19.821Z"
      },
      {
        "duration": 10,
        "start_time": "2021-11-25T13:34:19.924Z"
      },
      {
        "duration": 43,
        "start_time": "2021-11-25T13:34:19.936Z"
      },
      {
        "duration": 15,
        "start_time": "2021-11-25T13:34:19.985Z"
      },
      {
        "duration": 7190,
        "start_time": "2021-11-25T13:34:20.004Z"
      },
      {
        "duration": 2184,
        "start_time": "2021-11-25T13:34:27.198Z"
      },
      {
        "duration": 19,
        "start_time": "2021-11-25T13:34:29.385Z"
      },
      {
        "duration": 6,
        "start_time": "2021-11-25T13:34:29.407Z"
      },
      {
        "duration": 14,
        "start_time": "2021-11-25T13:34:29.415Z"
      },
      {
        "duration": 5756,
        "start_time": "2021-11-25T13:34:29.432Z"
      },
      {
        "duration": 4451,
        "start_time": "2021-11-25T13:34:35.191Z"
      },
      {
        "duration": 24,
        "start_time": "2021-11-25T13:34:39.645Z"
      },
      {
        "duration": 147324,
        "start_time": "2021-11-25T13:34:39.672Z"
      },
      {
        "duration": 2015,
        "start_time": "2021-11-25T13:37:06.999Z"
      },
      {
        "duration": 48,
        "start_time": "2021-11-25T13:37:09.017Z"
      },
      {
        "duration": 9841,
        "start_time": "2021-11-25T13:37:09.067Z"
      },
      {
        "duration": 18,
        "start_time": "2021-11-25T13:37:18.912Z"
      },
      {
        "duration": 14,
        "start_time": "2021-11-25T13:37:18.960Z"
      },
      {
        "duration": 40,
        "start_time": "2021-11-25T13:37:18.977Z"
      },
      {
        "duration": 51,
        "start_time": "2021-11-25T13:37:19.019Z"
      },
      {
        "duration": 1743,
        "start_time": "2021-11-25T13:41:11.221Z"
      },
      {
        "duration": 30,
        "start_time": "2021-11-25T13:41:14.772Z"
      },
      {
        "duration": 1907,
        "start_time": "2021-11-25T13:41:21.457Z"
      },
      {
        "duration": 29,
        "start_time": "2021-11-25T13:41:24.493Z"
      },
      {
        "duration": 1825,
        "start_time": "2021-11-25T13:41:28.148Z"
      },
      {
        "duration": 28,
        "start_time": "2021-11-25T13:41:31.462Z"
      },
      {
        "duration": 1508,
        "start_time": "2021-11-25T13:42:16.365Z"
      },
      {
        "duration": 27,
        "start_time": "2021-11-25T13:42:19.709Z"
      },
      {
        "duration": 1407,
        "start_time": "2021-11-25T13:42:33.061Z"
      },
      {
        "duration": 32,
        "start_time": "2021-11-25T13:42:36.836Z"
      },
      {
        "duration": 1517,
        "start_time": "2021-11-25T13:42:43.554Z"
      },
      {
        "duration": 25,
        "start_time": "2021-11-25T13:42:46.708Z"
      },
      {
        "duration": 1412,
        "start_time": "2021-11-25T13:43:50.354Z"
      },
      {
        "duration": 27,
        "start_time": "2021-11-25T13:43:53.078Z"
      },
      {
        "duration": 17,
        "start_time": "2021-11-25T13:44:32.292Z"
      },
      {
        "duration": 10261,
        "start_time": "2021-11-25T13:45:28.880Z"
      },
      {
        "duration": 1901,
        "start_time": "2021-11-25T13:46:42.159Z"
      },
      {
        "duration": 27,
        "start_time": "2021-11-25T13:46:50.581Z"
      },
      {
        "duration": 16,
        "start_time": "2021-11-25T13:46:58.660Z"
      },
      {
        "duration": 10,
        "start_time": "2021-11-25T13:47:23.109Z"
      },
      {
        "duration": 517,
        "start_time": "2021-11-25T13:48:11.906Z"
      },
      {
        "duration": 395,
        "start_time": "2021-11-25T13:48:18.748Z"
      },
      {
        "duration": 12,
        "start_time": "2021-11-25T13:48:35.651Z"
      },
      {
        "duration": 36,
        "start_time": "2021-11-25T13:48:43.932Z"
      },
      {
        "duration": 21,
        "start_time": "2021-11-25T13:48:54.923Z"
      },
      {
        "duration": 6,
        "start_time": "2021-11-25T13:51:33.256Z"
      },
      {
        "duration": 60,
        "start_time": "2021-11-25T13:51:33.265Z"
      },
      {
        "duration": 32,
        "start_time": "2021-11-25T13:51:33.329Z"
      },
      {
        "duration": 17,
        "start_time": "2021-11-25T13:51:33.364Z"
      },
      {
        "duration": 19,
        "start_time": "2021-11-25T13:51:33.383Z"
      },
      {
        "duration": 119,
        "start_time": "2021-11-25T13:51:33.404Z"
      },
      {
        "duration": 8,
        "start_time": "2021-11-25T13:51:33.526Z"
      },
      {
        "duration": 47,
        "start_time": "2021-11-25T13:51:33.536Z"
      },
      {
        "duration": 10,
        "start_time": "2021-11-25T13:51:33.585Z"
      },
      {
        "duration": 6378,
        "start_time": "2021-11-25T13:51:33.597Z"
      },
      {
        "duration": 1890,
        "start_time": "2021-11-25T13:51:39.978Z"
      },
      {
        "duration": 16,
        "start_time": "2021-11-25T13:51:41.871Z"
      },
      {
        "duration": 16,
        "start_time": "2021-11-25T13:51:41.889Z"
      },
      {
        "duration": 15,
        "start_time": "2021-11-25T13:51:41.907Z"
      },
      {
        "duration": 1544,
        "start_time": "2021-11-25T13:51:59.186Z"
      },
      {
        "duration": 45,
        "start_time": "2021-11-25T13:52:00.733Z"
      },
      {
        "duration": 12,
        "start_time": "2021-11-25T13:52:00.781Z"
      },
      {
        "duration": 28,
        "start_time": "2021-11-25T13:52:00.797Z"
      },
      {
        "duration": 33,
        "start_time": "2021-11-25T13:52:00.828Z"
      },
      {
        "duration": 71,
        "start_time": "2021-11-25T13:52:00.864Z"
      },
      {
        "duration": 10,
        "start_time": "2021-11-25T13:52:00.959Z"
      },
      {
        "duration": 31,
        "start_time": "2021-11-25T13:52:00.972Z"
      },
      {
        "duration": 12,
        "start_time": "2021-11-25T13:52:01.009Z"
      },
      {
        "duration": 6379,
        "start_time": "2021-11-25T13:52:01.024Z"
      },
      {
        "duration": 2090,
        "start_time": "2021-11-25T13:52:07.405Z"
      },
      {
        "duration": 16,
        "start_time": "2021-11-25T13:52:09.497Z"
      },
      {
        "duration": 4,
        "start_time": "2021-11-25T13:52:09.516Z"
      },
      {
        "duration": 8,
        "start_time": "2021-11-25T13:52:09.523Z"
      },
      {
        "duration": 5255,
        "start_time": "2021-11-25T13:52:09.560Z"
      },
      {
        "duration": 4433,
        "start_time": "2021-11-25T13:52:14.818Z"
      },
      {
        "duration": 19,
        "start_time": "2021-11-25T13:52:19.254Z"
      },
      {
        "duration": 137506,
        "start_time": "2021-11-25T13:52:19.276Z"
      },
      {
        "duration": 1778,
        "start_time": "2021-11-25T13:54:36.785Z"
      },
      {
        "duration": 29,
        "start_time": "2021-11-25T13:54:38.565Z"
      },
      {
        "duration": 9451,
        "start_time": "2021-11-25T13:54:38.597Z"
      },
      {
        "duration": 19,
        "start_time": "2021-11-25T13:54:48.051Z"
      },
      {
        "duration": 11,
        "start_time": "2021-11-25T13:54:48.073Z"
      },
      {
        "duration": 27,
        "start_time": "2021-11-25T13:54:48.086Z"
      },
      {
        "duration": 60,
        "start_time": "2021-11-25T13:54:48.116Z"
      },
      {
        "duration": 1212,
        "start_time": "2021-11-25T21:04:55.120Z"
      },
      {
        "duration": 35,
        "start_time": "2021-11-25T21:04:56.334Z"
      },
      {
        "duration": 7,
        "start_time": "2021-11-25T21:04:56.371Z"
      },
      {
        "duration": 10,
        "start_time": "2021-11-25T21:04:56.381Z"
      },
      {
        "duration": 16,
        "start_time": "2021-11-25T21:04:56.393Z"
      },
      {
        "duration": 70,
        "start_time": "2021-11-25T21:04:56.411Z"
      },
      {
        "duration": 6,
        "start_time": "2021-11-25T21:04:56.483Z"
      },
      {
        "duration": 19,
        "start_time": "2021-11-25T21:04:56.490Z"
      },
      {
        "duration": 8,
        "start_time": "2021-11-25T21:04:56.511Z"
      },
      {
        "duration": 5399,
        "start_time": "2021-11-25T21:04:56.521Z"
      },
      {
        "duration": 1663,
        "start_time": "2021-11-25T21:05:01.922Z"
      },
      {
        "duration": 11,
        "start_time": "2021-11-25T21:05:03.587Z"
      },
      {
        "duration": 27,
        "start_time": "2021-11-25T21:05:03.600Z"
      },
      {
        "duration": 12,
        "start_time": "2021-11-25T21:05:03.629Z"
      },
      {
        "duration": 3595,
        "start_time": "2021-11-25T21:05:03.643Z"
      },
      {
        "duration": 2826,
        "start_time": "2021-11-25T21:05:07.240Z"
      },
      {
        "duration": 13,
        "start_time": "2021-11-25T21:05:10.068Z"
      },
      {
        "duration": 80802,
        "start_time": "2021-11-25T21:05:10.083Z"
      },
      {
        "duration": 1875,
        "start_time": "2021-11-25T21:06:30.888Z"
      },
      {
        "duration": 20,
        "start_time": "2021-11-25T21:06:32.765Z"
      },
      {
        "duration": 5767,
        "start_time": "2021-11-25T21:06:32.786Z"
      },
      {
        "duration": 16,
        "start_time": "2021-11-25T21:06:38.555Z"
      },
      {
        "duration": 34,
        "start_time": "2021-11-25T21:06:38.573Z"
      },
      {
        "duration": 30,
        "start_time": "2021-11-25T21:06:38.609Z"
      },
      {
        "duration": 15,
        "start_time": "2021-11-25T21:06:38.640Z"
      },
      {
        "duration": 1060,
        "start_time": "2021-11-26T07:36:40.818Z"
      },
      {
        "duration": 32,
        "start_time": "2021-11-26T07:36:41.880Z"
      },
      {
        "duration": 6,
        "start_time": "2021-11-26T07:36:41.913Z"
      },
      {
        "duration": 9,
        "start_time": "2021-11-26T07:36:41.921Z"
      },
      {
        "duration": 10,
        "start_time": "2021-11-26T07:36:41.931Z"
      },
      {
        "duration": 37,
        "start_time": "2021-11-26T07:36:51.942Z"
      },
      {
        "duration": 38,
        "start_time": "2021-11-26T07:37:53.808Z"
      },
      {
        "duration": 36,
        "start_time": "2021-11-26T07:38:05.357Z"
      },
      {
        "duration": 3,
        "start_time": "2021-11-26T08:12:19.239Z"
      },
      {
        "duration": 32,
        "start_time": "2021-11-26T08:12:19.244Z"
      },
      {
        "duration": 6,
        "start_time": "2021-11-26T08:12:19.277Z"
      },
      {
        "duration": 8,
        "start_time": "2021-11-26T08:12:19.284Z"
      },
      {
        "duration": 9,
        "start_time": "2021-11-26T08:12:19.294Z"
      },
      {
        "duration": 37,
        "start_time": "2021-11-26T08:12:19.305Z"
      },
      {
        "duration": 5,
        "start_time": "2021-11-26T08:12:19.343Z"
      },
      {
        "duration": 14,
        "start_time": "2021-11-26T08:12:19.350Z"
      },
      {
        "duration": 25,
        "start_time": "2021-11-26T08:12:19.365Z"
      },
      {
        "duration": 3261,
        "start_time": "2021-11-26T08:12:19.391Z"
      },
      {
        "duration": 1303,
        "start_time": "2021-11-26T08:12:22.654Z"
      },
      {
        "duration": 11,
        "start_time": "2021-11-26T08:12:30.561Z"
      },
      {
        "duration": 3,
        "start_time": "2021-11-26T08:12:36.571Z"
      },
      {
        "duration": 3,
        "start_time": "2021-11-26T08:12:39.074Z"
      },
      {
        "duration": 4,
        "start_time": "2021-11-26T09:01:03.820Z"
      },
      {
        "duration": 51,
        "start_time": "2021-11-26T09:01:03.826Z"
      },
      {
        "duration": 5,
        "start_time": "2021-11-26T09:01:03.879Z"
      },
      {
        "duration": 21,
        "start_time": "2021-11-26T09:01:03.886Z"
      },
      {
        "duration": 27,
        "start_time": "2021-11-26T09:01:03.909Z"
      },
      {
        "duration": 39,
        "start_time": "2021-11-26T09:01:03.937Z"
      },
      {
        "duration": 5,
        "start_time": "2021-11-26T09:01:03.978Z"
      },
      {
        "duration": 25,
        "start_time": "2021-11-26T09:01:03.985Z"
      },
      {
        "duration": 18,
        "start_time": "2021-11-26T09:01:04.011Z"
      },
      {
        "duration": 3609,
        "start_time": "2021-11-26T09:01:04.030Z"
      },
      {
        "duration": 1202,
        "start_time": "2021-11-26T09:01:07.641Z"
      },
      {
        "duration": 11,
        "start_time": "2021-11-26T09:01:08.845Z"
      },
      {
        "duration": 3,
        "start_time": "2021-11-26T09:01:08.857Z"
      },
      {
        "duration": 10,
        "start_time": "2021-11-26T09:01:08.861Z"
      },
      {
        "duration": 667,
        "start_time": "2021-11-26T09:01:39.337Z"
      },
      {
        "duration": 4,
        "start_time": "2021-11-26T09:01:55.417Z"
      },
      {
        "duration": 526,
        "start_time": "2021-11-26T09:01:58.769Z"
      },
      {
        "duration": 4,
        "start_time": "2021-11-26T09:02:12.944Z"
      },
      {
        "duration": 550,
        "start_time": "2021-11-26T09:02:21.231Z"
      },
      {
        "duration": 4,
        "start_time": "2021-11-26T09:03:19.353Z"
      },
      {
        "duration": 3699,
        "start_time": "2021-11-26T09:03:26.961Z"
      },
      {
        "duration": 4,
        "start_time": "2021-11-26T09:04:19.330Z"
      },
      {
        "duration": 3510,
        "start_time": "2021-11-26T09:04:22.289Z"
      },
      {
        "duration": 2447,
        "start_time": "2021-11-26T09:12:30.857Z"
      },
      {
        "duration": 277,
        "start_time": "2021-11-26T09:12:35.688Z"
      },
      {
        "duration": 4,
        "start_time": "2021-11-26T09:13:51.319Z"
      },
      {
        "duration": 812,
        "start_time": "2021-11-26T09:14:01.248Z"
      },
      {
        "duration": 512,
        "start_time": "2021-11-26T09:15:13.128Z"
      },
      {
        "duration": 538,
        "start_time": "2021-11-26T09:15:19.095Z"
      },
      {
        "duration": 553,
        "start_time": "2021-11-26T09:15:53.024Z"
      },
      {
        "duration": 652,
        "start_time": "2021-11-26T09:15:58.207Z"
      },
      {
        "duration": 564,
        "start_time": "2021-11-26T09:16:01.437Z"
      },
      {
        "duration": 91,
        "start_time": "2021-11-26T09:17:27.098Z"
      },
      {
        "duration": 112,
        "start_time": "2021-11-26T09:17:39.532Z"
      },
      {
        "duration": 491,
        "start_time": "2021-11-26T09:17:50.391Z"
      },
      {
        "duration": 506,
        "start_time": "2021-11-26T09:18:14.016Z"
      },
      {
        "duration": 503,
        "start_time": "2021-11-26T09:25:08.312Z"
      },
      {
        "duration": 3,
        "start_time": "2021-11-26T09:25:37.230Z"
      },
      {
        "duration": 3333,
        "start_time": "2021-11-26T09:25:47.200Z"
      },
      {
        "duration": 2502,
        "start_time": "2021-11-26T09:26:03.814Z"
      },
      {
        "duration": 517,
        "start_time": "2021-11-26T09:27:20.198Z"
      },
      {
        "duration": 521,
        "start_time": "2021-11-26T09:28:13.479Z"
      },
      {
        "duration": 508,
        "start_time": "2021-11-26T09:28:21.863Z"
      },
      {
        "duration": 303,
        "start_time": "2021-11-26T09:32:45.341Z"
      },
      {
        "duration": 123,
        "start_time": "2021-11-26T09:49:33.850Z"
      },
      {
        "duration": 546,
        "start_time": "2021-11-26T09:49:43.874Z"
      },
      {
        "duration": 4,
        "start_time": "2021-11-26T09:49:53.666Z"
      },
      {
        "duration": 382,
        "start_time": "2021-11-26T09:49:59.746Z"
      },
      {
        "duration": 379,
        "start_time": "2021-11-26T09:50:09.979Z"
      },
      {
        "duration": 4,
        "start_time": "2021-11-26T12:57:11.752Z"
      },
      {
        "duration": 3394,
        "start_time": "2021-11-26T12:57:19.181Z"
      },
      {
        "duration": 4,
        "start_time": "2021-11-26T12:57:35.552Z"
      },
      {
        "duration": 3407,
        "start_time": "2021-11-26T12:57:38.916Z"
      },
      {
        "duration": 3,
        "start_time": "2021-11-26T12:57:54.696Z"
      },
      {
        "duration": 4,
        "start_time": "2021-11-26T12:57:59.451Z"
      },
      {
        "duration": 5414,
        "start_time": "2021-11-26T12:58:02.903Z"
      },
      {
        "duration": 5,
        "start_time": "2021-11-26T12:58:11.802Z"
      },
      {
        "duration": 5417,
        "start_time": "2021-11-26T12:58:14.364Z"
      },
      {
        "duration": 5,
        "start_time": "2021-11-26T12:58:20.593Z"
      },
      {
        "duration": 3,
        "start_time": "2021-11-26T12:58:22.727Z"
      },
      {
        "duration": 3437,
        "start_time": "2021-11-26T12:58:25.200Z"
      },
      {
        "duration": 4,
        "start_time": "2021-11-26T12:58:32.903Z"
      },
      {
        "duration": 3390,
        "start_time": "2021-11-26T12:58:35.173Z"
      },
      {
        "duration": 6,
        "start_time": "2021-11-26T13:14:49.818Z"
      },
      {
        "duration": 1381,
        "start_time": "2021-11-26T13:15:03.409Z"
      },
      {
        "duration": 16,
        "start_time": "2021-11-26T13:15:13.293Z"
      },
      {
        "duration": 10,
        "start_time": "2021-11-26T13:15:40.164Z"
      },
      {
        "duration": 4,
        "start_time": "2021-11-26T13:18:06.215Z"
      },
      {
        "duration": 4448,
        "start_time": "2021-11-26T13:18:12.006Z"
      },
      {
        "duration": 4,
        "start_time": "2021-11-26T13:18:29.419Z"
      },
      {
        "duration": 5079,
        "start_time": "2021-11-26T13:18:33.956Z"
      },
      {
        "duration": 4,
        "start_time": "2021-11-26T13:18:47.324Z"
      },
      {
        "duration": 1402,
        "start_time": "2021-11-26T13:18:51.635Z"
      },
      {
        "duration": 4,
        "start_time": "2021-11-26T13:19:35.803Z"
      },
      {
        "duration": 3247,
        "start_time": "2021-11-26T13:19:55.702Z"
      },
      {
        "duration": 3,
        "start_time": "2021-11-26T13:20:42.675Z"
      },
      {
        "duration": 3222,
        "start_time": "2021-11-26T13:20:46.486Z"
      },
      {
        "duration": 3,
        "start_time": "2021-11-26T13:21:11.808Z"
      },
      {
        "duration": 2904,
        "start_time": "2021-11-26T13:21:14.547Z"
      },
      {
        "duration": 4,
        "start_time": "2021-11-26T13:21:29.460Z"
      },
      {
        "duration": 3342,
        "start_time": "2021-11-26T13:21:35.227Z"
      },
      {
        "duration": 5,
        "start_time": "2021-11-26T13:21:46.003Z"
      },
      {
        "duration": 4,
        "start_time": "2021-11-26T13:21:51.972Z"
      },
      {
        "duration": 3146,
        "start_time": "2021-11-26T13:21:55.963Z"
      },
      {
        "duration": 4,
        "start_time": "2021-11-26T13:22:08.722Z"
      },
      {
        "duration": 3239,
        "start_time": "2021-11-26T13:22:11.651Z"
      },
      {
        "duration": 3,
        "start_time": "2021-11-26T13:22:21.780Z"
      },
      {
        "duration": 2272,
        "start_time": "2021-11-26T13:22:24.257Z"
      },
      {
        "duration": 3,
        "start_time": "2021-11-26T13:22:34.515Z"
      },
      {
        "duration": 3354,
        "start_time": "2021-11-26T13:22:36.843Z"
      },
      {
        "duration": 1201,
        "start_time": "2021-11-26T13:42:13.268Z"
      },
      {
        "duration": 33,
        "start_time": "2021-11-26T13:42:14.471Z"
      },
      {
        "duration": 7,
        "start_time": "2021-11-26T13:42:14.506Z"
      },
      {
        "duration": 10,
        "start_time": "2021-11-26T13:42:14.514Z"
      },
      {
        "duration": 10,
        "start_time": "2021-11-26T13:42:14.526Z"
      },
      {
        "duration": 70,
        "start_time": "2021-11-26T13:42:14.538Z"
      },
      {
        "duration": 6,
        "start_time": "2021-11-26T13:42:14.609Z"
      },
      {
        "duration": 14,
        "start_time": "2021-11-26T13:42:14.617Z"
      },
      {
        "duration": 6,
        "start_time": "2021-11-26T13:42:14.633Z"
      },
      {
        "duration": 3284,
        "start_time": "2021-11-26T13:42:14.641Z"
      },
      {
        "duration": 1227,
        "start_time": "2021-11-26T13:42:17.927Z"
      },
      {
        "duration": 12,
        "start_time": "2021-11-26T13:42:19.156Z"
      },
      {
        "duration": 3,
        "start_time": "2021-11-26T13:42:19.170Z"
      },
      {
        "duration": 14,
        "start_time": "2021-11-26T13:42:19.174Z"
      },
      {
        "duration": 3066,
        "start_time": "2021-11-26T13:42:19.190Z"
      },
      {
        "duration": 2467,
        "start_time": "2021-11-26T13:42:22.258Z"
      },
      {
        "duration": 381,
        "start_time": "2021-11-26T13:42:24.727Z"
      },
      {
        "duration": 13,
        "start_time": "2021-11-26T13:42:25.109Z"
      },
      {
        "duration": 4,
        "start_time": "2021-11-26T13:42:25.124Z"
      },
      {
        "duration": 77497,
        "start_time": "2021-11-26T13:42:25.130Z"
      },
      {
        "duration": 1563,
        "start_time": "2021-11-26T13:43:42.628Z"
      },
      {
        "duration": 106,
        "start_time": "2021-11-26T13:43:44.194Z"
      },
      {
        "duration": 6104,
        "start_time": "2021-11-26T13:43:44.302Z"
      },
      {
        "duration": 13,
        "start_time": "2021-11-26T13:43:50.408Z"
      },
      {
        "duration": 9,
        "start_time": "2021-11-26T13:43:50.423Z"
      },
      {
        "duration": 15,
        "start_time": "2021-11-26T13:43:50.433Z"
      },
      {
        "duration": 43,
        "start_time": "2021-11-26T13:43:50.450Z"
      },
      {
        "duration": 383,
        "start_time": "2021-11-26T13:44:59.239Z"
      },
      {
        "duration": 1299,
        "start_time": "2021-11-26T13:45:17.441Z"
      },
      {
        "duration": 31,
        "start_time": "2021-11-26T13:45:18.741Z"
      },
      {
        "duration": 12,
        "start_time": "2021-11-26T13:45:18.774Z"
      },
      {
        "duration": 32,
        "start_time": "2021-11-26T13:45:18.787Z"
      },
      {
        "duration": 30,
        "start_time": "2021-11-26T13:45:18.820Z"
      },
      {
        "duration": 68,
        "start_time": "2021-11-26T13:45:18.851Z"
      },
      {
        "duration": 6,
        "start_time": "2021-11-26T13:45:18.921Z"
      },
      {
        "duration": 23,
        "start_time": "2021-11-26T13:45:18.930Z"
      },
      {
        "duration": 42,
        "start_time": "2021-11-26T13:45:18.954Z"
      },
      {
        "duration": 3386,
        "start_time": "2021-11-26T13:45:18.997Z"
      },
      {
        "duration": 1582,
        "start_time": "2021-11-26T13:45:22.384Z"
      },
      {
        "duration": 24,
        "start_time": "2021-11-26T13:45:23.968Z"
      },
      {
        "duration": 10,
        "start_time": "2021-11-26T13:45:23.994Z"
      },
      {
        "duration": 27,
        "start_time": "2021-11-26T13:45:24.006Z"
      },
      {
        "duration": 3497,
        "start_time": "2021-11-26T13:45:24.034Z"
      },
      {
        "duration": 2556,
        "start_time": "2021-11-26T13:45:27.533Z"
      },
      {
        "duration": 295,
        "start_time": "2021-11-26T13:45:32.688Z"
      },
      {
        "duration": 296,
        "start_time": "2021-11-26T13:46:12.897Z"
      },
      {
        "duration": 400,
        "start_time": "2021-11-26T13:46:20.207Z"
      },
      {
        "duration": 503,
        "start_time": "2021-11-26T13:47:23.212Z"
      },
      {
        "duration": 296,
        "start_time": "2021-11-26T13:47:42.997Z"
      },
      {
        "duration": 309,
        "start_time": "2021-11-26T13:48:02.526Z"
      },
      {
        "duration": 4,
        "start_time": "2021-11-26T13:48:15.621Z"
      },
      {
        "duration": 30,
        "start_time": "2021-11-26T13:48:15.627Z"
      },
      {
        "duration": 6,
        "start_time": "2021-11-26T13:48:15.658Z"
      },
      {
        "duration": 7,
        "start_time": "2021-11-26T13:48:15.665Z"
      },
      {
        "duration": 10,
        "start_time": "2021-11-26T13:48:15.674Z"
      },
      {
        "duration": 39,
        "start_time": "2021-11-26T13:48:15.685Z"
      },
      {
        "duration": 5,
        "start_time": "2021-11-26T13:48:15.725Z"
      },
      {
        "duration": 16,
        "start_time": "2021-11-26T13:48:15.731Z"
      },
      {
        "duration": 6,
        "start_time": "2021-11-26T13:48:15.749Z"
      },
      {
        "duration": 3464,
        "start_time": "2021-11-26T13:48:15.756Z"
      },
      {
        "duration": 1249,
        "start_time": "2021-11-26T13:48:19.221Z"
      },
      {
        "duration": 19,
        "start_time": "2021-11-26T13:48:20.472Z"
      },
      {
        "duration": 3,
        "start_time": "2021-11-26T13:48:20.492Z"
      },
      {
        "duration": 7,
        "start_time": "2021-11-26T13:48:20.497Z"
      },
      {
        "duration": 3095,
        "start_time": "2021-11-26T13:48:20.505Z"
      },
      {
        "duration": 2516,
        "start_time": "2021-11-26T13:48:23.601Z"
      },
      {
        "duration": 4,
        "start_time": "2021-11-26T13:49:11.853Z"
      },
      {
        "duration": 7,
        "start_time": "2021-11-26T13:49:11.859Z"
      },
      {
        "duration": 3223,
        "start_time": "2021-11-26T13:49:11.868Z"
      },
      {
        "duration": 3964,
        "start_time": "2021-11-26T13:49:15.094Z"
      },
      {
        "duration": 416,
        "start_time": "2021-11-26T13:49:19.060Z"
      },
      {
        "duration": 12,
        "start_time": "2021-11-26T13:49:19.478Z"
      },
      {
        "duration": 5,
        "start_time": "2021-11-26T13:49:19.492Z"
      },
      {
        "duration": 91522,
        "start_time": "2021-11-26T13:49:19.499Z"
      },
      {
        "duration": 1465,
        "start_time": "2021-11-26T13:50:51.023Z"
      },
      {
        "duration": 110,
        "start_time": "2021-11-26T13:50:52.491Z"
      },
      {
        "duration": 8291,
        "start_time": "2021-11-26T13:50:52.603Z"
      },
      {
        "duration": 13,
        "start_time": "2021-11-26T13:51:00.896Z"
      },
      {
        "duration": 9,
        "start_time": "2021-11-26T13:51:00.911Z"
      },
      {
        "duration": 36,
        "start_time": "2021-11-26T13:51:00.922Z"
      },
      {
        "duration": 34,
        "start_time": "2021-11-26T13:51:00.960Z"
      }
    ],
    "kernelspec": {
      "display_name": "Python 3",
      "language": "python",
      "name": "python3"
    },
    "language_info": {
      "codemirror_mode": {
        "name": "ipython",
        "version": 3
      },
      "file_extension": ".py",
      "mimetype": "text/x-python",
      "name": "python",
      "nbconvert_exporter": "python",
      "pygments_lexer": "ipython3",
      "version": "3.7.8"
    },
    "toc": {
      "base_numbering": 1,
      "nav_menu": {},
      "number_sections": true,
      "sideBar": true,
      "skip_h1_title": true,
      "title_cell": "Содержание",
      "title_sidebar": "Contents",
      "toc_cell": true,
      "toc_position": {
        "height": "calc(100% - 180px)",
        "left": "10px",
        "top": "150px",
        "width": "279.188px"
      },
      "toc_section_display": true,
      "toc_window_display": true
    },
    "colab": {
      "provenance": [],
      "include_colab_link": true
    }
  },
  "nbformat": 4,
  "nbformat_minor": 0
}